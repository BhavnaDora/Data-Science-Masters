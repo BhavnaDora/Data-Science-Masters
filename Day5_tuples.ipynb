{
 "cells": [
  {
   "cell_type": "code",
   "execution_count": 1,
   "id": "fa1af7a2-71d8-40ad-9dc8-80c62e0b5f4c",
   "metadata": {},
   "outputs": [],
   "source": [
    "t=()"
   ]
  },
  {
   "cell_type": "code",
   "execution_count": 2,
   "id": "a115955e-8164-4d63-9308-a7006917888a",
   "metadata": {},
   "outputs": [
    {
     "data": {
      "text/plain": [
       "tuple"
      ]
     },
     "execution_count": 2,
     "metadata": {},
     "output_type": "execute_result"
    }
   ],
   "source": [
    "type(t)"
   ]
  },
  {
   "cell_type": "code",
   "execution_count": 3,
   "id": "4367e645-42c8-4e18-be02-c62dc1da873e",
   "metadata": {},
   "outputs": [],
   "source": [
    "t1= (1,2,3,4,45,45.45,45+7j,\"Bhavna\",True)"
   ]
  },
  {
   "cell_type": "code",
   "execution_count": 4,
   "id": "f6159bfb-265c-484a-8bf3-dac0d5462782",
   "metadata": {},
   "outputs": [
    {
     "data": {
      "text/plain": [
       "tuple"
      ]
     },
     "execution_count": 4,
     "metadata": {},
     "output_type": "execute_result"
    }
   ],
   "source": [
    "type(t1)"
   ]
  },
  {
   "cell_type": "code",
   "execution_count": 5,
   "id": "a76fc629-ecf1-427b-a130-d90f5d6e2af8",
   "metadata": {},
   "outputs": [],
   "source": [
    "#Difference between list and tuple- list=[], tuple=() "
   ]
  },
  {
   "cell_type": "code",
   "execution_count": 6,
   "id": "43b9243c-d6b9-478e-bdcf-a6e33f77d89c",
   "metadata": {},
   "outputs": [],
   "source": [
    "l=[1,2,3,4]"
   ]
  },
  {
   "cell_type": "code",
   "execution_count": 7,
   "id": "8e6547e5-17ec-4886-a1fe-175c645ea6c8",
   "metadata": {},
   "outputs": [
    {
     "data": {
      "text/plain": [
       "list"
      ]
     },
     "execution_count": 7,
     "metadata": {},
     "output_type": "execute_result"
    }
   ],
   "source": [
    "type(l)"
   ]
  },
  {
   "cell_type": "code",
   "execution_count": 8,
   "id": "6ae46099-eae5-47fd-81ff-d0316878d5c7",
   "metadata": {},
   "outputs": [
    {
     "data": {
      "text/plain": [
       "(1, 2, 3, 4, 45, 45.45, (45+7j), 'Bhavna', True)"
      ]
     },
     "execution_count": 8,
     "metadata": {},
     "output_type": "execute_result"
    }
   ],
   "source": [
    "t1"
   ]
  },
  {
   "cell_type": "code",
   "execution_count": 9,
   "id": "13a0cf42-bebc-4e66-a717-57ea2790b232",
   "metadata": {},
   "outputs": [
    {
     "data": {
      "text/plain": [
       "1"
      ]
     },
     "execution_count": 9,
     "metadata": {},
     "output_type": "execute_result"
    }
   ],
   "source": [
    "t1[0]"
   ]
  },
  {
   "cell_type": "code",
   "execution_count": 10,
   "id": "27110910-0d89-4f20-aa73-4ba23203add9",
   "metadata": {},
   "outputs": [
    {
     "data": {
      "text/plain": [
       "'Bhavna'"
      ]
     },
     "execution_count": 10,
     "metadata": {},
     "output_type": "execute_result"
    }
   ],
   "source": [
    "t1[7]"
   ]
  },
  {
   "cell_type": "code",
   "execution_count": 12,
   "id": "99b84b02-91c9-45a5-bfe3-f3a4186f66f6",
   "metadata": {},
   "outputs": [
    {
     "data": {
      "text/plain": [
       "(True, 'Bhavna', (45+7j), 45.45, 45, 4, 3, 2, 1)"
      ]
     },
     "execution_count": 12,
     "metadata": {},
     "output_type": "execute_result"
    }
   ],
   "source": [
    "#reverse\n",
    "t1[::-1] "
   ]
  },
  {
   "cell_type": "code",
   "execution_count": 13,
   "id": "ab86f2cb-f448-4524-a4a8-ab8d26f0d996",
   "metadata": {},
   "outputs": [],
   "source": [
    "t1= t1[::-1]"
   ]
  },
  {
   "cell_type": "code",
   "execution_count": 14,
   "id": "a688d721-8174-4fc5-9b66-b41c36e91794",
   "metadata": {},
   "outputs": [
    {
     "data": {
      "text/plain": [
       "(True, 'Bhavna', (45+7j), 45.45, 45, 4, 3, 2, 1)"
      ]
     },
     "execution_count": 14,
     "metadata": {},
     "output_type": "execute_result"
    }
   ],
   "source": [
    "t1"
   ]
  },
  {
   "cell_type": "code",
   "execution_count": 15,
   "id": "f8d5057f-8a34-4a3a-8cd1-4eaa9e15dca2",
   "metadata": {},
   "outputs": [
    {
     "data": {
      "text/plain": [
       "(True, 'Bhavna', (45+7j))"
      ]
     },
     "execution_count": 15,
     "metadata": {},
     "output_type": "execute_result"
    }
   ],
   "source": [
    "t1[0:3]"
   ]
  },
  {
   "cell_type": "code",
   "execution_count": 16,
   "id": "9148edb4-b063-4f58-b92e-60b01b3cca37",
   "metadata": {},
   "outputs": [],
   "source": [
    "# to see the inbuilt functions of tuple write the tuple name.(presstabkey) \n",
    "# tuple has 2 functions- count and index"
   ]
  },
  {
   "cell_type": "code",
   "execution_count": 17,
   "id": "f114dadf-e149-4941-99c9-20737dfea1ed",
   "metadata": {},
   "outputs": [
    {
     "data": {
      "text/plain": [
       "1"
      ]
     },
     "execution_count": 17,
     "metadata": {},
     "output_type": "execute_result"
    }
   ],
   "source": [
    "t1.count(4)"
   ]
  },
  {
   "cell_type": "code",
   "execution_count": 18,
   "id": "6efe3307-b65f-4818-8350-c915a5fa2dfe",
   "metadata": {},
   "outputs": [
    {
     "data": {
      "text/plain": [
       "0"
      ]
     },
     "execution_count": 18,
     "metadata": {},
     "output_type": "execute_result"
    }
   ],
   "source": [
    "t1.count(\"abc\")"
   ]
  },
  {
   "cell_type": "code",
   "execution_count": 19,
   "id": "5b07a53e-16fb-4c7c-b6af-106a170ba527",
   "metadata": {},
   "outputs": [
    {
     "data": {
      "text/plain": [
       "0"
      ]
     },
     "execution_count": 19,
     "metadata": {},
     "output_type": "execute_result"
    }
   ],
   "source": [
    "t1.index(1)"
   ]
  },
  {
   "cell_type": "code",
   "execution_count": 20,
   "id": "de2329c8-0f07-492c-985b-0a559d1fcb7d",
   "metadata": {},
   "outputs": [],
   "source": [
    "#we should have got 8 but we got 0 because the True which is at index 0 in t1 is stored as 1 by the system"
   ]
  },
  {
   "cell_type": "code",
   "execution_count": 21,
   "id": "9eebfb7c-8722-4409-8617-dc70cc8f17d5",
   "metadata": {},
   "outputs": [
    {
     "data": {
      "text/plain": [
       "2"
      ]
     },
     "execution_count": 21,
     "metadata": {},
     "output_type": "execute_result"
    }
   ],
   "source": [
    "t1.count(True)"
   ]
  },
  {
   "cell_type": "code",
   "execution_count": 23,
   "id": "b2e2706a-d683-4cf8-b761-d591ba898f07",
   "metadata": {},
   "outputs": [
    {
     "data": {
      "text/plain": [
       "2"
      ]
     },
     "execution_count": 23,
     "metadata": {},
     "output_type": "execute_result"
    }
   ],
   "source": [
    "t1.count(1)"
   ]
  },
  {
   "cell_type": "code",
   "execution_count": 22,
   "id": "03429c86-9b42-437f-988c-901a6b889337",
   "metadata": {},
   "outputs": [],
   "source": [
    "# we should have got 1 as True occurs once but we get 2 bec the system has stored 1 as True too"
   ]
  },
  {
   "cell_type": "code",
   "execution_count": 24,
   "id": "f4b29450-3902-4cbb-9d52-f39b90a9e77d",
   "metadata": {},
   "outputs": [],
   "source": [
    "# Immutability- we cannot change the elements inside the tuple"
   ]
  },
  {
   "cell_type": "code",
   "execution_count": 25,
   "id": "9ec39ff8-32d0-4fe9-ab35-66031377e51d",
   "metadata": {},
   "outputs": [
    {
     "data": {
      "text/plain": [
       "(45+7j)"
      ]
     },
     "execution_count": 25,
     "metadata": {},
     "output_type": "execute_result"
    }
   ],
   "source": [
    "t1[2]"
   ]
  },
  {
   "cell_type": "code",
   "execution_count": 26,
   "id": "7eeb85c3-1c8a-43bf-8bed-65549cd86a6e",
   "metadata": {},
   "outputs": [
    {
     "ename": "TypeError",
     "evalue": "'tuple' object does not support item assignment",
     "output_type": "error",
     "traceback": [
      "\u001b[0;31m---------------------------------------------------------------------------\u001b[0m",
      "\u001b[0;31mTypeError\u001b[0m                                 Traceback (most recent call last)",
      "Cell \u001b[0;32mIn[26], line 1\u001b[0m\n\u001b[0;32m----> 1\u001b[0m \u001b[43mt1\u001b[49m\u001b[43m[\u001b[49m\u001b[38;5;241;43m2\u001b[39;49m\u001b[43m]\u001b[49m\u001b[38;5;241m=\u001b[39m\u001b[38;5;241m345\u001b[39m\n",
      "\u001b[0;31mTypeError\u001b[0m: 'tuple' object does not support item assignment"
     ]
    }
   ],
   "source": [
    "t1[2]=345"
   ]
  },
  {
   "cell_type": "code",
   "execution_count": 27,
   "id": "8aa9b562-2dfa-4c0d-83d7-d37264c18143",
   "metadata": {},
   "outputs": [
    {
     "data": {
      "text/plain": [
       "1"
      ]
     },
     "execution_count": 27,
     "metadata": {},
     "output_type": "execute_result"
    }
   ],
   "source": [
    "l[0]"
   ]
  },
  {
   "cell_type": "code",
   "execution_count": 28,
   "id": "2bd30e14-0fa5-4920-921b-4ed5b0831320",
   "metadata": {},
   "outputs": [],
   "source": [
    "l[0]=100"
   ]
  },
  {
   "cell_type": "code",
   "execution_count": 29,
   "id": "1860bf38-1450-4617-88ad-2bbace161c0a",
   "metadata": {},
   "outputs": [
    {
     "data": {
      "text/plain": [
       "[100, 2, 3, 4]"
      ]
     },
     "execution_count": 29,
     "metadata": {},
     "output_type": "execute_result"
    }
   ],
   "source": [
    "l"
   ]
  },
  {
   "cell_type": "code",
   "execution_count": 30,
   "id": "f7714731-90d2-4187-ad00-37090c5a548b",
   "metadata": {},
   "outputs": [
    {
     "name": "stdout",
     "output_type": "stream",
     "text": [
      "True\n",
      "Bhavna\n",
      "(45+7j)\n",
      "45.45\n",
      "45\n",
      "4\n",
      "3\n",
      "2\n",
      "1\n"
     ]
    }
   ],
   "source": [
    "# Iterate through tuple using loop-\n",
    "for i in t1:\n",
    "    print(i)"
   ]
  },
  {
   "cell_type": "code",
   "execution_count": 31,
   "id": "a342bc20-ea74-4fdd-b6f6-a0ee6f71e8e6",
   "metadata": {},
   "outputs": [
    {
     "name": "stdout",
     "output_type": "stream",
     "text": [
      "True : <class 'bool'>\n",
      "Bhavna : <class 'str'>\n",
      "(45+7j) : <class 'complex'>\n",
      "45.45 : <class 'float'>\n",
      "45 : <class 'int'>\n",
      "4 : <class 'int'>\n",
      "3 : <class 'int'>\n",
      "2 : <class 'int'>\n",
      "1 : <class 'int'>\n"
     ]
    }
   ],
   "source": [
    "for i in t1:\n",
    "    print(i, \":\", type(i))"
   ]
  },
  {
   "cell_type": "code",
   "execution_count": 32,
   "id": "3be4fc7d-5253-4d8d-9468-64b33ae42feb",
   "metadata": {},
   "outputs": [],
   "source": [
    "t2=(1,2,3,3,4)"
   ]
  },
  {
   "cell_type": "code",
   "execution_count": 33,
   "id": "6c7fdc4a-4378-4615-b755-5d7513f9e3ea",
   "metadata": {},
   "outputs": [
    {
     "data": {
      "text/plain": [
       "(1, 2, 3, 3, 4, 1, 2, 3, 3, 4, 1, 2, 3, 3, 4)"
      ]
     },
     "execution_count": 33,
     "metadata": {},
     "output_type": "execute_result"
    }
   ],
   "source": [
    "t2*3"
   ]
  },
  {
   "cell_type": "code",
   "execution_count": 34,
   "id": "b0439ee5-131b-420f-8a94-7a9e92011d15",
   "metadata": {},
   "outputs": [
    {
     "data": {
      "text/plain": [
       "4"
      ]
     },
     "execution_count": 34,
     "metadata": {},
     "output_type": "execute_result"
    }
   ],
   "source": [
    "max(t2)"
   ]
  },
  {
   "cell_type": "code",
   "execution_count": 35,
   "id": "35f6ffaa-20d8-49d3-a885-afd2ecf43035",
   "metadata": {},
   "outputs": [
    {
     "data": {
      "text/plain": [
       "1"
      ]
     },
     "execution_count": 35,
     "metadata": {},
     "output_type": "execute_result"
    }
   ],
   "source": [
    "min(t2)"
   ]
  },
  {
   "cell_type": "code",
   "execution_count": 36,
   "id": "adede1fd-baef-4bfd-8eee-0205bdd63d58",
   "metadata": {},
   "outputs": [],
   "source": [
    "# tuples inside tuples\n",
    "t1=(1,2,32,4)\n",
    "t2=(4,5,6,8,9)\n",
    "t3=(t1,t2)"
   ]
  },
  {
   "cell_type": "code",
   "execution_count": 37,
   "id": "7a73b6b9-b6af-4c24-8ab6-d8ec0a99050d",
   "metadata": {},
   "outputs": [
    {
     "data": {
      "text/plain": [
       "((1, 2, 32, 4), (4, 5, 6, 8, 9))"
      ]
     },
     "execution_count": 37,
     "metadata": {},
     "output_type": "execute_result"
    }
   ],
   "source": [
    "t3"
   ]
  },
  {
   "cell_type": "code",
   "execution_count": 38,
   "id": "97488dd6-436c-469f-832a-5dc4d8c6821d",
   "metadata": {},
   "outputs": [
    {
     "data": {
      "text/plain": [
       "6"
      ]
     },
     "execution_count": 38,
     "metadata": {},
     "output_type": "execute_result"
    }
   ],
   "source": [
    "t3[1][2]"
   ]
  },
  {
   "cell_type": "code",
   "execution_count": 39,
   "id": "f938092e-2c01-4c58-a915-5b5f1947910a",
   "metadata": {},
   "outputs": [],
   "source": [
    "#list inside tuples-\n",
    "t4=((1,2,3,4),[2,19,\"hi\"])\n"
   ]
  },
  {
   "cell_type": "code",
   "execution_count": 40,
   "id": "492def91-ca3a-4fb4-adb7-9f83dde17af6",
   "metadata": {},
   "outputs": [
    {
     "data": {
      "text/plain": [
       "((1, 2, 3, 4), [2, 19, 'hi'])"
      ]
     },
     "execution_count": 40,
     "metadata": {},
     "output_type": "execute_result"
    }
   ],
   "source": [
    "t4"
   ]
  },
  {
   "cell_type": "code",
   "execution_count": 41,
   "id": "bfe46bf8-31b1-4a90-a5f6-c9cb8eea119b",
   "metadata": {},
   "outputs": [],
   "source": [
    "del t4"
   ]
  },
  {
   "cell_type": "code",
   "execution_count": 42,
   "id": "61688e76-3a69-4d19-85b0-fb2da76aae69",
   "metadata": {},
   "outputs": [
    {
     "ename": "NameError",
     "evalue": "name 't4' is not defined",
     "output_type": "error",
     "traceback": [
      "\u001b[0;31m---------------------------------------------------------------------------\u001b[0m",
      "\u001b[0;31mNameError\u001b[0m                                 Traceback (most recent call last)",
      "Cell \u001b[0;32mIn[42], line 1\u001b[0m\n\u001b[0;32m----> 1\u001b[0m \u001b[43mt4\u001b[49m\n",
      "\u001b[0;31mNameError\u001b[0m: name 't4' is not defined"
     ]
    }
   ],
   "source": [
    "t4"
   ]
  },
  {
   "cell_type": "code",
   "execution_count": 43,
   "id": "417d9e37-9ce3-440b-8c3a-508f0e115dbc",
   "metadata": {},
   "outputs": [
    {
     "data": {
      "text/plain": [
       "False"
      ]
     },
     "execution_count": 43,
     "metadata": {},
     "output_type": "execute_result"
    }
   ],
   "source": [
    "# check if an element is available inside tuple-\n",
    "\"Bhavna\" in  t1"
   ]
  },
  {
   "cell_type": "code",
   "execution_count": 44,
   "id": "380e6ef0-d3a1-4eaa-81e5-d81934551abc",
   "metadata": {},
   "outputs": [
    {
     "data": {
      "text/plain": [
       "True"
      ]
     },
     "execution_count": 44,
     "metadata": {},
     "output_type": "execute_result"
    }
   ],
   "source": [
    "2 in t1"
   ]
  },
  {
   "cell_type": "code",
   "execution_count": null,
   "id": "9c17fdf4-ac6c-499e-a487-23c5fcf24586",
   "metadata": {},
   "outputs": [],
   "source": []
  }
 ],
 "metadata": {
  "kernelspec": {
   "display_name": "Python 3 (ipykernel)",
   "language": "python",
   "name": "python3"
  },
  "language_info": {
   "codemirror_mode": {
    "name": "ipython",
    "version": 3
   },
   "file_extension": ".py",
   "mimetype": "text/x-python",
   "name": "python",
   "nbconvert_exporter": "python",
   "pygments_lexer": "ipython3",
   "version": "3.10.8"
  }
 },
 "nbformat": 4,
 "nbformat_minor": 5
}
