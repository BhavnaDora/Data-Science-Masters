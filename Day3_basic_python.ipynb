{
 "cells": [
  {
   "cell_type": "markdown",
   "id": "e6b6bd46-4377-4e69-9c3b-f049a0713281",
   "metadata": {},
   "source": [
    "## Logical operators\n",
    "### And\n",
    "### Or\n",
    "### Not"
   ]
  },
  {
   "cell_type": "code",
   "execution_count": 1,
   "id": "1028fff4-0f59-4376-addc-d5e07429f012",
   "metadata": {},
   "outputs": [
    {
     "data": {
      "text/plain": [
       "True"
      ]
     },
     "execution_count": 1,
     "metadata": {},
     "output_type": "execute_result"
    }
   ],
   "source": [
    "True and True"
   ]
  },
  {
   "cell_type": "code",
   "execution_count": 3,
   "id": "6fc8baaa-8778-4c71-8546-c982d31e4a6e",
   "metadata": {},
   "outputs": [
    {
     "data": {
      "text/plain": [
       "True"
      ]
     },
     "execution_count": 3,
     "metadata": {},
     "output_type": "execute_result"
    }
   ],
   "source": [
    "True or False"
   ]
  },
  {
   "cell_type": "code",
   "execution_count": 1,
   "id": "b2451e9f-99b7-4a7d-bca1-e0b952263dc7",
   "metadata": {},
   "outputs": [
    {
     "data": {
      "text/plain": [
       "False"
      ]
     },
     "execution_count": 1,
     "metadata": {},
     "output_type": "execute_result"
    }
   ],
   "source": [
    "bool(0)"
   ]
  },
  {
   "cell_type": "code",
   "execution_count": 2,
   "id": "f6b8a903-5bcd-4769-a2e1-065a9a51bfd2",
   "metadata": {},
   "outputs": [
    {
     "data": {
      "text/plain": [
       "True"
      ]
     },
     "execution_count": 2,
     "metadata": {},
     "output_type": "execute_result"
    }
   ],
   "source": [
    "bool(1)"
   ]
  },
  {
   "cell_type": "code",
   "execution_count": 4,
   "id": "eb6de0b1-2f98-48b3-a653-e726d11f3d62",
   "metadata": {},
   "outputs": [
    {
     "data": {
      "text/plain": [
       "True"
      ]
     },
     "execution_count": 4,
     "metadata": {},
     "output_type": "execute_result"
    }
   ],
   "source": [
    "not 0"
   ]
  },
  {
   "cell_type": "code",
   "execution_count": 5,
   "id": "5bbe5f10-483a-4813-9a06-7135fffe65df",
   "metadata": {},
   "outputs": [
    {
     "data": {
      "text/plain": [
       "False"
      ]
     },
     "execution_count": 5,
     "metadata": {},
     "output_type": "execute_result"
    }
   ],
   "source": [
    "not 1"
   ]
  },
  {
   "cell_type": "code",
   "execution_count": 6,
   "id": "ff9b9ba1-9632-4448-837b-975830de77dc",
   "metadata": {},
   "outputs": [
    {
     "data": {
      "text/plain": [
       "True"
      ]
     },
     "execution_count": 6,
     "metadata": {},
     "output_type": "execute_result"
    }
   ],
   "source": [
    "not int(bool(0))"
   ]
  },
  {
   "cell_type": "code",
   "execution_count": 7,
   "id": "2603ec21-5615-4f31-80bf-dec60db80d7e",
   "metadata": {},
   "outputs": [
    {
     "data": {
      "text/plain": [
       "False"
      ]
     },
     "execution_count": 7,
     "metadata": {},
     "output_type": "execute_result"
    }
   ],
   "source": [
    "not int(bool(1))"
   ]
  },
  {
   "cell_type": "code",
   "execution_count": 8,
   "id": "4b6b113d-534d-4137-b4fd-dc46279baffc",
   "metadata": {},
   "outputs": [
    {
     "data": {
      "text/plain": [
       "False"
      ]
     },
     "execution_count": 8,
     "metadata": {},
     "output_type": "execute_result"
    }
   ],
   "source": [
    "not 2"
   ]
  },
  {
   "cell_type": "code",
   "execution_count": 9,
   "id": "9e68a631-00aa-4092-9208-4032b5766a03",
   "metadata": {},
   "outputs": [
    {
     "data": {
      "text/plain": [
       "False"
      ]
     },
     "execution_count": 9,
     "metadata": {},
     "output_type": "execute_result"
    }
   ],
   "source": [
    "not 1000"
   ]
  },
  {
   "cell_type": "markdown",
   "id": "3888997a-dae2-47c4-9f34-4420b7526bcb",
   "metadata": {},
   "source": [
    "### Not"
   ]
  },
  {
   "cell_type": "code",
   "execution_count": 1,
   "id": "da8d4ed0-db5b-4175-b98c-b0d1c9b89cdd",
   "metadata": {},
   "outputs": [
    {
     "name": "stdout",
     "output_type": "stream",
     "text": [
      "defined value of START=True\n",
      "defined value of STOP=False\n",
      "defined value of START=True\n",
      "value of STOP by negating START=False\n",
      "value of START by negating STOP=True\n"
     ]
    }
   ],
   "source": [
    "START= True\n",
    "STOP= False\n",
    "print(f\"defined value of START={START}\")\n",
    "print(f\"defined value of STOP={STOP}\")\n",
    "print(f\"defined value of START={START}\")\n",
    "print(f\"value of STOP by negating START={not START}\")\n",
    "print(f\"value of START by negating STOP={not STOP}\")"
   ]
  },
  {
   "cell_type": "code",
   "execution_count": 3,
   "id": "71339475-ae43-464a-87d3-0bae2396abcd",
   "metadata": {},
   "outputs": [
    {
     "name": "stdout",
     "output_type": "stream",
     "text": [
      "defined value of START=1\n",
      "defined value of STOP=0\n",
      "defined value of START=1\n",
      "value of STOP by negating START=0\n",
      "value of START by negating STOP=1\n",
      "defined value of STOP=0\n"
     ]
    }
   ],
   "source": [
    "START= 1\n",
    "STOP= 0\n",
    "print(f\"defined value of START={START}\")\n",
    "print(f\"defined value of STOP={STOP}\")\n",
    "print(f\"defined value of START={START}\")\n",
    "print(f\"value of STOP by negating START={int(not START)}\")\n",
    "print(f\"value of START by negating STOP={int(not STOP)}\")\n",
    "print(f\"defined value of STOP={STOP}\")"
   ]
  },
  {
   "cell_type": "code",
   "execution_count": 4,
   "id": "668090eb-c2fd-42b9-9dda-9492c1845465",
   "metadata": {},
   "outputs": [
    {
     "name": "stdout",
     "output_type": "stream",
     "text": [
      "boolen value of 0 is False\n",
      "boolen value of 1 is True\n",
      "negation of 0 is True and negation of 1 is False\n"
     ]
    }
   ],
   "source": [
    "ZERO= 0\n",
    "ONE= 1\n",
    "print(f\"boolen value of {ZERO} is {bool(ZERO)}\")\n",
    "print(f\"boolen value of {ONE} is {bool(ONE)}\")\n",
    "print(f\"negation of {ZERO} is {not ZERO} and negation of {ONE} is {not ONE}\")"
   ]
  },
  {
   "cell_type": "code",
   "execution_count": 6,
   "id": "8572e036-4202-4600-a658-fbc68484d69d",
   "metadata": {},
   "outputs": [
    {
     "name": "stdout",
     "output_type": "stream",
     "text": [
      "boolean value of -5 is True\n",
      "boolean value of 5 is True\n",
      "negation of 5 is False      and negation of -5 is False\n"
     ]
    }
   ],
   "source": [
    "some_negative_integer= -5\n",
    "some_positive_integer= 5\n",
    "print(f\"boolean value of {some_negative_integer} is {bool(some_negative_integer)}\")\n",
    "print(f\"boolean value of {some_positive_integer} is {bool(some_positive_integer)}\")\n",
    "print(f\"negation of {some_positive_integer} is {not some_negative_integer}\\\n",
    "      and negation of {some_negative_integer} is {not some_positive_integer}\")"
   ]
  },
  {
   "cell_type": "markdown",
   "id": "caa477fe-2787-4029-b5b2-8d0ec76496e4",
   "metadata": {},
   "source": [
    "### And"
   ]
  },
  {
   "cell_type": "code",
   "execution_count": 1,
   "id": "f22cb5a3-3e81-4c8b-83c8-c726510833e8",
   "metadata": {},
   "outputs": [
    {
     "name": "stdout",
     "output_type": "stream",
     "text": [
      "Dish contains vegetables:True\n",
      "Dish contains salt:False\n",
      "Hence dish was good:False\n"
     ]
    }
   ],
   "source": [
    "vegetables= True\n",
    "salt= False\n",
    "dish= vegetables and salt\n",
    "print(f\"Dish contains vegetables:{vegetables}\")\n",
    "print(f\"Dish contains salt:{salt}\")\n",
    "print(f\"Hence dish was good:{dish}\")\n"
   ]
  },
  {
   "cell_type": "code",
   "execution_count": 2,
   "id": "4bf1241e-4403-4cf1-8b8c-ba93c8be4b2e",
   "metadata": {},
   "outputs": [
    {
     "data": {
      "text/plain": [
       "1"
      ]
     },
     "execution_count": 2,
     "metadata": {},
     "output_type": "execute_result"
    }
   ],
   "source": [
    "True*True"
   ]
  },
  {
   "cell_type": "code",
   "execution_count": 3,
   "id": "e18d7578-d2dd-49cf-9910-807f9c8b7cb0",
   "metadata": {},
   "outputs": [
    {
     "data": {
      "text/plain": [
       "0"
      ]
     },
     "execution_count": 3,
     "metadata": {},
     "output_type": "execute_result"
    }
   ],
   "source": [
    "True*False"
   ]
  },
  {
   "cell_type": "code",
   "execution_count": 7,
   "id": "0add1ae8-bc03-45c1-ad7e-166728f4a9be",
   "metadata": {},
   "outputs": [
    {
     "data": {
      "text/plain": [
       "0"
      ]
     },
     "execution_count": 7,
     "metadata": {},
     "output_type": "execute_result"
    }
   ],
   "source": [
    "False*False"
   ]
  },
  {
   "cell_type": "code",
   "execution_count": 4,
   "id": "151db481-c9f7-4521-b1d1-eae0501d4812",
   "metadata": {},
   "outputs": [
    {
     "data": {
      "text/plain": [
       "0"
      ]
     },
     "execution_count": 4,
     "metadata": {},
     "output_type": "execute_result"
    }
   ],
   "source": [
    "(not(True))*True"
   ]
  },
  {
   "cell_type": "code",
   "execution_count": 5,
   "id": "d5c31119-abab-41ea-a9ee-2b5ebf8141a5",
   "metadata": {},
   "outputs": [
    {
     "data": {
      "text/plain": [
       "1"
      ]
     },
     "execution_count": 5,
     "metadata": {},
     "output_type": "execute_result"
    }
   ],
   "source": [
    "(not(False))*True"
   ]
  },
  {
   "cell_type": "code",
   "execution_count": 8,
   "id": "8465db98-3634-4b4c-8072-0101363c33da",
   "metadata": {},
   "outputs": [
    {
     "data": {
      "text/plain": [
       "True"
      ]
     },
     "execution_count": 8,
     "metadata": {},
     "output_type": "execute_result"
    }
   ],
   "source": [
    "not False*False #it first computes false*false and then takes not"
   ]
  },
  {
   "cell_type": "code",
   "execution_count": 9,
   "id": "8d47aaf8-c02e-472f-9dec-a7147744c029",
   "metadata": {},
   "outputs": [
    {
     "data": {
      "text/plain": [
       "True"
      ]
     },
     "execution_count": 9,
     "metadata": {},
     "output_type": "execute_result"
    }
   ],
   "source": [
    "not False*True"
   ]
  },
  {
   "cell_type": "code",
   "execution_count": 10,
   "id": "065f703d-25c0-467f-9e49-c173aed6328e",
   "metadata": {},
   "outputs": [
    {
     "data": {
      "text/plain": [
       "True"
      ]
     },
     "execution_count": 10,
     "metadata": {},
     "output_type": "execute_result"
    }
   ],
   "source": [
    "not(False)* False== True    #not doesn't require()"
   ]
  },
  {
   "cell_type": "code",
   "execution_count": 11,
   "id": "60f2c6ed-f318-43a0-9a9a-deda726fd4b6",
   "metadata": {},
   "outputs": [
    {
     "name": "stdout",
     "output_type": "stream",
     "text": [
      "0\n"
     ]
    }
   ],
   "source": [
    "print((not False)*False)"
   ]
  },
  {
   "cell_type": "markdown",
   "id": "fd2429a9-0d5c-4b6e-b9c6-90e72d27f0c1",
   "metadata": {},
   "source": [
    "#### Equality Operators\n",
    "##### Following operations are present in python for equlity check operation-\n",
    "\n",
    "|Operators|Meaning|\n",
    "|-|-|\n",
    "|**is**|***a is b*** returns true if variable/identifiers a and b *points* to the *same object*|\n",
    "|**is not**|***a is not b*** returns true if variable/identifiers a and b *points* to the *different object*|\n",
    "|**==**|***a == b*** returns true if variable/identifiers a and b has same value|\n",
    "|**!=**|***a != b*** returns true if variable/identifiers a and b has different value|"
   ]
  },
  {
   "cell_type": "code",
   "execution_count": 12,
   "id": "17cd94ac-bc84-4050-9a22-4d526d743a30",
   "metadata": {},
   "outputs": [],
   "source": [
    "lst_a=[1,2,3,4]"
   ]
  },
  {
   "cell_type": "code",
   "execution_count": 13,
   "id": "98a812d6-36c3-4e19-b1d1-08e6b177146c",
   "metadata": {},
   "outputs": [],
   "source": [
    "lst_b=[1,2,3,4]"
   ]
  },
  {
   "cell_type": "code",
   "execution_count": 14,
   "id": "670dd6e1-98a6-4118-b0d9-029f7b4881ae",
   "metadata": {},
   "outputs": [
    {
     "data": {
      "text/plain": [
       "140174902141760"
      ]
     },
     "execution_count": 14,
     "metadata": {},
     "output_type": "execute_result"
    }
   ],
   "source": [
    "id(lst_a)"
   ]
  },
  {
   "cell_type": "code",
   "execution_count": 15,
   "id": "a826ed2c-8c71-4fb5-be71-e90d32019087",
   "metadata": {},
   "outputs": [
    {
     "data": {
      "text/plain": [
       "140174852605248"
      ]
     },
     "execution_count": 15,
     "metadata": {},
     "output_type": "execute_result"
    }
   ],
   "source": [
    "id(lst_b)"
   ]
  },
  {
   "cell_type": "code",
   "execution_count": 16,
   "id": "c673fe0c-3f5c-4a72-981e-bd4df7cf7f1b",
   "metadata": {},
   "outputs": [
    {
     "data": {
      "text/plain": [
       "False"
      ]
     },
     "execution_count": 16,
     "metadata": {},
     "output_type": "execute_result"
    }
   ],
   "source": [
    "lst_a is lst_b"
   ]
  },
  {
   "cell_type": "code",
   "execution_count": 17,
   "id": "3e341c2a-530c-4697-9ea9-1c58cbdd828c",
   "metadata": {},
   "outputs": [],
   "source": [
    "lst_a=[1,2,3,4]"
   ]
  },
  {
   "cell_type": "code",
   "execution_count": 18,
   "id": "8d89ca1c-a43f-4f31-bd2d-77ee53ba1981",
   "metadata": {},
   "outputs": [],
   "source": [
    "lst_b=lst_a"
   ]
  },
  {
   "cell_type": "code",
   "execution_count": 19,
   "id": "9f22391b-4f85-4d3e-8c15-230254390170",
   "metadata": {},
   "outputs": [
    {
     "name": "stdout",
     "output_type": "stream",
     "text": [
      "140174595739328\n",
      "140174595739328\n"
     ]
    }
   ],
   "source": [
    "print(id(lst_a))\n",
    "print(id(lst_b))"
   ]
  },
  {
   "cell_type": "code",
   "execution_count": 20,
   "id": "f8b7403a-f612-4ed4-9e88-b658c3c63b86",
   "metadata": {},
   "outputs": [
    {
     "data": {
      "text/plain": [
       "True"
      ]
     },
     "execution_count": 20,
     "metadata": {},
     "output_type": "execute_result"
    }
   ],
   "source": [
    "lst_a is lst_b"
   ]
  },
  {
   "cell_type": "code",
   "execution_count": 22,
   "id": "6e500d69-7070-4de8-bfd6-546e3390f38a",
   "metadata": {},
   "outputs": [],
   "source": [
    "lst_a=[1,2,3,4]"
   ]
  },
  {
   "cell_type": "code",
   "execution_count": 23,
   "id": "809d1ff0-1c74-40e2-b93c-554daa51a023",
   "metadata": {},
   "outputs": [],
   "source": [
    "lst_b=[1,2,3,4]"
   ]
  },
  {
   "cell_type": "code",
   "execution_count": 24,
   "id": "01e1e080-0c0e-4125-9e6e-49bc745d544b",
   "metadata": {},
   "outputs": [
    {
     "data": {
      "text/plain": [
       "True"
      ]
     },
     "execution_count": 24,
     "metadata": {},
     "output_type": "execute_result"
    }
   ],
   "source": [
    "lst_a is not lst_b"
   ]
  },
  {
   "cell_type": "code",
   "execution_count": 26,
   "id": "6d42f6b3-fbc7-46df-90fc-950a362d0b9f",
   "metadata": {},
   "outputs": [
    {
     "data": {
      "text/plain": [
       "True"
      ]
     },
     "execution_count": 26,
     "metadata": {},
     "output_type": "execute_result"
    }
   ],
   "source": [
    "lst_a==lst_b #== checks the elements inside the list"
   ]
  },
  {
   "cell_type": "code",
   "execution_count": 27,
   "id": "6d9bf8b2-842b-4831-9b1e-6c58af1dfe71",
   "metadata": {},
   "outputs": [],
   "source": [
    "lst_c=[1,2]"
   ]
  },
  {
   "cell_type": "code",
   "execution_count": 28,
   "id": "dd156a03-cf21-4a9b-b6c8-6933b1381963",
   "metadata": {},
   "outputs": [],
   "source": [
    "lst_d=[4,2]"
   ]
  },
  {
   "cell_type": "code",
   "execution_count": 29,
   "id": "4390ca7f-8f0c-49d6-a6a2-edd081e961cf",
   "metadata": {},
   "outputs": [
    {
     "data": {
      "text/plain": [
       "True"
      ]
     },
     "execution_count": 29,
     "metadata": {},
     "output_type": "execute_result"
    }
   ],
   "source": [
    "lst_c!=lst_d"
   ]
  },
  {
   "cell_type": "code",
   "execution_count": 30,
   "id": "5865773b-5ad2-4bd1-8097-57ef20e50d6a",
   "metadata": {},
   "outputs": [],
   "source": [
    "a=2"
   ]
  },
  {
   "cell_type": "code",
   "execution_count": 31,
   "id": "91e1a711-f190-4830-bea0-0e929dd97c9b",
   "metadata": {},
   "outputs": [],
   "source": [
    "b=2"
   ]
  },
  {
   "cell_type": "code",
   "execution_count": 32,
   "id": "91023800-7919-4c8b-b7f0-80107859987b",
   "metadata": {},
   "outputs": [
    {
     "name": "stdout",
     "output_type": "stream",
     "text": [
      "140174944960784\n",
      "140174944960784\n"
     ]
    }
   ],
   "source": [
    "print(id(a))\n",
    "print(id(b))"
   ]
  },
  {
   "cell_type": "code",
   "execution_count": 33,
   "id": "f6a7349c-c790-4838-bd29-5ead5eaef06f",
   "metadata": {},
   "outputs": [],
   "source": [
    "str1=\"Krish\""
   ]
  },
  {
   "cell_type": "code",
   "execution_count": 34,
   "id": "d22a71c7-363f-4c1e-852c-59c44156a75c",
   "metadata": {},
   "outputs": [],
   "source": [
    "str2=\"Krish\""
   ]
  },
  {
   "cell_type": "code",
   "execution_count": 35,
   "id": "6058a610-2dd1-4b4f-b8e3-48dff24684f3",
   "metadata": {},
   "outputs": [
    {
     "name": "stdout",
     "output_type": "stream",
     "text": [
      "140174595824240\n",
      "140174595824240\n"
     ]
    }
   ],
   "source": [
    "print(id(str1))\n",
    "print(id(str2))"
   ]
  },
  {
   "cell_type": "code",
   "execution_count": 37,
   "id": "37be0c7b-d0af-469e-bbec-10969c8b952f",
   "metadata": {},
   "outputs": [],
   "source": [
    "#in int or str we are giving a single value unlike list which is a collection of elements, \n",
    "#so int and str both point to same object so they have same address"
   ]
  },
  {
   "cell_type": "markdown",
   "id": "0b5912f9-62e6-40c7-9287-bcf0dd36e6d1",
   "metadata": {},
   "source": [
    "#### Comparison operators\n",
    "|Operation|Meaning|\n",
    "|:-:|:-:|\n",
    "| **<** |less than|\n",
    "| **<=** |less than or equal to|\n",
    "| **>** |greater than|\n",
    "| **>=** |greater than or equal to|\n"
   ]
  },
  {
   "cell_type": "code",
   "execution_count": 39,
   "id": "22dd2aaa-0c0a-4510-9961-5fe4741eaa4b",
   "metadata": {},
   "outputs": [
    {
     "name": "stdout",
     "output_type": "stream",
     "text": [
      "True\n"
     ]
    }
   ],
   "source": [
    "max_speed_of_bike= 150\n",
    "max_speed_of_car= 200\n",
    "print(f\"{max_speed_of_bike<max_speed_of_car}\")"
   ]
  },
  {
   "cell_type": "code",
   "execution_count": 40,
   "id": "0c7322f7-b278-4e3c-96f6-7082ecef8332",
   "metadata": {},
   "outputs": [
    {
     "name": "stdout",
     "output_type": "stream",
     "text": [
      "today's temperature is less than or equal to yesterday's: True\n",
      "tommorow's temp is expected to be same or more as of today's:True\n"
     ]
    }
   ],
   "source": [
    "temp_today = 25\n",
    "temp_yesterday = 27\n",
    "predicted_temp_nextDay = 27\n",
    "\n",
    "print(f\"today's temperature is less than or equal to yesterday's: {temp_today <= temp_yesterday}\")\n",
    "print(f\"tommorow's temp is expected to be same or more as of today's:{predicted_temp_nextDay>=temp_today}\")"
   ]
  },
  {
   "cell_type": "markdown",
   "id": "6b85a1d9-9e2f-4288-a7dd-efc139c3b2fe",
   "metadata": {},
   "source": [
    "#### Arithmetic operators\n",
    "|Operation|Meaning|\n",
    "|:-:|:-:|\n",
    "| **+** |addition|\n",
    "| **-** |subtraction|\n",
    "| **\\*** |multiplication|\n",
    "| **/** |true division|\n",
    "| **//** |integer division|\n",
    "| **%** |the modulo operator|"
   ]
  },
  {
   "cell_type": "code",
   "execution_count": 41,
   "id": "06ac63d2-283d-4706-a1c2-899800e7d53d",
   "metadata": {},
   "outputs": [],
   "source": [
    "a=25"
   ]
  },
  {
   "cell_type": "code",
   "execution_count": 42,
   "id": "feda89b3-32fc-4b8b-9e51-3bcffb844bae",
   "metadata": {},
   "outputs": [],
   "source": [
    "b=101"
   ]
  },
  {
   "cell_type": "code",
   "execution_count": 43,
   "id": "d1d6f2cf-0bf9-4f93-a2ff-1453e23ae760",
   "metadata": {},
   "outputs": [
    {
     "data": {
      "text/plain": [
       "2525"
      ]
     },
     "execution_count": 43,
     "metadata": {},
     "output_type": "execute_result"
    }
   ],
   "source": [
    "b*a"
   ]
  },
  {
   "cell_type": "code",
   "execution_count": 44,
   "id": "711ee03f-dc09-40ab-9f04-756b1a0ed5ec",
   "metadata": {},
   "outputs": [
    {
     "data": {
      "text/plain": [
       "126"
      ]
     },
     "execution_count": 44,
     "metadata": {},
     "output_type": "execute_result"
    }
   ],
   "source": [
    "b+a"
   ]
  },
  {
   "cell_type": "code",
   "execution_count": 45,
   "id": "3cc432ed-d9b0-4f2c-b2da-5d2e4654342d",
   "metadata": {},
   "outputs": [
    {
     "data": {
      "text/plain": [
       "4.04"
      ]
     },
     "execution_count": 45,
     "metadata": {},
     "output_type": "execute_result"
    }
   ],
   "source": [
    "b/a"
   ]
  },
  {
   "cell_type": "code",
   "execution_count": 46,
   "id": "001c0ae8-90f5-4c04-b273-722258e1000b",
   "metadata": {},
   "outputs": [
    {
     "data": {
      "text/plain": [
       "0.24752475247524752"
      ]
     },
     "execution_count": 46,
     "metadata": {},
     "output_type": "execute_result"
    }
   ],
   "source": [
    "a/b"
   ]
  },
  {
   "cell_type": "code",
   "execution_count": 47,
   "id": "14acb1cd-014c-4a04-8c7b-6f395bf73499",
   "metadata": {},
   "outputs": [
    {
     "data": {
      "text/plain": [
       "0"
      ]
     },
     "execution_count": 47,
     "metadata": {},
     "output_type": "execute_result"
    }
   ],
   "source": [
    "a//b"
   ]
  },
  {
   "cell_type": "code",
   "execution_count": 48,
   "id": "eea65b9e-b194-469c-8cd3-b451ec2c90f7",
   "metadata": {},
   "outputs": [
    {
     "data": {
      "text/plain": [
       "4"
      ]
     },
     "execution_count": 48,
     "metadata": {},
     "output_type": "execute_result"
    }
   ],
   "source": [
    "b//a"
   ]
  },
  {
   "cell_type": "code",
   "execution_count": 49,
   "id": "3b641ed5-082a-477e-93d2-d3a50158b964",
   "metadata": {},
   "outputs": [
    {
     "data": {
      "text/plain": [
       "1"
      ]
     },
     "execution_count": 49,
     "metadata": {},
     "output_type": "execute_result"
    }
   ],
   "source": [
    "b%a"
   ]
  },
  {
   "cell_type": "code",
   "execution_count": 50,
   "id": "4c647a4f-cff0-4cde-ba45-5bf87064aff1",
   "metadata": {},
   "outputs": [
    {
     "data": {
      "text/plain": [
       "25"
      ]
     },
     "execution_count": 50,
     "metadata": {},
     "output_type": "execute_result"
    }
   ],
   "source": [
    "a%b"
   ]
  },
  {
   "cell_type": "markdown",
   "id": "33035a4f-95b7-4857-95a9-a91be386ec23",
   "metadata": {},
   "source": [
    "#### Bitwise operators\n",
    "|Operation|Meaning|\n",
    "|:-:|:-:|\n",
    "| **∼** |bitwise complement (prefix unary operator)|\n",
    "| **&** |bitwise and|\n",
    "| **\\|** |bitwise or|\n",
    "| **^** |bitwise exclusive-or|\n",
    "| **<<** |shift bits left, filling in with zeros|\n",
    "| **>>** |shift bits right, filling in with sign bit|\n"
   ]
  },
  {
   "cell_type": "markdown",
   "id": "e16c7543-8ac7-4b2f-9c4d-772658ad637a",
   "metadata": {},
   "source": [
    "|x|y|&|\n",
    "|:-:|:-:|:-:|\n",
    "|0|0|0|\n",
    "|0|1|0|\n",
    "|1|0|0|\n",
    "|1|1|1|\n",
    "\n",
    "\n",
    "|x|y|\\||\n",
    "|:-:|:-:|:-:|\n",
    "|0|0|0|\n",
    "|0|1|1|\n",
    "|1|0|1|\n",
    "|1|1|1|\n",
    "\n",
    "\n",
    "|x|y|^|\n",
    "|:-:|:-:|:-:|\n",
    "|0|0|0|\n",
    "|0|1|1|\n",
    "|1|0|1|\n",
    "|1|1|0|\n",
    "\n"
   ]
  },
  {
   "cell_type": "markdown",
   "id": "a7858523-4a16-4580-8041-fe836065e1e8",
   "metadata": {},
   "source": [
    "### Strings"
   ]
  },
  {
   "cell_type": "code",
   "execution_count": 54,
   "id": "85f67eac-f4bf-4c7b-8026-2b4d23adf52a",
   "metadata": {},
   "outputs": [],
   "source": [
    "str1= \"Welcome to Data Science Masters\""
   ]
  },
  {
   "cell_type": "code",
   "execution_count": 55,
   "id": "c5bd9e5c-8624-488e-8b6d-26f1feb4c7b5",
   "metadata": {},
   "outputs": [
    {
     "data": {
      "text/plain": [
       "str"
      ]
     },
     "execution_count": 55,
     "metadata": {},
     "output_type": "execute_result"
    }
   ],
   "source": [
    "type(str1)"
   ]
  },
  {
   "cell_type": "code",
   "execution_count": 56,
   "id": "cefcbcc3-8060-480e-a8c3-9c45cfd0515a",
   "metadata": {},
   "outputs": [
    {
     "data": {
      "text/plain": [
       "'W'"
      ]
     },
     "execution_count": 56,
     "metadata": {},
     "output_type": "execute_result"
    }
   ],
   "source": [
    "str1[0]"
   ]
  },
  {
   "cell_type": "code",
   "execution_count": 57,
   "id": "9103cb4e-6cdf-452a-a35a-f9d92e1e3543",
   "metadata": {},
   "outputs": [
    {
     "ename": "TypeError",
     "evalue": "'str' object does not support item assignment",
     "output_type": "error",
     "traceback": [
      "\u001b[0;31m---------------------------------------------------------------------------\u001b[0m",
      "\u001b[0;31mTypeError\u001b[0m                                 Traceback (most recent call last)",
      "Cell \u001b[0;32mIn[57], line 1\u001b[0m\n\u001b[0;32m----> 1\u001b[0m \u001b[43mstr1\u001b[49m\u001b[43m[\u001b[49m\u001b[38;5;241;43m0\u001b[39;49m\u001b[43m]\u001b[49m\u001b[38;5;241m=\u001b[39m\u001b[38;5;241m12\u001b[39m\n",
      "\u001b[0;31mTypeError\u001b[0m: 'str' object does not support item assignment"
     ]
    }
   ],
   "source": [
    "str1[0]=12"
   ]
  },
  {
   "cell_type": "code",
   "execution_count": 58,
   "id": "2117c198-675a-4672-a733-080bc5a14e4e",
   "metadata": {},
   "outputs": [],
   "source": [
    "str1=\"Krish Naik\""
   ]
  },
  {
   "cell_type": "code",
   "execution_count": 59,
   "id": "f5f72ec6-c617-4501-bb16-0a8ecc056b00",
   "metadata": {},
   "outputs": [
    {
     "data": {
      "text/plain": [
       "'Krish Naik'"
      ]
     },
     "execution_count": 59,
     "metadata": {},
     "output_type": "execute_result"
    }
   ],
   "source": [
    "str1"
   ]
  },
  {
   "cell_type": "code",
   "execution_count": 60,
   "id": "461aa5c6-dc4b-4976-8583-e50953a31f0a",
   "metadata": {},
   "outputs": [],
   "source": [
    "string= \"PW Skills Data Science\""
   ]
  },
  {
   "cell_type": "code",
   "execution_count": 61,
   "id": "b104be29-e14d-4645-8ce2-ec0aae2b05d7",
   "metadata": {},
   "outputs": [
    {
     "data": {
      "text/plain": [
       "'i'"
      ]
     },
     "execution_count": 61,
     "metadata": {},
     "output_type": "execute_result"
    }
   ],
   "source": [
    "string[5]"
   ]
  },
  {
   "cell_type": "code",
   "execution_count": 62,
   "id": "75c1e611-dd89-4093-b45e-53d2d09e640a",
   "metadata": {},
   "outputs": [
    {
     "data": {
      "text/plain": [
       "'ills Data Science'"
      ]
     },
     "execution_count": 62,
     "metadata": {},
     "output_type": "execute_result"
    }
   ],
   "source": [
    "#slicing to get substring\n",
    "string[5:]"
   ]
  },
  {
   "cell_type": "code",
   "execution_count": 63,
   "id": "da4e6092-62bc-48f1-949c-148284de773b",
   "metadata": {},
   "outputs": [
    {
     "data": {
      "text/plain": [
       "'ills D'"
      ]
     },
     "execution_count": 63,
     "metadata": {},
     "output_type": "execute_result"
    }
   ],
   "source": [
    "string[5:11]"
   ]
  },
  {
   "cell_type": "code",
   "execution_count": 64,
   "id": "b28bc3f5-b354-4c84-a4b9-6bf5a4ae5d0a",
   "metadata": {},
   "outputs": [
    {
     "data": {
      "text/plain": [
       "'e'"
      ]
     },
     "execution_count": 64,
     "metadata": {},
     "output_type": "execute_result"
    }
   ],
   "source": [
    "string[-1]"
   ]
  },
  {
   "cell_type": "code",
   "execution_count": 65,
   "id": "c5a25ce3-449e-491f-a27f-47e83d136565",
   "metadata": {},
   "outputs": [
    {
     "data": {
      "text/plain": [
       "'e'"
      ]
     },
     "execution_count": 65,
     "metadata": {},
     "output_type": "execute_result"
    }
   ],
   "source": [
    "string[-1:]"
   ]
  },
  {
   "cell_type": "code",
   "execution_count": 66,
   "id": "7223bb3e-3977-4c72-be33-612edf1b3421",
   "metadata": {},
   "outputs": [
    {
     "data": {
      "text/plain": [
       "'nce'"
      ]
     },
     "execution_count": 66,
     "metadata": {},
     "output_type": "execute_result"
    }
   ],
   "source": [
    "string[-3:]"
   ]
  },
  {
   "cell_type": "code",
   "execution_count": 67,
   "id": "bc83a98b-504a-4f66-926a-8c335da882c2",
   "metadata": {},
   "outputs": [
    {
     "data": {
      "text/plain": [
       "'Science'"
      ]
     },
     "execution_count": 67,
     "metadata": {},
     "output_type": "execute_result"
    }
   ],
   "source": [
    "string[-7:]"
   ]
  },
  {
   "cell_type": "code",
   "execution_count": 68,
   "id": "59212122-f663-4a0b-ac46-16595711061a",
   "metadata": {},
   "outputs": [
    {
     "data": {
      "text/plain": [
       "'Scie'"
      ]
     },
     "execution_count": 68,
     "metadata": {},
     "output_type": "execute_result"
    }
   ],
   "source": [
    "string[-7:-3]"
   ]
  },
  {
   "cell_type": "code",
   "execution_count": 69,
   "id": "45280868-66ca-4ecb-937d-733f09b2480f",
   "metadata": {},
   "outputs": [
    {
     "data": {
      "text/plain": [
       "''"
      ]
     },
     "execution_count": 69,
     "metadata": {},
     "output_type": "execute_result"
    }
   ],
   "source": [
    "string[-7:5]"
   ]
  },
  {
   "cell_type": "code",
   "execution_count": 70,
   "id": "20da6ab4-f993-46af-81b0-edafc2b0f9c3",
   "metadata": {},
   "outputs": [
    {
     "data": {
      "text/plain": [
       "'PW Skills Data Scienc'"
      ]
     },
     "execution_count": 70,
     "metadata": {},
     "output_type": "execute_result"
    }
   ],
   "source": [
    "string[:-1]"
   ]
  },
  {
   "cell_type": "code",
   "execution_count": 71,
   "id": "43e79e46-d756-4fc1-86a6-5058f478debb",
   "metadata": {},
   "outputs": [
    {
     "data": {
      "text/plain": [
       "'PW Skills Data Science'"
      ]
     },
     "execution_count": 71,
     "metadata": {},
     "output_type": "execute_result"
    }
   ],
   "source": [
    "string[:]"
   ]
  },
  {
   "cell_type": "code",
   "execution_count": 72,
   "id": "cc99a2e3-9cc0-4490-a497-f450ebe5ea06",
   "metadata": {},
   "outputs": [
    {
     "data": {
      "text/plain": [
       "'ecneicS ataD sllikS WP'"
      ]
     },
     "execution_count": 72,
     "metadata": {},
     "output_type": "execute_result"
    }
   ],
   "source": [
    "# Reverse a string\n",
    "string[::-1]"
   ]
  },
  {
   "cell_type": "code",
   "execution_count": 73,
   "id": "b5d8860f-789f-44c2-93c6-75e604df1498",
   "metadata": {},
   "outputs": [
    {
     "data": {
      "text/plain": [
       "'eniSaa liSW'"
      ]
     },
     "execution_count": 73,
     "metadata": {},
     "output_type": "execute_result"
    }
   ],
   "source": [
    "string[::-2]"
   ]
  },
  {
   "cell_type": "code",
   "execution_count": 74,
   "id": "e346633b-4599-4671-9a8c-af008b10daec",
   "metadata": {},
   "outputs": [
    {
     "data": {
      "text/plain": [
       "'aD slli'"
      ]
     },
     "execution_count": 74,
     "metadata": {},
     "output_type": "execute_result"
    }
   ],
   "source": [
    "string[11:4:-1]"
   ]
  },
  {
   "cell_type": "code",
   "execution_count": 75,
   "id": "7833355c-7446-43c4-981d-d2daaeafa870",
   "metadata": {},
   "outputs": [],
   "source": [
    "name=\"Bhavna\""
   ]
  },
  {
   "cell_type": "code",
   "execution_count": 76,
   "id": "b3a077a6-91b1-4b01-94b0-76ff9c8472f9",
   "metadata": {},
   "outputs": [
    {
     "data": {
      "text/plain": [
       "'anvahB'"
      ]
     },
     "execution_count": 76,
     "metadata": {},
     "output_type": "execute_result"
    }
   ],
   "source": [
    "name[::-1]"
   ]
  },
  {
   "cell_type": "code",
   "execution_count": 77,
   "id": "4a24b11c-5a0e-4ea4-b8c7-18b9078ac05c",
   "metadata": {},
   "outputs": [
    {
     "data": {
      "text/plain": [
       "'avh'"
      ]
     },
     "execution_count": 77,
     "metadata": {},
     "output_type": "execute_result"
    }
   ],
   "source": [
    "name[::-2]"
   ]
  },
  {
   "cell_type": "code",
   "execution_count": 78,
   "id": "9ee57ad7-59f1-49d5-af74-a1edf71bff9d",
   "metadata": {},
   "outputs": [
    {
     "data": {
      "text/plain": [
       "'Ban'"
      ]
     },
     "execution_count": 78,
     "metadata": {},
     "output_type": "execute_result"
    }
   ],
   "source": [
    "name[0::2]"
   ]
  },
  {
   "cell_type": "code",
   "execution_count": 79,
   "id": "cc948257-2565-469b-ad3b-80a21e7441cc",
   "metadata": {},
   "outputs": [
    {
     "data": {
      "text/plain": [
       "'anvahB'"
      ]
     },
     "execution_count": 79,
     "metadata": {},
     "output_type": "execute_result"
    }
   ],
   "source": [
    "name[5::-1]"
   ]
  },
  {
   "cell_type": "code",
   "execution_count": 82,
   "id": "2399c533-88d7-4fd7-9468-d18af46bdae2",
   "metadata": {},
   "outputs": [
    {
     "data": {
      "text/plain": [
       "'Bhavna'"
      ]
     },
     "execution_count": 82,
     "metadata": {},
     "output_type": "execute_result"
    }
   ],
   "source": [
    "name[-6::1]"
   ]
  },
  {
   "cell_type": "code",
   "execution_count": 83,
   "id": "b92b8b21-9793-4b27-ae11-5b4712aa3473",
   "metadata": {},
   "outputs": [
    {
     "data": {
      "text/plain": [
       "'vahB'"
      ]
     },
     "execution_count": 83,
     "metadata": {},
     "output_type": "execute_result"
    }
   ],
   "source": [
    "name[3::-1]"
   ]
  },
  {
   "cell_type": "code",
   "execution_count": 84,
   "id": "10280b65-6ff4-4f80-9948-ce853bb1873a",
   "metadata": {},
   "outputs": [
    {
     "data": {
      "text/plain": [
       "'va'"
      ]
     },
     "execution_count": 84,
     "metadata": {},
     "output_type": "execute_result"
    }
   ],
   "source": [
    "name[3:1:-1]"
   ]
  },
  {
   "cell_type": "code",
   "execution_count": 85,
   "id": "4d375f24-c66a-4cb3-af6f-09bbf878f322",
   "metadata": {},
   "outputs": [],
   "source": [
    "string= \"PW Skills Data Science\""
   ]
  },
  {
   "cell_type": "code",
   "execution_count": 87,
   "id": "af16f495-7ad2-4541-ab05-1ef12b8bc906",
   "metadata": {},
   "outputs": [
    {
     "data": {
      "text/plain": [
       "'PW Skills Data Science Masters'"
      ]
     },
     "execution_count": 87,
     "metadata": {},
     "output_type": "execute_result"
    }
   ],
   "source": [
    "#concatenation\n",
    "string+\" Masters\""
   ]
  },
  {
   "cell_type": "code",
   "execution_count": 88,
   "id": "d9044c3b-ff87-4fa4-8a5f-c7f0957c6c2c",
   "metadata": {},
   "outputs": [
    {
     "data": {
      "text/plain": [
       "'PW Skills Data SciencePW Skills Data SciencePW Skills Data SciencePW Skills Data SciencePW Skills Data Science'"
      ]
     },
     "execution_count": 88,
     "metadata": {},
     "output_type": "execute_result"
    }
   ],
   "source": [
    "string*5"
   ]
  },
  {
   "cell_type": "code",
   "execution_count": 89,
   "id": "15e1a74f-43f6-4819-9385-1f4cac54ad6e",
   "metadata": {},
   "outputs": [
    {
     "data": {
      "text/plain": [
       "22"
      ]
     },
     "execution_count": 89,
     "metadata": {},
     "output_type": "execute_result"
    }
   ],
   "source": [
    "len(string)"
   ]
  },
  {
   "cell_type": "code",
   "execution_count": 91,
   "id": "009da982-3f20-4c95-8fff-e8bd985e379b",
   "metadata": {},
   "outputs": [
    {
     "data": {
      "text/plain": [
       "11"
      ]
     },
     "execution_count": 91,
     "metadata": {},
     "output_type": "execute_result"
    }
   ],
   "source": [
    "string.find(\"a\")"
   ]
  },
  {
   "cell_type": "code",
   "execution_count": 92,
   "id": "c9040a16-0cfe-4efe-a2b4-b6dcbf3acc60",
   "metadata": {},
   "outputs": [
    {
     "data": {
      "text/plain": [
       "13"
      ]
     },
     "execution_count": 92,
     "metadata": {},
     "output_type": "execute_result"
    }
   ],
   "source": [
    "string.find(\"a\",12,len(string))"
   ]
  },
  {
   "cell_type": "code",
   "execution_count": 94,
   "id": "339b70c6-2cee-4419-a6af-49ca21086bff",
   "metadata": {},
   "outputs": [
    {
     "data": {
      "text/plain": [
       "-1"
      ]
     },
     "execution_count": 94,
     "metadata": {},
     "output_type": "execute_result"
    }
   ],
   "source": [
    "string.find(\"z\")  #z is not present so returns -1"
   ]
  },
  {
   "cell_type": "code",
   "execution_count": 97,
   "id": "9bdd6b31-83a1-4bdb-b07a-4f2d87c1a61b",
   "metadata": {},
   "outputs": [
    {
     "data": {
      "text/plain": [
       "3"
      ]
     },
     "execution_count": 97,
     "metadata": {},
     "output_type": "execute_result"
    }
   ],
   "source": [
    "string.find(\"Skills\")"
   ]
  },
  {
   "cell_type": "code",
   "execution_count": 95,
   "id": "b57a6d36-3a58-428a-913e-3faee6e41b1a",
   "metadata": {},
   "outputs": [
    {
     "data": {
      "text/plain": [
       "2"
      ]
     },
     "execution_count": 95,
     "metadata": {},
     "output_type": "execute_result"
    }
   ],
   "source": [
    "string.count(\"a\")"
   ]
  },
  {
   "cell_type": "code",
   "execution_count": 98,
   "id": "0a7ef8ae-a922-42a5-acdd-42edbb7f6ff6",
   "metadata": {},
   "outputs": [
    {
     "data": {
      "text/plain": [
       "['PW', 'Skills', 'Data', 'Science']"
      ]
     },
     "execution_count": 98,
     "metadata": {},
     "output_type": "execute_result"
    }
   ],
   "source": [
    "#Splitting the string\n",
    "string.split(\" \")"
   ]
  },
  {
   "cell_type": "code",
   "execution_count": 99,
   "id": "adc4249c-3f28-45f9-80ea-42a86601b0c3",
   "metadata": {},
   "outputs": [
    {
     "data": {
      "text/plain": [
       "['PW Skill', ' Data Science']"
      ]
     },
     "execution_count": 99,
     "metadata": {},
     "output_type": "execute_result"
    }
   ],
   "source": [
    "string.split(\"s\")"
   ]
  },
  {
   "cell_type": "code",
   "execution_count": 100,
   "id": "e4244936-798e-4a3a-9e0b-30c8ce913b41",
   "metadata": {},
   "outputs": [
    {
     "data": {
      "text/plain": [
       "('PW Skill', 's', ' Data Science')"
      ]
     },
     "execution_count": 100,
     "metadata": {},
     "output_type": "execute_result"
    }
   ],
   "source": [
    "string.partition(\"s\")"
   ]
  },
  {
   "cell_type": "code",
   "execution_count": 101,
   "id": "762c9538-7465-41af-80b7-a003f7f67865",
   "metadata": {},
   "outputs": [
    {
     "data": {
      "text/plain": [
       "'PW SKILLS DATA SCIENCE'"
      ]
     },
     "execution_count": 101,
     "metadata": {},
     "output_type": "execute_result"
    }
   ],
   "source": [
    "string.upper()"
   ]
  },
  {
   "cell_type": "code",
   "execution_count": 102,
   "id": "fcf9a9c7-2b8e-4651-bc7c-a814030996e2",
   "metadata": {},
   "outputs": [
    {
     "data": {
      "text/plain": [
       "'pw skills data science'"
      ]
     },
     "execution_count": 102,
     "metadata": {},
     "output_type": "execute_result"
    }
   ],
   "source": [
    "string.lower()"
   ]
  },
  {
   "cell_type": "code",
   "execution_count": 104,
   "id": "855b346c-c944-4b18-9e2e-a4f207d57ff8",
   "metadata": {},
   "outputs": [
    {
     "data": {
      "text/plain": [
       "'pw sKILLS dATA sCIENCE'"
      ]
     },
     "execution_count": 104,
     "metadata": {},
     "output_type": "execute_result"
    }
   ],
   "source": [
    "string.swapcase() #it makes all the uppercase lower and vice-versa"
   ]
  },
  {
   "cell_type": "code",
   "execution_count": 108,
   "id": "b8e205e7-540b-410d-90db-065f3a4a80a1",
   "metadata": {},
   "outputs": [
    {
     "data": {
      "text/plain": [
       "'Pw skills data science'"
      ]
     },
     "execution_count": 108,
     "metadata": {},
     "output_type": "execute_result"
    }
   ],
   "source": [
    "string.capitalize() #it makes only the starting letter capital"
   ]
  },
  {
   "cell_type": "code",
   "execution_count": 109,
   "id": "fc7e5386-29cf-4d4f-bb0d-fadb198132c7",
   "metadata": {},
   "outputs": [
    {
     "data": {
      "text/plain": [
       "'Pw Skills Data Science'"
      ]
     },
     "execution_count": 109,
     "metadata": {},
     "output_type": "execute_result"
    }
   ],
   "source": [
    "string.title() #it makes it like title- every word's starting letter is capital"
   ]
  },
  {
   "cell_type": "code",
   "execution_count": null,
   "id": "b5d71d19-070b-4dff-af51-58790465dc53",
   "metadata": {},
   "outputs": [],
   "source": []
  }
 ],
 "metadata": {
  "kernelspec": {
   "display_name": "Python 3 (ipykernel)",
   "language": "python",
   "name": "python3"
  },
  "language_info": {
   "codemirror_mode": {
    "name": "ipython",
    "version": 3
   },
   "file_extension": ".py",
   "mimetype": "text/x-python",
   "name": "python",
   "nbconvert_exporter": "python",
   "pygments_lexer": "ipython3",
   "version": "3.10.8"
  }
 },
 "nbformat": 4,
 "nbformat_minor": 5
}
