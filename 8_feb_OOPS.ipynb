{
 "cells": [
  {
   "cell_type": "markdown",
   "id": "f61b1b27-f22d-4b4e-a02d-2679d00ca55d",
   "metadata": {},
   "source": [
    "#### Polymorphism"
   ]
  },
  {
   "cell_type": "code",
   "execution_count": 1,
   "id": "60846307-4f48-4412-bfbf-27fbc9c3f991",
   "metadata": {},
   "outputs": [],
   "source": [
    "def test(a,b):\n",
    "    return a+b"
   ]
  },
  {
   "cell_type": "code",
   "execution_count": 4,
   "id": "b63fa696-aa37-4a12-af38-a5132b2b2538",
   "metadata": {},
   "outputs": [
    {
     "data": {
      "text/plain": [
       "9"
      ]
     },
     "execution_count": 4,
     "metadata": {},
     "output_type": "execute_result"
    }
   ],
   "source": [
    "test(4,5) # function performs addition"
   ]
  },
  {
   "cell_type": "code",
   "execution_count": 6,
   "id": "e912fe0a-b73d-47a6-b96c-0a1978b99710",
   "metadata": {},
   "outputs": [
    {
     "data": {
      "text/plain": [
       "'bhavnadora'"
      ]
     },
     "execution_count": 6,
     "metadata": {},
     "output_type": "execute_result"
    }
   ],
   "source": [
    "test(\"bhavna\",\"dora\")   # function performs string concatenation"
   ]
  },
  {
   "cell_type": "code",
   "execution_count": 7,
   "id": "c8fd7edf-5864-4ab0-9c76-e2a089af8cf1",
   "metadata": {},
   "outputs": [
    {
     "data": {
      "text/plain": [
       "[1, 2, 3, 2, 3, 7]"
      ]
     },
     "execution_count": 7,
     "metadata": {},
     "output_type": "execute_result"
    }
   ],
   "source": [
    "test([1,2,3],[2,3,7])    # function performs list concatenation"
   ]
  },
  {
   "cell_type": "markdown",
   "id": "ce517aa8-64ad-4297-a282-eb4f377e07a2",
   "metadata": {},
   "source": [
    "##### The function test is same but it behaves differently as per the data passed. This function is an example of polymorphism. It is having multiples states as per the data passed into the function. Polymorphism- single entity but behaviour changes."
   ]
  },
  {
   "cell_type": "markdown",
   "id": "28b447d5-075b-4a66-b1f9-2eb0b97e87a7",
   "metadata": {},
   "source": [
    "##### Polymorphism in class-"
   ]
  },
  {
   "cell_type": "code",
   "execution_count": 9,
   "id": "de692c1e-aeb7-4a97-b76f-56687145dcc6",
   "metadata": {},
   "outputs": [],
   "source": [
    "class data_science:\n",
    "    def syllabus(self):\n",
    "        print(\"this is the method syllabus for data science class\")\n"
   ]
  },
  {
   "cell_type": "code",
   "execution_count": 10,
   "id": "14c67b5d-fa44-4eb2-94ee-bb99e37253c4",
   "metadata": {},
   "outputs": [],
   "source": [
    "class web_dev:\n",
    "    def syllabus(self):\n",
    "        print(\"this is the method syllabus for web dev class\")"
   ]
  },
  {
   "cell_type": "code",
   "execution_count": 11,
   "id": "7123516f-c900-4cbd-ad2e-610f522ad790",
   "metadata": {},
   "outputs": [],
   "source": [
    "def class_parcer(obj):\n",
    "    for i in obj:\n",
    "        i.syllabus()"
   ]
  },
  {
   "cell_type": "code",
   "execution_count": 12,
   "id": "2836cfa4-97b1-4cc7-8526-02938e5a51c4",
   "metadata": {},
   "outputs": [],
   "source": [
    "obj_data_science= data_science()"
   ]
  },
  {
   "cell_type": "code",
   "execution_count": 13,
   "id": "c7b25886-6ead-4cf6-b6be-a0aa23ec8ba7",
   "metadata": {},
   "outputs": [],
   "source": [
    "obj_web_dev= web_dev()"
   ]
  },
  {
   "cell_type": "code",
   "execution_count": 14,
   "id": "1de2398e-4bee-4466-8200-e9730d88448f",
   "metadata": {},
   "outputs": [
    {
     "name": "stdout",
     "output_type": "stream",
     "text": [
      "this is the method syllabus for data science class\n",
      "this is the method syllabus for web dev class\n"
     ]
    }
   ],
   "source": [
    "obj= [obj_data_science, obj_web_dev]\n",
    "class_parcer(obj)"
   ]
  },
  {
   "cell_type": "markdown",
   "id": "923d6ccf-c970-423b-9c9b-ccb9ed0ae70f",
   "metadata": {},
   "source": [
    "##### class_parcer function is an example of polymorphism. Based on the object passed, different methods of different classes are accessed."
   ]
  },
  {
   "cell_type": "markdown",
   "id": "a697150d-e8de-4d38-be3d-7cc056fadbf1",
   "metadata": {},
   "source": [
    "#### Encapsulation"
   ]
  },
  {
   "cell_type": "code",
   "execution_count": 1,
   "id": "1fbd3a86-08a8-4532-a0f0-cacdf49d8dfa",
   "metadata": {},
   "outputs": [
    {
     "data": {
      "text/plain": [
       "45"
      ]
     },
     "execution_count": 1,
     "metadata": {},
     "output_type": "execute_result"
    }
   ],
   "source": [
    "class test:\n",
    "    def __init__(self,a,b):    # this is the constructor\n",
    "        self.a= a\n",
    "        self.b= b\n",
    "    \n",
    "t= test(45,55)   # t is object of class test\n",
    "t.a  # object t accessing the variable a in class\n",
    "        "
   ]
  },
  {
   "cell_type": "code",
   "execution_count": 2,
   "id": "eda0f31f-7236-4cd2-9b04-703ecf7188d3",
   "metadata": {},
   "outputs": [
    {
     "data": {
      "text/plain": [
       "55"
      ]
     },
     "execution_count": 2,
     "metadata": {},
     "output_type": "execute_result"
    }
   ],
   "source": [
    "t.b"
   ]
  },
  {
   "cell_type": "code",
   "execution_count": 3,
   "id": "1ebe84f8-64c0-46b7-9e6a-618827be5fed",
   "metadata": {},
   "outputs": [],
   "source": [
    "t.a= 343   # assigning the variable a in class"
   ]
  },
  {
   "cell_type": "code",
   "execution_count": 4,
   "id": "265ef6c2-3e8c-4d6c-b790-b9c530c6caf0",
   "metadata": {},
   "outputs": [
    {
     "data": {
      "text/plain": [
       "343"
      ]
     },
     "execution_count": 4,
     "metadata": {},
     "output_type": "execute_result"
    }
   ],
   "source": [
    "t.a"
   ]
  },
  {
   "cell_type": "markdown",
   "id": "6698e5fc-3a75-4b3f-83c5-18c1d83d304a",
   "metadata": {},
   "source": [
    "##### When we build industry level projects this modifying of variables is dangerous as anyone with the code can do it. So, we have to take preventive measures to stop the access of certain variables, methods of class. Encapsulation allows us to prevent direct access or modification of data inside class."
   ]
  },
  {
   "cell_type": "code",
   "execution_count": 5,
   "id": "56d6f94c-0d96-450d-96e6-dc166472f6bb",
   "metadata": {},
   "outputs": [],
   "source": [
    "class car:\n",
    "    def __init__(self, year, make, model, speed):\n",
    "        self.__year= year          # inorder to make these variables private we use __ after self.\n",
    "        self.__make= make\n",
    "        self.__model= model\n",
    "        self.__speed= 0\n",
    "    \n",
    " "
   ]
  },
  {
   "cell_type": "code",
   "execution_count": 6,
   "id": "423c3bcc-2b7a-4563-91bd-6c96e97725ed",
   "metadata": {},
   "outputs": [
    {
     "ename": "TypeError",
     "evalue": "car.__init__() missing 4 required positional arguments: 'year', 'make', 'model', and 'speed'",
     "output_type": "error",
     "traceback": [
      "\u001b[0;31m---------------------------------------------------------------------------\u001b[0m",
      "\u001b[0;31mTypeError\u001b[0m                                 Traceback (most recent call last)",
      "Cell \u001b[0;32mIn[6], line 1\u001b[0m\n\u001b[0;32m----> 1\u001b[0m obj_car\u001b[38;5;241m=\u001b[39m \u001b[43mcar\u001b[49m\u001b[43m(\u001b[49m\u001b[43m)\u001b[49m\n",
      "\u001b[0;31mTypeError\u001b[0m: car.__init__() missing 4 required positional arguments: 'year', 'make', 'model', and 'speed'"
     ]
    }
   ],
   "source": [
    "obj_car= car()"
   ]
  },
  {
   "cell_type": "code",
   "execution_count": 9,
   "id": "1dcf44d4-757d-4910-8dd5-453f1ced1adb",
   "metadata": {},
   "outputs": [],
   "source": [
    "obj_car= car(2021,\"toyota\",\"innova\",120)"
   ]
  },
  {
   "cell_type": "code",
   "execution_count": 11,
   "id": "126951ce-0425-4665-a800-2c56b3c51909",
   "metadata": {},
   "outputs": [],
   "source": [
    "#obj_car.          # here if we press tab after . we can't see any popup with all the variables or methods to access\n",
    "                  # because these variables have been made private"
   ]
  },
  {
   "cell_type": "code",
   "execution_count": 17,
   "id": "c4e29d88-7474-4c84-b2a8-3bf3f7c77d1d",
   "metadata": {},
   "outputs": [
    {
     "ename": "AttributeError",
     "evalue": "'car' object has no attribute 'year'",
     "output_type": "error",
     "traceback": [
      "\u001b[0;31m---------------------------------------------------------------------------\u001b[0m",
      "\u001b[0;31mAttributeError\u001b[0m                            Traceback (most recent call last)",
      "Cell \u001b[0;32mIn[17], line 1\u001b[0m\n\u001b[0;32m----> 1\u001b[0m \u001b[43mobj_car\u001b[49m\u001b[38;5;241;43m.\u001b[39;49m\u001b[43myear\u001b[49m\n",
      "\u001b[0;31mAttributeError\u001b[0m: 'car' object has no attribute 'year'"
     ]
    }
   ],
   "source": [
    "obj_car.year"
   ]
  },
  {
   "cell_type": "code",
   "execution_count": 20,
   "id": "b422c74c-50ff-4c40-98d1-f21ffcdf37e7",
   "metadata": {},
   "outputs": [
    {
     "ename": "AttributeError",
     "evalue": "'car' object has no attribute '__year'",
     "output_type": "error",
     "traceback": [
      "\u001b[0;31m---------------------------------------------------------------------------\u001b[0m",
      "\u001b[0;31mAttributeError\u001b[0m                            Traceback (most recent call last)",
      "Cell \u001b[0;32mIn[20], line 1\u001b[0m\n\u001b[0;32m----> 1\u001b[0m \u001b[43mobj_car\u001b[49m\u001b[38;5;241;43m.\u001b[39;49m\u001b[43m__year\u001b[49m    \u001b[38;5;66;03m# users can't access these private variables\u001b[39;00m\n",
      "\u001b[0;31mAttributeError\u001b[0m: 'car' object has no attribute '__year'"
     ]
    }
   ],
   "source": [
    "obj_car.__year    # users can't access these private variables"
   ]
  },
  {
   "cell_type": "code",
   "execution_count": 15,
   "id": "c352cab9-0212-496f-86ae-cbe2cc997c01",
   "metadata": {},
   "outputs": [
    {
     "data": {
      "text/plain": [
       "2021"
      ]
     },
     "execution_count": 15,
     "metadata": {},
     "output_type": "execute_result"
    }
   ],
   "source": [
    "# these variables can be accessed using -\n",
    "obj_car._car__year"
   ]
  },
  {
   "cell_type": "code",
   "execution_count": 15,
   "id": "f8e3829c-006d-4697-a428-a48cdb433413",
   "metadata": {},
   "outputs": [
    {
     "data": {
      "text/plain": [
       "2021"
      ]
     },
     "execution_count": 15,
     "metadata": {},
     "output_type": "execute_result"
    }
   ],
   "source": [
    "# these variables can be accessed using -\n",
    "obj_car._car__year"
   ]
  },
  {
   "cell_type": "code",
   "execution_count": 19,
   "id": "effb4c90-d68d-4710-8e3f-d21c7ffb68ef",
   "metadata": {},
   "outputs": [
    {
     "data": {
      "text/plain": [
       "2023"
      ]
     },
     "execution_count": 19,
     "metadata": {},
     "output_type": "execute_result"
    }
   ],
   "source": [
    "# they can also be assigned by this-\n",
    "obj_car._car__year= 2023\n",
    "obj_car._car__year"
   ]
  },
  {
   "cell_type": "code",
   "execution_count": 21,
   "id": "1dd6eddc-37a2-4861-a92c-13861d41037c",
   "metadata": {},
   "outputs": [],
   "source": [
    "# Inorder to give users access we create a public method inside class-\n",
    "\n",
    "class car:\n",
    "    def __init__(self, year, make, model, speed):\n",
    "        self.__year= year          # inorder to make these variables private we use __ after self.\n",
    "        self.__make= make\n",
    "        self.__model= model\n",
    "        self.__speed= 0\n",
    "    \n",
    "    def set_speed(self,speed):      #it is a public method and inside this the code is written such that we can assign value to the pvt variable speed\n",
    "        self.__speed= 0 if speed<=0 else speed\n",
    "    \n",
    "    def get_speed(self):           #it is a public method and inside it code is written such that we can acess the pvt variable speed by calling this func\n",
    "        return self.__speed\n",
    "  "
   ]
  },
  {
   "cell_type": "code",
   "execution_count": 22,
   "id": "af3bcf10-cb19-4331-9ede-fc959a6865e9",
   "metadata": {},
   "outputs": [],
   "source": [
    "obj_car= car(2021, \"toyota\", \"innova\", 120)"
   ]
  },
  {
   "cell_type": "code",
   "execution_count": 23,
   "id": "0f1bddf7-531f-4de7-9b27-3b0e949074c1",
   "metadata": {},
   "outputs": [],
   "source": [
    "obj_car.set_speed(350)  #here we called the public method and passed arg so that it will assign it to the pvt variable"
   ]
  },
  {
   "cell_type": "code",
   "execution_count": 25,
   "id": "a90859f2-cd24-41a5-bc06-4afb4d56f7b9",
   "metadata": {},
   "outputs": [
    {
     "data": {
      "text/plain": [
       "350"
      ]
     },
     "execution_count": 25,
     "metadata": {},
     "output_type": "execute_result"
    }
   ],
   "source": [
    "obj_car.get_speed()  # here we called the public method and we were able to access the pvt var due to return statement"
   ]
  },
  {
   "cell_type": "code",
   "execution_count": 27,
   "id": "b3ca748b-626f-4197-bc1d-fd1f6c77afe7",
   "metadata": {},
   "outputs": [],
   "source": [
    "class bank_account:\n",
    "    def __init__(self, balance):   # this is the constructor\n",
    "        self.__balance= balance    # making balance varibale pvt\n",
    "    \n",
    "    def deposit(self, amount):\n",
    "        self.__balance= self.__balance+amount   # updating pvt variable balance\n",
    "    \n",
    "    def withdraw(self, amount):\n",
    "        if self.__balance>= amount:\n",
    "            self.__balance= self.__balance- amount  #updating pvt variable balance\n",
    "            return True\n",
    "        else:\n",
    "            return False\n",
    "    \n",
    "    def get_balance(self):   # if users want to see the pvt variable balance they can call this function\n",
    "        return self.__balance"
   ]
  },
  {
   "cell_type": "code",
   "execution_count": 28,
   "id": "864674a0-ac55-41bc-a1f8-ad554bdbd31e",
   "metadata": {},
   "outputs": [],
   "source": [
    "obj_bank_account= bank_account(1000)   # obj_bank_account is object of class bank_account"
   ]
  },
  {
   "cell_type": "code",
   "execution_count": 29,
   "id": "3d575aab-355f-4bd1-9cdf-fec6fe4d1e63",
   "metadata": {},
   "outputs": [],
   "source": [
    "#obj_bank_account.    # here if we prsee tab after . we see a popup with all the public functions- \n",
    "                     # deposit, withdraw, get_balance"
   ]
  },
  {
   "cell_type": "code",
   "execution_count": 30,
   "id": "cdaf4806-c020-4dee-836f-865fc8e2485f",
   "metadata": {},
   "outputs": [],
   "source": [
    "obj_bank_account.deposit(6000)"
   ]
  },
  {
   "cell_type": "code",
   "execution_count": 31,
   "id": "d8bfa846-1a40-439a-acd6-e71168450906",
   "metadata": {},
   "outputs": [
    {
     "data": {
      "text/plain": [
       "7000"
      ]
     },
     "execution_count": 31,
     "metadata": {},
     "output_type": "execute_result"
    }
   ],
   "source": [
    "obj_bank_account.get_balance()"
   ]
  },
  {
   "cell_type": "code",
   "execution_count": 32,
   "id": "2ad35e6e-3025-4b8d-ae73-05091d07b574",
   "metadata": {},
   "outputs": [
    {
     "data": {
      "text/plain": [
       "True"
      ]
     },
     "execution_count": 32,
     "metadata": {},
     "output_type": "execute_result"
    }
   ],
   "source": [
    "obj_bank_account.withdraw(2000)"
   ]
  },
  {
   "cell_type": "code",
   "execution_count": 33,
   "id": "46f6675a-ff29-4866-a490-6b1bb56bbac2",
   "metadata": {},
   "outputs": [
    {
     "data": {
      "text/plain": [
       "5000"
      ]
     },
     "execution_count": 33,
     "metadata": {},
     "output_type": "execute_result"
    }
   ],
   "source": [
    "obj_bank_account.get_balance()"
   ]
  },
  {
   "cell_type": "markdown",
   "id": "71e79734-9664-4309-9f33-2f5d581b356c",
   "metadata": {},
   "source": [
    "##### We are not able to touch the private variables directly but we are able to get them through public methods. So, encapsulation hides the private variables and their implementation."
   ]
  },
  {
   "cell_type": "markdown",
   "id": "7312d4e9-cffd-403b-87a2-cb924ca7db1e",
   "metadata": {},
   "source": [
    "#### Inheritance"
   ]
  },
  {
   "cell_type": "code",
   "execution_count": 34,
   "id": "66476dda-d99a-46f4-b645-371915ba6500",
   "metadata": {},
   "outputs": [],
   "source": [
    "class parent:\n",
    "    def test_parent(self):\n",
    "        print(\"this is my parent class\")\n",
    "class child(parent):\n",
    "    def test_child(self):\n",
    "        print(\"this is my child class\")"
   ]
  },
  {
   "cell_type": "code",
   "execution_count": 39,
   "id": "51f39584-a291-4e9a-bb08-9ca43ab89033",
   "metadata": {},
   "outputs": [],
   "source": [
    "child_obj= child()  #child_obj is the object of child class"
   ]
  },
  {
   "cell_type": "code",
   "execution_count": 36,
   "id": "aeeee585-7495-415a-bcb8-ecbf32b5b96e",
   "metadata": {},
   "outputs": [
    {
     "name": "stdout",
     "output_type": "stream",
     "text": [
      "this is my child class\n"
     ]
    }
   ],
   "source": [
    "child_obj.test_child()"
   ]
  },
  {
   "cell_type": "code",
   "execution_count": 40,
   "id": "435115ac-bdd8-4e9c-9604-d444c8e45f5e",
   "metadata": {},
   "outputs": [
    {
     "name": "stdout",
     "output_type": "stream",
     "text": [
      "this is my parent class\n"
     ]
    }
   ],
   "source": [
    "child_obj.test_parent()  # object of child class can access all methods of parent class"
   ]
  },
  {
   "cell_type": "markdown",
   "id": "a5f14d39-9792-498d-bced-64d23844c84a",
   "metadata": {},
   "source": [
    "##### This process of inheriting/accessing all the properties- methods, attributes of the parent class by the child class is called inheritance."
   ]
  },
  {
   "cell_type": "markdown",
   "id": "13e0e682-cd2e-457f-b7aa-48ab8aee8026",
   "metadata": {},
   "source": [
    "##### (a) Multi level inheritance"
   ]
  },
  {
   "cell_type": "code",
   "execution_count": 42,
   "id": "6420198f-5868-429e-9a69-5d38096fbbab",
   "metadata": {},
   "outputs": [],
   "source": [
    "class class1:\n",
    "    def test_class1(self):\n",
    "        print(\"this is my class1\")\n",
    "\n",
    "class class2(class1):       #class2 inherits the property of class1\n",
    "    def test_class2(self):\n",
    "        print(\"this is my class2\")\n",
    "\n",
    "class class3(class2):      #class3 inherits the property of class2\n",
    "    def test_class3(self):\n",
    "        print(\"this is my class3\")\n",
    "    \n",
    "              "
   ]
  },
  {
   "cell_type": "code",
   "execution_count": 43,
   "id": "f7662f1f-3f31-4f47-bda9-cb246b4e3269",
   "metadata": {},
   "outputs": [],
   "source": [
    "#check if we can access class1 using class3\n",
    "\n",
    "obj_class3= class3()"
   ]
  },
  {
   "cell_type": "code",
   "execution_count": 44,
   "id": "fe211623-4a5b-4d46-b50b-df6bc5c5310c",
   "metadata": {},
   "outputs": [],
   "source": [
    "#obj_class3.     #on pressing tab after . we can see 3 methods of the 3 classes so yes class3 can access class1"
   ]
  },
  {
   "cell_type": "code",
   "execution_count": 48,
   "id": "d93a6405-0077-4a1a-8fcb-c8d4bbaea4c3",
   "metadata": {},
   "outputs": [
    {
     "name": "stdout",
     "output_type": "stream",
     "text": [
      "this is my class1\n"
     ]
    }
   ],
   "source": [
    "obj_class3.test_class1()   # class3 doesn't inherit class1 directly but it inherits class2 and class2 inherits class1.\n",
    "                           # so class3 indirectly inherits from class1"
   ]
  },
  {
   "cell_type": "code",
   "execution_count": 46,
   "id": "f1e4efc1-fd9c-41ce-b45a-43241060ee34",
   "metadata": {},
   "outputs": [
    {
     "name": "stdout",
     "output_type": "stream",
     "text": [
      "this is my class2\n"
     ]
    }
   ],
   "source": [
    "obj_class3.test_class2()"
   ]
  },
  {
   "cell_type": "code",
   "execution_count": 47,
   "id": "658fb05a-ac7e-446c-98da-98870ea6c53c",
   "metadata": {},
   "outputs": [
    {
     "name": "stdout",
     "output_type": "stream",
     "text": [
      "this is my class3\n"
     ]
    }
   ],
   "source": [
    "obj_class3.test_class3()"
   ]
  },
  {
   "cell_type": "markdown",
   "id": "11ba8447-7528-407b-87ca-6fc1287c5b77",
   "metadata": {},
   "source": [
    "##### (b) Multiple inheritance"
   ]
  },
  {
   "cell_type": "code",
   "execution_count": 49,
   "id": "6055d4be-72f9-47f1-bd17-8a1d842a68c4",
   "metadata": {},
   "outputs": [],
   "source": [
    "class class1:\n",
    "    def test_class1(self):\n",
    "        print(\"this is my class1\")\n",
    "\n",
    "class class2:\n",
    "    def test_class2(self):\n",
    "        print(\"this is my class2\")\n",
    "        \n",
    "class class3(class1,class2):\n",
    "    pass"
   ]
  },
  {
   "cell_type": "code",
   "execution_count": 50,
   "id": "f7448b7d-e797-497b-a59a-6a7cd8e795b1",
   "metadata": {},
   "outputs": [],
   "source": [
    "obj_class3= class3()"
   ]
  },
  {
   "cell_type": "code",
   "execution_count": 51,
   "id": "d4cda953-19fb-4d84-9937-a7b3503b4fba",
   "metadata": {},
   "outputs": [],
   "source": [
    "#obj_class3.   # pressing tab after . shows both the methods- test_class1() and test_class2(). \n",
    "               #so, object of class3 can acesss both class1 and class2"
   ]
  },
  {
   "cell_type": "code",
   "execution_count": 52,
   "id": "cb0d4d21-ece2-442a-b8af-8d47bb223a4e",
   "metadata": {},
   "outputs": [
    {
     "name": "stdout",
     "output_type": "stream",
     "text": [
      "this is my class1\n"
     ]
    }
   ],
   "source": [
    "obj_class3.test_class1()"
   ]
  },
  {
   "cell_type": "code",
   "execution_count": 53,
   "id": "979b5241-90b2-4142-a37a-8a376e9c9524",
   "metadata": {},
   "outputs": [
    {
     "name": "stdout",
     "output_type": "stream",
     "text": [
      "this is my class2\n"
     ]
    }
   ],
   "source": [
    "obj_class3.test_class2()"
   ]
  },
  {
   "cell_type": "code",
   "execution_count": null,
   "id": "237f53ce-4839-4527-80e3-26002ef4f7d2",
   "metadata": {},
   "outputs": [],
   "source": []
  }
 ],
 "metadata": {
  "kernelspec": {
   "display_name": "Python 3 (ipykernel)",
   "language": "python",
   "name": "python3"
  },
  "language_info": {
   "codemirror_mode": {
    "name": "ipython",
    "version": 3
   },
   "file_extension": ".py",
   "mimetype": "text/x-python",
   "name": "python",
   "nbconvert_exporter": "python",
   "pygments_lexer": "ipython3",
   "version": "3.10.8"
  }
 },
 "nbformat": 4,
 "nbformat_minor": 5
}
