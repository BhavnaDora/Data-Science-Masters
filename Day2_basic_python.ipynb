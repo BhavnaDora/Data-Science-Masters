{
 "cells": [
  {
   "cell_type": "code",
   "execution_count": 1,
   "id": "454674c5-1f30-48cd-8a66-e08f8085db37",
   "metadata": {},
   "outputs": [
    {
     "name": "stdout",
     "output_type": "stream",
     "text": [
      "hello world\n"
     ]
    }
   ],
   "source": [
    "print(\"hello world\")"
   ]
  },
  {
   "cell_type": "code",
   "execution_count": 2,
   "id": "bb348312-279e-42df-9e74-9fc0f3730459",
   "metadata": {},
   "outputs": [
    {
     "name": "stdout",
     "output_type": "stream",
     "text": [
      "123\n"
     ]
    }
   ],
   "source": [
    "print(123)"
   ]
  },
  {
   "cell_type": "code",
   "execution_count": 3,
   "id": "62637821-0ac5-47f5-aaf8-1f2bf3dc6c65",
   "metadata": {},
   "outputs": [
    {
     "name": "stdout",
     "output_type": "stream",
     "text": [
      "my age is: 24\n"
     ]
    }
   ],
   "source": [
    "age=24\n",
    "print(\"my age is:\", age)"
   ]
  },
  {
   "cell_type": "code",
   "execution_count": 4,
   "id": "a6bdfd4d-230a-44e0-81b1-2c469a3c8aca",
   "metadata": {},
   "outputs": [
    {
     "name": "stdout",
     "output_type": "stream",
     "text": [
      "my age is {age}\n"
     ]
    }
   ],
   "source": [
    "print(\"my age is {age}\")"
   ]
  },
  {
   "cell_type": "code",
   "execution_count": 7,
   "id": "d1f3f4f9-5cc3-4d96-8909-a7f56097018a",
   "metadata": {},
   "outputs": [
    {
     "name": "stdout",
     "output_type": "stream",
     "text": [
      "my age is: 24\n"
     ]
    }
   ],
   "source": [
    "#f string\n",
    "print(f\"my age is: {age}\")"
   ]
  },
  {
   "cell_type": "code",
   "execution_count": 8,
   "id": "f7282b3d-d47b-4d24-91be-d81f1ccd8720",
   "metadata": {},
   "outputs": [
    {
     "name": "stdout",
     "output_type": "stream",
     "text": [
      "my name is bhavna and age is 24\n"
     ]
    }
   ],
   "source": [
    "#format\n",
    "name= \"bhavna\"\n",
    "age= 24\n",
    "print(\"my name is {} and age is {}\".format(name,age))"
   ]
  },
  {
   "cell_type": "code",
   "execution_count": 9,
   "id": "961b243a-6a6c-444e-baef-31dc5089a9cf",
   "metadata": {},
   "outputs": [
    {
     "name": "stdout",
     "output_type": "stream",
     "text": [
      "my name is bhavna and age is 24\n"
     ]
    }
   ],
   "source": [
    "#placeholder\n",
    "print(\"my name is {firstname} and age is {firstage}\".format(firstage=age,firstname=name))"
   ]
  },
  {
   "cell_type": "code",
   "execution_count": 13,
   "id": "2937b3f0-de6d-44f4-b300-af293b63ee35",
   "metadata": {},
   "outputs": [
    {
     "name": "stdout",
     "output_type": "stream",
     "text": [
      "My age is 24 and i have completed: my degree of M.Sc with the name of Bhavna Dora\n"
     ]
    }
   ],
   "source": [
    "name= \"Bhavna Dora\"\n",
    "age= 24\n",
    "degree= \"M.Sc\"\n",
    "print(\"My age is {} and i have completed: my degree of {} with the name of {}\".format(age,degree,name))"
   ]
  },
  {
   "cell_type": "code",
   "execution_count": 14,
   "id": "fcabda23-c6dd-43e7-a4ed-8d73cdcce7c7",
   "metadata": {},
   "outputs": [
    {
     "name": "stdout",
     "output_type": "stream",
     "text": [
      "you are eligible to vote\n"
     ]
    }
   ],
   "source": [
    "#if statements\n",
    "age=18\n",
    "if age>=18:\n",
    "    print(\"you are eligible to vote\")"
   ]
  },
  {
   "cell_type": "code",
   "execution_count": 16,
   "id": "138219f4-515f-47b1-b721-cd5e3f4f99b9",
   "metadata": {},
   "outputs": [
    {
     "name": "stdout",
     "output_type": "stream",
     "text": [
      "you are not eligible to vote\n"
     ]
    }
   ],
   "source": [
    "age=17\n",
    "if age<18:\n",
    "    print(\"you are not eligible to vote\")"
   ]
  },
  {
   "cell_type": "code",
   "execution_count": 17,
   "id": "a84d556e-1597-4fb0-acea-3de5ab882826",
   "metadata": {},
   "outputs": [
    {
     "name": "stdin",
     "output_type": "stream",
     "text": [
      " bhavna\n"
     ]
    },
    {
     "data": {
      "text/plain": [
       "'bhavna'"
      ]
     },
     "execution_count": 17,
     "metadata": {},
     "output_type": "execute_result"
    }
   ],
   "source": [
    "input()"
   ]
  },
  {
   "cell_type": "code",
   "execution_count": 18,
   "id": "6b6ae8b3-7918-448a-82d2-7d0beac2240c",
   "metadata": {},
   "outputs": [
    {
     "name": "stdin",
     "output_type": "stream",
     "text": [
      "enter your name bhavna dora\n"
     ]
    }
   ],
   "source": [
    "name= input(\"enter your name\")"
   ]
  },
  {
   "cell_type": "code",
   "execution_count": 19,
   "id": "573fc592-ba5e-4c73-820a-f95df5904a6d",
   "metadata": {},
   "outputs": [
    {
     "data": {
      "text/plain": [
       "'bhavna dora'"
      ]
     },
     "execution_count": 19,
     "metadata": {},
     "output_type": "execute_result"
    }
   ],
   "source": [
    "name"
   ]
  },
  {
   "cell_type": "code",
   "execution_count": 20,
   "id": "12b265d7-8734-475d-b06c-965861b0d4dd",
   "metadata": {},
   "outputs": [
    {
     "name": "stdin",
     "output_type": "stream",
     "text": [
      "enter ypur age 24\n"
     ]
    }
   ],
   "source": [
    "age = int(input(\"enter ypur age\"))"
   ]
  },
  {
   "cell_type": "code",
   "execution_count": 21,
   "id": "92feedd1-6122-4a9c-8c9d-89711f8ad6c5",
   "metadata": {},
   "outputs": [
    {
     "data": {
      "text/plain": [
       "24"
      ]
     },
     "execution_count": 21,
     "metadata": {},
     "output_type": "execute_result"
    }
   ],
   "source": [
    "age"
   ]
  },
  {
   "cell_type": "code",
   "execution_count": 23,
   "id": "fea13690-91d5-46f6-8490-2e4aab0484f0",
   "metadata": {},
   "outputs": [
    {
     "name": "stdin",
     "output_type": "stream",
     "text": [
      "enter your age 24\n"
     ]
    },
    {
     "name": "stdout",
     "output_type": "stream",
     "text": [
      "you are young blood\n"
     ]
    }
   ],
   "source": [
    "#task-2\n",
    "age= int(input(\"enter your age\"))\n",
    "if age>=18 and age<=45:\n",
    "    print(\"you are young blood\")"
   ]
  },
  {
   "cell_type": "code",
   "execution_count": 24,
   "id": "62b501d8-11ab-4b3d-a929-e77c38cfac2d",
   "metadata": {},
   "outputs": [
    {
     "name": "stdin",
     "output_type": "stream",
     "text": [
      "enter your age 15\n"
     ]
    },
    {
     "name": "stdout",
     "output_type": "stream",
     "text": [
      "thank you we will let you know\n"
     ]
    }
   ],
   "source": [
    "age= int(input(\"enter your age\"))\n",
    "if age>=18 and age<=45:\n",
    "    print(\"you are young blood\")\n",
    "else:\n",
    "    print(\"thank you we will let you know\")"
   ]
  },
  {
   "cell_type": "code",
   "execution_count": 26,
   "id": "5c3c9bf0-cbe3-489f-a6de-0e6f6a9914cf",
   "metadata": {},
   "outputs": [
    {
     "name": "stdin",
     "output_type": "stream",
     "text": [
      "enter product price 2000\n"
     ]
    },
    {
     "name": "stdout",
     "output_type": "stream",
     "text": [
      "product price is: 1600.0\n"
     ]
    }
   ],
   "source": [
    "#task-3\n",
    "product_price= int(input(\"enter product price\"))\n",
    "if product_price > 1000:\n",
    "    print(\"product price is:\", (product_price-(product_price*0.2)))\n",
    "else:\n",
    "    print(\"product price is:\", (product_price-(product_price*0.3)))"
   ]
  },
  {
   "cell_type": "code",
   "execution_count": 29,
   "id": "25408458-cbfc-4e84-90cf-26211047f3b4",
   "metadata": {},
   "outputs": [
    {
     "name": "stdin",
     "output_type": "stream",
     "text": [
      "enter product price 55\n"
     ]
    },
    {
     "name": "stdout",
     "output_type": "stream",
     "text": [
      "let's drink tea with krish sir\n"
     ]
    }
   ],
   "source": [
    "product_price= int(input(\"enter product price\"))\n",
    "if product_price > 3000:\n",
    "    if product_price==4000:\n",
    "        print(\"congrats you get Goa trip\")\n",
    "    print(\"product price is:{}\".format(product_price*0.8))\n",
    "elif product_price<=3000 and product_price>2000:\n",
    "    if product_price==2999:\n",
    "        print(\"congrats you get additional gift\")\n",
    "    print(\"product price is:{}\".format(product_price*0.7))\n",
    "elif product_price<=2000 and product_price>=100:\n",
    "    print(\"product_price is:{}\".format(product_price*0.6))\n",
    "else:\n",
    "    print(\"let's drink tea with krish sir\")\n",
    "\n"
   ]
  },
  {
   "cell_type": "code",
   "execution_count": 30,
   "id": "5983b55d-6072-45c5-84d1-cb69191a0bbd",
   "metadata": {},
   "outputs": [
    {
     "name": "stdin",
     "output_type": "stream",
     "text": [
      "enetr number 999\n"
     ]
    },
    {
     "name": "stdout",
     "output_type": "stream",
     "text": [
      "value is less than equal to 999\n"
     ]
    }
   ],
   "source": [
    "#single statement\n",
    "val= int(input(\"enetr number\"))\n",
    "if (val<=999): print(\"value is less than equal to 999\")\n",
    "else:\n",
    "    print(\"go home\")"
   ]
  },
  {
   "cell_type": "markdown",
   "id": "e6ac918a-712d-4ba7-9a60-be10ba04e994",
   "metadata": {},
   "source": [
    "## Loops\n",
    "### While loop\n",
    "### For loop\n",
    "### Nested loop\n",
    "### loop control- break,continue,pass"
   ]
  },
  {
   "cell_type": "markdown",
   "id": "3a1a62a1-7061-4523-b358-ffbd230648fb",
   "metadata": {},
   "source": [
    "## While loop"
   ]
  },
  {
   "cell_type": "code",
   "execution_count": 47,
   "id": "d276d7f8-df28-4fd9-b1da-5830fd58cdfe",
   "metadata": {},
   "outputs": [
    {
     "name": "stdout",
     "output_type": "stream",
     "text": [
      "25\n",
      "26\n",
      "27\n",
      "28\n",
      "29\n",
      "30\n",
      "31\n",
      "32\n",
      "33\n",
      "34\n",
      "35\n",
      "36\n",
      "37\n",
      "38\n",
      "39\n",
      "40\n",
      "41\n",
      "42\n",
      "43\n",
      "44\n",
      "45\n",
      "46\n",
      "47\n",
      "48\n",
      "49\n",
      "50\n",
      "51\n",
      "52\n",
      "53\n",
      "54\n",
      "55\n",
      "56\n",
      "57\n",
      "58\n",
      "59\n",
      "60\n",
      "It's time for retirement\n"
     ]
    }
   ],
   "source": [
    "# While loop, you can put else block too\n",
    "joining_age=25\n",
    "while joining_age<=60:\n",
    "    print(joining_age)\n",
    "    joining_age=joining_age+1\n",
    "else:\n",
    "    print(\"It's time for retirement\")"
   ]
  },
  {
   "cell_type": "code",
   "execution_count": 48,
   "id": "99bfd176-0228-49ae-ac87-0e0278013e20",
   "metadata": {},
   "outputs": [
    {
     "name": "stdout",
     "output_type": "stream",
     "text": [
      "1000\n",
      "900\n",
      "800\n",
      "700\n",
      "600\n",
      "500\n",
      "400\n",
      "300\n",
      "200\n",
      "100\n",
      "put more money in atm bank people\n"
     ]
    }
   ],
   "source": [
    "#ATM with 1000 rs\n",
    "total_amount= 1000\n",
    "while total_amount!=0:\n",
    "    print(total_amount)\n",
    "    total_amount=total_amount-100\n",
    "else:\n",
    "    print(\"put more money in atm bank people\")"
   ]
  },
  {
   "cell_type": "markdown",
   "id": "06297744-3f40-4c65-a0e2-17ac03e52337",
   "metadata": {},
   "source": [
    "## For loops"
   ]
  },
  {
   "cell_type": "code",
   "execution_count": 31,
   "id": "7d601384-c7aa-4502-b715-e65e21e6e496",
   "metadata": {},
   "outputs": [
    {
     "data": {
      "text/plain": [
       "list"
      ]
     },
     "execution_count": 31,
     "metadata": {},
     "output_type": "execute_result"
    }
   ],
   "source": [
    "lst=[\"krish\",1,2,3,4,\"apple\",\"banana\"]\n",
    "type(lst)"
   ]
  },
  {
   "cell_type": "code",
   "execution_count": 32,
   "id": "b6631b61-f92d-47bb-8fa5-6abb1e9d5aec",
   "metadata": {},
   "outputs": [
    {
     "data": {
      "text/plain": [
       "'krish'"
      ]
     },
     "execution_count": 32,
     "metadata": {},
     "output_type": "execute_result"
    }
   ],
   "source": [
    "lst[0]"
   ]
  },
  {
   "cell_type": "code",
   "execution_count": 33,
   "id": "892db169-89ca-4415-9fa0-0fe71643b19d",
   "metadata": {},
   "outputs": [
    {
     "data": {
      "text/plain": [
       "4"
      ]
     },
     "execution_count": 33,
     "metadata": {},
     "output_type": "execute_result"
    }
   ],
   "source": [
    "lst[4]"
   ]
  },
  {
   "cell_type": "code",
   "execution_count": 34,
   "id": "1fe8ff4c-d42f-4b66-903b-594e88781463",
   "metadata": {},
   "outputs": [
    {
     "data": {
      "text/plain": [
       "['krish', 1, 2, 3, 4, 'apple', 'banana']"
      ]
     },
     "execution_count": 34,
     "metadata": {},
     "output_type": "execute_result"
    }
   ],
   "source": [
    "lst"
   ]
  },
  {
   "cell_type": "code",
   "execution_count": 35,
   "id": "24de3ad2-0da2-4ea3-bfd9-85c7a65e12c2",
   "metadata": {},
   "outputs": [
    {
     "name": "stdout",
     "output_type": "stream",
     "text": [
      "krish\n",
      "1\n",
      "2\n",
      "3\n",
      "4\n",
      "apple\n",
      "banana\n"
     ]
    }
   ],
   "source": [
    "for x in lst:\n",
    "    print(x)"
   ]
  },
  {
   "cell_type": "code",
   "execution_count": 37,
   "id": "d5d40f15-1c62-4c69-9393-95e8d3e84923",
   "metadata": {},
   "outputs": [],
   "source": [
    "fruit_list=[\"mango\",\"cherry\",\"apple\",\"papaya\",\"banana\"]\n"
   ]
  },
  {
   "cell_type": "code",
   "execution_count": 39,
   "id": "c4de2043-be3e-4312-9006-9f4a3cd7c3e0",
   "metadata": {},
   "outputs": [
    {
     "name": "stdout",
     "output_type": "stream",
     "text": [
      "mango\n",
      "cherry\n",
      "fruit is cherry\n",
      "apple\n",
      "papaya\n",
      "banana\n"
     ]
    }
   ],
   "source": [
    "for a in fruit_list:\n",
    "    print(a)\n",
    "    if a==\"cherry\":\n",
    "        print(\"fruit is cherry\")"
   ]
  },
  {
   "cell_type": "code",
   "execution_count": 40,
   "id": "f35bcade-427c-443a-b522-86054113a6a6",
   "metadata": {},
   "outputs": [
    {
     "name": "stdout",
     "output_type": "stream",
     "text": [
      "m\n",
      "a\n",
      "n\n",
      "g\n",
      "o\n"
     ]
    }
   ],
   "source": [
    "fruit=\"mango\"\n",
    "for x in fruit:\n",
    "    print(x)"
   ]
  },
  {
   "cell_type": "code",
   "execution_count": 41,
   "id": "266f79aa-a487-4ff8-8da5-52aa230426d6",
   "metadata": {},
   "outputs": [
    {
     "data": {
      "text/plain": [
       "'n'"
      ]
     },
     "execution_count": 41,
     "metadata": {},
     "output_type": "execute_result"
    }
   ],
   "source": [
    "fruit[2]"
   ]
  },
  {
   "cell_type": "markdown",
   "id": "b7289d45-f28e-4ca3-92d9-3f1439a1a91d",
   "metadata": {},
   "source": [
    "## Nested loops"
   ]
  },
  {
   "cell_type": "code",
   "execution_count": 42,
   "id": "3eac2a2b-a00d-4e73-ba41-7be973a0c6ec",
   "metadata": {},
   "outputs": [
    {
     "name": "stdout",
     "output_type": "stream",
     "text": [
      "1\n",
      "2\n",
      "3\n",
      "4\n",
      "5\n",
      "6\n",
      "7\n",
      "8\n",
      "9\n"
     ]
    }
   ],
   "source": [
    "for i in range(1,10):\n",
    "    print(i)"
   ]
  },
  {
   "cell_type": "code",
   "execution_count": 43,
   "id": "27ee9293-b257-4c56-a4bd-806297e22bc5",
   "metadata": {},
   "outputs": [
    {
     "name": "stdout",
     "output_type": "stream",
     "text": [
      "1\n",
      "3\n",
      "5\n",
      "7\n",
      "9\n"
     ]
    }
   ],
   "source": [
    "for i in range(1,10,2):\n",
    "    print(i)"
   ]
  },
  {
   "cell_type": "code",
   "execution_count": 45,
   "id": "e44a7c9f-6e96-424c-b204-f651a16ba80f",
   "metadata": {},
   "outputs": [
    {
     "name": "stdout",
     "output_type": "stream",
     "text": [
      "****************************"
     ]
    }
   ],
   "source": [
    "n=7\n",
    "for i in range(0,n):\n",
    "    for j in range(0,i+1):\n",
    "        print(\"*\",end=\"\")\n",
    "    "
   ]
  },
  {
   "cell_type": "code",
   "execution_count": 46,
   "id": "40026a25-8bed-47b2-bef1-751ee1216251",
   "metadata": {},
   "outputs": [
    {
     "name": "stdout",
     "output_type": "stream",
     "text": [
      "*\n",
      "**\n",
      "***\n",
      "****\n",
      "*****\n",
      "******\n",
      "*******\n"
     ]
    }
   ],
   "source": [
    "n=7\n",
    "for i in range(0,n):\n",
    "    for j in range(0,i+1):\n",
    "        print(\"*\",end=\"\")\n",
    "    print(\"\\r\")"
   ]
  },
  {
   "cell_type": "markdown",
   "id": "9982c6c7-77ff-4d2e-bc1f-d2b25c523475",
   "metadata": {},
   "source": [
    "## Loop controls- break, continue, pass"
   ]
  },
  {
   "cell_type": "code",
   "execution_count": 49,
   "id": "6534cdf1-6c85-4b83-961a-0a784a8e99b7",
   "metadata": {},
   "outputs": [],
   "source": [
    "fruit_list=[\"mango\",\"cherry\",\"apple\",\"papaya\",\"banana\"]"
   ]
  },
  {
   "cell_type": "code",
   "execution_count": 51,
   "id": "f2e56484-ddb5-4855-9c82-a13d37d8a5c6",
   "metadata": {},
   "outputs": [
    {
     "name": "stdout",
     "output_type": "stream",
     "text": [
      "mango\n",
      "cherry\n",
      "fruit is apple\n"
     ]
    }
   ],
   "source": [
    "#break\n",
    "for i in fruit_list:\n",
    "    if i==\"apple\":\n",
    "        print(\"fruit is apple\")\n",
    "        break\n",
    "    print(i)"
   ]
  },
  {
   "cell_type": "code",
   "execution_count": 52,
   "id": "90b9d6b2-5f8c-4916-af20-fe2ca73915e5",
   "metadata": {},
   "outputs": [
    {
     "name": "stdout",
     "output_type": "stream",
     "text": [
      "mango\n",
      "cherry\n",
      "fruit is apple\n",
      "papaya\n",
      "banana\n"
     ]
    }
   ],
   "source": [
    "#continue\n",
    "for i in fruit_list:\n",
    "    if i ==\"apple\":\n",
    "        print(\"fruit is apple\")\n",
    "        continue\n",
    "    print(i)"
   ]
  },
  {
   "cell_type": "code",
   "execution_count": 53,
   "id": "b7dde20e-cc59-455e-84cd-6a93a0e28c09",
   "metadata": {},
   "outputs": [
    {
     "name": "stdout",
     "output_type": "stream",
     "text": [
      "mango\n",
      "cherry\n",
      "fruit is apple\n",
      "apple\n",
      "papaya\n",
      "banana\n"
     ]
    }
   ],
   "source": [
    "#pass\n",
    "for i in fruit_list:\n",
    "    if i ==\"apple\":\n",
    "        print(\"fruit is apple\")\n",
    "        pass\n",
    "    print(i)"
   ]
  },
  {
   "cell_type": "code",
   "execution_count": null,
   "id": "1610d911-5e07-45c2-bd47-bcb0a5fdf0be",
   "metadata": {},
   "outputs": [],
   "source": []
  }
 ],
 "metadata": {
  "kernelspec": {
   "display_name": "Python 3 (ipykernel)",
   "language": "python",
   "name": "python3"
  },
  "language_info": {
   "codemirror_mode": {
    "name": "ipython",
    "version": 3
   },
   "file_extension": ".py",
   "mimetype": "text/x-python",
   "name": "python",
   "nbconvert_exporter": "python",
   "pygments_lexer": "ipython3",
   "version": "3.10.8"
  }
 },
 "nbformat": 4,
 "nbformat_minor": 5
}
