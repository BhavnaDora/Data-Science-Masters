{
 "cells": [
  {
   "cell_type": "markdown",
   "id": "58c511ec-288f-488e-8c65-0bd452758caf",
   "metadata": {},
   "source": [
    "#### Numpy (part-1)"
   ]
  },
  {
   "cell_type": "code",
   "execution_count": 1,
   "id": "338b1c6c-12f0-4374-9d82-06838b4db614",
   "metadata": {},
   "outputs": [],
   "source": [
    "import numpy as np"
   ]
  },
  {
   "cell_type": "code",
   "execution_count": 3,
   "id": "0fc78fe6-ebfa-41ee-b13d-eac64d3d7492",
   "metadata": {},
   "outputs": [
    {
     "data": {
      "text/plain": [
       "array([1, 2, 3, 4, 5])"
      ]
     },
     "execution_count": 3,
     "metadata": {},
     "output_type": "execute_result"
    }
   ],
   "source": [
    "# convert list to array-\n",
    "\n",
    "l=[1,2,3,4,5]\n",
    "np.array(l)"
   ]
  },
  {
   "cell_type": "code",
   "execution_count": 4,
   "id": "12a76492-4a50-48bb-8108-717aade30266",
   "metadata": {},
   "outputs": [],
   "source": [
    "arr= np.array(l)"
   ]
  },
  {
   "cell_type": "code",
   "execution_count": 5,
   "id": "8e7cd6c7-60f7-4058-9883-03950e7f91af",
   "metadata": {},
   "outputs": [
    {
     "data": {
      "text/plain": [
       "numpy.ndarray"
      ]
     },
     "execution_count": 5,
     "metadata": {},
     "output_type": "execute_result"
    }
   ],
   "source": [
    "type(arr)"
   ]
  },
  {
   "cell_type": "code",
   "execution_count": 6,
   "id": "15c271b1-4877-45d8-ad9e-6e62d582ca71",
   "metadata": {},
   "outputs": [
    {
     "data": {
      "text/plain": [
       "array([1, 2, 3, 4, 5])"
      ]
     },
     "execution_count": 6,
     "metadata": {},
     "output_type": "execute_result"
    }
   ],
   "source": [
    "# or we can also convert list to array using this function-\n",
    "\n",
    "np.asarray(l)"
   ]
  },
  {
   "cell_type": "code",
   "execution_count": 7,
   "id": "bf98fc0d-c0d3-41b1-b639-f46b21e2c86d",
   "metadata": {},
   "outputs": [
    {
     "data": {
      "text/plain": [
       "array([[1, 2, 3],\n",
       "       [4, 5, 6]])"
      ]
     },
     "execution_count": 7,
     "metadata": {},
     "output_type": "execute_result"
    }
   ],
   "source": [
    "np.array([[1,2,3],[4,5,6]])"
   ]
  },
  {
   "cell_type": "code",
   "execution_count": 8,
   "id": "666c1ffc-b4a1-45ec-98b9-59bf635a1b41",
   "metadata": {},
   "outputs": [],
   "source": [
    "arr1= np.array([[1,2,3],[4,5,6]])"
   ]
  },
  {
   "cell_type": "code",
   "execution_count": 13,
   "id": "f9248610-3073-4be8-9c02-c51abacb709a",
   "metadata": {},
   "outputs": [
    {
     "data": {
      "text/plain": [
       "1"
      ]
     },
     "execution_count": 13,
     "metadata": {},
     "output_type": "execute_result"
    }
   ],
   "source": [
    "# arr is 1 dimensional array and arr1 is 2 dimensional array, we can check using this-\n",
    "\n",
    "arr.ndim"
   ]
  },
  {
   "cell_type": "code",
   "execution_count": 10,
   "id": "e41780f9-ec24-4964-99d7-a63918c29883",
   "metadata": {},
   "outputs": [
    {
     "data": {
      "text/plain": [
       "2"
      ]
     },
     "execution_count": 10,
     "metadata": {},
     "output_type": "execute_result"
    }
   ],
   "source": [
    "arr1.ndim"
   ]
  },
  {
   "cell_type": "code",
   "execution_count": 11,
   "id": "93e633d5-f58f-4964-bb6b-75810c2633a3",
   "metadata": {},
   "outputs": [
    {
     "data": {
      "text/plain": [
       "matrix([[1, 2, 3, 4, 5]])"
      ]
     },
     "execution_count": 11,
     "metadata": {},
     "output_type": "execute_result"
    }
   ],
   "source": [
    "# convert list to matrix-\n",
    "\n",
    "np.matrix(l)"
   ]
  },
  {
   "cell_type": "code",
   "execution_count": 15,
   "id": "26e0dac8-e53a-43b4-83f6-5cd26ba4be6f",
   "metadata": {},
   "outputs": [],
   "source": [
    "mat= np.matrix(l)"
   ]
  },
  {
   "cell_type": "code",
   "execution_count": 12,
   "id": "9ff717a5-e380-483f-8e7c-acf9e7ca732e",
   "metadata": {},
   "outputs": [],
   "source": [
    "# by default matrix has minimum dimension 2, so the list is turned into a matrix of 2 dimensions"
   ]
  },
  {
   "cell_type": "code",
   "execution_count": 16,
   "id": "c3fb82e9-0086-47c0-8631-aefc461ba1fd",
   "metadata": {},
   "outputs": [
    {
     "data": {
      "text/plain": [
       "array([1, 2, 3, 4, 5])"
      ]
     },
     "execution_count": 16,
     "metadata": {},
     "output_type": "execute_result"
    }
   ],
   "source": [
    "np.asanyarray(l)"
   ]
  },
  {
   "cell_type": "code",
   "execution_count": 17,
   "id": "6e64b962-54cc-4fcc-ba76-70505971cb9d",
   "metadata": {},
   "outputs": [
    {
     "data": {
      "text/plain": [
       "matrix([[1, 2, 3, 4, 5]])"
      ]
     },
     "execution_count": 17,
     "metadata": {},
     "output_type": "execute_result"
    }
   ],
   "source": [
    "np.asanyarray(mat)"
   ]
  },
  {
   "cell_type": "code",
   "execution_count": 18,
   "id": "bdf4e436-ae0e-4c05-9b98-56a665671bf5",
   "metadata": {},
   "outputs": [],
   "source": [
    "#there's still no change, it is still matrix. This is because asanyarray function converts anything which is not an array\n",
    "#into an array. As matrix is a 2-D array i.e. a subset of array, so asanyarray has no effect on matrix. "
   ]
  },
  {
   "cell_type": "code",
   "execution_count": 19,
   "id": "760944c2-ec72-41d2-9acc-57a1fb4425f6",
   "metadata": {},
   "outputs": [
    {
     "data": {
      "text/plain": [
       "array([1, 2, 3, 4, 5])"
      ]
     },
     "execution_count": 19,
     "metadata": {},
     "output_type": "execute_result"
    }
   ],
   "source": [
    "# shallow copy-\n",
    "\n",
    "arr"
   ]
  },
  {
   "cell_type": "code",
   "execution_count": 20,
   "id": "572b1aef-c0f8-48f3-a465-ae40a96c3bd8",
   "metadata": {},
   "outputs": [],
   "source": [
    "a= arr  # shallow copy"
   ]
  },
  {
   "cell_type": "code",
   "execution_count": 21,
   "id": "24329a83-e87d-4e53-a5bf-a1e43c19ba41",
   "metadata": {},
   "outputs": [
    {
     "data": {
      "text/plain": [
       "array([1, 2, 3, 4, 5])"
      ]
     },
     "execution_count": 21,
     "metadata": {},
     "output_type": "execute_result"
    }
   ],
   "source": [
    "a"
   ]
  },
  {
   "cell_type": "code",
   "execution_count": 22,
   "id": "2a7a9b4e-97c7-42c1-8dd8-78d57f471028",
   "metadata": {},
   "outputs": [],
   "source": [
    "arr[0]= 100"
   ]
  },
  {
   "cell_type": "code",
   "execution_count": 23,
   "id": "a3a887bc-7d8f-46b6-af18-b80f2c426065",
   "metadata": {},
   "outputs": [
    {
     "data": {
      "text/plain": [
       "array([100,   2,   3,   4,   5])"
      ]
     },
     "execution_count": 23,
     "metadata": {},
     "output_type": "execute_result"
    }
   ],
   "source": [
    "arr"
   ]
  },
  {
   "cell_type": "code",
   "execution_count": 24,
   "id": "344bb489-61cb-403e-82ab-ec30481dcfbd",
   "metadata": {},
   "outputs": [
    {
     "data": {
      "text/plain": [
       "array([100,   2,   3,   4,   5])"
      ]
     },
     "execution_count": 24,
     "metadata": {},
     "output_type": "execute_result"
    }
   ],
   "source": [
    "a"
   ]
  },
  {
   "cell_type": "code",
   "execution_count": 25,
   "id": "6b80e475-0207-4f3b-ac8e-5e24a02bbec0",
   "metadata": {},
   "outputs": [],
   "source": [
    "# this is called shallow copy. Any changes in arr is reflected in a too. \n",
    "# This is because for the array created in the memory location, arr was pointing to that array.\n",
    "# Now when a=arr, it simply means a is also pointing to that array."
   ]
  },
  {
   "cell_type": "code",
   "execution_count": 26,
   "id": "b245a716-e51f-4611-8e40-cafe2d9748d4",
   "metadata": {},
   "outputs": [
    {
     "data": {
      "text/plain": [
       "array([100,   2,   3,   4,   5])"
      ]
     },
     "execution_count": 26,
     "metadata": {},
     "output_type": "execute_result"
    }
   ],
   "source": [
    "# deep copy-\n",
    "\n",
    "arr"
   ]
  },
  {
   "cell_type": "code",
   "execution_count": 27,
   "id": "aac98b60-3113-4bb8-9c9e-56a55184800b",
   "metadata": {},
   "outputs": [],
   "source": [
    "b= np.copy(arr)        # deep copy"
   ]
  },
  {
   "cell_type": "code",
   "execution_count": 28,
   "id": "6eb1f230-71c9-4b4b-b18b-600af6d23aca",
   "metadata": {},
   "outputs": [
    {
     "data": {
      "text/plain": [
       "array([100,   2,   3,   4,   5])"
      ]
     },
     "execution_count": 28,
     "metadata": {},
     "output_type": "execute_result"
    }
   ],
   "source": [
    "b"
   ]
  },
  {
   "cell_type": "code",
   "execution_count": 29,
   "id": "e4046657-c94f-4a5b-a079-60054385a3a8",
   "metadata": {},
   "outputs": [],
   "source": [
    "arr[0]= 300"
   ]
  },
  {
   "cell_type": "code",
   "execution_count": 30,
   "id": "e8fa6cd4-2c15-443a-a424-18201f442d6a",
   "metadata": {},
   "outputs": [
    {
     "data": {
      "text/plain": [
       "array([300,   2,   3,   4,   5])"
      ]
     },
     "execution_count": 30,
     "metadata": {},
     "output_type": "execute_result"
    }
   ],
   "source": [
    "arr"
   ]
  },
  {
   "cell_type": "code",
   "execution_count": 31,
   "id": "1ef23174-4588-40dc-9b9d-d608d4de6417",
   "metadata": {},
   "outputs": [
    {
     "data": {
      "text/plain": [
       "array([100,   2,   3,   4,   5])"
      ]
     },
     "execution_count": 31,
     "metadata": {},
     "output_type": "execute_result"
    }
   ],
   "source": [
    "b"
   ]
  },
  {
   "cell_type": "code",
   "execution_count": 32,
   "id": "55545fdd-fd4f-4bc2-81b5-b6a15c88fe9b",
   "metadata": {},
   "outputs": [],
   "source": [
    "b[1]= 200"
   ]
  },
  {
   "cell_type": "code",
   "execution_count": 33,
   "id": "87b23c44-6893-4e7f-b53c-0b75c06d7556",
   "metadata": {},
   "outputs": [
    {
     "data": {
      "text/plain": [
       "array([100, 200,   3,   4,   5])"
      ]
     },
     "execution_count": 33,
     "metadata": {},
     "output_type": "execute_result"
    }
   ],
   "source": [
    "b"
   ]
  },
  {
   "cell_type": "code",
   "execution_count": 34,
   "id": "3fa48bc9-642f-4d13-8eee-416b2f3c8030",
   "metadata": {},
   "outputs": [
    {
     "data": {
      "text/plain": [
       "array([300,   2,   3,   4,   5])"
      ]
     },
     "execution_count": 34,
     "metadata": {},
     "output_type": "execute_result"
    }
   ],
   "source": [
    "arr"
   ]
  },
  {
   "cell_type": "code",
   "execution_count": null,
   "id": "6a10ecb5-6091-489b-aa53-c2f8c1863116",
   "metadata": {},
   "outputs": [],
   "source": [
    "# this is called deep copy. Any changes in arr is not reflected in b and vice-versa. \n",
    "# This is because for the array created in memory location, arr was pointing to that array. \n",
    "# Now, when b= np.copy(arr), another memory location is created where that array is copied, \n",
    "# and b points to this new memory location now. \n",
    "# Therefore any changes in the array to which arr is pointing is not reflected in the array to which b is pointing."
   ]
  },
  {
   "cell_type": "code",
   "execution_count": 35,
   "id": "08356d8d-062c-4a73-8da6-357c66391212",
   "metadata": {},
   "outputs": [
    {
     "data": {
      "text/plain": [
       "array([[ True, False, False],\n",
       "       [False,  True, False],\n",
       "       [False, False,  True]])"
      ]
     },
     "execution_count": 35,
     "metadata": {},
     "output_type": "execute_result"
    }
   ],
   "source": [
    "# different ways to generate array or matrices-\n",
    "\n",
    "np.fromfunction(lambda i,j: i==j, (3,3))"
   ]
  },
  {
   "cell_type": "code",
   "execution_count": 36,
   "id": "6d3079ce-bb12-4c00-8e5d-163f37f4b6c6",
   "metadata": {},
   "outputs": [],
   "source": [
    "# (3,3) refers to shape i.e. 3x3, i refers to row indices and j refers to column indices"
   ]
  },
  {
   "cell_type": "code",
   "execution_count": 37,
   "id": "83c3cb58-9e26-466d-8f72-f4dc02e854e0",
   "metadata": {},
   "outputs": [
    {
     "data": {
      "text/plain": [
       "array([[0., 0., 0.],\n",
       "       [0., 1., 2.],\n",
       "       [0., 2., 4.]])"
      ]
     },
     "execution_count": 37,
     "metadata": {},
     "output_type": "execute_result"
    }
   ],
   "source": [
    "np.fromfunction( lambda i,j: i*j, (3,3))"
   ]
  },
  {
   "cell_type": "code",
   "execution_count": 39,
   "id": "6ea377aa-d07e-4804-82fa-23322d513716",
   "metadata": {},
   "outputs": [
    {
     "data": {
      "text/plain": [
       "[0, 1, 4, 9, 16]"
      ]
     },
     "execution_count": 39,
     "metadata": {},
     "output_type": "execute_result"
    }
   ],
   "source": [
    "[i*i for i in range(5)]"
   ]
  },
  {
   "cell_type": "code",
   "execution_count": 40,
   "id": "b96ab36d-1128-4080-8ffd-5b4e03df8a53",
   "metadata": {},
   "outputs": [],
   "source": [
    "iterable= [i*i for i in range(5)]"
   ]
  },
  {
   "cell_type": "code",
   "execution_count": 41,
   "id": "2d63c1af-6477-464c-a1f4-04de4a477de8",
   "metadata": {},
   "outputs": [
    {
     "data": {
      "text/plain": [
       "array([ 0.,  1.,  4.,  9., 16.])"
      ]
     },
     "execution_count": 41,
     "metadata": {},
     "output_type": "execute_result"
    }
   ],
   "source": [
    "np.fromiter(iterable, float)"
   ]
  },
  {
   "cell_type": "code",
   "execution_count": 42,
   "id": "e9527d0f-1a27-4c07-8f91-5fea41bd4d28",
   "metadata": {},
   "outputs": [],
   "source": [
    "# so using fromiter() function and passing an iterable in it, we are able to generate array."
   ]
  },
  {
   "cell_type": "code",
   "execution_count": 43,
   "id": "2f54ac29-4985-439b-8e77-b3cd393c7af5",
   "metadata": {},
   "outputs": [
    {
     "data": {
      "text/plain": [
       "array([23., 45., 56.])"
      ]
     },
     "execution_count": 43,
     "metadata": {},
     "output_type": "execute_result"
    }
   ],
   "source": [
    "np.fromstring(\"23 45 56\", sep= \" \")"
   ]
  },
  {
   "cell_type": "code",
   "execution_count": 44,
   "id": "bee74261-dc9f-4401-ab97-5a562f78f80e",
   "metadata": {},
   "outputs": [],
   "source": [
    "# so using fromstring() function which takes a string as argument, we are able to generate array."
   ]
  },
  {
   "cell_type": "code",
   "execution_count": 45,
   "id": "18687159-0eb8-4b4c-b83c-7558cbb24d8a",
   "metadata": {},
   "outputs": [
    {
     "data": {
      "text/plain": [
       "array([23., 45., 56.])"
      ]
     },
     "execution_count": 45,
     "metadata": {},
     "output_type": "execute_result"
    }
   ],
   "source": [
    "np.fromstring(\"23,45,56\", sep= \",\")"
   ]
  },
  {
   "cell_type": "code",
   "execution_count": 46,
   "id": "b5aeeda0-556d-4ac8-8fdf-c6b5e4ed152a",
   "metadata": {},
   "outputs": [],
   "source": [
    "# where ever there is comma in string, it separates the string and puts into array"
   ]
  },
  {
   "cell_type": "code",
   "execution_count": 47,
   "id": "19c647e1-fe69-4935-a54a-c9fe5b9b4aae",
   "metadata": {},
   "outputs": [
    {
     "data": {
      "text/plain": [
       "array([300,   2,   3,   4,   5])"
      ]
     },
     "execution_count": 47,
     "metadata": {},
     "output_type": "execute_result"
    }
   ],
   "source": [
    "arr"
   ]
  },
  {
   "cell_type": "code",
   "execution_count": 48,
   "id": "1fa2185e-6059-4d90-ae94-187a652c63bf",
   "metadata": {},
   "outputs": [
    {
     "data": {
      "text/plain": [
       "array([[1, 2, 3],\n",
       "       [4, 5, 6]])"
      ]
     },
     "execution_count": 48,
     "metadata": {},
     "output_type": "execute_result"
    }
   ],
   "source": [
    "arr1"
   ]
  },
  {
   "cell_type": "code",
   "execution_count": 49,
   "id": "c841e016-d5fe-40a1-957c-ee83cd680950",
   "metadata": {},
   "outputs": [
    {
     "data": {
      "text/plain": [
       "5"
      ]
     },
     "execution_count": 49,
     "metadata": {},
     "output_type": "execute_result"
    }
   ],
   "source": [
    "arr.size"
   ]
  },
  {
   "cell_type": "code",
   "execution_count": 50,
   "id": "0e6939a9-79a9-4940-b631-8a73b483240a",
   "metadata": {},
   "outputs": [
    {
     "data": {
      "text/plain": [
       "6"
      ]
     },
     "execution_count": 50,
     "metadata": {},
     "output_type": "execute_result"
    }
   ],
   "source": [
    "arr1.size"
   ]
  },
  {
   "cell_type": "code",
   "execution_count": 51,
   "id": "ab8a6f9d-ef0f-435a-aa89-cd0ef508858a",
   "metadata": {},
   "outputs": [],
   "source": [
    "# size tells the no. of elements present in the array"
   ]
  },
  {
   "cell_type": "code",
   "execution_count": 52,
   "id": "ce438068-d9e0-4f77-986e-3fc8bb87a1f3",
   "metadata": {},
   "outputs": [
    {
     "data": {
      "text/plain": [
       "(5,)"
      ]
     },
     "execution_count": 52,
     "metadata": {},
     "output_type": "execute_result"
    }
   ],
   "source": [
    "arr.shape      "
   ]
  },
  {
   "cell_type": "code",
   "execution_count": 53,
   "id": "9287f418-e6a4-4986-9477-d0e663c26d74",
   "metadata": {},
   "outputs": [
    {
     "data": {
      "text/plain": [
       "(2, 3)"
      ]
     },
     "execution_count": 53,
     "metadata": {},
     "output_type": "execute_result"
    }
   ],
   "source": [
    "arr1.shape"
   ]
  },
  {
   "cell_type": "code",
   "execution_count": 54,
   "id": "b24e8a86-fec6-4ac1-b7a6-814e8bef0563",
   "metadata": {},
   "outputs": [],
   "source": [
    "# so arr1 array has 2 rows and 3 columns"
   ]
  },
  {
   "cell_type": "code",
   "execution_count": 55,
   "id": "7e6b01e3-f2ba-4166-be15-e412021a7cb5",
   "metadata": {},
   "outputs": [
    {
     "data": {
      "text/plain": [
       "dtype('int64')"
      ]
     },
     "execution_count": 55,
     "metadata": {},
     "output_type": "execute_result"
    }
   ],
   "source": [
    "arr.dtype"
   ]
  },
  {
   "cell_type": "code",
   "execution_count": 56,
   "id": "b8f6c8b2-b674-45cf-9a9a-2bcc25cc96c1",
   "metadata": {},
   "outputs": [
    {
     "data": {
      "text/plain": [
       "dtype('int64')"
      ]
     },
     "execution_count": 56,
     "metadata": {},
     "output_type": "execute_result"
    }
   ],
   "source": [
    "arr1.dtype"
   ]
  },
  {
   "cell_type": "markdown",
   "id": "a6b39a7b-03ed-4f7d-be65-e8135e29b2b8",
   "metadata": {},
   "source": [
    "#### QUIZ"
   ]
  },
  {
   "cell_type": "code",
   "execution_count": 2,
   "id": "92c44ba0-95b7-45d8-984a-68c5f34acfea",
   "metadata": {},
   "outputs": [],
   "source": [
    "array= np.array([[1,2,3], [4,5,6]])"
   ]
  },
  {
   "cell_type": "code",
   "execution_count": 6,
   "id": "72a85acf-f51e-49e6-aed7-bbe6829adc1a",
   "metadata": {},
   "outputs": [
    {
     "data": {
      "text/plain": [
       "array([[1, 2, 3],\n",
       "       [4, 5, 6]])"
      ]
     },
     "execution_count": 6,
     "metadata": {},
     "output_type": "execute_result"
    }
   ],
   "source": [
    "array"
   ]
  },
  {
   "cell_type": "code",
   "execution_count": 12,
   "id": "93f5657f-8dbc-41cd-b3b8-10fc9f5f27b5",
   "metadata": {},
   "outputs": [],
   "source": [
    "threshold= 3"
   ]
  },
  {
   "cell_type": "code",
   "execution_count": 8,
   "id": "169a357a-18ba-4a22-804e-3ce7f3fe28c5",
   "metadata": {},
   "outputs": [],
   "source": [
    "for i in np.nditer(array):\n",
    "    if i < threshold:\n",
    "        i = 0"
   ]
  },
  {
   "cell_type": "code",
   "execution_count": 9,
   "id": "a8428f44-8be3-451f-aa0f-f8fd3d810667",
   "metadata": {},
   "outputs": [
    {
     "data": {
      "text/plain": [
       "array([[1, 2, 3],\n",
       "       [4, 5, 6]])"
      ]
     },
     "execution_count": 9,
     "metadata": {},
     "output_type": "execute_result"
    }
   ],
   "source": [
    "array"
   ]
  },
  {
   "cell_type": "code",
   "execution_count": 13,
   "id": "ae0fd59f-93f6-4476-91de-9596be28663d",
   "metadata": {},
   "outputs": [],
   "source": [
    "for i in range(np.shape(array)[0]):\n",
    "    for j in range(np.shape(array)[1]):\n",
    "        if array[i][j] < threshold:\n",
    "            array[i][j] = 0"
   ]
  },
  {
   "cell_type": "code",
   "execution_count": 14,
   "id": "771846dd-5fd3-4487-918d-002d18316c6d",
   "metadata": {},
   "outputs": [
    {
     "data": {
      "text/plain": [
       "array([[0, 0, 3],\n",
       "       [4, 5, 6]])"
      ]
     },
     "execution_count": 14,
     "metadata": {},
     "output_type": "execute_result"
    }
   ],
   "source": [
    "array"
   ]
  },
  {
   "cell_type": "code",
   "execution_count": 15,
   "id": "571547ef-21c5-4c8a-a2b7-ae433925253f",
   "metadata": {},
   "outputs": [
    {
     "data": {
      "text/plain": [
       "array([0, 3, 4, 5, 6])"
      ]
     },
     "execution_count": 15,
     "metadata": {},
     "output_type": "execute_result"
    }
   ],
   "source": [
    "np.unique(array)"
   ]
  },
  {
   "cell_type": "code",
   "execution_count": 17,
   "id": "7a8fa9e4-99c2-4f63-99e0-289cf7c373ab",
   "metadata": {},
   "outputs": [],
   "source": [
    "array1= np.array([[1,3,5], [2,4,6]])"
   ]
  },
  {
   "cell_type": "code",
   "execution_count": 18,
   "id": "ff13eba6-d0f1-4a91-88e0-a0831e2e1f6d",
   "metadata": {},
   "outputs": [
    {
     "data": {
      "text/plain": [
       "array([[1, 3, 5],\n",
       "       [2, 4, 6]])"
      ]
     },
     "execution_count": 18,
     "metadata": {},
     "output_type": "execute_result"
    }
   ],
   "source": [
    "array1"
   ]
  },
  {
   "cell_type": "code",
   "execution_count": 24,
   "id": "d323ad8a-62e6-4e8c-96e5-02441e282984",
   "metadata": {},
   "outputs": [
    {
     "data": {
      "text/plain": [
       "array([[0, 0, 3],\n",
       "       [4, 5, 6],\n",
       "       [1, 3, 5],\n",
       "       [2, 4, 6]])"
      ]
     },
     "execution_count": 24,
     "metadata": {},
     "output_type": "execute_result"
    }
   ],
   "source": [
    "np.concatenate((array, array1))"
   ]
  },
  {
   "cell_type": "code",
   "execution_count": 20,
   "id": "7e04928f-0a74-4a70-a6ba-9b53654fcb21",
   "metadata": {},
   "outputs": [],
   "source": [
    "arr1= np.array([1,2,3])"
   ]
  },
  {
   "cell_type": "code",
   "execution_count": 21,
   "id": "2f5ed690-a4f8-4201-a986-42cabab74e2b",
   "metadata": {},
   "outputs": [],
   "source": [
    "arr2= np.array([4,5,6])"
   ]
  },
  {
   "cell_type": "code",
   "execution_count": 23,
   "id": "7b03385f-417e-4dbd-a26c-ecfb2ec13386",
   "metadata": {},
   "outputs": [
    {
     "data": {
      "text/plain": [
       "array([1, 2, 3, 4, 5, 6])"
      ]
     },
     "execution_count": 23,
     "metadata": {},
     "output_type": "execute_result"
    }
   ],
   "source": [
    "np.concatenate((arr1,arr2))"
   ]
  },
  {
   "cell_type": "code",
   "execution_count": 25,
   "id": "1fecf0ec-ae27-4bd5-9b3e-cbe8712512c5",
   "metadata": {},
   "outputs": [
    {
     "data": {
      "text/plain": [
       "array([3, 2, 1])"
      ]
     },
     "execution_count": 25,
     "metadata": {},
     "output_type": "execute_result"
    }
   ],
   "source": [
    "np.flip(arr1)"
   ]
  },
  {
   "cell_type": "code",
   "execution_count": 28,
   "id": "c7e3fbb1-d80d-4c18-83a7-5087d3261d15",
   "metadata": {},
   "outputs": [
    {
     "data": {
      "text/plain": [
       "array([3, 1, 0, 2])"
      ]
     },
     "execution_count": 28,
     "metadata": {},
     "output_type": "execute_result"
    }
   ],
   "source": [
    "np.argsort(np.array([3,2,7,1]))"
   ]
  },
  {
   "cell_type": "markdown",
   "id": "b09d7bb7-6713-4ad2-9898-080a41728ff0",
   "metadata": {},
   "source": [
    "#### Numpy (Part-2)"
   ]
  },
  {
   "cell_type": "code",
   "execution_count": 1,
   "id": "de390ac8-7dd3-4243-a68e-10aa906c13f1",
   "metadata": {},
   "outputs": [],
   "source": [
    "import numpy as np"
   ]
  },
  {
   "cell_type": "markdown",
   "id": "2be285fd-8552-4bad-8c51-0ae17b8f4b79",
   "metadata": {},
   "source": [
    "##### Data generation i.e array generation "
   ]
  },
  {
   "cell_type": "code",
   "execution_count": 3,
   "id": "6862154f-ee25-448c-b823-5f1bb5908254",
   "metadata": {},
   "outputs": [
    {
     "data": {
      "text/plain": [
       "[0, 1, 2, 3, 4]"
      ]
     },
     "execution_count": 3,
     "metadata": {},
     "output_type": "execute_result"
    }
   ],
   "source": [
    "list(range(5))"
   ]
  },
  {
   "cell_type": "code",
   "execution_count": 4,
   "id": "b33d8054-9972-4cf9-831d-ab4ddd55d95e",
   "metadata": {},
   "outputs": [
    {
     "ename": "TypeError",
     "evalue": "'float' object cannot be interpreted as an integer",
     "output_type": "error",
     "traceback": [
      "\u001b[0;31m---------------------------------------------------------------------------\u001b[0m",
      "\u001b[0;31mTypeError\u001b[0m                                 Traceback (most recent call last)",
      "Cell \u001b[0;32mIn[4], line 4\u001b[0m\n\u001b[1;32m      1\u001b[0m \u001b[38;5;66;03m# but if we give floating point numbers in range function, we will get error \u001b[39;00m\n\u001b[1;32m      2\u001b[0m \u001b[38;5;66;03m# because range() always takes an integer for the start point, end point and the step size\u001b[39;00m\n\u001b[0;32m----> 4\u001b[0m \u001b[38;5;28mlist\u001b[39m(\u001b[38;5;28;43mrange\u001b[39;49m\u001b[43m(\u001b[49m\u001b[38;5;241;43m0.4\u001b[39;49m\u001b[43m,\u001b[49m\u001b[38;5;241;43m10.4\u001b[39;49m\u001b[43m)\u001b[49m)\n",
      "\u001b[0;31mTypeError\u001b[0m: 'float' object cannot be interpreted as an integer"
     ]
    }
   ],
   "source": [
    "# but if we give floating point numbers in range function, we will get error \n",
    "# because range() always takes an integer for the start point, end point and the step size\n",
    "\n",
    "list(range(0.4,10.4))"
   ]
  },
  {
   "cell_type": "code",
   "execution_count": 7,
   "id": "534ee44f-9769-48c9-a126-639b922306cf",
   "metadata": {},
   "outputs": [
    {
     "data": {
      "text/plain": [
       "array([ 0.4,  0.6,  0.8,  1. ,  1.2,  1.4,  1.6,  1.8,  2. ,  2.2,  2.4,\n",
       "        2.6,  2.8,  3. ,  3.2,  3.4,  3.6,  3.8,  4. ,  4.2,  4.4,  4.6,\n",
       "        4.8,  5. ,  5.2,  5.4,  5.6,  5.8,  6. ,  6.2,  6.4,  6.6,  6.8,\n",
       "        7. ,  7.2,  7.4,  7.6,  7.8,  8. ,  8.2,  8.4,  8.6,  8.8,  9. ,\n",
       "        9.2,  9.4,  9.6,  9.8, 10. , 10.2])"
      ]
     },
     "execution_count": 7,
     "metadata": {},
     "output_type": "execute_result"
    }
   ],
   "source": [
    "# in numpy we have a function called arange() which takes floating point numbers as start, end and stepsize\n",
    "\n",
    "np.arange(0.4,10.4,0.2)     # it will give an array with these data generated by arange() function"
   ]
  },
  {
   "cell_type": "code",
   "execution_count": 8,
   "id": "7c272028-eb02-4b1e-a2f1-b998ccf9a55c",
   "metadata": {},
   "outputs": [
    {
     "data": {
      "text/plain": [
       "[0.4,\n",
       " 0.6000000000000001,\n",
       " 0.8000000000000002,\n",
       " 1.0000000000000002,\n",
       " 1.2000000000000002,\n",
       " 1.4000000000000004,\n",
       " 1.6000000000000005,\n",
       " 1.8000000000000003,\n",
       " 2.0000000000000004,\n",
       " 2.2000000000000006,\n",
       " 2.400000000000001,\n",
       " 2.6000000000000005,\n",
       " 2.8000000000000007,\n",
       " 3.000000000000001,\n",
       " 3.2000000000000006,\n",
       " 3.400000000000001,\n",
       " 3.600000000000001,\n",
       " 3.800000000000001,\n",
       " 4.000000000000002,\n",
       " 4.200000000000001,\n",
       " 4.400000000000002,\n",
       " 4.600000000000001,\n",
       " 4.800000000000002,\n",
       " 5.000000000000002,\n",
       " 5.200000000000002,\n",
       " 5.400000000000002,\n",
       " 5.600000000000002,\n",
       " 5.8000000000000025,\n",
       " 6.000000000000002,\n",
       " 6.200000000000002,\n",
       " 6.400000000000002,\n",
       " 6.600000000000002,\n",
       " 6.8000000000000025,\n",
       " 7.000000000000003,\n",
       " 7.200000000000003,\n",
       " 7.400000000000003,\n",
       " 7.600000000000003,\n",
       " 7.8000000000000025,\n",
       " 8.000000000000002,\n",
       " 8.200000000000003,\n",
       " 8.400000000000004,\n",
       " 8.600000000000003,\n",
       " 8.800000000000002,\n",
       " 9.000000000000004,\n",
       " 9.200000000000003,\n",
       " 9.400000000000004,\n",
       " 9.600000000000003,\n",
       " 9.800000000000004,\n",
       " 10.000000000000004,\n",
       " 10.200000000000003]"
      ]
     },
     "execution_count": 8,
     "metadata": {},
     "output_type": "execute_result"
    }
   ],
   "source": [
    "list(np.arange(0.4,10.4,0.2))"
   ]
  },
  {
   "cell_type": "code",
   "execution_count": 9,
   "id": "4b086341-c969-4966-88f6-c63d1d6b03b7",
   "metadata": {},
   "outputs": [
    {
     "data": {
      "text/plain": [
       "array([1.        , 1.21052632, 1.42105263, 1.63157895, 1.84210526,\n",
       "       2.05263158, 2.26315789, 2.47368421, 2.68421053, 2.89473684,\n",
       "       3.10526316, 3.31578947, 3.52631579, 3.73684211, 3.94736842,\n",
       "       4.15789474, 4.36842105, 4.57894737, 4.78947368, 5.        ])"
      ]
     },
     "execution_count": 9,
     "metadata": {},
     "output_type": "execute_result"
    }
   ],
   "source": [
    "np.linspace(1,5,20)     # it will generate 20 points between 1 and 5 and each point is equally spaced"
   ]
  },
  {
   "cell_type": "code",
   "execution_count": 10,
   "id": "b423e0e0-37d1-4183-97d8-a59c145fce93",
   "metadata": {},
   "outputs": [
    {
     "data": {
      "text/plain": [
       "array([1.00000000e+01, 2.78255940e+01, 7.74263683e+01, 2.15443469e+02,\n",
       "       5.99484250e+02, 1.66810054e+03, 4.64158883e+03, 1.29154967e+04,\n",
       "       3.59381366e+04, 1.00000000e+05])"
      ]
     },
     "execution_count": 10,
     "metadata": {},
     "output_type": "execute_result"
    }
   ],
   "source": [
    "np.logspace(1,5,10)       # it will generate log of 10 data points between 1 and 5. By default log base is 10"
   ]
  },
  {
   "cell_type": "code",
   "execution_count": 12,
   "id": "9d88bc7c-ecd6-4833-a049-6b238ffb5b51",
   "metadata": {},
   "outputs": [
    {
     "data": {
      "text/plain": [
       "array([0., 0., 0., 0., 0.])"
      ]
     },
     "execution_count": 12,
     "metadata": {},
     "output_type": "execute_result"
    }
   ],
   "source": [
    "np.zeros(5)         # it will generate a 1-D array with 5 zeroes"
   ]
  },
  {
   "cell_type": "code",
   "execution_count": 13,
   "id": "05a92594-8e7f-464c-94b9-d0a9e2257c55",
   "metadata": {},
   "outputs": [
    {
     "data": {
      "text/plain": [
       "array([[0., 0., 0., 0.],\n",
       "       [0., 0., 0., 0.],\n",
       "       [0., 0., 0., 0.]])"
      ]
     },
     "execution_count": 13,
     "metadata": {},
     "output_type": "execute_result"
    }
   ],
   "source": [
    "np.zeros((3,4))         # it will generate 2-D array of shape (3,4) i.e 3 rows and 4 columns filled with 0s"
   ]
  },
  {
   "cell_type": "code",
   "execution_count": 14,
   "id": "4344d606-ca51-47e7-890a-1f16bde3afec",
   "metadata": {},
   "outputs": [
    {
     "data": {
      "text/plain": [
       "array([[[0., 0.],\n",
       "        [0., 0.],\n",
       "        [0., 0.],\n",
       "        [0., 0.]],\n",
       "\n",
       "       [[0., 0.],\n",
       "        [0., 0.],\n",
       "        [0., 0.],\n",
       "        [0., 0.]],\n",
       "\n",
       "       [[0., 0.],\n",
       "        [0., 0.],\n",
       "        [0., 0.],\n",
       "        [0., 0.]]])"
      ]
     },
     "execution_count": 14,
     "metadata": {},
     "output_type": "execute_result"
    }
   ],
   "source": [
    "np.zeros((3,4,2))   # it will generate 3-D array"
   ]
  },
  {
   "cell_type": "code",
   "execution_count": 15,
   "id": "dda0a4fe-dae4-4d51-b8ae-f78f0567b51e",
   "metadata": {},
   "outputs": [],
   "source": [
    "# it generates 3 such (4,2) shape arrays. all the elements are 0s"
   ]
  },
  {
   "cell_type": "code",
   "execution_count": 17,
   "id": "16df483d-4ea4-4d5e-9012-1ae567afe830",
   "metadata": {},
   "outputs": [
    {
     "data": {
      "text/plain": [
       "array([[[[0., 0., 0.],\n",
       "         [0., 0., 0.]],\n",
       "\n",
       "        [[0., 0., 0.],\n",
       "         [0., 0., 0.]],\n",
       "\n",
       "        [[0., 0., 0.],\n",
       "         [0., 0., 0.]],\n",
       "\n",
       "        [[0., 0., 0.],\n",
       "         [0., 0., 0.]]],\n",
       "\n",
       "\n",
       "       [[[0., 0., 0.],\n",
       "         [0., 0., 0.]],\n",
       "\n",
       "        [[0., 0., 0.],\n",
       "         [0., 0., 0.]],\n",
       "\n",
       "        [[0., 0., 0.],\n",
       "         [0., 0., 0.]],\n",
       "\n",
       "        [[0., 0., 0.],\n",
       "         [0., 0., 0.]]],\n",
       "\n",
       "\n",
       "       [[[0., 0., 0.],\n",
       "         [0., 0., 0.]],\n",
       "\n",
       "        [[0., 0., 0.],\n",
       "         [0., 0., 0.]],\n",
       "\n",
       "        [[0., 0., 0.],\n",
       "         [0., 0., 0.]],\n",
       "\n",
       "        [[0., 0., 0.],\n",
       "         [0., 0., 0.]]]])"
      ]
     },
     "execution_count": 17,
     "metadata": {},
     "output_type": "execute_result"
    }
   ],
   "source": [
    "np.zeros((3,4,2,3))     # it will generate a 4-D array"
   ]
  },
  {
   "cell_type": "code",
   "execution_count": 18,
   "id": "b8a47080-e391-46fc-ad03-260985c4f17c",
   "metadata": {},
   "outputs": [],
   "source": [
    "# 4 such (2,3) shape arrays will be generated and this entire structure is repeated 3 times thus giving a 4-D array.\n",
    "# we can generate n dimensional array"
   ]
  },
  {
   "cell_type": "code",
   "execution_count": 19,
   "id": "028cebda-27aa-4d2e-83bb-8bdbfbf80e0b",
   "metadata": {},
   "outputs": [
    {
     "data": {
      "text/plain": [
       "array([1., 1., 1., 1., 1.])"
      ]
     },
     "execution_count": 19,
     "metadata": {},
     "output_type": "execute_result"
    }
   ],
   "source": [
    "np.ones(5)       # 1-D array with 5 ones is generated"
   ]
  },
  {
   "cell_type": "code",
   "execution_count": 20,
   "id": "82056a22-37d7-4f13-a468-3bee7623246e",
   "metadata": {},
   "outputs": [
    {
     "data": {
      "text/plain": [
       "array([[1., 1., 1.],\n",
       "       [1., 1., 1.]])"
      ]
     },
     "execution_count": 20,
     "metadata": {},
     "output_type": "execute_result"
    }
   ],
   "source": [
    "np.ones((2,3))          # 2-D array of shape (2,3) i.e 2 rows and 3 columns filled with 1s is generated"
   ]
  },
  {
   "cell_type": "code",
   "execution_count": 21,
   "id": "99cb6d85-d6cb-4ddc-9e90-21165b871f6f",
   "metadata": {},
   "outputs": [],
   "source": [
    "arr= np.ones((2,3))"
   ]
  },
  {
   "cell_type": "code",
   "execution_count": 22,
   "id": "2586d53b-584b-46ca-b1d6-973f9dce5035",
   "metadata": {},
   "outputs": [
    {
     "data": {
      "text/plain": [
       "array([[6., 6., 6.],\n",
       "       [6., 6., 6.]])"
      ]
     },
     "execution_count": 22,
     "metadata": {},
     "output_type": "execute_result"
    }
   ],
   "source": [
    "arr+5             # every element gets added by 5"
   ]
  },
  {
   "cell_type": "code",
   "execution_count": 23,
   "id": "5ef0548a-6628-44b9-82d3-bfdad1211250",
   "metadata": {},
   "outputs": [
    {
     "data": {
      "text/plain": [
       "array([[4., 4., 4.],\n",
       "       [4., 4., 4.]])"
      ]
     },
     "execution_count": 23,
     "metadata": {},
     "output_type": "execute_result"
    }
   ],
   "source": [
    "arr*4           # every element gets multiplied by 4"
   ]
  },
  {
   "cell_type": "code",
   "execution_count": 26,
   "id": "509d394b-c465-46ba-877c-eea788aa8bc7",
   "metadata": {},
   "outputs": [
    {
     "data": {
      "text/plain": [
       "array([[0., 0., 0., 0.],\n",
       "       [0., 0., 0., 0.],\n",
       "       [0., 0., 0., 0.]])"
      ]
     },
     "execution_count": 26,
     "metadata": {},
     "output_type": "execute_result"
    }
   ],
   "source": [
    "np.empty((3,4))       # it wuill generate a 2-D array with a very small number as the elements i.e. kind of empty"
   ]
  },
  {
   "cell_type": "code",
   "execution_count": 27,
   "id": "0f93fd72-07a1-43ca-a699-69f85bf4f500",
   "metadata": {},
   "outputs": [
    {
     "data": {
      "text/plain": [
       "array([[1., 0., 0., 0., 0.],\n",
       "       [0., 1., 0., 0., 0.],\n",
       "       [0., 0., 1., 0., 0.],\n",
       "       [0., 0., 0., 1., 0.],\n",
       "       [0., 0., 0., 0., 1.]])"
      ]
     },
     "execution_count": 27,
     "metadata": {},
     "output_type": "execute_result"
    }
   ],
   "source": [
    "np.eye(5)             # a 5x5 identity matrix is generated. it is always a square matrix"
   ]
  },
  {
   "cell_type": "code",
   "execution_count": 28,
   "id": "f97c7f89-9c2e-478d-8998-3c3db51c9440",
   "metadata": {},
   "outputs": [],
   "source": [
    "# convert array to dataframe-"
   ]
  },
  {
   "cell_type": "code",
   "execution_count": 29,
   "id": "24fcde9c-391e-4d36-bc80-48dcf21597e9",
   "metadata": {},
   "outputs": [],
   "source": [
    "arr1= np.eye(5)"
   ]
  },
  {
   "cell_type": "code",
   "execution_count": 30,
   "id": "099f41b1-023a-4420-aa8f-6c8fd75f424f",
   "metadata": {},
   "outputs": [
    {
     "data": {
      "text/plain": [
       "array([[1., 0., 0., 0., 0.],\n",
       "       [0., 1., 0., 0., 0.],\n",
       "       [0., 0., 1., 0., 0.],\n",
       "       [0., 0., 0., 1., 0.],\n",
       "       [0., 0., 0., 0., 1.]])"
      ]
     },
     "execution_count": 30,
     "metadata": {},
     "output_type": "execute_result"
    }
   ],
   "source": [
    "arr1"
   ]
  },
  {
   "cell_type": "code",
   "execution_count": 31,
   "id": "5e03d3c2-b7cb-4747-9348-d85bffa07489",
   "metadata": {},
   "outputs": [],
   "source": [
    "import pandas as pd"
   ]
  },
  {
   "cell_type": "code",
   "execution_count": 32,
   "id": "faa295a5-6356-4552-99c2-6a15de839dde",
   "metadata": {},
   "outputs": [
    {
     "data": {
      "text/html": [
       "<div>\n",
       "<style scoped>\n",
       "    .dataframe tbody tr th:only-of-type {\n",
       "        vertical-align: middle;\n",
       "    }\n",
       "\n",
       "    .dataframe tbody tr th {\n",
       "        vertical-align: top;\n",
       "    }\n",
       "\n",
       "    .dataframe thead th {\n",
       "        text-align: right;\n",
       "    }\n",
       "</style>\n",
       "<table border=\"1\" class=\"dataframe\">\n",
       "  <thead>\n",
       "    <tr style=\"text-align: right;\">\n",
       "      <th></th>\n",
       "      <th>0</th>\n",
       "      <th>1</th>\n",
       "      <th>2</th>\n",
       "      <th>3</th>\n",
       "      <th>4</th>\n",
       "    </tr>\n",
       "  </thead>\n",
       "  <tbody>\n",
       "    <tr>\n",
       "      <th>0</th>\n",
       "      <td>1.0</td>\n",
       "      <td>0.0</td>\n",
       "      <td>0.0</td>\n",
       "      <td>0.0</td>\n",
       "      <td>0.0</td>\n",
       "    </tr>\n",
       "    <tr>\n",
       "      <th>1</th>\n",
       "      <td>0.0</td>\n",
       "      <td>1.0</td>\n",
       "      <td>0.0</td>\n",
       "      <td>0.0</td>\n",
       "      <td>0.0</td>\n",
       "    </tr>\n",
       "    <tr>\n",
       "      <th>2</th>\n",
       "      <td>0.0</td>\n",
       "      <td>0.0</td>\n",
       "      <td>1.0</td>\n",
       "      <td>0.0</td>\n",
       "      <td>0.0</td>\n",
       "    </tr>\n",
       "    <tr>\n",
       "      <th>3</th>\n",
       "      <td>0.0</td>\n",
       "      <td>0.0</td>\n",
       "      <td>0.0</td>\n",
       "      <td>1.0</td>\n",
       "      <td>0.0</td>\n",
       "    </tr>\n",
       "    <tr>\n",
       "      <th>4</th>\n",
       "      <td>0.0</td>\n",
       "      <td>0.0</td>\n",
       "      <td>0.0</td>\n",
       "      <td>0.0</td>\n",
       "      <td>1.0</td>\n",
       "    </tr>\n",
       "  </tbody>\n",
       "</table>\n",
       "</div>"
      ],
      "text/plain": [
       "     0    1    2    3    4\n",
       "0  1.0  0.0  0.0  0.0  0.0\n",
       "1  0.0  1.0  0.0  0.0  0.0\n",
       "2  0.0  0.0  1.0  0.0  0.0\n",
       "3  0.0  0.0  0.0  1.0  0.0\n",
       "4  0.0  0.0  0.0  0.0  1.0"
      ]
     },
     "execution_count": 32,
     "metadata": {},
     "output_type": "execute_result"
    }
   ],
   "source": [
    "pd.DataFrame(arr1)"
   ]
  },
  {
   "cell_type": "code",
   "execution_count": 38,
   "id": "94bcdf60-a675-4d11-b782-7ee5ad7fef33",
   "metadata": {},
   "outputs": [
    {
     "data": {
      "text/plain": [
       "array([[0.36546933, 0.54842056, 0.53079656],\n",
       "       [0.48849511, 0.39472605, 0.72148357]])"
      ]
     },
     "execution_count": 38,
     "metadata": {},
     "output_type": "execute_result"
    }
   ],
   "source": [
    "np.random.rand(2,3)         #it will generate a 2-D array of shape(2,3) i.e 2 rows and 3 columns filled with random data"
   ]
  },
  {
   "cell_type": "code",
   "execution_count": 34,
   "id": "10b8b456-3bb1-4321-a9a0-46efff107778",
   "metadata": {},
   "outputs": [
    {
     "data": {
      "text/plain": [
       "array([[ 0.61965207,  1.62926741, -1.63218184],\n",
       "       [ 0.36823661,  0.95133631, -0.17106235]])"
      ]
     },
     "execution_count": 34,
     "metadata": {},
     "output_type": "execute_result"
    }
   ],
   "source": [
    "np.random.randn(2,3)      # it wil also generate a 2-D array of shape(2,3) i.e 2 rows and 3 columns filled with random data"
   ]
  },
  {
   "cell_type": "code",
   "execution_count": 36,
   "id": "bfbae651-a13b-4bba-b000-247d0ae8c9f4",
   "metadata": {},
   "outputs": [],
   "source": [
    "# difference between random.rand and random.randn is- The data generated by random.rand can have any mean and standard deviation. \n",
    "# But random.randn generates standard normalized data, i.e. the data has mean=0 and standard deviation=1. \n",
    "# Where ever we need normally distributed dataset we can use randn. "
   ]
  },
  {
   "cell_type": "code",
   "execution_count": 39,
   "id": "261a902a-f18d-442b-8a1e-e352bd73cab3",
   "metadata": {},
   "outputs": [
    {
     "data": {
      "text/plain": [
       "array([[3, 2, 2, 2],\n",
       "       [2, 3, 4, 4],\n",
       "       [3, 4, 2, 3]])"
      ]
     },
     "execution_count": 39,
     "metadata": {},
     "output_type": "execute_result"
    }
   ],
   "source": [
    "np.random.randint(1,5, (3,4))       # it will generate a 2-D array of shape(3,4) filled with random integers between 1 and 5"
   ]
  },
  {
   "cell_type": "code",
   "execution_count": 40,
   "id": "ae49f429-98cd-49ad-9420-8d0f57d6faad",
   "metadata": {},
   "outputs": [],
   "source": [
    "arr2= np.random.randint(1,5, (3,4))  "
   ]
  },
  {
   "cell_type": "code",
   "execution_count": 41,
   "id": "3361d88e-59a1-46ab-82db-9694d541f1d9",
   "metadata": {},
   "outputs": [
    {
     "data": {
      "text/plain": [
       "array([[1, 2, 4, 4],\n",
       "       [2, 4, 3, 4],\n",
       "       [4, 3, 2, 1]])"
      ]
     },
     "execution_count": 41,
     "metadata": {},
     "output_type": "execute_result"
    }
   ],
   "source": [
    "arr2"
   ]
  },
  {
   "cell_type": "code",
   "execution_count": 42,
   "id": "7bfe1d2d-c530-498d-9b1a-97608a270499",
   "metadata": {},
   "outputs": [
    {
     "data": {
      "text/plain": [
       "12"
      ]
     },
     "execution_count": 42,
     "metadata": {},
     "output_type": "execute_result"
    }
   ],
   "source": [
    "arr2.size"
   ]
  },
  {
   "cell_type": "code",
   "execution_count": 43,
   "id": "f45ba412-8c3b-42eb-8e52-3f0dfe35b4d3",
   "metadata": {},
   "outputs": [
    {
     "data": {
      "text/plain": [
       "(3, 4)"
      ]
     },
     "execution_count": 43,
     "metadata": {},
     "output_type": "execute_result"
    }
   ],
   "source": [
    "arr2.shape"
   ]
  },
  {
   "cell_type": "code",
   "execution_count": 44,
   "id": "31852772-321c-4b0d-9100-3a92f8601f46",
   "metadata": {},
   "outputs": [
    {
     "data": {
      "text/plain": [
       "array([[1, 2],\n",
       "       [4, 4],\n",
       "       [2, 4],\n",
       "       [3, 4],\n",
       "       [4, 3],\n",
       "       [2, 1]])"
      ]
     },
     "execution_count": 44,
     "metadata": {},
     "output_type": "execute_result"
    }
   ],
   "source": [
    "# if we want to change shape of the array-\n",
    "arr2.reshape(6,2)          # the shape given should be such that it satisfies the no. of elements in original array"
   ]
  },
  {
   "cell_type": "code",
   "execution_count": 45,
   "id": "14c0d3df-08dd-4cc0-a12c-e41437700754",
   "metadata": {},
   "outputs": [
    {
     "ename": "ValueError",
     "evalue": "cannot reshape array of size 12 into shape (6,3)",
     "output_type": "error",
     "traceback": [
      "\u001b[0;31m---------------------------------------------------------------------------\u001b[0m",
      "\u001b[0;31mValueError\u001b[0m                                Traceback (most recent call last)",
      "Cell \u001b[0;32mIn[45], line 1\u001b[0m\n\u001b[0;32m----> 1\u001b[0m \u001b[43marr2\u001b[49m\u001b[38;5;241;43m.\u001b[39;49m\u001b[43mreshape\u001b[49m\u001b[43m(\u001b[49m\u001b[38;5;241;43m6\u001b[39;49m\u001b[43m,\u001b[49m\u001b[38;5;241;43m3\u001b[39;49m\u001b[43m)\u001b[49m\n",
      "\u001b[0;31mValueError\u001b[0m: cannot reshape array of size 12 into shape (6,3)"
     ]
    }
   ],
   "source": [
    "arr2.reshape(6,3)"
   ]
  },
  {
   "cell_type": "code",
   "execution_count": 46,
   "id": "7f725ee3-f532-40d3-90a8-f69384f34643",
   "metadata": {},
   "outputs": [
    {
     "data": {
      "text/plain": [
       "array([[1, 2, 4],\n",
       "       [4, 2, 4],\n",
       "       [3, 4, 4],\n",
       "       [3, 2, 1]])"
      ]
     },
     "execution_count": 46,
     "metadata": {},
     "output_type": "execute_result"
    }
   ],
   "source": [
    "arr2.reshape(4,3)"
   ]
  },
  {
   "cell_type": "code",
   "execution_count": 47,
   "id": "02b95480-e310-498d-b9d6-bcf3b59282d4",
   "metadata": {},
   "outputs": [
    {
     "data": {
      "text/plain": [
       "array([[1, 2, 4],\n",
       "       [4, 2, 4],\n",
       "       [3, 4, 4],\n",
       "       [3, 2, 1]])"
      ]
     },
     "execution_count": 47,
     "metadata": {},
     "output_type": "execute_result"
    }
   ],
   "source": [
    "arr2.reshape(4,-1)       #we have not specified the other argument for shape, so there's a possibility that it will be considered as 3 so that the size i.e no. of elements= 12 will be satisfied as in the original array"
   ]
  },
  {
   "cell_type": "code",
   "execution_count": 49,
   "id": "be323903-011e-4dc1-beb4-667efc27ee3c",
   "metadata": {},
   "outputs": [],
   "source": [
    "# in place of -1 we can put any negative number and the output will be same."
   ]
  },
  {
   "cell_type": "code",
   "execution_count": 50,
   "id": "b898f41b-7b8d-4e16-b158-dd46729f58ae",
   "metadata": {},
   "outputs": [
    {
     "data": {
      "text/plain": [
       "array([[[1, 2, 4],\n",
       "        [4, 2, 4]],\n",
       "\n",
       "       [[3, 4, 4],\n",
       "        [3, 2, 1]]])"
      ]
     },
     "execution_count": 50,
     "metadata": {},
     "output_type": "execute_result"
    }
   ],
   "source": [
    "# we can also reshape 2-D array to 3-D array-\n",
    "\n",
    "arr2.reshape(2,2,3)     # it will generate 2 such (2,3) shape arrays thus resulting in 3-D array, such that the no. of elements= 2x2x3= 12 is the same as that in original array"
   ]
  },
  {
   "cell_type": "code",
   "execution_count": 51,
   "id": "3e7ca08b-c880-43c9-8245-2e76715ba3ad",
   "metadata": {},
   "outputs": [
    {
     "data": {
      "text/plain": [
       "array([[[[[[1]]],\n",
       "\n",
       "\n",
       "         [[[2]]],\n",
       "\n",
       "\n",
       "         [[[4]]]],\n",
       "\n",
       "\n",
       "\n",
       "        [[[[4]]],\n",
       "\n",
       "\n",
       "         [[[2]]],\n",
       "\n",
       "\n",
       "         [[[4]]]]],\n",
       "\n",
       "\n",
       "\n",
       "\n",
       "       [[[[[3]]],\n",
       "\n",
       "\n",
       "         [[[4]]],\n",
       "\n",
       "\n",
       "         [[[4]]]],\n",
       "\n",
       "\n",
       "\n",
       "        [[[[3]]],\n",
       "\n",
       "\n",
       "         [[[2]]],\n",
       "\n",
       "\n",
       "         [[[1]]]]]])"
      ]
     },
     "execution_count": 51,
     "metadata": {},
     "output_type": "execute_result"
    }
   ],
   "source": [
    "# we can also reshape 2-D array to an n-dimensional array too-\n",
    "\n",
    "arr2.reshape(2,2,3,1,1,1)"
   ]
  },
  {
   "cell_type": "code",
   "execution_count": 53,
   "id": "5391d831-fd87-4009-bb73-db2b479b1582",
   "metadata": {},
   "outputs": [],
   "source": [
    "arr3= np.random.randint(1,10, (5,6))     #it will generate a 2-D array of shape(5,6) filled with random integers b/w 1 and 10"
   ]
  },
  {
   "cell_type": "code",
   "execution_count": 54,
   "id": "707c9ae1-5fd7-47d4-90e5-e27d29a72430",
   "metadata": {},
   "outputs": [
    {
     "data": {
      "text/plain": [
       "array([[8, 9, 9, 6, 3, 8],\n",
       "       [5, 4, 4, 6, 5, 6],\n",
       "       [2, 4, 8, 4, 9, 6],\n",
       "       [3, 4, 2, 4, 7, 4],\n",
       "       [5, 9, 2, 3, 2, 6]])"
      ]
     },
     "execution_count": 54,
     "metadata": {},
     "output_type": "execute_result"
    }
   ],
   "source": [
    "arr3"
   ]
  },
  {
   "cell_type": "code",
   "execution_count": 55,
   "id": "5c26ed94-98a2-4089-ad7b-a0182e1a840d",
   "metadata": {},
   "outputs": [
    {
     "data": {
      "text/plain": [
       "array([[False,  True,  True, False, False, False],\n",
       "       [False, False, False, False, False, False],\n",
       "       [False, False, False, False,  True, False],\n",
       "       [False, False, False, False, False, False],\n",
       "       [False,  True, False, False, False, False]])"
      ]
     },
     "execution_count": 55,
     "metadata": {},
     "output_type": "execute_result"
    }
   ],
   "source": [
    "# filter out the data which are greater than 8- \n",
    "\n",
    "arr3>8"
   ]
  },
  {
   "cell_type": "code",
   "execution_count": 57,
   "id": "181e0442-2896-4bdf-86d8-b7d3770d493a",
   "metadata": {},
   "outputs": [
    {
     "data": {
      "text/plain": [
       "array([9, 9, 9, 9])"
      ]
     },
     "execution_count": 57,
     "metadata": {},
     "output_type": "execute_result"
    }
   ],
   "source": [
    "arr3[arr3>8]      # it will give those elememts which are greater than 8"
   ]
  },
  {
   "cell_type": "code",
   "execution_count": 58,
   "id": "dc42babe-b5ea-4f94-bf3a-769244ff29df",
   "metadata": {},
   "outputs": [
    {
     "data": {
      "text/plain": [
       "array([8, 9])"
      ]
     },
     "execution_count": 58,
     "metadata": {},
     "output_type": "execute_result"
    }
   ],
   "source": [
    "# extract data from a particular location of the 2-D array-\n",
    "# extract 8,9 present in the 1st row of arr3-\n",
    "\n",
    "arr3[0, [0,1]]"
   ]
  },
  {
   "cell_type": "code",
   "execution_count": 59,
   "id": "53291d08-570f-44a8-a0df-8b9cffc8edb9",
   "metadata": {},
   "outputs": [
    {
     "data": {
      "text/plain": [
       "array([[4, 8],\n",
       "       [4, 2]])"
      ]
     },
     "execution_count": 59,
     "metadata": {},
     "output_type": "execute_result"
    }
   ],
   "source": [
    "arr3[2:4, [1,2]]"
   ]
  },
  {
   "cell_type": "code",
   "execution_count": 60,
   "id": "4e16852f-348e-4c8a-b2c6-ff551e7b123d",
   "metadata": {},
   "outputs": [],
   "source": [
    "arr4= np.random.randint(1,3, (3,3))     # it will generate a 2-D array of shape(3,3) with random integers between 1 and 3"
   ]
  },
  {
   "cell_type": "code",
   "execution_count": 61,
   "id": "c04df32d-cac4-4ae6-8200-bee884042168",
   "metadata": {},
   "outputs": [],
   "source": [
    "arr5= np.random.randint(1,3, (3,3))     # it will generate a 2-D array of shape(3,3) with random integers between 1 and 3"
   ]
  },
  {
   "cell_type": "code",
   "execution_count": 62,
   "id": "0cd4d7a2-fff8-41ec-b213-db12e160ce9a",
   "metadata": {},
   "outputs": [
    {
     "data": {
      "text/plain": [
       "array([[2, 1, 1],\n",
       "       [1, 2, 2],\n",
       "       [2, 2, 2]])"
      ]
     },
     "execution_count": 62,
     "metadata": {},
     "output_type": "execute_result"
    }
   ],
   "source": [
    "arr4"
   ]
  },
  {
   "cell_type": "code",
   "execution_count": 63,
   "id": "ec08b17d-0ae9-4c41-b3fd-94203a5bb55b",
   "metadata": {},
   "outputs": [
    {
     "data": {
      "text/plain": [
       "array([[1, 1, 2],\n",
       "       [2, 2, 2],\n",
       "       [2, 1, 2]])"
      ]
     },
     "execution_count": 63,
     "metadata": {},
     "output_type": "execute_result"
    }
   ],
   "source": [
    "arr5"
   ]
  },
  {
   "cell_type": "code",
   "execution_count": 64,
   "id": "40ca42d0-0782-47f3-8f38-3caf0e83cbde",
   "metadata": {},
   "outputs": [
    {
     "data": {
      "text/plain": [
       "array([[3, 2, 3],\n",
       "       [3, 4, 4],\n",
       "       [4, 3, 4]])"
      ]
     },
     "execution_count": 64,
     "metadata": {},
     "output_type": "execute_result"
    }
   ],
   "source": [
    "# Addition of arrays-\n",
    "arr4+arr5"
   ]
  },
  {
   "cell_type": "code",
   "execution_count": 68,
   "id": "9d88a6d1-09ae-4348-a130-e38caf9a2965",
   "metadata": {},
   "outputs": [
    {
     "data": {
      "text/plain": [
       "array([[ 1,  0, -1],\n",
       "       [-1,  0,  0],\n",
       "       [ 0,  1,  0]])"
      ]
     },
     "execution_count": 68,
     "metadata": {},
     "output_type": "execute_result"
    }
   ],
   "source": [
    "# Subtraction of arrays-\n",
    "arr4-arr5"
   ]
  },
  {
   "cell_type": "code",
   "execution_count": 69,
   "id": "3fa962be-033c-485e-8757-d9b7fd0c24a7",
   "metadata": {},
   "outputs": [
    {
     "data": {
      "text/plain": [
       "array([[2, 1, 2],\n",
       "       [2, 4, 4],\n",
       "       [4, 2, 4]])"
      ]
     },
     "execution_count": 69,
     "metadata": {},
     "output_type": "execute_result"
    }
   ],
   "source": [
    "# Multiplication of arrays-\n",
    "arr4*arr5     # it performs index wise i.e. element wise multiplication, not matrix multiplication"
   ]
  },
  {
   "cell_type": "code",
   "execution_count": 67,
   "id": "3b4cf1ec-9278-4d7d-b0f4-7e34416590ff",
   "metadata": {},
   "outputs": [
    {
     "data": {
      "text/plain": [
       "array([[ 6,  5,  8],\n",
       "       [ 9,  7, 10],\n",
       "       [10,  8, 12]])"
      ]
     },
     "execution_count": 67,
     "metadata": {},
     "output_type": "execute_result"
    }
   ],
   "source": [
    "# matrix multiplication-\n",
    "arr4@arr5"
   ]
  },
  {
   "cell_type": "code",
   "execution_count": 70,
   "id": "16a6bd42-6c4f-455c-88c5-3ec755bd4201",
   "metadata": {},
   "outputs": [
    {
     "data": {
      "text/plain": [
       "array([[2. , 1. , 0.5],\n",
       "       [0.5, 1. , 1. ],\n",
       "       [1. , 2. , 1. ]])"
      ]
     },
     "execution_count": 70,
     "metadata": {},
     "output_type": "execute_result"
    }
   ],
   "source": [
    "# Division of arrays-\n",
    "arr4/arr5"
   ]
  },
  {
   "cell_type": "code",
   "execution_count": 71,
   "id": "6e735b94-8717-4a65-97fa-430ca76f729a",
   "metadata": {},
   "outputs": [
    {
     "name": "stderr",
     "output_type": "stream",
     "text": [
      "/tmp/ipykernel_77/3975123713.py:1: RuntimeWarning: divide by zero encountered in divide\n",
      "  arr4/0\n"
     ]
    },
    {
     "data": {
      "text/plain": [
       "array([[inf, inf, inf],\n",
       "       [inf, inf, inf],\n",
       "       [inf, inf, inf]])"
      ]
     },
     "execution_count": 71,
     "metadata": {},
     "output_type": "execute_result"
    }
   ],
   "source": [
    "arr4/0      "
   ]
  },
  {
   "cell_type": "code",
   "execution_count": 72,
   "id": "9a568d64-35db-4e66-9b88-56108d414c80",
   "metadata": {},
   "outputs": [],
   "source": [
    "# in pandas such operation would have raised ZeroDivisonError but in numpy we get array with infinity elements"
   ]
  },
  {
   "cell_type": "code",
   "execution_count": 73,
   "id": "d8836e82-5192-4e94-8a34-93121523346d",
   "metadata": {},
   "outputs": [],
   "source": [
    "# Numpy- Broadcasting"
   ]
  },
  {
   "cell_type": "code",
   "execution_count": 74,
   "id": "6ea9c057-6094-4247-b2b9-23e3856ff361",
   "metadata": {},
   "outputs": [],
   "source": [
    "arr6= np.zeros((3,4))"
   ]
  },
  {
   "cell_type": "code",
   "execution_count": 75,
   "id": "4540d9f0-bb2d-4436-aaa8-ebe0af48b889",
   "metadata": {},
   "outputs": [
    {
     "data": {
      "text/plain": [
       "array([[0., 0., 0., 0.],\n",
       "       [0., 0., 0., 0.],\n",
       "       [0., 0., 0., 0.]])"
      ]
     },
     "execution_count": 75,
     "metadata": {},
     "output_type": "execute_result"
    }
   ],
   "source": [
    "arr6"
   ]
  },
  {
   "cell_type": "code",
   "execution_count": 76,
   "id": "7ad8f98e-8a23-4979-bcf8-8b23d57354e5",
   "metadata": {},
   "outputs": [
    {
     "data": {
      "text/plain": [
       "array([[5., 5., 5., 5.],\n",
       "       [5., 5., 5., 5.],\n",
       "       [5., 5., 5., 5.]])"
      ]
     },
     "execution_count": 76,
     "metadata": {},
     "output_type": "execute_result"
    }
   ],
   "source": [
    "arr6+5        # this is called broadcasting, we are broadcasting 5 to arr6"
   ]
  },
  {
   "cell_type": "code",
   "execution_count": 77,
   "id": "33dd4123-393a-4d28-b0d3-67da873a96f0",
   "metadata": {},
   "outputs": [],
   "source": [
    "a= np.array([1,2,3,4])"
   ]
  },
  {
   "cell_type": "code",
   "execution_count": 78,
   "id": "f3237580-47c6-44ae-9283-72398f700640",
   "metadata": {},
   "outputs": [
    {
     "data": {
      "text/plain": [
       "array([1, 2, 3, 4])"
      ]
     },
     "execution_count": 78,
     "metadata": {},
     "output_type": "execute_result"
    }
   ],
   "source": [
    "a"
   ]
  },
  {
   "cell_type": "code",
   "execution_count": 79,
   "id": "0dbe58bd-38e9-475a-a127-23bbfdd10f28",
   "metadata": {},
   "outputs": [
    {
     "data": {
      "text/plain": [
       "array([[1., 2., 3., 4.],\n",
       "       [1., 2., 3., 4.],\n",
       "       [1., 2., 3., 4.]])"
      ]
     },
     "execution_count": 79,
     "metadata": {},
     "output_type": "execute_result"
    }
   ],
   "source": [
    "arr6+a          # the 1-D array a is added/broadcasted to arr6 column-wise"
   ]
  },
  {
   "cell_type": "code",
   "execution_count": 102,
   "id": "6a96ac21-b56a-412e-b3e4-0f91d4b353eb",
   "metadata": {},
   "outputs": [],
   "source": [
    "b= np.array([3,4,5])"
   ]
  },
  {
   "cell_type": "code",
   "execution_count": 103,
   "id": "eaf272e1-834b-403a-ba7c-333211802728",
   "metadata": {},
   "outputs": [
    {
     "data": {
      "text/plain": [
       "array([3, 4, 5])"
      ]
     },
     "execution_count": 103,
     "metadata": {},
     "output_type": "execute_result"
    }
   ],
   "source": [
    "b"
   ]
  },
  {
   "cell_type": "code",
   "execution_count": 104,
   "id": "0493476d-46fd-44ec-a5bc-dd055de5050f",
   "metadata": {},
   "outputs": [
    {
     "ename": "ValueError",
     "evalue": "operands could not be broadcast together with shapes (3,4) (3,) ",
     "output_type": "error",
     "traceback": [
      "\u001b[0;31m---------------------------------------------------------------------------\u001b[0m",
      "\u001b[0;31mValueError\u001b[0m                                Traceback (most recent call last)",
      "Cell \u001b[0;32mIn[104], line 1\u001b[0m\n\u001b[0;32m----> 1\u001b[0m \u001b[43marr6\u001b[49m\u001b[38;5;241;43m+\u001b[39;49m\u001b[43mb\u001b[49m\n",
      "\u001b[0;31mValueError\u001b[0m: operands could not be broadcast together with shapes (3,4) (3,) "
     ]
    }
   ],
   "source": [
    "arr6+b"
   ]
  },
  {
   "cell_type": "code",
   "execution_count": 105,
   "id": "3b2ea1ad-de73-4f5c-8994-43b6d2b6db2f",
   "metadata": {},
   "outputs": [
    {
     "data": {
      "text/plain": [
       "array([[3., 3., 3., 3.],\n",
       "       [4., 4., 4., 4.],\n",
       "       [5., 5., 5., 5.]])"
      ]
     },
     "execution_count": 105,
     "metadata": {},
     "output_type": "execute_result"
    }
   ],
   "source": [
    "# we have to rotate the 1-D array b i.e take its Transpose and then broadcast/add it to arr6-\n",
    "# but we can't rotate 1-D array so we make b a 2-D array-\n",
    "b= np.array([[3,4,5]])\n",
    "arr6+ b.T"
   ]
  },
  {
   "cell_type": "code",
   "execution_count": 99,
   "id": "87578cc9-b37b-4fd5-84ce-57af0ef55fed",
   "metadata": {},
   "outputs": [],
   "source": [
    "# so b gets added/broadcasted to arr6 row-wise"
   ]
  },
  {
   "cell_type": "code",
   "execution_count": 106,
   "id": "8106c7b6-7077-4143-b5ae-d4bb32117791",
   "metadata": {},
   "outputs": [],
   "source": [
    "arr7= arr6+b.T"
   ]
  },
  {
   "cell_type": "code",
   "execution_count": 107,
   "id": "648ed06a-72d8-4802-bc28-5ca159ec1be1",
   "metadata": {},
   "outputs": [
    {
     "data": {
      "text/plain": [
       "array([[3., 3., 3., 3.],\n",
       "       [4., 4., 4., 4.],\n",
       "       [5., 5., 5., 5.]])"
      ]
     },
     "execution_count": 107,
     "metadata": {},
     "output_type": "execute_result"
    }
   ],
   "source": [
    "arr7"
   ]
  },
  {
   "cell_type": "code",
   "execution_count": 108,
   "id": "78f5a417-ca89-4b94-87c1-fd89b97724be",
   "metadata": {},
   "outputs": [
    {
     "data": {
      "text/plain": [
       "array([[1.73205081, 1.73205081, 1.73205081, 1.73205081],\n",
       "       [2.        , 2.        , 2.        , 2.        ],\n",
       "       [2.23606798, 2.23606798, 2.23606798, 2.23606798]])"
      ]
     },
     "execution_count": 108,
     "metadata": {},
     "output_type": "execute_result"
    }
   ],
   "source": [
    "np.sqrt(arr7)        # it gives square root of each element"
   ]
  },
  {
   "cell_type": "code",
   "execution_count": 109,
   "id": "60c83210-98c6-4535-a04a-54f57d4aa251",
   "metadata": {},
   "outputs": [
    {
     "data": {
      "text/plain": [
       "array([[0.47712125, 0.47712125, 0.47712125, 0.47712125],\n",
       "       [0.60205999, 0.60205999, 0.60205999, 0.60205999],\n",
       "       [0.69897   , 0.69897   , 0.69897   , 0.69897   ]])"
      ]
     },
     "execution_count": 109,
     "metadata": {},
     "output_type": "execute_result"
    }
   ],
   "source": [
    "np.log10(arr7)         # it gives log base 10 of every element of array"
   ]
  },
  {
   "cell_type": "code",
   "execution_count": 110,
   "id": "b0ad6e97-02d3-498e-8ea1-392140b06e6b",
   "metadata": {},
   "outputs": [
    {
     "data": {
      "text/plain": [
       "array([[ 20.08553692,  20.08553692,  20.08553692,  20.08553692],\n",
       "       [ 54.59815003,  54.59815003,  54.59815003,  54.59815003],\n",
       "       [148.4131591 , 148.4131591 , 148.4131591 , 148.4131591 ]])"
      ]
     },
     "execution_count": 110,
     "metadata": {},
     "output_type": "execute_result"
    }
   ],
   "source": [
    "np.exp(arr7)        # it gives exponential of every element"
   ]
  },
  {
   "cell_type": "code",
   "execution_count": 111,
   "id": "7a72b172-5dbe-4935-94ac-b2a602945be7",
   "metadata": {},
   "outputs": [
    {
     "data": {
      "text/plain": [
       "3.0"
      ]
     },
     "execution_count": 111,
     "metadata": {},
     "output_type": "execute_result"
    }
   ],
   "source": [
    "np.min(arr7)"
   ]
  },
  {
   "cell_type": "code",
   "execution_count": 112,
   "id": "e231f0e0-8865-46ba-9b95-38f878d05813",
   "metadata": {},
   "outputs": [
    {
     "data": {
      "text/plain": [
       "5.0"
      ]
     },
     "execution_count": 112,
     "metadata": {},
     "output_type": "execute_result"
    }
   ],
   "source": [
    "np.max(arr7)"
   ]
  },
  {
   "cell_type": "markdown",
   "id": "f78a6384-9390-4d45-b2a1-ae57210de3ec",
   "metadata": {},
   "source": [
    "#### Numpy (Part-3)"
   ]
  },
  {
   "cell_type": "code",
   "execution_count": 1,
   "id": "a24706bb-ea03-4942-bd87-9c00e0eae0a4",
   "metadata": {},
   "outputs": [],
   "source": [
    "import numpy as np"
   ]
  },
  {
   "cell_type": "markdown",
   "id": "6139bb62-238b-4ed1-b5ea-a2d95f392da2",
   "metadata": {},
   "source": [
    "##### Numpy- Array manipulation- "
   ]
  },
  {
   "cell_type": "code",
   "execution_count": 115,
   "id": "e5c22efc-02eb-4a80-b228-5479e35a5396",
   "metadata": {},
   "outputs": [],
   "source": [
    "arr= np.random.randint(1,10, (4,4))"
   ]
  },
  {
   "cell_type": "code",
   "execution_count": 116,
   "id": "4da21b72-a653-4c40-84ee-93cb041eeb65",
   "metadata": {},
   "outputs": [
    {
     "data": {
      "text/plain": [
       "array([[7, 8, 3, 9],\n",
       "       [7, 8, 8, 9],\n",
       "       [5, 6, 4, 3],\n",
       "       [1, 2, 8, 7]])"
      ]
     },
     "execution_count": 116,
     "metadata": {},
     "output_type": "execute_result"
    }
   ],
   "source": [
    "arr"
   ]
  },
  {
   "cell_type": "code",
   "execution_count": 117,
   "id": "488c941f-5b07-4db9-9054-eb23d95d16a9",
   "metadata": {},
   "outputs": [
    {
     "data": {
      "text/plain": [
       "array([[7, 8],\n",
       "       [3, 9],\n",
       "       [7, 8],\n",
       "       [8, 9],\n",
       "       [5, 6],\n",
       "       [4, 3],\n",
       "       [1, 2],\n",
       "       [8, 7]])"
      ]
     },
     "execution_count": 117,
     "metadata": {},
     "output_type": "execute_result"
    }
   ],
   "source": [
    "arr.reshape(8,2)"
   ]
  },
  {
   "cell_type": "code",
   "execution_count": 118,
   "id": "f46c46f6-53ad-4545-b8cb-887bad1f9fcf",
   "metadata": {},
   "outputs": [
    {
     "data": {
      "text/plain": [
       "array([[7, 7, 5, 1],\n",
       "       [8, 8, 6, 2],\n",
       "       [3, 8, 4, 8],\n",
       "       [9, 9, 3, 7]])"
      ]
     },
     "execution_count": 118,
     "metadata": {},
     "output_type": "execute_result"
    }
   ],
   "source": [
    "arr.T      # taking transpose"
   ]
  },
  {
   "cell_type": "code",
   "execution_count": 119,
   "id": "1de3f4bb-6150-4c97-b369-4a6934a92b42",
   "metadata": {},
   "outputs": [
    {
     "data": {
      "text/plain": [
       "array([7, 8, 3, 9, 7, 8, 8, 9, 5, 6, 4, 3, 1, 2, 8, 7])"
      ]
     },
     "execution_count": 119,
     "metadata": {},
     "output_type": "execute_result"
    }
   ],
   "source": [
    "arr.flatten()     # it will create 1-D array with all the elements of arr i.e flattening"
   ]
  },
  {
   "cell_type": "code",
   "execution_count": 120,
   "id": "9353fce2-9cee-4547-a816-9bb82642af19",
   "metadata": {},
   "outputs": [
    {
     "data": {
      "text/plain": [
       "array([[[7, 8, 3, 9]],\n",
       "\n",
       "       [[7, 8, 8, 9]],\n",
       "\n",
       "       [[5, 6, 4, 3]],\n",
       "\n",
       "       [[1, 2, 8, 7]]])"
      ]
     },
     "execution_count": 120,
     "metadata": {},
     "output_type": "execute_result"
    }
   ],
   "source": [
    "np.expand_dims(arr, axis=1)    # it will expand 1 dimension. So, 2-D array becoms 3-D array, axis=1 means in the column direction"
   ]
  },
  {
   "cell_type": "code",
   "execution_count": 121,
   "id": "507753c1-f1b2-4a92-bc9d-c2f1193e29e8",
   "metadata": {},
   "outputs": [
    {
     "data": {
      "text/plain": [
       "array([[[7, 8, 3, 9],\n",
       "        [7, 8, 8, 9],\n",
       "        [5, 6, 4, 3],\n",
       "        [1, 2, 8, 7]]])"
      ]
     },
     "execution_count": 121,
     "metadata": {},
     "output_type": "execute_result"
    }
   ],
   "source": [
    "np.expand_dims(arr, axis=0)   # it will expand 1 dimension but in the row direction"
   ]
  },
  {
   "cell_type": "code",
   "execution_count": 124,
   "id": "8b1c36ae-6fff-46ef-aef5-5ca031fa0c0c",
   "metadata": {},
   "outputs": [],
   "source": [
    "data= np.array([[1], [2], [3]])    # we will get a 2-D array"
   ]
  },
  {
   "cell_type": "code",
   "execution_count": 123,
   "id": "30ddd9a0-8a9d-449b-b75b-664690060441",
   "metadata": {},
   "outputs": [
    {
     "data": {
      "text/plain": [
       "array([[1],\n",
       "       [2],\n",
       "       [3]])"
      ]
     },
     "execution_count": 123,
     "metadata": {},
     "output_type": "execute_result"
    }
   ],
   "source": [
    "data"
   ]
  },
  {
   "cell_type": "code",
   "execution_count": 125,
   "id": "9c4e2d17-d328-4192-a87a-c6cd4952261f",
   "metadata": {},
   "outputs": [
    {
     "data": {
      "text/plain": [
       "array([1, 2, 3])"
      ]
     },
     "execution_count": 125,
     "metadata": {},
     "output_type": "execute_result"
    }
   ],
   "source": [
    "np.squeeze(data)     # it will squeeze the 2-D arary to a 1-D array"
   ]
  },
  {
   "cell_type": "code",
   "execution_count": 126,
   "id": "b10cd1b8-dda0-4a9b-8010-09c2273cd289",
   "metadata": {},
   "outputs": [
    {
     "data": {
      "text/plain": [
       "array([1, 1, 2, 2, 3, 3])"
      ]
     },
     "execution_count": 126,
     "metadata": {},
     "output_type": "execute_result"
    }
   ],
   "source": [
    "np.repeat(data, 2)    # the elements of the array are repeated twice"
   ]
  },
  {
   "cell_type": "code",
   "execution_count": 127,
   "id": "2bcbf86b-aad4-4b25-bff3-346effbb929c",
   "metadata": {},
   "outputs": [
    {
     "data": {
      "text/plain": [
       "array([[2],\n",
       "       [3],\n",
       "       [1]])"
      ]
     },
     "execution_count": 127,
     "metadata": {},
     "output_type": "execute_result"
    }
   ],
   "source": [
    "np.roll(data, 2)       # it will roll the elements b y 2 steps"
   ]
  },
  {
   "cell_type": "code",
   "execution_count": 129,
   "id": "1b785bf6-54e0-4e48-82fc-5cf01d4aef05",
   "metadata": {},
   "outputs": [],
   "source": [
    "# in the data array, element [1] was available at index=0, so roll by 2 means [1] will now be avaialble at index= 0+2= 2.\n",
    "# element [2] was available at index=1, so roll by 2 means [2] will now be available at index= 1+2= 3= 0\n",
    "# element [3] was available at index= 2, so roll by 2 means [3] will now be available at index= 2+2= 4= 1"
   ]
  },
  {
   "cell_type": "code",
   "execution_count": 130,
   "id": "2db2aaab-10d3-4508-81ed-ece0458ca3cf",
   "metadata": {},
   "outputs": [
    {
     "data": {
      "text/plain": [
       "array([[1, 0, 0, 0],\n",
       "       [0, 2, 0, 0],\n",
       "       [0, 0, 3, 0],\n",
       "       [0, 0, 0, 4]])"
      ]
     },
     "execution_count": 130,
     "metadata": {},
     "output_type": "execute_result"
    }
   ],
   "source": [
    "np.diag(np.array([1,2,3,4]))    # these elements will be kept in the diagonal of a 2-D array with rest elements as 0"
   ]
  },
  {
   "cell_type": "markdown",
   "id": "fb369733-1d3e-4dcd-931e-b088ec74d994",
   "metadata": {},
   "source": [
    "##### Numpy- Binary operators-"
   ]
  },
  {
   "cell_type": "code",
   "execution_count": 4,
   "id": "33712a04-1cf9-477e-923b-f7b8968f6a75",
   "metadata": {},
   "outputs": [],
   "source": [
    "arr1= np.random.randint(1,10, (3,4))"
   ]
  },
  {
   "cell_type": "code",
   "execution_count": 3,
   "id": "4df4f353-762d-4adf-a13a-764e4a129a99",
   "metadata": {},
   "outputs": [],
   "source": [
    "arr2= np.random.randint(1,10, (3,4))"
   ]
  },
  {
   "cell_type": "code",
   "execution_count": 5,
   "id": "07098990-3f46-40b0-a2a3-e050e92b4f51",
   "metadata": {},
   "outputs": [
    {
     "data": {
      "text/plain": [
       "array([[8, 5, 8, 3],\n",
       "       [7, 7, 8, 1],\n",
       "       [3, 7, 1, 3]])"
      ]
     },
     "execution_count": 5,
     "metadata": {},
     "output_type": "execute_result"
    }
   ],
   "source": [
    "arr1"
   ]
  },
  {
   "cell_type": "code",
   "execution_count": 6,
   "id": "009d1be8-110f-4214-83db-687e8fee91de",
   "metadata": {},
   "outputs": [
    {
     "data": {
      "text/plain": [
       "array([[6, 7, 1, 2],\n",
       "       [5, 9, 5, 2],\n",
       "       [9, 2, 8, 3]])"
      ]
     },
     "execution_count": 6,
     "metadata": {},
     "output_type": "execute_result"
    }
   ],
   "source": [
    "arr2"
   ]
  },
  {
   "cell_type": "code",
   "execution_count": 7,
   "id": "8ce1e73c-658c-4ee0-8a93-0d78070b835e",
   "metadata": {},
   "outputs": [
    {
     "data": {
      "text/plain": [
       "array([[14, 12,  9,  5],\n",
       "       [12, 16, 13,  3],\n",
       "       [12,  9,  9,  6]])"
      ]
     },
     "execution_count": 7,
     "metadata": {},
     "output_type": "execute_result"
    }
   ],
   "source": [
    "arr1+arr2"
   ]
  },
  {
   "cell_type": "code",
   "execution_count": 8,
   "id": "cb80deca-ad05-478d-9847-2dc65f06bf65",
   "metadata": {},
   "outputs": [
    {
     "data": {
      "text/plain": [
       "array([[48, 35,  8,  6],\n",
       "       [35, 63, 40,  2],\n",
       "       [27, 14,  8,  9]])"
      ]
     },
     "execution_count": 8,
     "metadata": {},
     "output_type": "execute_result"
    }
   ],
   "source": [
    "arr1*arr2           #index wise or element wise multiplication, not matrix multiplication"
   ]
  },
  {
   "cell_type": "code",
   "execution_count": 9,
   "id": "4ad33d12-67c9-4418-be4e-1041958fbbf3",
   "metadata": {},
   "outputs": [
    {
     "data": {
      "text/plain": [
       "array([[1.33333333, 0.71428571, 8.        , 1.5       ],\n",
       "       [1.4       , 0.77777778, 1.6       , 0.5       ],\n",
       "       [0.33333333, 3.5       , 0.125     , 1.        ]])"
      ]
     },
     "execution_count": 9,
     "metadata": {},
     "output_type": "execute_result"
    }
   ],
   "source": [
    "arr1/arr2"
   ]
  },
  {
   "cell_type": "code",
   "execution_count": 10,
   "id": "de0a0d41-147e-4882-b95c-428b6276d0d7",
   "metadata": {},
   "outputs": [
    {
     "data": {
      "text/plain": [
       "array([[ 2, -2,  7,  1],\n",
       "       [ 2, -2,  3, -1],\n",
       "       [-6,  5, -7,  0]])"
      ]
     },
     "execution_count": 10,
     "metadata": {},
     "output_type": "execute_result"
    }
   ],
   "source": [
    "arr1-arr2"
   ]
  },
  {
   "cell_type": "code",
   "execution_count": 11,
   "id": "e4c89921-3142-4636-8e55-e3c684a3547f",
   "metadata": {},
   "outputs": [
    {
     "data": {
      "text/plain": [
       "array([[  262144,    78125,        8,        9],\n",
       "       [   16807, 40353607,    32768,        1],\n",
       "       [   19683,       49,        1,       27]])"
      ]
     },
     "execution_count": 11,
     "metadata": {},
     "output_type": "execute_result"
    }
   ],
   "source": [
    "arr1**arr2      #index wise power operation, elements of arr1 raised to the power= elements of arr2"
   ]
  },
  {
   "cell_type": "code",
   "execution_count": 12,
   "id": "ef002582-e008-4879-9659-df67737396b5",
   "metadata": {},
   "outputs": [
    {
     "data": {
      "text/plain": [
       "array([[-9, -6, -9, -4],\n",
       "       [-8, -8, -9, -2],\n",
       "       [-4, -8, -2, -4]])"
      ]
     },
     "execution_count": 12,
     "metadata": {},
     "output_type": "execute_result"
    }
   ],
   "source": [
    "~arr1          # negation of arr1"
   ]
  },
  {
   "cell_type": "code",
   "execution_count": 13,
   "id": "b7c43611-c2e8-4a42-8307-22255a80aa95",
   "metadata": {},
   "outputs": [
    {
     "data": {
      "text/plain": [
       "array([[ True, False,  True,  True],\n",
       "       [ True, False,  True, False],\n",
       "       [False,  True, False, False]])"
      ]
     },
     "execution_count": 13,
     "metadata": {},
     "output_type": "execute_result"
    }
   ],
   "source": [
    "arr1>arr2            # comparision so it will give True or False"
   ]
  },
  {
   "cell_type": "markdown",
   "id": "e86994c7-75db-42b7-bc30-b1aa7e3b1b9b",
   "metadata": {},
   "source": [
    "##### Numpy- String functions-"
   ]
  },
  {
   "cell_type": "code",
   "execution_count": 19,
   "id": "beddd305-f9fd-4f4a-9f79-b8ec46417ff5",
   "metadata": {},
   "outputs": [],
   "source": [
    "arr3= np.array([\"sudh kumar\", \"krish naik\"])"
   ]
  },
  {
   "cell_type": "code",
   "execution_count": 20,
   "id": "575e142f-ca00-4026-969e-9a41b1af67f2",
   "metadata": {},
   "outputs": [
    {
     "data": {
      "text/plain": [
       "array(['sudh kumar', 'krish naik'], dtype='<U10')"
      ]
     },
     "execution_count": 20,
     "metadata": {},
     "output_type": "execute_result"
    }
   ],
   "source": [
    "arr3"
   ]
  },
  {
   "cell_type": "code",
   "execution_count": 21,
   "id": "67c394f8-5256-439f-b2de-794af16714de",
   "metadata": {},
   "outputs": [
    {
     "data": {
      "text/plain": [
       "array(['SUDH KUMAR', 'KRISH NAIK'], dtype='<U10')"
      ]
     },
     "execution_count": 21,
     "metadata": {},
     "output_type": "execute_result"
    }
   ],
   "source": [
    "np.char.upper(arr3)          # inside char class all operations which we can do on strings is present, so here all the letters are made uppercase"
   ]
  },
  {
   "cell_type": "code",
   "execution_count": 22,
   "id": "61d750f5-f31f-45ce-92f6-5d9b65f5a184",
   "metadata": {},
   "outputs": [
    {
     "data": {
      "text/plain": [
       "array(['Sudh kumar', 'Krish naik'], dtype='<U10')"
      ]
     },
     "execution_count": 22,
     "metadata": {},
     "output_type": "execute_result"
    }
   ],
   "source": [
    "np.char.capitalize(arr3)    # only the first letter is made capital"
   ]
  },
  {
   "cell_type": "code",
   "execution_count": 23,
   "id": "17fbb71d-66ef-4329-a847-d9726df1e718",
   "metadata": {},
   "outputs": [
    {
     "data": {
      "text/plain": [
       "array(['Sudh Kumar', 'Krish Naik'], dtype='<U10')"
      ]
     },
     "execution_count": 23,
     "metadata": {},
     "output_type": "execute_result"
    }
   ],
   "source": [
    "np.char.title(arr3)      # first letter of each word in string is made capital"
   ]
  },
  {
   "cell_type": "markdown",
   "id": "1baee482-e7cd-4608-81f9-e77fe35736a5",
   "metadata": {},
   "source": [
    "##### Numpy- Mathematical operations-"
   ]
  },
  {
   "cell_type": "code",
   "execution_count": 24,
   "id": "18282881-3ce4-45a9-bf78-20862101b31b",
   "metadata": {},
   "outputs": [
    {
     "data": {
      "text/plain": [
       "array([[8, 5, 8, 3],\n",
       "       [7, 7, 8, 1],\n",
       "       [3, 7, 1, 3]])"
      ]
     },
     "execution_count": 24,
     "metadata": {},
     "output_type": "execute_result"
    }
   ],
   "source": [
    "arr1"
   ]
  },
  {
   "cell_type": "code",
   "execution_count": 25,
   "id": "d6de9862-3557-49dc-b8a5-b1958259ff49",
   "metadata": {},
   "outputs": [
    {
     "data": {
      "text/plain": [
       "array([[ 0.98935825, -0.95892427,  0.98935825,  0.14112001],\n",
       "       [ 0.6569866 ,  0.6569866 ,  0.98935825,  0.84147098],\n",
       "       [ 0.14112001,  0.6569866 ,  0.84147098,  0.14112001]])"
      ]
     },
     "execution_count": 25,
     "metadata": {},
     "output_type": "execute_result"
    }
   ],
   "source": [
    "np.sin(arr1)    # gives sine of every element"
   ]
  },
  {
   "cell_type": "code",
   "execution_count": 26,
   "id": "7e4f995e-8fd8-4b75-b13e-462bf82d8866",
   "metadata": {},
   "outputs": [
    {
     "data": {
      "text/plain": [
       "array([[-0.14550003,  0.28366219, -0.14550003, -0.9899925 ],\n",
       "       [ 0.75390225,  0.75390225, -0.14550003,  0.54030231],\n",
       "       [-0.9899925 ,  0.75390225,  0.54030231, -0.9899925 ]])"
      ]
     },
     "execution_count": 26,
     "metadata": {},
     "output_type": "execute_result"
    }
   ],
   "source": [
    "np.cos(arr1)    # gives cosine of every element"
   ]
  },
  {
   "cell_type": "code",
   "execution_count": 27,
   "id": "0fd5887f-5564-4ff6-b0a8-5e45eeebef12",
   "metadata": {},
   "outputs": [
    {
     "data": {
      "text/plain": [
       "array([[-6.79971146, -3.38051501, -6.79971146, -0.14254654],\n",
       "       [ 0.87144798,  0.87144798, -6.79971146,  1.55740772],\n",
       "       [-0.14254654,  0.87144798,  1.55740772, -0.14254654]])"
      ]
     },
     "execution_count": 27,
     "metadata": {},
     "output_type": "execute_result"
    }
   ],
   "source": [
    "np.tan(arr1)        # gives tangent of every element"
   ]
  },
  {
   "cell_type": "code",
   "execution_count": 28,
   "id": "e5b25ff0-5c54-4b24-b14b-31d29a9c0d0f",
   "metadata": {},
   "outputs": [
    {
     "data": {
      "text/plain": [
       "array([[0.90308999, 0.69897   , 0.90308999, 0.47712125],\n",
       "       [0.84509804, 0.84509804, 0.90308999, 0.        ],\n",
       "       [0.47712125, 0.84509804, 0.        , 0.47712125]])"
      ]
     },
     "execution_count": 28,
     "metadata": {},
     "output_type": "execute_result"
    }
   ],
   "source": [
    "np.log10(arr1)        # gives log base 10 of every element"
   ]
  },
  {
   "cell_type": "code",
   "execution_count": 29,
   "id": "f246962e-15e5-4eb2-a3a3-72af6887561b",
   "metadata": {},
   "outputs": [
    {
     "data": {
      "text/plain": [
       "array([[2.98095799e+03, 1.48413159e+02, 2.98095799e+03, 2.00855369e+01],\n",
       "       [1.09663316e+03, 1.09663316e+03, 2.98095799e+03, 2.71828183e+00],\n",
       "       [2.00855369e+01, 1.09663316e+03, 2.71828183e+00, 2.00855369e+01]])"
      ]
     },
     "execution_count": 29,
     "metadata": {},
     "output_type": "execute_result"
    }
   ],
   "source": [
    "np.exp(arr1)       # gives exponential of every element"
   ]
  },
  {
   "cell_type": "code",
   "execution_count": 30,
   "id": "70041f92-e248-4938-9f21-2319e8c8231d",
   "metadata": {},
   "outputs": [
    {
     "data": {
      "text/plain": [
       "array([[64, 25, 64,  9],\n",
       "       [49, 49, 64,  1],\n",
       "       [ 9, 49,  1,  9]])"
      ]
     },
     "execution_count": 30,
     "metadata": {},
     "output_type": "execute_result"
    }
   ],
   "source": [
    "np.power(arr1, 2)      # gives every element raised to the power 2"
   ]
  },
  {
   "cell_type": "code",
   "execution_count": 38,
   "id": "f47e43ac-b2ff-469d-8f9b-2d47ce48cdee",
   "metadata": {},
   "outputs": [
    {
     "data": {
      "text/plain": [
       "5.083333333333333"
      ]
     },
     "execution_count": 38,
     "metadata": {},
     "output_type": "execute_result"
    }
   ],
   "source": [
    "np.mean(arr1)         # gives mean value"
   ]
  },
  {
   "cell_type": "code",
   "execution_count": 32,
   "id": "d92cae82-7ed1-468f-9325-cda98de345ba",
   "metadata": {},
   "outputs": [
    {
     "data": {
      "text/plain": [
       "6.0"
      ]
     },
     "execution_count": 32,
     "metadata": {},
     "output_type": "execute_result"
    }
   ],
   "source": [
    "np.median(arr1)      # gives median value of total array"
   ]
  },
  {
   "cell_type": "code",
   "execution_count": 34,
   "id": "5e0e388d-659f-4d6e-a4fc-68e21c91437b",
   "metadata": {},
   "outputs": [
    {
     "data": {
      "text/plain": [
       "2.628635049264584"
      ]
     },
     "execution_count": 34,
     "metadata": {},
     "output_type": "execute_result"
    }
   ],
   "source": [
    "np.std(arr1)       # gives standard deviation i.e. dispersion from mean"
   ]
  },
  {
   "cell_type": "code",
   "execution_count": 35,
   "id": "9640c537-15e4-435b-95b3-f39ce2090382",
   "metadata": {},
   "outputs": [
    {
     "data": {
      "text/plain": [
       "6.909722222222221"
      ]
     },
     "execution_count": 35,
     "metadata": {},
     "output_type": "execute_result"
    }
   ],
   "source": [
    "np.var(arr1)      # give variance"
   ]
  },
  {
   "cell_type": "code",
   "execution_count": 36,
   "id": "2d76591f-1bec-4d2a-80b5-5d4add9f77ef",
   "metadata": {},
   "outputs": [
    {
     "data": {
      "text/plain": [
       "1"
      ]
     },
     "execution_count": 36,
     "metadata": {},
     "output_type": "execute_result"
    }
   ],
   "source": [
    "np.min(arr1)"
   ]
  },
  {
   "cell_type": "code",
   "execution_count": 37,
   "id": "4063aee8-6f9e-434d-b952-cb19b692aa52",
   "metadata": {},
   "outputs": [
    {
     "data": {
      "text/plain": [
       "8"
      ]
     },
     "execution_count": 37,
     "metadata": {},
     "output_type": "execute_result"
    }
   ],
   "source": [
    "np.max(arr1)"
   ]
  },
  {
   "cell_type": "markdown",
   "id": "5f106ac7-68ec-483e-bd0b-d5ab06acb20f",
   "metadata": {},
   "source": [
    "##### Numpy- Arithmetic operations"
   ]
  },
  {
   "cell_type": "code",
   "execution_count": 39,
   "id": "38226ad9-448b-4b1e-b438-1df48f000b9b",
   "metadata": {},
   "outputs": [
    {
     "data": {
      "text/plain": [
       "array([[8, 5, 8, 3],\n",
       "       [7, 7, 8, 1],\n",
       "       [3, 7, 1, 3]])"
      ]
     },
     "execution_count": 39,
     "metadata": {},
     "output_type": "execute_result"
    }
   ],
   "source": [
    "arr1"
   ]
  },
  {
   "cell_type": "code",
   "execution_count": 40,
   "id": "3c304586-2951-43a6-9f9c-f8e5798706e9",
   "metadata": {},
   "outputs": [
    {
     "data": {
      "text/plain": [
       "array([[6, 7, 1, 2],\n",
       "       [5, 9, 5, 2],\n",
       "       [9, 2, 8, 3]])"
      ]
     },
     "execution_count": 40,
     "metadata": {},
     "output_type": "execute_result"
    }
   ],
   "source": [
    "arr2"
   ]
  },
  {
   "cell_type": "code",
   "execution_count": 41,
   "id": "5db86c02-029e-42e0-9ef1-89bc660069f7",
   "metadata": {},
   "outputs": [
    {
     "data": {
      "text/plain": [
       "array([[ 2, -2,  7,  1],\n",
       "       [ 2, -2,  3, -1],\n",
       "       [-6,  5, -7,  0]])"
      ]
     },
     "execution_count": 41,
     "metadata": {},
     "output_type": "execute_result"
    }
   ],
   "source": [
    "arr1-arr2"
   ]
  },
  {
   "cell_type": "code",
   "execution_count": 42,
   "id": "eff3390a-77ba-4dcc-a902-cf982e46ecb1",
   "metadata": {},
   "outputs": [
    {
     "data": {
      "text/plain": [
       "array([[ 2, -2,  7,  1],\n",
       "       [ 2, -2,  3, -1],\n",
       "       [-6,  5, -7,  0]])"
      ]
     },
     "execution_count": 42,
     "metadata": {},
     "output_type": "execute_result"
    }
   ],
   "source": [
    "# this we can perform using the function subtract-\n",
    "np.subtract(arr1, arr2)"
   ]
  },
  {
   "cell_type": "code",
   "execution_count": 43,
   "id": "dbdb2c47-3c59-46a3-b96b-c6c86c31c177",
   "metadata": {},
   "outputs": [
    {
     "data": {
      "text/plain": [
       "array([[48, 35,  8,  6],\n",
       "       [35, 63, 40,  2],\n",
       "       [27, 14,  8,  9]])"
      ]
     },
     "execution_count": 43,
     "metadata": {},
     "output_type": "execute_result"
    }
   ],
   "source": [
    "np.multiply(arr1, arr2)"
   ]
  },
  {
   "cell_type": "code",
   "execution_count": 44,
   "id": "85f0a6a9-da71-44c6-aa51-a4e1c341696d",
   "metadata": {},
   "outputs": [
    {
     "data": {
      "text/plain": [
       "array([[2, 5, 0, 1],\n",
       "       [2, 7, 3, 1],\n",
       "       [3, 1, 1, 0]])"
      ]
     },
     "execution_count": 44,
     "metadata": {},
     "output_type": "execute_result"
    }
   ],
   "source": [
    "np.mod(arr1,arr2)      # mod gives the remainder after elements of arr1 are divided by arr2"
   ]
  },
  {
   "cell_type": "code",
   "execution_count": 45,
   "id": "518ff174-ea2f-4cd4-a294-1904a52c3a7a",
   "metadata": {},
   "outputs": [
    {
     "data": {
      "text/plain": [
       "array([[  262144,    78125,        8,        9],\n",
       "       [   16807, 40353607,    32768,        1],\n",
       "       [   19683,       49,        1,       27]])"
      ]
     },
     "execution_count": 45,
     "metadata": {},
     "output_type": "execute_result"
    }
   ],
   "source": [
    "np.power(arr1, arr2)"
   ]
  },
  {
   "cell_type": "code",
   "execution_count": 46,
   "id": "d6b58dd0-278d-49aa-a42d-e793d4d6c104",
   "metadata": {},
   "outputs": [
    {
     "data": {
      "text/plain": [
       "array([[2.82842712, 2.23606798, 2.82842712, 1.73205081],\n",
       "       [2.64575131, 2.64575131, 2.82842712, 1.        ],\n",
       "       [1.73205081, 2.64575131, 1.        , 1.73205081]])"
      ]
     },
     "execution_count": 46,
     "metadata": {},
     "output_type": "execute_result"
    }
   ],
   "source": [
    "np.sqrt(arr1)"
   ]
  },
  {
   "cell_type": "markdown",
   "id": "9ee484ea-fbd5-4a09-8049-4cb4f2d49b47",
   "metadata": {},
   "source": [
    "##### Numpy- Statistical functions"
   ]
  },
  {
   "cell_type": "code",
   "execution_count": 47,
   "id": "e58e9ac0-78ec-43bd-92e5-0e4dbe1f0b0e",
   "metadata": {},
   "outputs": [
    {
     "data": {
      "text/plain": [
       "array([[6, 7, 1, 2],\n",
       "       [5, 9, 5, 2],\n",
       "       [9, 2, 8, 3]])"
      ]
     },
     "execution_count": 47,
     "metadata": {},
     "output_type": "execute_result"
    }
   ],
   "source": [
    "arr2"
   ]
  },
  {
   "cell_type": "code",
   "execution_count": 48,
   "id": "ac66f101-63f7-4a8f-abe2-247e76b066e8",
   "metadata": {},
   "outputs": [
    {
     "data": {
      "text/plain": [
       "4.916666666666667"
      ]
     },
     "execution_count": 48,
     "metadata": {},
     "output_type": "execute_result"
    }
   ],
   "source": [
    "np.mean(arr2)"
   ]
  },
  {
   "cell_type": "code",
   "execution_count": 49,
   "id": "933c5aaf-f74c-4b56-93ca-4a542f1b9098",
   "metadata": {},
   "outputs": [
    {
     "data": {
      "text/plain": [
       "5.0"
      ]
     },
     "execution_count": 49,
     "metadata": {},
     "output_type": "execute_result"
    }
   ],
   "source": [
    "np.median(arr2)"
   ]
  },
  {
   "cell_type": "code",
   "execution_count": 50,
   "id": "c163893e-3ea0-49d0-94de-32d9ac3195b9",
   "metadata": {},
   "outputs": [
    {
     "data": {
      "text/plain": [
       "2.7826346428439996"
      ]
     },
     "execution_count": 50,
     "metadata": {},
     "output_type": "execute_result"
    }
   ],
   "source": [
    "np.std(arr2)"
   ]
  },
  {
   "cell_type": "code",
   "execution_count": 51,
   "id": "8c127ffa-b598-45f4-86d9-7ac3c52e7cc6",
   "metadata": {},
   "outputs": [
    {
     "data": {
      "text/plain": [
       "7.7430555555555545"
      ]
     },
     "execution_count": 51,
     "metadata": {},
     "output_type": "execute_result"
    }
   ],
   "source": [
    "np.var(arr2)"
   ]
  },
  {
   "cell_type": "code",
   "execution_count": 52,
   "id": "2ece64bb-581b-4f23-bbd7-c3da0805e530",
   "metadata": {},
   "outputs": [
    {
     "data": {
      "text/plain": [
       "1"
      ]
     },
     "execution_count": 52,
     "metadata": {},
     "output_type": "execute_result"
    }
   ],
   "source": [
    "np.min(arr2)"
   ]
  },
  {
   "cell_type": "code",
   "execution_count": 54,
   "id": "29b16e49-e047-4d7b-95c5-257e4baaa65c",
   "metadata": {},
   "outputs": [
    {
     "data": {
      "text/plain": [
       "9"
      ]
     },
     "execution_count": 54,
     "metadata": {},
     "output_type": "execute_result"
    }
   ],
   "source": [
    "np.max(arr2)"
   ]
  },
  {
   "cell_type": "markdown",
   "id": "e2227d8f-bf72-4869-8d2b-904d67e9b5e1",
   "metadata": {},
   "source": [
    "#### Numpy (Part-4)"
   ]
  },
  {
   "cell_type": "markdown",
   "id": "e8f19e36-8ae9-4904-bdd9-a44c50953d70",
   "metadata": {},
   "source": [
    "##### sort, search, counting functions-"
   ]
  },
  {
   "cell_type": "code",
   "execution_count": 55,
   "id": "07c69756-4977-46a8-9f8d-2515bd220094",
   "metadata": {},
   "outputs": [],
   "source": [
    "import numpy as np"
   ]
  },
  {
   "cell_type": "code",
   "execution_count": 56,
   "id": "5b62ed3b-9944-407d-831a-38d1f322c607",
   "metadata": {},
   "outputs": [],
   "source": [
    "arr= np.array([4,2,8,5,3,9,12,56])"
   ]
  },
  {
   "cell_type": "code",
   "execution_count": 57,
   "id": "df0c95b5-48f1-46e5-a767-95b9fe9a7b3b",
   "metadata": {},
   "outputs": [
    {
     "data": {
      "text/plain": [
       "array([ 4,  2,  8,  5,  3,  9, 12, 56])"
      ]
     },
     "execution_count": 57,
     "metadata": {},
     "output_type": "execute_result"
    }
   ],
   "source": [
    "arr"
   ]
  },
  {
   "cell_type": "code",
   "execution_count": 58,
   "id": "b2aa02da-034b-4c26-8ef1-847a26231d46",
   "metadata": {},
   "outputs": [
    {
     "data": {
      "text/plain": [
       "array([ 2,  3,  4,  5,  8,  9, 12, 56])"
      ]
     },
     "execution_count": 58,
     "metadata": {},
     "output_type": "execute_result"
    }
   ],
   "source": [
    "np.sort(arr)         # it sorts the array in ascending order"
   ]
  },
  {
   "cell_type": "code",
   "execution_count": 59,
   "id": "5e484ff2-84ff-499f-bf29-06016c3e711f",
   "metadata": {},
   "outputs": [
    {
     "data": {
      "text/plain": [
       "5"
      ]
     },
     "execution_count": 59,
     "metadata": {},
     "output_type": "execute_result"
    }
   ],
   "source": [
    "np.searchsorted(arr, 6)"
   ]
  },
  {
   "cell_type": "code",
   "execution_count": 60,
   "id": "9a481b6f-2b39-4f22-92d3-73c18455e627",
   "metadata": {},
   "outputs": [],
   "source": [
    "# searchsorted() function finds the position where the given element has to be entered to maintain order i.e. sorted"
   ]
  },
  {
   "cell_type": "code",
   "execution_count": 61,
   "id": "6fd56838-2b5b-4956-8bc9-a2103e0c331a",
   "metadata": {},
   "outputs": [],
   "source": [
    "arr1= np.array([0,324,645,65,6,6,0,0,0,234])"
   ]
  },
  {
   "cell_type": "code",
   "execution_count": 62,
   "id": "7893fe54-8249-4039-9043-9609f3a5b860",
   "metadata": {},
   "outputs": [
    {
     "data": {
      "text/plain": [
       "array([  0, 324, 645,  65,   6,   6,   0,   0,   0, 234])"
      ]
     },
     "execution_count": 62,
     "metadata": {},
     "output_type": "execute_result"
    }
   ],
   "source": [
    "arr1"
   ]
  },
  {
   "cell_type": "code",
   "execution_count": 63,
   "id": "22bf3b55-50e6-42aa-8059-f8a2c8784aa5",
   "metadata": {},
   "outputs": [
    {
     "data": {
      "text/plain": [
       "6"
      ]
     },
     "execution_count": 63,
     "metadata": {},
     "output_type": "execute_result"
    }
   ],
   "source": [
    "np.count_nonzero(arr1)        # returns how many non-zero elements are present in the array"
   ]
  },
  {
   "cell_type": "code",
   "execution_count": 64,
   "id": "a869b6d8-f3ae-4946-8e8d-16c27bdaea2a",
   "metadata": {},
   "outputs": [
    {
     "data": {
      "text/plain": [
       "(array([1, 2, 3, 4, 5, 9]),)"
      ]
     },
     "execution_count": 64,
     "metadata": {},
     "output_type": "execute_result"
    }
   ],
   "source": [
    "np.where(arr1>0)      # it will give the indices of elements where this condition is satisfied"
   ]
  },
  {
   "cell_type": "code",
   "execution_count": 65,
   "id": "6dbbaca9-2a04-4d3e-9aba-7dff63dcb9c1",
   "metadata": {},
   "outputs": [
    {
     "data": {
      "text/plain": [
       "array([324, 645,  65,   6,   6, 234])"
      ]
     },
     "execution_count": 65,
     "metadata": {},
     "output_type": "execute_result"
    }
   ],
   "source": [
    "np.extract(arr1>2, arr1)     # it will extract all those elements which satisfy this condition"
   ]
  },
  {
   "cell_type": "markdown",
   "id": "d7f2fc5e-35e3-46c6-a663-94ed397978ed",
   "metadata": {},
   "source": [
    "##### Numpy- Byte swapping-"
   ]
  },
  {
   "cell_type": "code",
   "execution_count": 66,
   "id": "830c2803-9cf0-4915-8ab1-666c3ca52b2f",
   "metadata": {},
   "outputs": [
    {
     "data": {
      "text/plain": [
       "array([ 4,  2,  8,  5,  3,  9, 12, 56])"
      ]
     },
     "execution_count": 66,
     "metadata": {},
     "output_type": "execute_result"
    }
   ],
   "source": [
    "arr"
   ]
  },
  {
   "cell_type": "code",
   "execution_count": 67,
   "id": "d63f979e-86ea-49a3-bc68-2c19cea8c9ef",
   "metadata": {},
   "outputs": [
    {
     "data": {
      "text/plain": [
       "array([ 288230376151711744,  144115188075855872,  576460752303423488,\n",
       "        360287970189639680,  216172782113783808,  648518346341351424,\n",
       "        864691128455135232, 4035225266123964416])"
      ]
     },
     "execution_count": 67,
     "metadata": {},
     "output_type": "execute_result"
    }
   ],
   "source": [
    "arr.byteswap()         # it gives the byte version of the elements of the array"
   ]
  },
  {
   "cell_type": "code",
   "execution_count": 68,
   "id": "12ac50ee-9552-428a-906a-bbd9d79fbfd4",
   "metadata": {},
   "outputs": [
    {
     "data": {
      "text/plain": [
       "array([ 4,  2,  8,  5,  3,  9, 12, 56])"
      ]
     },
     "execution_count": 68,
     "metadata": {},
     "output_type": "execute_result"
    }
   ],
   "source": [
    "arr"
   ]
  },
  {
   "cell_type": "code",
   "execution_count": 70,
   "id": "4e6cdcb7-8a5b-4f5c-b071-734292b1c366",
   "metadata": {},
   "outputs": [],
   "source": [
    "# so byteswap() is temporary during run time, to make it permanent we can do inplace= True"
   ]
  },
  {
   "cell_type": "code",
   "execution_count": 71,
   "id": "a9b6c842-c9d4-46ac-a135-41e63c0883cd",
   "metadata": {},
   "outputs": [
    {
     "data": {
      "text/plain": [
       "array([ 288230376151711744,  144115188075855872,  576460752303423488,\n",
       "        360287970189639680,  216172782113783808,  648518346341351424,\n",
       "        864691128455135232, 4035225266123964416])"
      ]
     },
     "execution_count": 71,
     "metadata": {},
     "output_type": "execute_result"
    }
   ],
   "source": [
    "arr.byteswap(inplace= True)"
   ]
  },
  {
   "cell_type": "code",
   "execution_count": 72,
   "id": "4303447b-51bf-4fc0-b5ee-74f6cfce9192",
   "metadata": {},
   "outputs": [
    {
     "data": {
      "text/plain": [
       "array([ 288230376151711744,  144115188075855872,  576460752303423488,\n",
       "        360287970189639680,  216172782113783808,  648518346341351424,\n",
       "        864691128455135232, 4035225266123964416])"
      ]
     },
     "execution_count": 72,
     "metadata": {},
     "output_type": "execute_result"
    }
   ],
   "source": [
    "arr"
   ]
  },
  {
   "cell_type": "code",
   "execution_count": 73,
   "id": "0a547eed-53cf-4201-9979-a5f2a1c1b31f",
   "metadata": {},
   "outputs": [],
   "source": [
    "# So, permanently the elements of the array are swapped with their byte version"
   ]
  },
  {
   "cell_type": "markdown",
   "id": "345133b2-ec7d-47a2-8183-629facd4385a",
   "metadata": {},
   "source": [
    "##### Numpy- copies and views-"
   ]
  },
  {
   "cell_type": "code",
   "execution_count": 74,
   "id": "3c1b6205-5bdb-48cb-b02c-f91aa7b094e0",
   "metadata": {},
   "outputs": [
    {
     "data": {
      "text/plain": [
       "array([  0, 324, 645,  65,   6,   6,   0,   0,   0, 234])"
      ]
     },
     "execution_count": 74,
     "metadata": {},
     "output_type": "execute_result"
    }
   ],
   "source": [
    "arr1"
   ]
  },
  {
   "cell_type": "code",
   "execution_count": 75,
   "id": "c8679e15-b4ec-4811-bf8d-19e94cb469bc",
   "metadata": {},
   "outputs": [],
   "source": [
    "a= np.copy(arr1)        # deep copy"
   ]
  },
  {
   "cell_type": "code",
   "execution_count": 76,
   "id": "776b459f-1820-4cfd-a510-3e921f8f7b74",
   "metadata": {},
   "outputs": [],
   "source": [
    "b= arr1.view()"
   ]
  },
  {
   "cell_type": "code",
   "execution_count": 77,
   "id": "5a7c0c9a-e6e3-4a5d-a429-cfc7e5c05110",
   "metadata": {},
   "outputs": [
    {
     "data": {
      "text/plain": [
       "array([  0, 324, 645,  65,   6,   6,   0,   0,   0, 234])"
      ]
     },
     "execution_count": 77,
     "metadata": {},
     "output_type": "execute_result"
    }
   ],
   "source": [
    "b"
   ]
  },
  {
   "cell_type": "code",
   "execution_count": 78,
   "id": "6acd63e1-b621-41e0-b7e7-6e81bd1c16ef",
   "metadata": {},
   "outputs": [],
   "source": [
    "b[0]= 234"
   ]
  },
  {
   "cell_type": "code",
   "execution_count": 79,
   "id": "ca23b512-fc3e-491f-8577-2dcb9b20ac05",
   "metadata": {},
   "outputs": [
    {
     "data": {
      "text/plain": [
       "array([234, 324, 645,  65,   6,   6,   0,   0,   0, 234])"
      ]
     },
     "execution_count": 79,
     "metadata": {},
     "output_type": "execute_result"
    }
   ],
   "source": [
    "b"
   ]
  },
  {
   "cell_type": "code",
   "execution_count": 80,
   "id": "8b158336-67ea-4e60-933e-1e977462c5c3",
   "metadata": {},
   "outputs": [
    {
     "data": {
      "text/plain": [
       "array([234, 324, 645,  65,   6,   6,   0,   0,   0, 234])"
      ]
     },
     "execution_count": 80,
     "metadata": {},
     "output_type": "execute_result"
    }
   ],
   "source": [
    "arr1"
   ]
  },
  {
   "cell_type": "code",
   "execution_count": 81,
   "id": "3bc84ae9-cf94-4d80-bce9-7f6d80bd9752",
   "metadata": {},
   "outputs": [],
   "source": [
    "# so, view() function is a shallow copy"
   ]
  },
  {
   "cell_type": "markdown",
   "id": "4d1bc7c3-2d68-4377-8b54-1704c4ee9332",
   "metadata": {},
   "source": [
    "##### Numpy- Matrix library-"
   ]
  },
  {
   "cell_type": "code",
   "execution_count": 82,
   "id": "824a59d7-d463-43c2-8496-175aa8c79657",
   "metadata": {},
   "outputs": [],
   "source": [
    "import numpy.matlib as nm"
   ]
  },
  {
   "cell_type": "code",
   "execution_count": 83,
   "id": "b38c4af6-5cc0-467a-a5fc-02f3c64845e2",
   "metadata": {},
   "outputs": [
    {
     "data": {
      "text/plain": [
       "matrix([[0., 0., 0., 0., 0.]])"
      ]
     },
     "execution_count": 83,
     "metadata": {},
     "output_type": "execute_result"
    }
   ],
   "source": [
    "nm.zeros(5)           # it will generate a matrix with 5 zeroes"
   ]
  },
  {
   "cell_type": "code",
   "execution_count": 84,
   "id": "d9c2efce-f4e6-4566-b48e-3650b5a4dd30",
   "metadata": {},
   "outputs": [
    {
     "data": {
      "text/plain": [
       "matrix([[1., 1., 1., 1., 1.]])"
      ]
     },
     "execution_count": 84,
     "metadata": {},
     "output_type": "execute_result"
    }
   ],
   "source": [
    "nm.ones(5)          # it will generate a matrix with 5 ones"
   ]
  },
  {
   "cell_type": "code",
   "execution_count": 86,
   "id": "fb3e0da1-5d99-40ee-9233-933487fa148d",
   "metadata": {},
   "outputs": [],
   "source": [
    "# matrix is a subclass of array"
   ]
  },
  {
   "cell_type": "code",
   "execution_count": 87,
   "id": "fad75e13-1127-4753-9b5e-122b660ee5e8",
   "metadata": {},
   "outputs": [
    {
     "data": {
      "text/plain": [
       "matrix([[1., 0., 0., 0.],\n",
       "        [0., 1., 0., 0.],\n",
       "        [0., 0., 1., 0.],\n",
       "        [0., 0., 0., 1.]])"
      ]
     },
     "execution_count": 87,
     "metadata": {},
     "output_type": "execute_result"
    }
   ],
   "source": [
    "nm.eye(4)           # a 4x4 identity matrix is generated"
   ]
  },
  {
   "cell_type": "markdown",
   "id": "2ccad7be-3ead-4abf-9827-7263f5ab8b81",
   "metadata": {},
   "source": [
    "##### Numpy- Linear algebra-"
   ]
  },
  {
   "cell_type": "code",
   "execution_count": 88,
   "id": "0190d5a0-cbf3-48a9-95c1-37d9801900b6",
   "metadata": {},
   "outputs": [],
   "source": [
    "arr2= np.random.randint([[2,3], [4,5]])"
   ]
  },
  {
   "cell_type": "code",
   "execution_count": 93,
   "id": "65356867-b3c6-4710-996e-81e2bc066582",
   "metadata": {},
   "outputs": [],
   "source": [
    "arr3= np.random.randint([[5,3], [2,5]])"
   ]
  },
  {
   "cell_type": "code",
   "execution_count": 90,
   "id": "5b145cf9-ea5a-4cc8-a16c-372a3b10f2ae",
   "metadata": {},
   "outputs": [
    {
     "data": {
      "text/plain": [
       "array([[1, 1],\n",
       "       [0, 0]])"
      ]
     },
     "execution_count": 90,
     "metadata": {},
     "output_type": "execute_result"
    }
   ],
   "source": [
    "arr2"
   ]
  },
  {
   "cell_type": "code",
   "execution_count": 94,
   "id": "ce3784d2-40f1-40c5-8426-a371a3e938e6",
   "metadata": {},
   "outputs": [
    {
     "data": {
      "text/plain": [
       "array([[3, 0],\n",
       "       [1, 3]])"
      ]
     },
     "execution_count": 94,
     "metadata": {},
     "output_type": "execute_result"
    }
   ],
   "source": [
    "arr3"
   ]
  },
  {
   "cell_type": "code",
   "execution_count": 95,
   "id": "5ee1abd2-0d23-4f40-bd25-52525551c48e",
   "metadata": {},
   "outputs": [
    {
     "data": {
      "text/plain": [
       "array([[4, 3],\n",
       "       [0, 0]])"
      ]
     },
     "execution_count": 95,
     "metadata": {},
     "output_type": "execute_result"
    }
   ],
   "source": [
    "np.dot(arr2, arr3)"
   ]
  },
  {
   "cell_type": "code",
   "execution_count": 96,
   "id": "d305b53a-7738-49c3-9013-f9673bef1f42",
   "metadata": {},
   "outputs": [
    {
     "data": {
      "text/plain": [
       "array([[4, 3],\n",
       "       [0, 0]])"
      ]
     },
     "execution_count": 96,
     "metadata": {},
     "output_type": "execute_result"
    }
   ],
   "source": [
    "arr2@arr3"
   ]
  },
  {
   "cell_type": "code",
   "execution_count": 97,
   "id": "ec994322-9312-4b17-b994-09bb93be659b",
   "metadata": {},
   "outputs": [],
   "source": [
    "# so dot product is simply matrix multiplication"
   ]
  },
  {
   "cell_type": "code",
   "execution_count": null,
   "id": "cf008667-544a-49e0-bce7-1f53fbdf9997",
   "metadata": {},
   "outputs": [],
   "source": []
  }
 ],
 "metadata": {
  "kernelspec": {
   "display_name": "Python 3 (ipykernel)",
   "language": "python",
   "name": "python3"
  },
  "language_info": {
   "codemirror_mode": {
    "name": "ipython",
    "version": 3
   },
   "file_extension": ".py",
   "mimetype": "text/x-python",
   "name": "python",
   "nbconvert_exporter": "python",
   "pygments_lexer": "ipython3",
   "version": "3.10.8"
  }
 },
 "nbformat": 4,
 "nbformat_minor": 5
}
