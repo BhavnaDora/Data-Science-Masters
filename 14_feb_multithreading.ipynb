{
 "cells": [
  {
   "cell_type": "code",
   "execution_count": 1,
   "id": "dd3bcb0f-df89-4177-9fde-3bf1d0c2eecb",
   "metadata": {},
   "outputs": [],
   "source": [
    "import threading"
   ]
  },
  {
   "cell_type": "code",
   "execution_count": 4,
   "id": "41eb82c8-1cfc-43ee-9f23-e4399d210ab9",
   "metadata": {},
   "outputs": [],
   "source": [
    "def test(id):\n",
    "    print(\"this is my test id %d\" % id)"
   ]
  },
  {
   "cell_type": "code",
   "execution_count": 5,
   "id": "11e5ba37-46c2-4383-834f-c9dc6e10276b",
   "metadata": {},
   "outputs": [
    {
     "name": "stdout",
     "output_type": "stream",
     "text": [
      "this is my test id 10\n"
     ]
    }
   ],
   "source": [
    "test(10)"
   ]
  },
  {
   "cell_type": "code",
   "execution_count": 6,
   "id": "fad5b8b6-df26-432a-91c4-cf90ee8a4b7b",
   "metadata": {},
   "outputs": [
    {
     "name": "stdout",
     "output_type": "stream",
     "text": [
      "this is my test id 1\n"
     ]
    }
   ],
   "source": [
    "test(1)"
   ]
  },
  {
   "cell_type": "code",
   "execution_count": 7,
   "id": "7a1c29f7-601f-4019-b05f-f8b6ed890a65",
   "metadata": {},
   "outputs": [
    {
     "name": "stdout",
     "output_type": "stream",
     "text": [
      "this is my test id 3\n"
     ]
    }
   ],
   "source": [
    "test(3)"
   ]
  },
  {
   "cell_type": "code",
   "execution_count": 8,
   "id": "b3b88895-a12f-48b0-b495-703745508e1e",
   "metadata": {},
   "outputs": [],
   "source": [
    "# we are calling the function 3 times. \n",
    "# But if we want to call the function at once and pass these 3 arguments simultaneously, threading concept has to be used"
   ]
  },
  {
   "cell_type": "code",
   "execution_count": 9,
   "id": "393b6211-62d4-47c5-b88d-d7790133249d",
   "metadata": {},
   "outputs": [],
   "source": [
    "thread= [threading.Thread(target= test, args= (i,)) for i in [10,1,3]]"
   ]
  },
  {
   "cell_type": "code",
   "execution_count": 11,
   "id": "d875c9cd-b793-48cb-9273-93b90c9c4f4f",
   "metadata": {},
   "outputs": [
    {
     "data": {
      "text/plain": [
       "[<Thread(Thread-5 (test), initial)>,\n",
       " <Thread(Thread-6 (test), initial)>,\n",
       " <Thread(Thread-7 (test), initial)>]"
      ]
     },
     "execution_count": 11,
     "metadata": {},
     "output_type": "execute_result"
    }
   ],
   "source": [
    "thread     # it will give a list with 3 threads"
   ]
  },
  {
   "cell_type": "code",
   "execution_count": 12,
   "id": "8da32ad6-2040-4501-bcc7-ff166ff8571e",
   "metadata": {},
   "outputs": [
    {
     "name": "stdout",
     "output_type": "stream",
     "text": [
      "this is my test id 10\n",
      "this is my test id 1\n",
      "this is my test id 3\n"
     ]
    }
   ],
   "source": [
    "for t in thread:\n",
    "    t.start()     # this will run the function program thrice because 3 threads were created "
   ]
  },
  {
   "cell_type": "code",
   "execution_count": 13,
   "id": "79551a19-89bc-4457-80d3-91e8549fba37",
   "metadata": {},
   "outputs": [],
   "source": [
    "# we are given 3 links each having some data. \n",
    "# now write a program which will fetch data from all these links and store it in our system.\n",
    "\n",
    "import urllib.request           # from the url(link) it is going to request the data\n",
    "\n",
    "def file_download(url, filename):\n",
    "    urllib.request.urlretrieve( url, filename)    # this function retrieves the data from url and stores it in file\n"
   ]
  },
  {
   "cell_type": "code",
   "execution_count": 14,
   "id": "2c67abc0-4879-4a37-9692-e9faebf81081",
   "metadata": {},
   "outputs": [],
   "source": [
    "file_download(\"https://raw.githubusercontent.com/itsfoss/text-files/master/agatha.txt\", \"test12.txt\")"
   ]
  },
  {
   "cell_type": "code",
   "execution_count": 15,
   "id": "d2456e5d-a553-405a-ae4c-654de41d7cc5",
   "metadata": {},
   "outputs": [],
   "source": [
    "url_list= [\"https://raw.githubusercontent.com/itsfoss/text-files/master/agatha.txt\", \"https://raw.githubusercontent.com/itsfoss/text-files/master/sherlock.txt\", \"https://raw.githubusercontent.com/itsfoss/text-files/master/sample_log_file.txt\"]"
   ]
  },
  {
   "cell_type": "code",
   "execution_count": 16,
   "id": "8757e807-2211-4214-b476-24194dc74d14",
   "metadata": {},
   "outputs": [],
   "source": [
    "file_list= [\"data1.txt\",\"data2.txt\",\"data3.txt\"]"
   ]
  },
  {
   "cell_type": "code",
   "execution_count": 19,
   "id": "f92d5ad7-059b-446d-b786-63c1822bfb3b",
   "metadata": {},
   "outputs": [],
   "source": [
    "thread1= [threading.Thread(target= file_download, args= (url_list[i],file_list[i])) for i in range(len(url_list))]"
   ]
  },
  {
   "cell_type": "code",
   "execution_count": 20,
   "id": "ea590265-4699-41f4-a502-2359debb72cc",
   "metadata": {},
   "outputs": [
    {
     "data": {
      "text/plain": [
       "[<Thread(Thread-11 (file_download), initial)>,\n",
       " <Thread(Thread-12 (file_download), initial)>,\n",
       " <Thread(Thread-13 (file_download), initial)>]"
      ]
     },
     "execution_count": 20,
     "metadata": {},
     "output_type": "execute_result"
    }
   ],
   "source": [
    "thread1"
   ]
  },
  {
   "cell_type": "code",
   "execution_count": 21,
   "id": "e9e779b5-734f-4e52-9e89-054b81b64fe7",
   "metadata": {},
   "outputs": [],
   "source": [
    "for t in thread1:\n",
    "    t.start()"
   ]
  },
  {
   "cell_type": "code",
   "execution_count": null,
   "id": "0edabdb3-960f-4ca2-b2c0-1f68af6cc928",
   "metadata": {},
   "outputs": [],
   "source": [
    "# so Thread creates 3 instances of our function taking arguments as url_list and file_list. \n",
    "# Running it in for loop gives the data in files."
   ]
  },
  {
   "cell_type": "code",
   "execution_count": 22,
   "id": "6e07fbfa-6f17-4021-826a-0c08b69714ff",
   "metadata": {},
   "outputs": [],
   "source": [
    "def test1(x):\n",
    "    for i in range(10):\n",
    "        print(\"test1 print the value of x %d and value of i %d\" %(x,i))"
   ]
  },
  {
   "cell_type": "code",
   "execution_count": 23,
   "id": "d1924601-20fc-4369-a7eb-3d71a9105ea0",
   "metadata": {},
   "outputs": [
    {
     "name": "stdout",
     "output_type": "stream",
     "text": [
      "test1 print the value of x 10 and value of i 0\n",
      "test1 print the value of x 10 and value of i 1\n",
      "test1 print the value of x 10 and value of i 2\n",
      "test1 print the value of x 10 and value of i 3\n",
      "test1 print the value of x 10 and value of i 4\n",
      "test1 print the value of x 10 and value of i 5\n",
      "test1 print the value of x 10 and value of i 6\n",
      "test1 print the value of x 10 and value of i 7\n",
      "test1 print the value of x 10 and value of i 8\n",
      "test1 print the value of x 10 and value of i 9\n"
     ]
    }
   ],
   "source": [
    "test1(10)"
   ]
  },
  {
   "cell_type": "code",
   "execution_count": 25,
   "id": "87da00be-8e49-48e9-994d-5f47edc384d2",
   "metadata": {},
   "outputs": [
    {
     "name": "stdout",
     "output_type": "stream",
     "text": [
      "test1 print the value of x 2 and value of i 0\n",
      "test1 print the value of x 2 and value of i 1\n",
      "test1 print the value of x 2 and value of i 2\n",
      "test1 print the value of x 2 and value of i 3\n",
      "test1 print the value of x 2 and value of i 4\n",
      "test1 print the value of x 2 and value of i 5\n",
      "test1 print the value of x 2 and value of i 6\n",
      "test1 print the value of x 2 and value of i 7\n",
      "test1 print the value of x 2 and value of i 8\n",
      "test1 print the value of x 2 and value of i 9\n"
     ]
    }
   ],
   "source": [
    "test1(2)"
   ]
  },
  {
   "cell_type": "code",
   "execution_count": 26,
   "id": "3acbcb9d-f7d3-4ef6-8574-a739927a162e",
   "metadata": {},
   "outputs": [],
   "source": [
    "# if we have multiple inputs for this function we will use thread to execute them simultaneously\n",
    "\n",
    "thread2= [threading.Thread(target= test1, args=(i,)) for i in [100,20,10,5]]"
   ]
  },
  {
   "cell_type": "code",
   "execution_count": 27,
   "id": "8607ca25-ff3a-42f7-bad7-b43af16bf96f",
   "metadata": {},
   "outputs": [
    {
     "data": {
      "text/plain": [
       "[<Thread(Thread-14 (test1), initial)>,\n",
       " <Thread(Thread-15 (test1), initial)>,\n",
       " <Thread(Thread-16 (test1), initial)>,\n",
       " <Thread(Thread-17 (test1), initial)>]"
      ]
     },
     "execution_count": 27,
     "metadata": {},
     "output_type": "execute_result"
    }
   ],
   "source": [
    "thread2"
   ]
  },
  {
   "cell_type": "code",
   "execution_count": 28,
   "id": "4ab06ec3-389b-4819-9d68-f2cd1cd7ded6",
   "metadata": {},
   "outputs": [
    {
     "name": "stdout",
     "output_type": "stream",
     "text": [
      "test1 print the value of x 100 and value of i 0\n",
      "test1 print the value of x 100 and value of i 1\n",
      "test1 print the value of x 100 and value of i 2\n",
      "test1 print the value of x 100 and value of i 3\n",
      "test1 print the value of x 100 and value of i 4\n",
      "test1 print the value of x 100 and value of i 5\n",
      "test1 print the value of x 100 and value of i 6\n",
      "test1 print the value of x 100 and value of i 7\n",
      "test1 print the value of x 100 and value of i 8\n",
      "test1 print the value of x 100 and value of i 9\n",
      "test1 print the value of x 20 and value of i 0\n",
      "test1 print the value of x 20 and value of i 1\n",
      "test1 print the value of x 20 and value of i 2\n",
      "test1 print the value of x 20 and value of i 3\n",
      "test1 print the value of x 20 and value of i 4\n",
      "test1 print the value of x 20 and value of i 5\n",
      "test1 print the value of x 20 and value of i 6\n",
      "test1 print the value of x 20 and value of i 7\n",
      "test1 print the value of x 20 and value of i 8\n",
      "test1 print the value of x 20 and value of i 9\n",
      "test1 print the value of x 10 and value of i 0\n",
      "test1 print the value of x 10 and value of i 1\n",
      "test1 print the value of x 10 and value of i 2\n",
      "test1 print the value of x 10 and value of i 3\n",
      "test1 print the value of x 10 and value of i 4\n",
      "test1 print the value of x 10 and value of i 5\n",
      "test1 print the value of x 10 and value of i 6\n",
      "test1 print the value of x 10 and value of i 7\n",
      "test1 print the value of x 10 and value of i 8\n",
      "test1 print the value of x 10 and value of i 9\n",
      "test1 print the value of x 5 and value of i 0\n",
      "test1 print the value of x 5 and value of i 1\n",
      "test1 print the value of x 5 and value of i 2\n",
      "test1 print the value of x 5 and value of i 3\n",
      "test1 print the value of x 5 and value of i 4\n",
      "test1 print the value of x 5 and value of i 5\n",
      "test1 print the value of x 5 and value of i 6\n",
      "test1 print the value of x 5 and value of i 7\n",
      "test1 print the value of x 5 and value of i 8\n",
      "test1 print the value of x 5 and value of i 9\n"
     ]
    }
   ],
   "source": [
    "for t in thread2:\n",
    "    t.start()"
   ]
  },
  {
   "cell_type": "code",
   "execution_count": 33,
   "id": "f89ba36a-02a0-4680-98be-42b53093c659",
   "metadata": {},
   "outputs": [],
   "source": [
    "# if we introduce sleep for 1 sec, then the next thread is exceuted before the completion of first one\n",
    "import time\n",
    "def test1(x):\n",
    "    for i in range(10):\n",
    "        print(\"test1 print the value of x %d and value of i %d\" %(x,i))\n",
    "        time.sleep(1)"
   ]
  },
  {
   "cell_type": "code",
   "execution_count": 38,
   "id": "c910cb33-e40a-4568-81e7-cc8ac9199e6a",
   "metadata": {},
   "outputs": [],
   "source": [
    "thread2= [ threading.Thread(target= test1, args=(i,)) for i in [100,20,10,5]]"
   ]
  },
  {
   "cell_type": "code",
   "execution_count": 39,
   "id": "a17ba3c3-0333-4c5a-85d9-5865bb91a72c",
   "metadata": {},
   "outputs": [
    {
     "data": {
      "text/plain": [
       "[<Thread(Thread-26 (test1), initial)>,\n",
       " <Thread(Thread-27 (test1), initial)>,\n",
       " <Thread(Thread-28 (test1), initial)>,\n",
       " <Thread(Thread-29 (test1), initial)>]"
      ]
     },
     "execution_count": 39,
     "metadata": {},
     "output_type": "execute_result"
    }
   ],
   "source": [
    "thread2"
   ]
  },
  {
   "cell_type": "code",
   "execution_count": 40,
   "id": "c3aef0c5-8a34-4a66-af04-d2cee449540d",
   "metadata": {},
   "outputs": [
    {
     "name": "stdout",
     "output_type": "stream",
     "text": [
      "test1 print the value of x 100 and value of i 0\n",
      "test1 print the value of x 20 and value of i 0\n",
      "test1 print the value of x 10 and value of i 0\n",
      "test1 print the value of x 5 and value of i 0\n",
      "test1 print the value of x 20 and value of i 1\n",
      "test1 print the value of x 100 and value of i 1\n",
      "test1 print the value of x 5 and value of i 1\n",
      "test1 print the value of x 10 and value of i 1\n",
      "test1 print the value of x 20 and value of i 2test1 print the value of x 100 and value of i 2\n",
      "\n",
      "test1 print the value of x 5 and value of i 2\n",
      "test1 print the value of x 10 and value of i 2\n",
      "test1 print the value of x 100 and value of i 3\n",
      "test1 print the value of x 10 and value of i 3\n",
      "test1 print the value of x 20 and value of i 3\n",
      "test1 print the value of x 5 and value of i 3\n",
      "test1 print the value of x 100 and value of i 4\n",
      "test1 print the value of x 10 and value of i 4\n",
      "test1 print the value of x 5 and value of i 4\n",
      "test1 print the value of x 20 and value of i 4\n",
      "test1 print the value of x 100 and value of i 5\n",
      "test1 print the value of x 10 and value of i 5\n",
      "test1 print the value of x 20 and value of i 5\n",
      "test1 print the value of x 5 and value of i 5\n",
      "test1 print the value of x 100 and value of i 6\n",
      "test1 print the value of x 20 and value of i 6\n",
      "test1 print the value of x 10 and value of i 6\n",
      "test1 print the value of x 5 and value of i 6\n",
      "test1 print the value of x 100 and value of i 7\n",
      "test1 print the value of x 20 and value of i 7\n",
      "test1 print the value of x 10 and value of i 7\n",
      "test1 print the value of x 5 and value of i 7\n",
      "test1 print the value of x 100 and value of i 8\n",
      "test1 print the value of x 5 and value of i 8\n",
      "test1 print the value of x 20 and value of i 8\n",
      "test1 print the value of x 10 and value of i 8\n",
      "test1 print the value of x 100 and value of i 9\n",
      "test1 print the value of x 5 and value of i 9\n",
      "test1 print the value of x 10 and value of i 9\n",
      "test1 print the value of x 20 and value of i 9\n"
     ]
    }
   ],
   "source": [
    "for t in thread2:\n",
    "    t.start()"
   ]
  },
  {
   "cell_type": "code",
   "execution_count": 41,
   "id": "1941c543-3e5d-4206-851d-a436cf0de97c",
   "metadata": {},
   "outputs": [],
   "source": [
    "shared_var=0\n",
    "lock_var= threading.Lock()\n",
    "def test2(x):\n",
    "    global shared_var\n",
    "    with lock_var:\n",
    "        shared_var= shared_var+1\n",
    "        print(\"value of x %d and value of shared_var %d\" %(x,shared_var))\n",
    "        time.sleep(1)\n",
    "    "
   ]
  },
  {
   "cell_type": "code",
   "execution_count": 42,
   "id": "dcc0f19e-c6f9-4ad6-89e9-fdab9c439e5b",
   "metadata": {},
   "outputs": [
    {
     "name": "stdout",
     "output_type": "stream",
     "text": [
      "value of x 2 and value of shared_var 1\n"
     ]
    }
   ],
   "source": [
    "test2(2)"
   ]
  },
  {
   "cell_type": "code",
   "execution_count": 43,
   "id": "f267eb7f-98c1-41c3-ad5e-769342167101",
   "metadata": {},
   "outputs": [
    {
     "name": "stdout",
     "output_type": "stream",
     "text": [
      "value of x 3 and value of shared_var 2\n"
     ]
    }
   ],
   "source": [
    "test2(3)"
   ]
  },
  {
   "cell_type": "code",
   "execution_count": 44,
   "id": "c70f7675-539a-4c1f-8270-560537b1fdc3",
   "metadata": {},
   "outputs": [
    {
     "name": "stdout",
     "output_type": "stream",
     "text": [
      "value of x 4 and value of shared_var 3\n"
     ]
    }
   ],
   "source": [
    "test2(4)"
   ]
  },
  {
   "cell_type": "code",
   "execution_count": 45,
   "id": "d5eb5277-4521-4b64-9955-acd3a022d10c",
   "metadata": {},
   "outputs": [
    {
     "name": "stdout",
     "output_type": "stream",
     "text": [
      "value of x 3 and value of shared_var 4\n"
     ]
    }
   ],
   "source": [
    "test2(3)"
   ]
  },
  {
   "cell_type": "code",
   "execution_count": 46,
   "id": "cd3489c3-350d-40eb-864f-08b7a5176d86",
   "metadata": {},
   "outputs": [],
   "source": [
    "thread3= [threading.Thread(target= test2, args= (i,)) for i in [1,2,3,4,4,5]]"
   ]
  },
  {
   "cell_type": "code",
   "execution_count": 47,
   "id": "57c1ad47-2816-4b87-801a-d20fb012b55d",
   "metadata": {},
   "outputs": [
    {
     "data": {
      "text/plain": [
       "[<Thread(Thread-30 (test2), initial)>,\n",
       " <Thread(Thread-31 (test2), initial)>,\n",
       " <Thread(Thread-32 (test2), initial)>,\n",
       " <Thread(Thread-33 (test2), initial)>,\n",
       " <Thread(Thread-34 (test2), initial)>,\n",
       " <Thread(Thread-35 (test2), initial)>]"
      ]
     },
     "execution_count": 47,
     "metadata": {},
     "output_type": "execute_result"
    }
   ],
   "source": [
    "thread3"
   ]
  },
  {
   "cell_type": "code",
   "execution_count": 48,
   "id": "65c77ad9-9827-459d-80ca-3bf5c8ac8db4",
   "metadata": {},
   "outputs": [
    {
     "name": "stdout",
     "output_type": "stream",
     "text": [
      "value of x 1 and value of shared_var 5\n",
      "value of x 2 and value of shared_var 6\n",
      "value of x 3 and value of shared_var 7\n",
      "value of x 4 and value of shared_var 8\n",
      "value of x 4 and value of shared_var 9\n",
      "value of x 5 and value of shared_var 10\n"
     ]
    }
   ],
   "source": [
    "for t in thread3:\n",
    "    t.start()"
   ]
  },
  {
   "cell_type": "code",
   "execution_count": 49,
   "id": "9c2a7f46-1238-4ef0-9802-5525bb56aced",
   "metadata": {},
   "outputs": [],
   "source": [
    "# here we notice that even if we have sleep for 1 sec, the next thread is not executed before completing the first thread. \n",
    "# This is because we have locked the code using threading.Lock() so it ensures that one thread is exceuted at one time"
   ]
  },
  {
   "cell_type": "code",
   "execution_count": null,
   "id": "ff33ad30-3c47-4ac9-b2c9-674af1f232ab",
   "metadata": {},
   "outputs": [],
   "source": []
  }
 ],
 "metadata": {
  "kernelspec": {
   "display_name": "Python 3 (ipykernel)",
   "language": "python",
   "name": "python3"
  },
  "language_info": {
   "codemirror_mode": {
    "name": "ipython",
    "version": 3
   },
   "file_extension": ".py",
   "mimetype": "text/x-python",
   "name": "python",
   "nbconvert_exporter": "python",
   "pygments_lexer": "ipython3",
   "version": "3.10.8"
  }
 },
 "nbformat": 4,
 "nbformat_minor": 5
}
