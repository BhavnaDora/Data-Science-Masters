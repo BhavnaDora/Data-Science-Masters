{
 "cells": [
  {
   "cell_type": "code",
   "execution_count": 1,
   "id": "279e6e3e-0afc-4b45-9292-8d4b318ee9c6",
   "metadata": {},
   "outputs": [],
   "source": [
    "d={}"
   ]
  },
  {
   "cell_type": "code",
   "execution_count": 2,
   "id": "5fb2749a-3873-4416-8a41-8b1f3f066fac",
   "metadata": {},
   "outputs": [
    {
     "data": {
      "text/plain": [
       "dict"
      ]
     },
     "execution_count": 2,
     "metadata": {},
     "output_type": "execute_result"
    }
   ],
   "source": [
    "type(d)"
   ]
  },
  {
   "cell_type": "code",
   "execution_count": 3,
   "id": "ec24bc12-7f6e-448c-addf-ff4a8c055418",
   "metadata": {},
   "outputs": [],
   "source": [
    "d1={\"name\":\"Bhavna\",\"email_id\":\"dorabhavna@gmail.com\",\"number\":234324}"
   ]
  },
  {
   "cell_type": "code",
   "execution_count": 4,
   "id": "ea8f8d6c-0058-4214-b808-8c842bc4716a",
   "metadata": {},
   "outputs": [
    {
     "data": {
      "text/plain": [
       "{'name': 'Bhavna', 'email_id': 'dorabhavna@gmail.com', 'number': 234324}"
      ]
     },
     "execution_count": 4,
     "metadata": {},
     "output_type": "execute_result"
    }
   ],
   "source": [
    "d1"
   ]
  },
  {
   "cell_type": "code",
   "execution_count": 5,
   "id": "100ffd27-27ec-4bdc-9ece-4655e7550919",
   "metadata": {},
   "outputs": [],
   "source": [
    "# In dictionary keys cannot be repeated. If the keys are repeated then it gets updated with the other same key\n",
    "\n",
    "d2={\"name\":\"Bhavna\",\"name\":\"Dora\"}"
   ]
  },
  {
   "cell_type": "code",
   "execution_count": 6,
   "id": "0f563db3-77a3-4ff3-9790-149cb8b01187",
   "metadata": {},
   "outputs": [
    {
     "data": {
      "text/plain": [
       "{'name': 'Dora'}"
      ]
     },
     "execution_count": 6,
     "metadata": {},
     "output_type": "execute_result"
    }
   ],
   "source": [
    "d2"
   ]
  },
  {
   "cell_type": "markdown",
   "id": "e3a4ecfb-7953-4534-9e0f-3cde73acfdc2",
   "metadata": {},
   "source": [
    "##### Keys can be integer, float, bool, string, tuples but can't be special characters, list, set, dict"
   ]
  },
  {
   "cell_type": "code",
   "execution_count": 7,
   "id": "9e285646-9a01-424b-b157-8d9eb8971b17",
   "metadata": {},
   "outputs": [],
   "source": [
    "d3={234324:\"abc\"}"
   ]
  },
  {
   "cell_type": "code",
   "execution_count": 8,
   "id": "1cd0e1c7-b215-49be-91f3-b33afd79cdf2",
   "metadata": {},
   "outputs": [
    {
     "data": {
      "text/plain": [
       "{234324: 'abc'}"
      ]
     },
     "execution_count": 8,
     "metadata": {},
     "output_type": "execute_result"
    }
   ],
   "source": [
    "d3"
   ]
  },
  {
   "cell_type": "code",
   "execution_count": 9,
   "id": "b2ff0981-d721-4c0d-a696-ce821f0e788c",
   "metadata": {},
   "outputs": [],
   "source": [
    "d4={234.45:\"abc\"}"
   ]
  },
  {
   "cell_type": "code",
   "execution_count": 10,
   "id": "67220f80-46a3-44b2-a0bb-9047c451ce97",
   "metadata": {},
   "outputs": [
    {
     "data": {
      "text/plain": [
       "{234.45: 'abc'}"
      ]
     },
     "execution_count": 10,
     "metadata": {},
     "output_type": "execute_result"
    }
   ],
   "source": [
    "d4"
   ]
  },
  {
   "cell_type": "code",
   "execution_count": 11,
   "id": "ebaee0d9-22a0-4126-ba5d-cd933791b47b",
   "metadata": {},
   "outputs": [],
   "source": [
    "d5={True:\"abc\"}"
   ]
  },
  {
   "cell_type": "code",
   "execution_count": 12,
   "id": "0d50db45-2ca9-4736-b346-faa921b6fd46",
   "metadata": {},
   "outputs": [
    {
     "data": {
      "text/plain": [
       "{True: 'abc'}"
      ]
     },
     "execution_count": 12,
     "metadata": {},
     "output_type": "execute_result"
    }
   ],
   "source": [
    "d5"
   ]
  },
  {
   "cell_type": "code",
   "execution_count": 16,
   "id": "26daed04-2f1b-4d9a-9d9a-81bdcc804f0e",
   "metadata": {},
   "outputs": [],
   "source": [
    "d6={(1,2,3):\"abc\"}"
   ]
  },
  {
   "cell_type": "code",
   "execution_count": 17,
   "id": "a3ec507b-b802-44da-8407-585f05070397",
   "metadata": {},
   "outputs": [
    {
     "data": {
      "text/plain": [
       "{(1, 2, 3): 'abc'}"
      ]
     },
     "execution_count": 17,
     "metadata": {},
     "output_type": "execute_result"
    }
   ],
   "source": [
    "d6"
   ]
  },
  {
   "cell_type": "code",
   "execution_count": 14,
   "id": "dd880f9f-2d22-4f63-937a-84927ddc6079",
   "metadata": {},
   "outputs": [
    {
     "ename": "SyntaxError",
     "evalue": "invalid syntax (2591303980.py, line 1)",
     "output_type": "error",
     "traceback": [
      "\u001b[0;36m  Cell \u001b[0;32mIn[14], line 1\u001b[0;36m\u001b[0m\n\u001b[0;31m    d7={@:\"abc\"}\u001b[0m\n\u001b[0m        ^\u001b[0m\n\u001b[0;31mSyntaxError\u001b[0m\u001b[0;31m:\u001b[0m invalid syntax\n"
     ]
    }
   ],
   "source": [
    "d7={@:\"abc\"}"
   ]
  },
  {
   "cell_type": "code",
   "execution_count": 18,
   "id": "ea1b4843-3ecf-4b6b-a258-be091f611cb3",
   "metadata": {},
   "outputs": [
    {
     "ename": "TypeError",
     "evalue": "unhashable type: 'list'",
     "output_type": "error",
     "traceback": [
      "\u001b[0;31m---------------------------------------------------------------------------\u001b[0m",
      "\u001b[0;31mTypeError\u001b[0m                                 Traceback (most recent call last)",
      "Cell \u001b[0;32mIn[18], line 1\u001b[0m\n\u001b[0;32m----> 1\u001b[0m d8\u001b[38;5;241m=\u001b[39m{[\u001b[38;5;241m1\u001b[39m,\u001b[38;5;241m2\u001b[39m,\u001b[38;5;241m3\u001b[39m]:\u001b[38;5;124m\"\u001b[39m\u001b[38;5;124mabc\u001b[39m\u001b[38;5;124m\"\u001b[39m}\n",
      "\u001b[0;31mTypeError\u001b[0m: unhashable type: 'list'"
     ]
    }
   ],
   "source": [
    "d8={[1,2,3]:\"abc\"}"
   ]
  },
  {
   "cell_type": "code",
   "execution_count": 19,
   "id": "12b0f1f2-dad6-4077-8e72-59e56b28623c",
   "metadata": {},
   "outputs": [
    {
     "ename": "TypeError",
     "evalue": "unhashable type: 'set'",
     "output_type": "error",
     "traceback": [
      "\u001b[0;31m---------------------------------------------------------------------------\u001b[0m",
      "\u001b[0;31mTypeError\u001b[0m                                 Traceback (most recent call last)",
      "Cell \u001b[0;32mIn[19], line 1\u001b[0m\n\u001b[0;32m----> 1\u001b[0m d9\u001b[38;5;241m=\u001b[39m{{\u001b[38;5;241m1\u001b[39m,\u001b[38;5;241m2\u001b[39m,\u001b[38;5;241m3\u001b[39m}:\u001b[38;5;124m\"\u001b[39m\u001b[38;5;124mabc\u001b[39m\u001b[38;5;124m\"\u001b[39m}\n",
      "\u001b[0;31mTypeError\u001b[0m: unhashable type: 'set'"
     ]
    }
   ],
   "source": [
    "d9={{1,2,3}:\"abc\"}"
   ]
  },
  {
   "cell_type": "code",
   "execution_count": 20,
   "id": "da8bed2c-401b-4778-96e6-39704366d818",
   "metadata": {},
   "outputs": [
    {
     "ename": "TypeError",
     "evalue": "unhashable type: 'dict'",
     "output_type": "error",
     "traceback": [
      "\u001b[0;31m---------------------------------------------------------------------------\u001b[0m",
      "\u001b[0;31mTypeError\u001b[0m                                 Traceback (most recent call last)",
      "Cell \u001b[0;32mIn[20], line 1\u001b[0m\n\u001b[0;32m----> 1\u001b[0m d10\u001b[38;5;241m=\u001b[39m{{\u001b[38;5;241m12\u001b[39m:\u001b[38;5;124m\"\u001b[39m\u001b[38;5;124mhi\u001b[39m\u001b[38;5;124m\"\u001b[39m}:\u001b[38;5;124m\"\u001b[39m\u001b[38;5;124mabc\u001b[39m\u001b[38;5;124m\"\u001b[39m}\n",
      "\u001b[0;31mTypeError\u001b[0m: unhashable type: 'dict'"
     ]
    }
   ],
   "source": [
    "d10={{12:\"hi\"}:\"abc\"}"
   ]
  },
  {
   "cell_type": "markdown",
   "id": "44eb21ef-9011-4060-9b7f-02806045c694",
   "metadata": {},
   "source": [
    "##### Values can be string, int, float, bool, list, tuple, set, dict"
   ]
  },
  {
   "cell_type": "code",
   "execution_count": 21,
   "id": "8feda61f-68f2-4c77-b3c3-946684b3075d",
   "metadata": {},
   "outputs": [],
   "source": [
    "d11={\"corse_name\":[\"data science masters\",\"web dev\",\"java with dsa and system design\"]}"
   ]
  },
  {
   "cell_type": "code",
   "execution_count": 22,
   "id": "92873a55-814f-44ab-bf42-b3be01c9ad4f",
   "metadata": {},
   "outputs": [
    {
     "data": {
      "text/plain": [
       "{'corse_name': ['data science masters',\n",
       "  'web dev',\n",
       "  'java with dsa and system design']}"
      ]
     },
     "execution_count": 22,
     "metadata": {},
     "output_type": "execute_result"
    }
   ],
   "source": [
    "d11"
   ]
  },
  {
   "cell_type": "code",
   "execution_count": 23,
   "id": "492be6da-e190-4ea6-8990-e40f1bc387fe",
   "metadata": {},
   "outputs": [],
   "source": [
    "d12={\"key\":(1,2,3)}"
   ]
  },
  {
   "cell_type": "code",
   "execution_count": 24,
   "id": "17b8543c-1ecd-464d-9261-784ee1320d61",
   "metadata": {},
   "outputs": [
    {
     "data": {
      "text/plain": [
       "{'key': (1, 2, 3)}"
      ]
     },
     "execution_count": 24,
     "metadata": {},
     "output_type": "execute_result"
    }
   ],
   "source": [
    "d12"
   ]
  },
  {
   "cell_type": "code",
   "execution_count": 25,
   "id": "d5be2ef4-c9fb-47e1-9fdb-9b6daacfc394",
   "metadata": {},
   "outputs": [],
   "source": [
    "d13={\"key\":{1,2,3,4}}"
   ]
  },
  {
   "cell_type": "code",
   "execution_count": 26,
   "id": "62cffca4-b7ab-431b-b64d-b5e433ee6ce1",
   "metadata": {},
   "outputs": [
    {
     "data": {
      "text/plain": [
       "{'key': {1, 2, 3, 4}}"
      ]
     },
     "execution_count": 26,
     "metadata": {},
     "output_type": "execute_result"
    }
   ],
   "source": [
    "d13"
   ]
  },
  {
   "cell_type": "code",
   "execution_count": 28,
   "id": "aff1d099-703a-487a-8bf7-4697becf25e7",
   "metadata": {},
   "outputs": [],
   "source": [
    "d14= {\"key\":{\"name\":\"sudh\",\"class\":\"DSM\"}} # nested dictionary"
   ]
  },
  {
   "cell_type": "code",
   "execution_count": 29,
   "id": "345b7b73-eaaa-4b06-bd73-c3775ed679bc",
   "metadata": {},
   "outputs": [
    {
     "data": {
      "text/plain": [
       "{'key': {'name': 'sudh', 'class': 'DSM'}}"
      ]
     },
     "execution_count": 29,
     "metadata": {},
     "output_type": "execute_result"
    }
   ],
   "source": [
    "d14"
   ]
  },
  {
   "cell_type": "code",
   "execution_count": 30,
   "id": "0d8c7386-9dc7-457a-aac0-26ba2b4fd169",
   "metadata": {},
   "outputs": [],
   "source": [
    "d15= {\"batch_name\":[\"data science masters\",\"web dev\",\"JDS\"],\"start_date\":(28,14,21),\"mentor_name\":{\"krish naik\",\"sudhanshu\",\"hitesh\",\"anurag\",\"navin\",\"hayder\"}}"
   ]
  },
  {
   "cell_type": "code",
   "execution_count": 31,
   "id": "4595429a-337b-483f-a0ad-e3f9d550045b",
   "metadata": {},
   "outputs": [
    {
     "data": {
      "text/plain": [
       "{'batch_name': ['data science masters', 'web dev', 'JDS'],\n",
       " 'start_date': (28, 14, 21),\n",
       " 'mentor_name': {'anurag',\n",
       "  'hayder',\n",
       "  'hitesh',\n",
       "  'krish naik',\n",
       "  'navin',\n",
       "  'sudhanshu'}}"
      ]
     },
     "execution_count": 31,
     "metadata": {},
     "output_type": "execute_result"
    }
   ],
   "source": [
    "d15"
   ]
  },
  {
   "cell_type": "code",
   "execution_count": 34,
   "id": "e3920004-7a14-49cb-bbdb-ac7938526f74",
   "metadata": {},
   "outputs": [],
   "source": [
    "#adding key value pair to existing dict\n",
    "\n",
    "d15[\"timimg\"]=(8,8,8)"
   ]
  },
  {
   "cell_type": "code",
   "execution_count": 35,
   "id": "76ae1661-5fb2-48af-9820-ff70c159e4e7",
   "metadata": {},
   "outputs": [
    {
     "data": {
      "text/plain": [
       "{'batch_name': ['data science masters', 'web dev', 'JDS'],\n",
       " 'start_date': (28, 14, 21),\n",
       " 'mentor_name': {'anurag',\n",
       "  'hayder',\n",
       "  'hitesh',\n",
       "  'krish naik',\n",
       "  'navin',\n",
       "  'sudhanshu'},\n",
       " 'timimg': (8, 8, 8)}"
      ]
     },
     "execution_count": 35,
     "metadata": {},
     "output_type": "execute_result"
    }
   ],
   "source": [
    "d15"
   ]
  },
  {
   "cell_type": "code",
   "execution_count": 69,
   "id": "c562ee7e-1a75-41ed-8344-73dd6d9d930f",
   "metadata": {},
   "outputs": [],
   "source": [
    "d15[\"name\"]=\"Bhavna\""
   ]
  },
  {
   "cell_type": "code",
   "execution_count": 70,
   "id": "c6eaabd4-6a7b-4895-aa12-4e5948f2a26c",
   "metadata": {},
   "outputs": [
    {
     "data": {
      "text/plain": [
       "{'batch_name': ['data science masters', 'web dev', 'JDS'],\n",
       " 'start_date': (28, 14, 21),\n",
       " 'mentor_name': {'anurag',\n",
       "  'hayder',\n",
       "  'hitesh',\n",
       "  'krish naik',\n",
       "  'navin',\n",
       "  'sudhanshu'},\n",
       " 'timimg': (8, 8, 8),\n",
       " 'name': 'Bhavna'}"
      ]
     },
     "execution_count": 70,
     "metadata": {},
     "output_type": "execute_result"
    }
   ],
   "source": [
    "d15"
   ]
  },
  {
   "cell_type": "code",
   "execution_count": 36,
   "id": "b6ec8355-dd8d-486c-963b-1947a161623f",
   "metadata": {},
   "outputs": [
    {
     "data": {
      "text/plain": [
       "['data science masters', 'web dev', 'JDS']"
      ]
     },
     "execution_count": 36,
     "metadata": {},
     "output_type": "execute_result"
    }
   ],
   "source": [
    "#extracting value by giving a key-\n",
    "d15[\"batch_name\"]"
   ]
  },
  {
   "cell_type": "code",
   "execution_count": 37,
   "id": "9d9360ac-75b9-497e-afcd-daec7199516b",
   "metadata": {},
   "outputs": [
    {
     "data": {
      "text/plain": [
       "{'anurag', 'hayder', 'hitesh', 'krish naik', 'navin', 'sudhanshu'}"
      ]
     },
     "execution_count": 37,
     "metadata": {},
     "output_type": "execute_result"
    }
   ],
   "source": [
    "d15[\"mentor_name\"]"
   ]
  },
  {
   "cell_type": "code",
   "execution_count": 38,
   "id": "1a212331-4333-488f-8dfe-13c957f64032",
   "metadata": {},
   "outputs": [
    {
     "ename": "KeyError",
     "evalue": "'key'",
     "output_type": "error",
     "traceback": [
      "\u001b[0;31m---------------------------------------------------------------------------\u001b[0m",
      "\u001b[0;31mKeyError\u001b[0m                                  Traceback (most recent call last)",
      "Cell \u001b[0;32mIn[38], line 1\u001b[0m\n\u001b[0;32m----> 1\u001b[0m \u001b[43md15\u001b[49m\u001b[43m[\u001b[49m\u001b[38;5;124;43m\"\u001b[39;49m\u001b[38;5;124;43mkey\u001b[39;49m\u001b[38;5;124;43m\"\u001b[39;49m\u001b[43m]\u001b[49m\n",
      "\u001b[0;31mKeyError\u001b[0m: 'key'"
     ]
    }
   ],
   "source": [
    "d15[\"key\"]"
   ]
  },
  {
   "cell_type": "code",
   "execution_count": 42,
   "id": "fea706d9-c583-4518-b44e-35484137a537",
   "metadata": {},
   "outputs": [
    {
     "data": {
      "text/plain": [
       "{'key': {'name': 'sudh', 'class': 'DSM'}}"
      ]
     },
     "execution_count": 42,
     "metadata": {},
     "output_type": "execute_result"
    }
   ],
   "source": [
    "#accessing values in nested dictionary-\n",
    "d14"
   ]
  },
  {
   "cell_type": "code",
   "execution_count": 43,
   "id": "60b9bd8e-43d7-49d2-9d5d-8a6dc79c9a09",
   "metadata": {},
   "outputs": [
    {
     "data": {
      "text/plain": [
       "{'name': 'sudh', 'class': 'DSM'}"
      ]
     },
     "execution_count": 43,
     "metadata": {},
     "output_type": "execute_result"
    }
   ],
   "source": [
    "d14[\"key\"]"
   ]
  },
  {
   "cell_type": "code",
   "execution_count": 44,
   "id": "7ff8be1d-4b07-429f-9a57-6e5f6fdd62f9",
   "metadata": {},
   "outputs": [
    {
     "data": {
      "text/plain": [
       "'DSM'"
      ]
     },
     "execution_count": 44,
     "metadata": {},
     "output_type": "execute_result"
    }
   ],
   "source": [
    "d14[\"key\"][\"class\"]"
   ]
  },
  {
   "cell_type": "code",
   "execution_count": 45,
   "id": "df95f71a-6114-46f9-b71c-0c57b029820f",
   "metadata": {},
   "outputs": [],
   "source": [
    "d14[\"key1\"]=\"abc\""
   ]
  },
  {
   "cell_type": "code",
   "execution_count": 46,
   "id": "7285597a-3486-4004-b90a-2b7b01ad4e92",
   "metadata": {},
   "outputs": [
    {
     "data": {
      "text/plain": [
       "{'key': {'name': 'sudh', 'class': 'DSM'}, 'key1': 'abc'}"
      ]
     },
     "execution_count": 46,
     "metadata": {},
     "output_type": "execute_result"
    }
   ],
   "source": [
    "d14"
   ]
  },
  {
   "cell_type": "code",
   "execution_count": 47,
   "id": "1a9254ef-54f7-41e4-8796-3dfd454b5ec1",
   "metadata": {},
   "outputs": [],
   "source": [
    "del d14[\"key1\"]"
   ]
  },
  {
   "cell_type": "code",
   "execution_count": 48,
   "id": "70def578-eb74-4882-95f0-37cbf9a8376c",
   "metadata": {},
   "outputs": [
    {
     "data": {
      "text/plain": [
       "{'key': {'name': 'sudh', 'class': 'DSM'}}"
      ]
     },
     "execution_count": 48,
     "metadata": {},
     "output_type": "execute_result"
    }
   ],
   "source": [
    "d14"
   ]
  },
  {
   "cell_type": "code",
   "execution_count": 49,
   "id": "a92bdaad-974e-4e6a-9df7-12dc9719590d",
   "metadata": {},
   "outputs": [],
   "source": [
    "d14.clear()"
   ]
  },
  {
   "cell_type": "code",
   "execution_count": 50,
   "id": "792ea0a4-a3ba-4e33-96a5-2b1f129f3626",
   "metadata": {},
   "outputs": [
    {
     "data": {
      "text/plain": [
       "{}"
      ]
     },
     "execution_count": 50,
     "metadata": {},
     "output_type": "execute_result"
    }
   ],
   "source": [
    "d14"
   ]
  },
  {
   "cell_type": "code",
   "execution_count": 51,
   "id": "d171850c-03b5-41d0-ac16-6d3206e4bd53",
   "metadata": {},
   "outputs": [
    {
     "data": {
      "text/plain": [
       "5"
      ]
     },
     "execution_count": 51,
     "metadata": {},
     "output_type": "execute_result"
    }
   ],
   "source": [
    "len(d15)    # gives the no. of key-value pairs in dictionary"
   ]
  },
  {
   "cell_type": "code",
   "execution_count": 52,
   "id": "d219713a-bf0a-4640-b021-83d915f4c579",
   "metadata": {},
   "outputs": [
    {
     "data": {
      "text/plain": [
       "dict_keys(['batch_name', 'start_date', 'mentor_name', 'timimg', 'name'])"
      ]
     },
     "execution_count": 52,
     "metadata": {},
     "output_type": "execute_result"
    }
   ],
   "source": [
    "# extract all the keys in dict-\n",
    "\n",
    "d15.keys()"
   ]
  },
  {
   "cell_type": "code",
   "execution_count": 55,
   "id": "914627f3-0245-43ea-bdab-14b99a9b19ba",
   "metadata": {},
   "outputs": [
    {
     "data": {
      "text/plain": [
       "['batch_name', 'start_date', 'mentor_name', 'timimg', 'name']"
      ]
     },
     "execution_count": 55,
     "metadata": {},
     "output_type": "execute_result"
    }
   ],
   "source": [
    "list(d15.keys())"
   ]
  },
  {
   "cell_type": "code",
   "execution_count": 53,
   "id": "88870b27-5a84-4198-b000-512cff378926",
   "metadata": {},
   "outputs": [
    {
     "data": {
      "text/plain": [
       "dict_values([['data science masters', 'web dev', 'JDS'], (28, 14, 21), {'krish naik', 'anurag', 'navin', 'sudhanshu', 'hitesh', 'hayder'}, (8, 8, 8), 'Bhavna'])"
      ]
     },
     "execution_count": 53,
     "metadata": {},
     "output_type": "execute_result"
    }
   ],
   "source": [
    "# extract all the values in dict-\n",
    "\n",
    "d15.values()"
   ]
  },
  {
   "cell_type": "code",
   "execution_count": 54,
   "id": "501ecb97-03b7-4921-9f16-a1071478cbfb",
   "metadata": {},
   "outputs": [
    {
     "data": {
      "text/plain": [
       "[['data science masters', 'web dev', 'JDS'],\n",
       " (28, 14, 21),\n",
       " {'anurag', 'hayder', 'hitesh', 'krish naik', 'navin', 'sudhanshu'},\n",
       " (8, 8, 8),\n",
       " 'Bhavna']"
      ]
     },
     "execution_count": 54,
     "metadata": {},
     "output_type": "execute_result"
    }
   ],
   "source": [
    "list(d15.values())"
   ]
  },
  {
   "cell_type": "code",
   "execution_count": 57,
   "id": "6515245c-b821-4baf-b14a-402efafba852",
   "metadata": {},
   "outputs": [
    {
     "data": {
      "text/plain": [
       "[('batch_name', ['data science masters', 'web dev', 'JDS']),\n",
       " ('start_date', (28, 14, 21)),\n",
       " ('mentor_name',\n",
       "  {'anurag', 'hayder', 'hitesh', 'krish naik', 'navin', 'sudhanshu'}),\n",
       " ('timimg', (8, 8, 8)),\n",
       " ('name', 'Bhavna')]"
      ]
     },
     "execution_count": 57,
     "metadata": {},
     "output_type": "execute_result"
    }
   ],
   "source": [
    "# extract list of key value pairs-\n",
    "\n",
    "list(d15.items())  # it gives all the key value pairs in respective tuples inside a list"
   ]
  },
  {
   "cell_type": "code",
   "execution_count": 71,
   "id": "14e5712e-5336-430e-81b7-8699c46476e6",
   "metadata": {},
   "outputs": [],
   "source": [
    "# Deep copy- using copy function a new memory location is created and the data is copied there.\n",
    "#so changes in d15 doesn't affect d16 and vice-versa\n",
    "\n",
    "d16= d15.copy()"
   ]
  },
  {
   "cell_type": "code",
   "execution_count": 72,
   "id": "e86a325c-06a5-45eb-b0ce-28abe9eaf569",
   "metadata": {},
   "outputs": [
    {
     "data": {
      "text/plain": [
       "{'batch_name': ['data science masters', 'web dev', 'JDS'],\n",
       " 'start_date': (28, 14, 21),\n",
       " 'mentor_name': {'anurag',\n",
       "  'hayder',\n",
       "  'hitesh',\n",
       "  'krish naik',\n",
       "  'navin',\n",
       "  'sudhanshu'},\n",
       " 'timimg': (8, 8, 8),\n",
       " 'name': 'Bhavna'}"
      ]
     },
     "execution_count": 72,
     "metadata": {},
     "output_type": "execute_result"
    }
   ],
   "source": [
    "d16"
   ]
  },
  {
   "cell_type": "code",
   "execution_count": 73,
   "id": "f6825f63-ddc1-4bb2-8463-f583f0b3c290",
   "metadata": {},
   "outputs": [],
   "source": [
    "del d15[\"name\"]"
   ]
  },
  {
   "cell_type": "code",
   "execution_count": 74,
   "id": "06f20bea-5553-4488-90dc-2b36ef28aa6c",
   "metadata": {},
   "outputs": [
    {
     "data": {
      "text/plain": [
       "{'batch_name': ['data science masters', 'web dev', 'JDS'],\n",
       " 'start_date': (28, 14, 21),\n",
       " 'mentor_name': {'anurag',\n",
       "  'hayder',\n",
       "  'hitesh',\n",
       "  'krish naik',\n",
       "  'navin',\n",
       "  'sudhanshu'},\n",
       " 'timimg': (8, 8, 8)}"
      ]
     },
     "execution_count": 74,
     "metadata": {},
     "output_type": "execute_result"
    }
   ],
   "source": [
    "d15"
   ]
  },
  {
   "cell_type": "code",
   "execution_count": 75,
   "id": "8e7296ee-137c-4021-881f-2977ab63c698",
   "metadata": {},
   "outputs": [
    {
     "data": {
      "text/plain": [
       "{'batch_name': ['data science masters', 'web dev', 'JDS'],\n",
       " 'start_date': (28, 14, 21),\n",
       " 'mentor_name': {'anurag',\n",
       "  'hayder',\n",
       "  'hitesh',\n",
       "  'krish naik',\n",
       "  'navin',\n",
       "  'sudhanshu'},\n",
       " 'timimg': (8, 8, 8),\n",
       " 'name': 'Bhavna'}"
      ]
     },
     "execution_count": 75,
     "metadata": {},
     "output_type": "execute_result"
    }
   ],
   "source": [
    "d16"
   ]
  },
  {
   "cell_type": "code",
   "execution_count": 76,
   "id": "f33e2e33-84da-44dd-b968-24d980afa2ea",
   "metadata": {},
   "outputs": [],
   "source": [
    "# Shallow copy- both d15 and d17 point to the same object\n",
    "# so any changes in d15 affects d17 and vice-versa\n",
    "\n",
    "d17=d15"
   ]
  },
  {
   "cell_type": "code",
   "execution_count": 77,
   "id": "4d74a291-8504-4f2f-aa90-aa2537d48cfe",
   "metadata": {},
   "outputs": [
    {
     "data": {
      "text/plain": [
       "{'batch_name': ['data science masters', 'web dev', 'JDS'],\n",
       " 'start_date': (28, 14, 21),\n",
       " 'mentor_name': {'anurag',\n",
       "  'hayder',\n",
       "  'hitesh',\n",
       "  'krish naik',\n",
       "  'navin',\n",
       "  'sudhanshu'},\n",
       " 'timimg': (8, 8, 8)}"
      ]
     },
     "execution_count": 77,
     "metadata": {},
     "output_type": "execute_result"
    }
   ],
   "source": [
    "d17"
   ]
  },
  {
   "cell_type": "code",
   "execution_count": 78,
   "id": "469c702f-5095-4a77-b5db-ddbc2c51fa52",
   "metadata": {},
   "outputs": [],
   "source": [
    "del d15[\"timimg\"]"
   ]
  },
  {
   "cell_type": "code",
   "execution_count": 79,
   "id": "ed5c9c0e-b672-4dc0-a792-bf8a530ab963",
   "metadata": {},
   "outputs": [
    {
     "data": {
      "text/plain": [
       "{'batch_name': ['data science masters', 'web dev', 'JDS'],\n",
       " 'start_date': (28, 14, 21),\n",
       " 'mentor_name': {'anurag',\n",
       "  'hayder',\n",
       "  'hitesh',\n",
       "  'krish naik',\n",
       "  'navin',\n",
       "  'sudhanshu'}}"
      ]
     },
     "execution_count": 79,
     "metadata": {},
     "output_type": "execute_result"
    }
   ],
   "source": [
    "d15"
   ]
  },
  {
   "cell_type": "code",
   "execution_count": 80,
   "id": "175bdc45-d426-4f9d-9e91-e1f2105e06bc",
   "metadata": {},
   "outputs": [
    {
     "data": {
      "text/plain": [
       "{'batch_name': ['data science masters', 'web dev', 'JDS'],\n",
       " 'start_date': (28, 14, 21),\n",
       " 'mentor_name': {'anurag',\n",
       "  'hayder',\n",
       "  'hitesh',\n",
       "  'krish naik',\n",
       "  'navin',\n",
       "  'sudhanshu'}}"
      ]
     },
     "execution_count": 80,
     "metadata": {},
     "output_type": "execute_result"
    }
   ],
   "source": [
    "d17"
   ]
  },
  {
   "cell_type": "code",
   "execution_count": 81,
   "id": "ab10541a-0120-4b13-841a-42b517b4e8f3",
   "metadata": {},
   "outputs": [
    {
     "ename": "TypeError",
     "evalue": "pop expected at least 1 argument, got 0",
     "output_type": "error",
     "traceback": [
      "\u001b[0;31m---------------------------------------------------------------------------\u001b[0m",
      "\u001b[0;31mTypeError\u001b[0m                                 Traceback (most recent call last)",
      "Cell \u001b[0;32mIn[81], line 3\u001b[0m\n\u001b[1;32m      1\u001b[0m \u001b[38;5;66;03m# pop function takes atleast one argument i.e the key to be popped and returns the value corresponding to that key\u001b[39;00m\n\u001b[0;32m----> 3\u001b[0m \u001b[43md15\u001b[49m\u001b[38;5;241;43m.\u001b[39;49m\u001b[43mpop\u001b[49m\u001b[43m(\u001b[49m\u001b[43m)\u001b[49m\n",
      "\u001b[0;31mTypeError\u001b[0m: pop expected at least 1 argument, got 0"
     ]
    }
   ],
   "source": [
    "# pop function takes atleast one argument i.e the key to be popped and returns the value corresponding to that key\n",
    "\n",
    "d15.pop()"
   ]
  },
  {
   "cell_type": "code",
   "execution_count": 82,
   "id": "b5a82e35-c209-4c79-af9c-dbe69b1befc7",
   "metadata": {},
   "outputs": [
    {
     "data": {
      "text/plain": [
       "{'anurag', 'hayder', 'hitesh', 'krish naik', 'navin', 'sudhanshu'}"
      ]
     },
     "execution_count": 82,
     "metadata": {},
     "output_type": "execute_result"
    }
   ],
   "source": [
    "d15.pop(\"mentor_name\")"
   ]
  },
  {
   "cell_type": "code",
   "execution_count": 83,
   "id": "5be83c64-f370-41fb-8999-925643faca3f",
   "metadata": {},
   "outputs": [
    {
     "data": {
      "text/plain": [
       "{'batch_name': ['data science masters', 'web dev', 'JDS'],\n",
       " 'start_date': (28, 14, 21)}"
      ]
     },
     "execution_count": 83,
     "metadata": {},
     "output_type": "execute_result"
    }
   ],
   "source": [
    "d15"
   ]
  },
  {
   "cell_type": "code",
   "execution_count": 84,
   "id": "6ffe4664-7482-4ccb-b687-1734626a82f4",
   "metadata": {},
   "outputs": [
    {
     "data": {
      "text/plain": [
       "{1: ('a', 'b', 'c'), 2: ('a', 'b', 'c'), 3: ('a', 'b', 'c')}"
      ]
     },
     "execution_count": 84,
     "metadata": {},
     "output_type": "execute_result"
    }
   ],
   "source": [
    "# creating a dictionary using fromkeys() function-\n",
    "# fromkeys() takes an iterable (tuple,list,dict,set,string) as 1st argument and values as 2nd argument \n",
    "# and creates the key-value pair respectively\n",
    "\n",
    "d.fromkeys((1,2,3),(\"a\",\"b\",\"c\"))"
   ]
  },
  {
   "cell_type": "code",
   "execution_count": 85,
   "id": "18a54949-a3e5-42bc-88e3-8b3b32a229a1",
   "metadata": {},
   "outputs": [],
   "source": [
    "d18= {\"key1\":\"value1\",\"key2\":\"value2\"}\n",
    "d19= {\"key3\":\"value3\",\"key4\":\"value4\"}"
   ]
  },
  {
   "cell_type": "code",
   "execution_count": 86,
   "id": "1c444c3d-317d-4e27-9a87-95754c658f9c",
   "metadata": {},
   "outputs": [],
   "source": [
    "d18.update(d19)   #update function adds the unique key-value pairs from d19 to d18\n"
   ]
  },
  {
   "cell_type": "code",
   "execution_count": 87,
   "id": "de6c9aab-41cd-4f12-8a58-1366a9311907",
   "metadata": {},
   "outputs": [
    {
     "data": {
      "text/plain": [
       "{'key1': 'value1', 'key2': 'value2', 'key3': 'value3', 'key4': 'value4'}"
      ]
     },
     "execution_count": 87,
     "metadata": {},
     "output_type": "execute_result"
    }
   ],
   "source": [
    "d18"
   ]
  },
  {
   "cell_type": "code",
   "execution_count": 88,
   "id": "b0f1850a-d85b-4998-ba95-5aec08fa44e7",
   "metadata": {},
   "outputs": [
    {
     "data": {
      "text/plain": [
       "{'key3': 'value3', 'key4': 'value4'}"
      ]
     },
     "execution_count": 88,
     "metadata": {},
     "output_type": "execute_result"
    }
   ],
   "source": [
    "d19"
   ]
  },
  {
   "cell_type": "code",
   "execution_count": 89,
   "id": "5f10ed71-33c8-4cf1-9e24-5ab9bd8f4afc",
   "metadata": {},
   "outputs": [],
   "source": [
    "d19.update(d18)"
   ]
  },
  {
   "cell_type": "code",
   "execution_count": 90,
   "id": "c8de135f-69af-471f-a1e7-421866d53d00",
   "metadata": {},
   "outputs": [
    {
     "data": {
      "text/plain": [
       "{'key3': 'value3', 'key4': 'value4', 'key1': 'value1', 'key2': 'value2'}"
      ]
     },
     "execution_count": 90,
     "metadata": {},
     "output_type": "execute_result"
    }
   ],
   "source": [
    "d19"
   ]
  },
  {
   "cell_type": "code",
   "execution_count": 91,
   "id": "adf09e5d-c9e0-43d6-b83f-26202703b609",
   "metadata": {},
   "outputs": [],
   "source": [
    "d19.get(\"sudh\")"
   ]
  },
  {
   "cell_type": "code",
   "execution_count": 93,
   "id": "e9013dca-0c5d-4939-8548-899f6af779bb",
   "metadata": {},
   "outputs": [
    {
     "data": {
      "text/plain": [
       "'value3'"
      ]
     },
     "execution_count": 93,
     "metadata": {},
     "output_type": "execute_result"
    }
   ],
   "source": [
    "d19.get(\"key3\")  # get returns the value coressponding to the key paased"
   ]
  },
  {
   "cell_type": "code",
   "execution_count": 94,
   "id": "d64f3c54-ee13-4301-ba30-79232df3651f",
   "metadata": {},
   "outputs": [
    {
     "data": {
      "text/plain": [
       "'value3'"
      ]
     },
     "execution_count": 94,
     "metadata": {},
     "output_type": "execute_result"
    }
   ],
   "source": [
    "d19[\"key3\"]"
   ]
  },
  {
   "cell_type": "code",
   "execution_count": 95,
   "id": "a4ed31eb-a8af-4a6c-93ea-6606810b7298",
   "metadata": {},
   "outputs": [
    {
     "ename": "KeyError",
     "evalue": "'sudh'",
     "output_type": "error",
     "traceback": [
      "\u001b[0;31m---------------------------------------------------------------------------\u001b[0m",
      "\u001b[0;31mKeyError\u001b[0m                                  Traceback (most recent call last)",
      "Cell \u001b[0;32mIn[95], line 1\u001b[0m\n\u001b[0;32m----> 1\u001b[0m \u001b[43md19\u001b[49m\u001b[43m[\u001b[49m\u001b[38;5;124;43m\"\u001b[39;49m\u001b[38;5;124;43msudh\u001b[39;49m\u001b[38;5;124;43m\"\u001b[39;49m\u001b[43m]\u001b[49m\n",
      "\u001b[0;31mKeyError\u001b[0m: 'sudh'"
     ]
    }
   ],
   "source": [
    "d19[\"sudh\"]"
   ]
  },
  {
   "cell_type": "markdown",
   "id": "7fc6d133-d834-4ac8-91d6-d49043e7be75",
   "metadata": {},
   "source": [
    "##### Dictionary Comprehension"
   ]
  },
  {
   "cell_type": "code",
   "execution_count": 100,
   "id": "e30f9c9c-a41d-4215-8fed-e8e0ae1c0a7e",
   "metadata": {},
   "outputs": [],
   "source": [
    "#squares of first 10 natural numbers\n",
    "d20= {i: i**2 for i in range(1,11)}"
   ]
  },
  {
   "cell_type": "code",
   "execution_count": 97,
   "id": "c2c936c7-9cf6-4354-bcd8-59232e31001b",
   "metadata": {},
   "outputs": [
    {
     "data": {
      "text/plain": [
       "{1: 1, 2: 4, 3: 9, 4: 16, 5: 25, 6: 36, 7: 49, 8: 64, 9: 81, 10: 100}"
      ]
     },
     "execution_count": 97,
     "metadata": {},
     "output_type": "execute_result"
    }
   ],
   "source": [
    "d20"
   ]
  },
  {
   "cell_type": "code",
   "execution_count": 98,
   "id": "41af7cf8-9312-41f2-9a57-d71901de3d74",
   "metadata": {},
   "outputs": [
    {
     "data": {
      "text/plain": [
       "{1: 11, 2: 12, 3: 13, 4: 14, 5: 15, 6: 16, 7: 17, 8: 18, 9: 19, 10: 20}"
      ]
     },
     "execution_count": 98,
     "metadata": {},
     "output_type": "execute_result"
    }
   ],
   "source": [
    "{ i: i+10 for i in range(1,11)}"
   ]
  },
  {
   "cell_type": "code",
   "execution_count": 99,
   "id": "db23da83-1e34-4638-8fda-96a638325ed3",
   "metadata": {},
   "outputs": [
    {
     "data": {
      "text/plain": [
       "{1: 0.0,\n",
       " 2: 0.3010299956639812,\n",
       " 3: 0.47712125471966244,\n",
       " 4: 0.6020599913279624,\n",
       " 5: 0.6989700043360189,\n",
       " 6: 0.7781512503836436,\n",
       " 7: 0.8450980400142568,\n",
       " 8: 0.9030899869919435,\n",
       " 9: 0.9542425094393249,\n",
       " 10: 1.0}"
      ]
     },
     "execution_count": 99,
     "metadata": {},
     "output_type": "execute_result"
    }
   ],
   "source": [
    "import math\n",
    "{ i: math.log10(i)  for i in range(1,11)}"
   ]
  },
  {
   "cell_type": "code",
   "execution_count": 101,
   "id": "5dc432a3-6e8a-4bdb-a71b-4952568a2648",
   "metadata": {},
   "outputs": [
    {
     "name": "stdout",
     "output_type": "stream",
     "text": [
      "4\n",
      "16\n",
      "36\n",
      "64\n",
      "100\n"
     ]
    }
   ],
   "source": [
    "# extract those values whose keys are even no-\n",
    "for i in d20.keys():\n",
    "    if i%2==0:\n",
    "        print(d20[i])\n",
    "        "
   ]
  }
 ],
 "metadata": {
  "kernelspec": {
   "display_name": "Python 3 (ipykernel)",
   "language": "python",
   "name": "python3"
  },
  "language_info": {
   "codemirror_mode": {
    "name": "ipython",
    "version": 3
   },
   "file_extension": ".py",
   "mimetype": "text/x-python",
   "name": "python",
   "nbconvert_exporter": "python",
   "pygments_lexer": "ipython3",
   "version": "3.10.8"
  }
 },
 "nbformat": 4,
 "nbformat_minor": 5
}
