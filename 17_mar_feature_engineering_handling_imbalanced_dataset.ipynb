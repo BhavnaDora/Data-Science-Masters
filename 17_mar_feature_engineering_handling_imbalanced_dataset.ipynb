{
 "cells": [
  {
   "cell_type": "markdown",
   "id": "dd58605c-3cb7-4564-991b-45753f8954cf",
   "metadata": {},
   "source": [
    "### Handling imbalanced dataset-"
   ]
  },
  {
   "cell_type": "markdown",
   "id": "e1c569b8-ae10-4585-98d4-1ead4bf52120",
   "metadata": {},
   "source": [
    "#### Up sampling"
   ]
  },
  {
   "cell_type": "code",
   "execution_count": 1,
   "id": "28ac2810-4ed5-42a5-aa77-ad4413caca30",
   "metadata": {},
   "outputs": [],
   "source": [
    "# upsampling increases the data points of minority category."
   ]
  },
  {
   "cell_type": "code",
   "execution_count": 3,
   "id": "5f8a8f0b-d92f-47de-b2bb-637a38259ddb",
   "metadata": {},
   "outputs": [
    {
     "data": {
      "text/plain": [
       "(900, 100)"
      ]
     },
     "execution_count": 3,
     "metadata": {},
     "output_type": "execute_result"
    }
   ],
   "source": [
    "import pandas as pd\n",
    "import numpy as np\n",
    "\n",
    "# set the random seed for reproducibility-\n",
    "np.random.seed(123)               # we do this so that the random sample will remain fixed and not change everytime\n",
    "\n",
    "# create 2 classes i.e. 2 categories-\n",
    "n_samples= 1000\n",
    "class_0_ratio= 0.9\n",
    "n_class_0= int(n_samples * class_0_ratio)\n",
    "n_class_1= n_samples- n_class_0\n",
    "\n",
    "n_class_0, n_class_1"
   ]
  },
  {
   "cell_type": "code",
   "execution_count": 4,
   "id": "bf077ef9-7c6d-456b-8253-28d072088802",
   "metadata": {},
   "outputs": [],
   "source": [
    "# create dataframe with imbalanced dataset-\n",
    "\n",
    "class_0= pd.DataFrame({\"feature_1\": np.random.normal(loc=0, scale=1, size= n_class_0),\n",
    "                       \"feature_2\": np.random.normal(loc=0, scale=1, size= n_class_0),\n",
    "                       \"target\": [0]*n_class_0})\n",
    "\n",
    "class_1= pd.DataFrame({\"feature_1\": np.random.normal(loc=2, scale=1, size= n_class_1),\n",
    "                       \"feature_2\": np.random.normal(loc=2, scale=1, size= n_class_1),\n",
    "                       \"target\": [1]*n_class_1})\n",
    "\n",
    "df= pd.concat([class_0, class_1]).reset_index(drop= True)"
   ]
  },
  {
   "cell_type": "code",
   "execution_count": 5,
   "id": "f842c50d-86d1-475a-a9da-b7c731e2972f",
   "metadata": {},
   "outputs": [
    {
     "data": {
      "text/html": [
       "<div>\n",
       "<style scoped>\n",
       "    .dataframe tbody tr th:only-of-type {\n",
       "        vertical-align: middle;\n",
       "    }\n",
       "\n",
       "    .dataframe tbody tr th {\n",
       "        vertical-align: top;\n",
       "    }\n",
       "\n",
       "    .dataframe thead th {\n",
       "        text-align: right;\n",
       "    }\n",
       "</style>\n",
       "<table border=\"1\" class=\"dataframe\">\n",
       "  <thead>\n",
       "    <tr style=\"text-align: right;\">\n",
       "      <th></th>\n",
       "      <th>feature_1</th>\n",
       "      <th>feature_2</th>\n",
       "      <th>target</th>\n",
       "    </tr>\n",
       "  </thead>\n",
       "  <tbody>\n",
       "    <tr>\n",
       "      <th>0</th>\n",
       "      <td>-1.085631</td>\n",
       "      <td>0.551302</td>\n",
       "      <td>0</td>\n",
       "    </tr>\n",
       "    <tr>\n",
       "      <th>1</th>\n",
       "      <td>0.997345</td>\n",
       "      <td>0.419589</td>\n",
       "      <td>0</td>\n",
       "    </tr>\n",
       "    <tr>\n",
       "      <th>2</th>\n",
       "      <td>0.282978</td>\n",
       "      <td>1.815652</td>\n",
       "      <td>0</td>\n",
       "    </tr>\n",
       "    <tr>\n",
       "      <th>3</th>\n",
       "      <td>-1.506295</td>\n",
       "      <td>-0.252750</td>\n",
       "      <td>0</td>\n",
       "    </tr>\n",
       "    <tr>\n",
       "      <th>4</th>\n",
       "      <td>-0.578600</td>\n",
       "      <td>-0.292004</td>\n",
       "      <td>0</td>\n",
       "    </tr>\n",
       "    <tr>\n",
       "      <th>...</th>\n",
       "      <td>...</td>\n",
       "      <td>...</td>\n",
       "      <td>...</td>\n",
       "    </tr>\n",
       "    <tr>\n",
       "      <th>995</th>\n",
       "      <td>1.376371</td>\n",
       "      <td>2.845701</td>\n",
       "      <td>1</td>\n",
       "    </tr>\n",
       "    <tr>\n",
       "      <th>996</th>\n",
       "      <td>2.239810</td>\n",
       "      <td>0.880077</td>\n",
       "      <td>1</td>\n",
       "    </tr>\n",
       "    <tr>\n",
       "      <th>997</th>\n",
       "      <td>1.131760</td>\n",
       "      <td>1.640703</td>\n",
       "      <td>1</td>\n",
       "    </tr>\n",
       "    <tr>\n",
       "      <th>998</th>\n",
       "      <td>2.902006</td>\n",
       "      <td>0.390305</td>\n",
       "      <td>1</td>\n",
       "    </tr>\n",
       "    <tr>\n",
       "      <th>999</th>\n",
       "      <td>2.697490</td>\n",
       "      <td>2.013570</td>\n",
       "      <td>1</td>\n",
       "    </tr>\n",
       "  </tbody>\n",
       "</table>\n",
       "<p>1000 rows × 3 columns</p>\n",
       "</div>"
      ],
      "text/plain": [
       "     feature_1  feature_2  target\n",
       "0    -1.085631   0.551302       0\n",
       "1     0.997345   0.419589       0\n",
       "2     0.282978   1.815652       0\n",
       "3    -1.506295  -0.252750       0\n",
       "4    -0.578600  -0.292004       0\n",
       "..         ...        ...     ...\n",
       "995   1.376371   2.845701       1\n",
       "996   2.239810   0.880077       1\n",
       "997   1.131760   1.640703       1\n",
       "998   2.902006   0.390305       1\n",
       "999   2.697490   2.013570       1\n",
       "\n",
       "[1000 rows x 3 columns]"
      ]
     },
     "execution_count": 5,
     "metadata": {},
     "output_type": "execute_result"
    }
   ],
   "source": [
    "df"
   ]
  },
  {
   "cell_type": "code",
   "execution_count": 6,
   "id": "00c9c2ed-afb2-4356-9088-209a9520aba2",
   "metadata": {},
   "outputs": [
    {
     "data": {
      "text/plain": [
       "0    900\n",
       "1    100\n",
       "Name: target, dtype: int64"
      ]
     },
     "execution_count": 6,
     "metadata": {},
     "output_type": "execute_result"
    }
   ],
   "source": [
    "df[\"target\"].value_counts()"
   ]
  },
  {
   "cell_type": "code",
   "execution_count": 7,
   "id": "9eac4ffb-bbf0-487b-9b71-d0f9a07cfd1d",
   "metadata": {},
   "outputs": [],
   "source": [
    "# now we perform upsampling-"
   ]
  },
  {
   "cell_type": "code",
   "execution_count": 9,
   "id": "c28affce-a91e-4299-be25-341f3954da99",
   "metadata": {},
   "outputs": [],
   "source": [
    "df_minority= df[df[\"target\"]==1]\n",
    "df_majority= df[df[\"target\"]==0]"
   ]
  },
  {
   "cell_type": "code",
   "execution_count": 8,
   "id": "458d5942-8ff3-40db-8c31-dd1679d29b7a",
   "metadata": {},
   "outputs": [],
   "source": [
    "from sklearn.utils import resample \n",
    "# the function of resample is that it extrapolates the data points and makes the no. of minority data points and majority data points equal."
   ]
  },
  {
   "cell_type": "code",
   "execution_count": 12,
   "id": "7b272063-8c95-459c-9942-2b28e278e137",
   "metadata": {},
   "outputs": [],
   "source": [
    "df_minority_upsampled= resample(df_minority, replace=True, n_samples= len(df_majority), random_state= 42)"
   ]
  },
  {
   "cell_type": "code",
   "execution_count": 13,
   "id": "0a90a73c-c316-47bd-81aa-abcdef256b1f",
   "metadata": {},
   "outputs": [
    {
     "data": {
      "text/html": [
       "<div>\n",
       "<style scoped>\n",
       "    .dataframe tbody tr th:only-of-type {\n",
       "        vertical-align: middle;\n",
       "    }\n",
       "\n",
       "    .dataframe tbody tr th {\n",
       "        vertical-align: top;\n",
       "    }\n",
       "\n",
       "    .dataframe thead th {\n",
       "        text-align: right;\n",
       "    }\n",
       "</style>\n",
       "<table border=\"1\" class=\"dataframe\">\n",
       "  <thead>\n",
       "    <tr style=\"text-align: right;\">\n",
       "      <th></th>\n",
       "      <th>feature_1</th>\n",
       "      <th>feature_2</th>\n",
       "      <th>target</th>\n",
       "    </tr>\n",
       "  </thead>\n",
       "  <tbody>\n",
       "    <tr>\n",
       "      <th>951</th>\n",
       "      <td>1.125854</td>\n",
       "      <td>1.843917</td>\n",
       "      <td>1</td>\n",
       "    </tr>\n",
       "    <tr>\n",
       "      <th>992</th>\n",
       "      <td>2.196570</td>\n",
       "      <td>1.397425</td>\n",
       "      <td>1</td>\n",
       "    </tr>\n",
       "    <tr>\n",
       "      <th>914</th>\n",
       "      <td>1.932170</td>\n",
       "      <td>2.998053</td>\n",
       "      <td>1</td>\n",
       "    </tr>\n",
       "    <tr>\n",
       "      <th>971</th>\n",
       "      <td>2.272825</td>\n",
       "      <td>3.034197</td>\n",
       "      <td>1</td>\n",
       "    </tr>\n",
       "    <tr>\n",
       "      <th>960</th>\n",
       "      <td>2.870056</td>\n",
       "      <td>1.550485</td>\n",
       "      <td>1</td>\n",
       "    </tr>\n",
       "    <tr>\n",
       "      <th>...</th>\n",
       "      <td>...</td>\n",
       "      <td>...</td>\n",
       "      <td>...</td>\n",
       "    </tr>\n",
       "    <tr>\n",
       "      <th>952</th>\n",
       "      <td>1.188902</td>\n",
       "      <td>2.189189</td>\n",
       "      <td>1</td>\n",
       "    </tr>\n",
       "    <tr>\n",
       "      <th>965</th>\n",
       "      <td>3.919526</td>\n",
       "      <td>1.980541</td>\n",
       "      <td>1</td>\n",
       "    </tr>\n",
       "    <tr>\n",
       "      <th>976</th>\n",
       "      <td>2.810326</td>\n",
       "      <td>3.604614</td>\n",
       "      <td>1</td>\n",
       "    </tr>\n",
       "    <tr>\n",
       "      <th>942</th>\n",
       "      <td>3.621531</td>\n",
       "      <td>2.168229</td>\n",
       "      <td>1</td>\n",
       "    </tr>\n",
       "    <tr>\n",
       "      <th>974</th>\n",
       "      <td>1.160887</td>\n",
       "      <td>2.489203</td>\n",
       "      <td>1</td>\n",
       "    </tr>\n",
       "  </tbody>\n",
       "</table>\n",
       "<p>900 rows × 3 columns</p>\n",
       "</div>"
      ],
      "text/plain": [
       "     feature_1  feature_2  target\n",
       "951   1.125854   1.843917       1\n",
       "992   2.196570   1.397425       1\n",
       "914   1.932170   2.998053       1\n",
       "971   2.272825   3.034197       1\n",
       "960   2.870056   1.550485       1\n",
       "..         ...        ...     ...\n",
       "952   1.188902   2.189189       1\n",
       "965   3.919526   1.980541       1\n",
       "976   2.810326   3.604614       1\n",
       "942   3.621531   2.168229       1\n",
       "974   1.160887   2.489203       1\n",
       "\n",
       "[900 rows x 3 columns]"
      ]
     },
     "execution_count": 13,
     "metadata": {},
     "output_type": "execute_result"
    }
   ],
   "source": [
    "df_minority_upsampled"
   ]
  },
  {
   "cell_type": "code",
   "execution_count": 14,
   "id": "727c5735-a137-4ced-80bf-0c18494a3609",
   "metadata": {},
   "outputs": [
    {
     "data": {
      "text/plain": [
       "(900, 3)"
      ]
     },
     "execution_count": 14,
     "metadata": {},
     "output_type": "execute_result"
    }
   ],
   "source": [
    "df_minority_upsampled.shape"
   ]
  },
  {
   "cell_type": "code",
   "execution_count": 15,
   "id": "0c9eb2fc-33b2-459a-99b1-823613bdc4f2",
   "metadata": {},
   "outputs": [],
   "source": [
    "df_upsampled= pd.concat([df_majority, df_minority_upsampled])"
   ]
  },
  {
   "cell_type": "code",
   "execution_count": 16,
   "id": "f58559b3-5d01-4769-8918-7e6cac5fe9a0",
   "metadata": {},
   "outputs": [
    {
     "data": {
      "text/html": [
       "<div>\n",
       "<style scoped>\n",
       "    .dataframe tbody tr th:only-of-type {\n",
       "        vertical-align: middle;\n",
       "    }\n",
       "\n",
       "    .dataframe tbody tr th {\n",
       "        vertical-align: top;\n",
       "    }\n",
       "\n",
       "    .dataframe thead th {\n",
       "        text-align: right;\n",
       "    }\n",
       "</style>\n",
       "<table border=\"1\" class=\"dataframe\">\n",
       "  <thead>\n",
       "    <tr style=\"text-align: right;\">\n",
       "      <th></th>\n",
       "      <th>feature_1</th>\n",
       "      <th>feature_2</th>\n",
       "      <th>target</th>\n",
       "    </tr>\n",
       "  </thead>\n",
       "  <tbody>\n",
       "    <tr>\n",
       "      <th>0</th>\n",
       "      <td>-1.085631</td>\n",
       "      <td>0.551302</td>\n",
       "      <td>0</td>\n",
       "    </tr>\n",
       "    <tr>\n",
       "      <th>1</th>\n",
       "      <td>0.997345</td>\n",
       "      <td>0.419589</td>\n",
       "      <td>0</td>\n",
       "    </tr>\n",
       "    <tr>\n",
       "      <th>2</th>\n",
       "      <td>0.282978</td>\n",
       "      <td>1.815652</td>\n",
       "      <td>0</td>\n",
       "    </tr>\n",
       "    <tr>\n",
       "      <th>3</th>\n",
       "      <td>-1.506295</td>\n",
       "      <td>-0.252750</td>\n",
       "      <td>0</td>\n",
       "    </tr>\n",
       "    <tr>\n",
       "      <th>4</th>\n",
       "      <td>-0.578600</td>\n",
       "      <td>-0.292004</td>\n",
       "      <td>0</td>\n",
       "    </tr>\n",
       "    <tr>\n",
       "      <th>...</th>\n",
       "      <td>...</td>\n",
       "      <td>...</td>\n",
       "      <td>...</td>\n",
       "    </tr>\n",
       "    <tr>\n",
       "      <th>952</th>\n",
       "      <td>1.188902</td>\n",
       "      <td>2.189189</td>\n",
       "      <td>1</td>\n",
       "    </tr>\n",
       "    <tr>\n",
       "      <th>965</th>\n",
       "      <td>3.919526</td>\n",
       "      <td>1.980541</td>\n",
       "      <td>1</td>\n",
       "    </tr>\n",
       "    <tr>\n",
       "      <th>976</th>\n",
       "      <td>2.810326</td>\n",
       "      <td>3.604614</td>\n",
       "      <td>1</td>\n",
       "    </tr>\n",
       "    <tr>\n",
       "      <th>942</th>\n",
       "      <td>3.621531</td>\n",
       "      <td>2.168229</td>\n",
       "      <td>1</td>\n",
       "    </tr>\n",
       "    <tr>\n",
       "      <th>974</th>\n",
       "      <td>1.160887</td>\n",
       "      <td>2.489203</td>\n",
       "      <td>1</td>\n",
       "    </tr>\n",
       "  </tbody>\n",
       "</table>\n",
       "<p>1800 rows × 3 columns</p>\n",
       "</div>"
      ],
      "text/plain": [
       "     feature_1  feature_2  target\n",
       "0    -1.085631   0.551302       0\n",
       "1     0.997345   0.419589       0\n",
       "2     0.282978   1.815652       0\n",
       "3    -1.506295  -0.252750       0\n",
       "4    -0.578600  -0.292004       0\n",
       "..         ...        ...     ...\n",
       "952   1.188902   2.189189       1\n",
       "965   3.919526   1.980541       1\n",
       "976   2.810326   3.604614       1\n",
       "942   3.621531   2.168229       1\n",
       "974   1.160887   2.489203       1\n",
       "\n",
       "[1800 rows x 3 columns]"
      ]
     },
     "execution_count": 16,
     "metadata": {},
     "output_type": "execute_result"
    }
   ],
   "source": [
    "df_upsampled"
   ]
  },
  {
   "cell_type": "code",
   "execution_count": 17,
   "id": "640732c8-7d87-4b34-b46f-d51cdcf26082",
   "metadata": {},
   "outputs": [
    {
     "data": {
      "text/plain": [
       "0    900\n",
       "1    900\n",
       "Name: target, dtype: int64"
      ]
     },
     "execution_count": 17,
     "metadata": {},
     "output_type": "execute_result"
    }
   ],
   "source": [
    "df_upsampled[\"target\"].value_counts()"
   ]
  },
  {
   "cell_type": "markdown",
   "id": "23dc4d3c-3cf9-4ece-a241-e8f2cd561bdd",
   "metadata": {},
   "source": [
    "#### Down sampling"
   ]
  },
  {
   "cell_type": "code",
   "execution_count": 18,
   "id": "ab33d97b-4893-4767-a021-9dd4055f65a8",
   "metadata": {},
   "outputs": [],
   "source": [
    "# down sampling decreases the data points of majority category"
   ]
  },
  {
   "cell_type": "code",
   "execution_count": 19,
   "id": "26550a6c-f4da-42dc-b095-04d75c433028",
   "metadata": {},
   "outputs": [
    {
     "data": {
      "text/plain": [
       "(900, 100)"
      ]
     },
     "execution_count": 19,
     "metadata": {},
     "output_type": "execute_result"
    }
   ],
   "source": [
    "import pandas as pd\n",
    "import numpy as np\n",
    "\n",
    "# setting the random seed for reproducibility-\n",
    "np.random.seed(123)\n",
    "\n",
    "# creating 2 classes i.e. 2 categories-\n",
    "n_samples= 1000\n",
    "class_0_ratio= 0.9\n",
    "n_class_0= int(n_samples* class_0_ratio)\n",
    "n_class_1= n_samples- n_class_0\n",
    "\n",
    "n_class_0, n_class_1"
   ]
  },
  {
   "cell_type": "code",
   "execution_count": 20,
   "id": "b51e0a1e-dfc3-49fc-9f42-376a22de6b0e",
   "metadata": {},
   "outputs": [],
   "source": [
    "# creating dataframes with imbalanced dataset-\n",
    "\n",
    "class_0= pd.DataFrame({\"feature_1\": np.random.normal(loc=0, scale=1, size= n_class_0),\n",
    "                       \"feature_2\": np.random.normal(loc=0, scale=1, size= n_class_0),\n",
    "                       \"target\": [0]*n_class_0})\n",
    "\n",
    "class_1= pd.DataFrame({\"feature_1\": np.random.normal(loc=2, scale=1, size= n_class_1),\n",
    "                       \"feature_2\": np.random.normal(loc=2, scale=1, size= n_class_1),\n",
    "                       \"target\": [1]*n_class_1})\n",
    "\n",
    "df= pd.concat([class_0, class_1]).reset_index(drop=True)"
   ]
  },
  {
   "cell_type": "code",
   "execution_count": 21,
   "id": "e048e1fc-e3b6-4037-baf7-45369b7e878c",
   "metadata": {},
   "outputs": [
    {
     "data": {
      "text/html": [
       "<div>\n",
       "<style scoped>\n",
       "    .dataframe tbody tr th:only-of-type {\n",
       "        vertical-align: middle;\n",
       "    }\n",
       "\n",
       "    .dataframe tbody tr th {\n",
       "        vertical-align: top;\n",
       "    }\n",
       "\n",
       "    .dataframe thead th {\n",
       "        text-align: right;\n",
       "    }\n",
       "</style>\n",
       "<table border=\"1\" class=\"dataframe\">\n",
       "  <thead>\n",
       "    <tr style=\"text-align: right;\">\n",
       "      <th></th>\n",
       "      <th>feature_1</th>\n",
       "      <th>feature_2</th>\n",
       "      <th>target</th>\n",
       "    </tr>\n",
       "  </thead>\n",
       "  <tbody>\n",
       "    <tr>\n",
       "      <th>0</th>\n",
       "      <td>-1.085631</td>\n",
       "      <td>0.551302</td>\n",
       "      <td>0</td>\n",
       "    </tr>\n",
       "    <tr>\n",
       "      <th>1</th>\n",
       "      <td>0.997345</td>\n",
       "      <td>0.419589</td>\n",
       "      <td>0</td>\n",
       "    </tr>\n",
       "    <tr>\n",
       "      <th>2</th>\n",
       "      <td>0.282978</td>\n",
       "      <td>1.815652</td>\n",
       "      <td>0</td>\n",
       "    </tr>\n",
       "    <tr>\n",
       "      <th>3</th>\n",
       "      <td>-1.506295</td>\n",
       "      <td>-0.252750</td>\n",
       "      <td>0</td>\n",
       "    </tr>\n",
       "    <tr>\n",
       "      <th>4</th>\n",
       "      <td>-0.578600</td>\n",
       "      <td>-0.292004</td>\n",
       "      <td>0</td>\n",
       "    </tr>\n",
       "    <tr>\n",
       "      <th>...</th>\n",
       "      <td>...</td>\n",
       "      <td>...</td>\n",
       "      <td>...</td>\n",
       "    </tr>\n",
       "    <tr>\n",
       "      <th>995</th>\n",
       "      <td>1.376371</td>\n",
       "      <td>2.845701</td>\n",
       "      <td>1</td>\n",
       "    </tr>\n",
       "    <tr>\n",
       "      <th>996</th>\n",
       "      <td>2.239810</td>\n",
       "      <td>0.880077</td>\n",
       "      <td>1</td>\n",
       "    </tr>\n",
       "    <tr>\n",
       "      <th>997</th>\n",
       "      <td>1.131760</td>\n",
       "      <td>1.640703</td>\n",
       "      <td>1</td>\n",
       "    </tr>\n",
       "    <tr>\n",
       "      <th>998</th>\n",
       "      <td>2.902006</td>\n",
       "      <td>0.390305</td>\n",
       "      <td>1</td>\n",
       "    </tr>\n",
       "    <tr>\n",
       "      <th>999</th>\n",
       "      <td>2.697490</td>\n",
       "      <td>2.013570</td>\n",
       "      <td>1</td>\n",
       "    </tr>\n",
       "  </tbody>\n",
       "</table>\n",
       "<p>1000 rows × 3 columns</p>\n",
       "</div>"
      ],
      "text/plain": [
       "     feature_1  feature_2  target\n",
       "0    -1.085631   0.551302       0\n",
       "1     0.997345   0.419589       0\n",
       "2     0.282978   1.815652       0\n",
       "3    -1.506295  -0.252750       0\n",
       "4    -0.578600  -0.292004       0\n",
       "..         ...        ...     ...\n",
       "995   1.376371   2.845701       1\n",
       "996   2.239810   0.880077       1\n",
       "997   1.131760   1.640703       1\n",
       "998   2.902006   0.390305       1\n",
       "999   2.697490   2.013570       1\n",
       "\n",
       "[1000 rows x 3 columns]"
      ]
     },
     "execution_count": 21,
     "metadata": {},
     "output_type": "execute_result"
    }
   ],
   "source": [
    "df"
   ]
  },
  {
   "cell_type": "code",
   "execution_count": 22,
   "id": "6e774e60-ef57-4ae5-8ecf-d7446b13c3c4",
   "metadata": {},
   "outputs": [
    {
     "data": {
      "text/plain": [
       "0    900\n",
       "1    100\n",
       "Name: target, dtype: int64"
      ]
     },
     "execution_count": 22,
     "metadata": {},
     "output_type": "execute_result"
    }
   ],
   "source": [
    "df[\"target\"].value_counts()"
   ]
  },
  {
   "cell_type": "code",
   "execution_count": 23,
   "id": "0be9b5a4-6045-4358-b880-d1667f185289",
   "metadata": {},
   "outputs": [],
   "source": [
    "# now we perform down sampling-"
   ]
  },
  {
   "cell_type": "code",
   "execution_count": 24,
   "id": "35e4fde8-b7c5-47d7-bfd8-0af8d46eff14",
   "metadata": {},
   "outputs": [],
   "source": [
    "df_majority= df[df[\"target\"]==0]\n",
    "df_minority= df[df[\"target\"]==1]"
   ]
  },
  {
   "cell_type": "code",
   "execution_count": 26,
   "id": "6c6a6888-dca4-4b45-a7c0-79ffa5dbee18",
   "metadata": {},
   "outputs": [],
   "source": [
    "from sklearn.utils import resample"
   ]
  },
  {
   "cell_type": "code",
   "execution_count": 27,
   "id": "e7fecb03-e8ea-4311-a172-eee1b62b4641",
   "metadata": {},
   "outputs": [],
   "source": [
    "df_majority_downsampled= resample(df_majority, replace=False, n_samples= len(df_minority), random_state=42)"
   ]
  },
  {
   "cell_type": "code",
   "execution_count": 28,
   "id": "6523c904-ed00-4bda-83d8-807bedcc69db",
   "metadata": {},
   "outputs": [
    {
     "data": {
      "text/html": [
       "<div>\n",
       "<style scoped>\n",
       "    .dataframe tbody tr th:only-of-type {\n",
       "        vertical-align: middle;\n",
       "    }\n",
       "\n",
       "    .dataframe tbody tr th {\n",
       "        vertical-align: top;\n",
       "    }\n",
       "\n",
       "    .dataframe thead th {\n",
       "        text-align: right;\n",
       "    }\n",
       "</style>\n",
       "<table border=\"1\" class=\"dataframe\">\n",
       "  <thead>\n",
       "    <tr style=\"text-align: right;\">\n",
       "      <th></th>\n",
       "      <th>feature_1</th>\n",
       "      <th>feature_2</th>\n",
       "      <th>target</th>\n",
       "    </tr>\n",
       "  </thead>\n",
       "  <tbody>\n",
       "    <tr>\n",
       "      <th>70</th>\n",
       "      <td>0.468439</td>\n",
       "      <td>1.720920</td>\n",
       "      <td>0</td>\n",
       "    </tr>\n",
       "    <tr>\n",
       "      <th>827</th>\n",
       "      <td>1.089165</td>\n",
       "      <td>-0.464899</td>\n",
       "      <td>0</td>\n",
       "    </tr>\n",
       "    <tr>\n",
       "      <th>231</th>\n",
       "      <td>0.753869</td>\n",
       "      <td>-0.969798</td>\n",
       "      <td>0</td>\n",
       "    </tr>\n",
       "    <tr>\n",
       "      <th>588</th>\n",
       "      <td>0.588686</td>\n",
       "      <td>-0.704720</td>\n",
       "      <td>0</td>\n",
       "    </tr>\n",
       "    <tr>\n",
       "      <th>39</th>\n",
       "      <td>0.283627</td>\n",
       "      <td>1.012868</td>\n",
       "      <td>0</td>\n",
       "    </tr>\n",
       "    <tr>\n",
       "      <th>...</th>\n",
       "      <td>...</td>\n",
       "      <td>...</td>\n",
       "      <td>...</td>\n",
       "    </tr>\n",
       "    <tr>\n",
       "      <th>398</th>\n",
       "      <td>-0.168426</td>\n",
       "      <td>0.553775</td>\n",
       "      <td>0</td>\n",
       "    </tr>\n",
       "    <tr>\n",
       "      <th>76</th>\n",
       "      <td>-0.403366</td>\n",
       "      <td>0.081491</td>\n",
       "      <td>0</td>\n",
       "    </tr>\n",
       "    <tr>\n",
       "      <th>196</th>\n",
       "      <td>-0.269293</td>\n",
       "      <td>0.611238</td>\n",
       "      <td>0</td>\n",
       "    </tr>\n",
       "    <tr>\n",
       "      <th>631</th>\n",
       "      <td>-0.295829</td>\n",
       "      <td>0.671673</td>\n",
       "      <td>0</td>\n",
       "    </tr>\n",
       "    <tr>\n",
       "      <th>751</th>\n",
       "      <td>-0.553404</td>\n",
       "      <td>0.804438</td>\n",
       "      <td>0</td>\n",
       "    </tr>\n",
       "  </tbody>\n",
       "</table>\n",
       "<p>100 rows × 3 columns</p>\n",
       "</div>"
      ],
      "text/plain": [
       "     feature_1  feature_2  target\n",
       "70    0.468439   1.720920       0\n",
       "827   1.089165  -0.464899       0\n",
       "231   0.753869  -0.969798       0\n",
       "588   0.588686  -0.704720       0\n",
       "39    0.283627   1.012868       0\n",
       "..         ...        ...     ...\n",
       "398  -0.168426   0.553775       0\n",
       "76   -0.403366   0.081491       0\n",
       "196  -0.269293   0.611238       0\n",
       "631  -0.295829   0.671673       0\n",
       "751  -0.553404   0.804438       0\n",
       "\n",
       "[100 rows x 3 columns]"
      ]
     },
     "execution_count": 28,
     "metadata": {},
     "output_type": "execute_result"
    }
   ],
   "source": [
    "df_majority_downsampled"
   ]
  },
  {
   "cell_type": "code",
   "execution_count": 29,
   "id": "4fe5ed96-fde9-457d-b3bc-c04e93fa5f62",
   "metadata": {},
   "outputs": [
    {
     "data": {
      "text/plain": [
       "(100, 3)"
      ]
     },
     "execution_count": 29,
     "metadata": {},
     "output_type": "execute_result"
    }
   ],
   "source": [
    "df_majority_downsampled.shape"
   ]
  },
  {
   "cell_type": "code",
   "execution_count": 30,
   "id": "7aedd2cb-77ad-4f9c-8a55-e8edfa01ddb5",
   "metadata": {},
   "outputs": [],
   "source": [
    "df_downsampled= pd.concat([df_majority_downsampled, df_minority])"
   ]
  },
  {
   "cell_type": "code",
   "execution_count": 31,
   "id": "64196da2-8927-4977-9c01-570f12f26d1a",
   "metadata": {},
   "outputs": [
    {
     "data": {
      "text/html": [
       "<div>\n",
       "<style scoped>\n",
       "    .dataframe tbody tr th:only-of-type {\n",
       "        vertical-align: middle;\n",
       "    }\n",
       "\n",
       "    .dataframe tbody tr th {\n",
       "        vertical-align: top;\n",
       "    }\n",
       "\n",
       "    .dataframe thead th {\n",
       "        text-align: right;\n",
       "    }\n",
       "</style>\n",
       "<table border=\"1\" class=\"dataframe\">\n",
       "  <thead>\n",
       "    <tr style=\"text-align: right;\">\n",
       "      <th></th>\n",
       "      <th>feature_1</th>\n",
       "      <th>feature_2</th>\n",
       "      <th>target</th>\n",
       "    </tr>\n",
       "  </thead>\n",
       "  <tbody>\n",
       "    <tr>\n",
       "      <th>70</th>\n",
       "      <td>0.468439</td>\n",
       "      <td>1.720920</td>\n",
       "      <td>0</td>\n",
       "    </tr>\n",
       "    <tr>\n",
       "      <th>827</th>\n",
       "      <td>1.089165</td>\n",
       "      <td>-0.464899</td>\n",
       "      <td>0</td>\n",
       "    </tr>\n",
       "    <tr>\n",
       "      <th>231</th>\n",
       "      <td>0.753869</td>\n",
       "      <td>-0.969798</td>\n",
       "      <td>0</td>\n",
       "    </tr>\n",
       "    <tr>\n",
       "      <th>588</th>\n",
       "      <td>0.588686</td>\n",
       "      <td>-0.704720</td>\n",
       "      <td>0</td>\n",
       "    </tr>\n",
       "    <tr>\n",
       "      <th>39</th>\n",
       "      <td>0.283627</td>\n",
       "      <td>1.012868</td>\n",
       "      <td>0</td>\n",
       "    </tr>\n",
       "    <tr>\n",
       "      <th>...</th>\n",
       "      <td>...</td>\n",
       "      <td>...</td>\n",
       "      <td>...</td>\n",
       "    </tr>\n",
       "    <tr>\n",
       "      <th>995</th>\n",
       "      <td>1.376371</td>\n",
       "      <td>2.845701</td>\n",
       "      <td>1</td>\n",
       "    </tr>\n",
       "    <tr>\n",
       "      <th>996</th>\n",
       "      <td>2.239810</td>\n",
       "      <td>0.880077</td>\n",
       "      <td>1</td>\n",
       "    </tr>\n",
       "    <tr>\n",
       "      <th>997</th>\n",
       "      <td>1.131760</td>\n",
       "      <td>1.640703</td>\n",
       "      <td>1</td>\n",
       "    </tr>\n",
       "    <tr>\n",
       "      <th>998</th>\n",
       "      <td>2.902006</td>\n",
       "      <td>0.390305</td>\n",
       "      <td>1</td>\n",
       "    </tr>\n",
       "    <tr>\n",
       "      <th>999</th>\n",
       "      <td>2.697490</td>\n",
       "      <td>2.013570</td>\n",
       "      <td>1</td>\n",
       "    </tr>\n",
       "  </tbody>\n",
       "</table>\n",
       "<p>200 rows × 3 columns</p>\n",
       "</div>"
      ],
      "text/plain": [
       "     feature_1  feature_2  target\n",
       "70    0.468439   1.720920       0\n",
       "827   1.089165  -0.464899       0\n",
       "231   0.753869  -0.969798       0\n",
       "588   0.588686  -0.704720       0\n",
       "39    0.283627   1.012868       0\n",
       "..         ...        ...     ...\n",
       "995   1.376371   2.845701       1\n",
       "996   2.239810   0.880077       1\n",
       "997   1.131760   1.640703       1\n",
       "998   2.902006   0.390305       1\n",
       "999   2.697490   2.013570       1\n",
       "\n",
       "[200 rows x 3 columns]"
      ]
     },
     "execution_count": 31,
     "metadata": {},
     "output_type": "execute_result"
    }
   ],
   "source": [
    "df_downsampled"
   ]
  },
  {
   "cell_type": "code",
   "execution_count": 32,
   "id": "aeba2fb7-6734-4573-99e4-6a3407c106fc",
   "metadata": {},
   "outputs": [
    {
     "data": {
      "text/plain": [
       "0    100\n",
       "1    100\n",
       "Name: target, dtype: int64"
      ]
     },
     "execution_count": 32,
     "metadata": {},
     "output_type": "execute_result"
    }
   ],
   "source": [
    "df_downsampled[\"target\"].value_counts()"
   ]
  },
  {
   "cell_type": "code",
   "execution_count": 33,
   "id": "3729f931-b863-4021-ba5d-dafb99cb0abf",
   "metadata": {},
   "outputs": [],
   "source": [
    "# downsampling is bad because we are losing data points, so go for upsampling"
   ]
  },
  {
   "cell_type": "code",
   "execution_count": null,
   "id": "d46051d4-8835-4076-a596-3caf87c3ebcb",
   "metadata": {},
   "outputs": [],
   "source": []
  }
 ],
 "metadata": {
  "kernelspec": {
   "display_name": "Python 3 (ipykernel)",
   "language": "python",
   "name": "python3"
  },
  "language_info": {
   "codemirror_mode": {
    "name": "ipython",
    "version": 3
   },
   "file_extension": ".py",
   "mimetype": "text/x-python",
   "name": "python",
   "nbconvert_exporter": "python",
   "pygments_lexer": "ipython3",
   "version": "3.10.8"
  }
 },
 "nbformat": 4,
 "nbformat_minor": 5
}
