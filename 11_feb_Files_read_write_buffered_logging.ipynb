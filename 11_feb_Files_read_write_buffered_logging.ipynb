{
 "cells": [
  {
   "cell_type": "markdown",
   "id": "4c5fb1b8-cdf3-495a-8bd9-a7bad237633c",
   "metadata": {},
   "source": [
    "#### Files- reading and writing"
   ]
  },
  {
   "cell_type": "code",
   "execution_count": 8,
   "id": "4ee76e54-0903-45fa-a19d-99dd98562040",
   "metadata": {},
   "outputs": [],
   "source": [
    "# creating a file\n",
    "f= open(\"test.txt\",\"w\")        # it will open a test.txt file in write mode, f is the file variable"
   ]
  },
  {
   "cell_type": "code",
   "execution_count": 9,
   "id": "8721ba4b-07cc-4181-9774-998400a4a4a9",
   "metadata": {},
   "outputs": [
    {
     "data": {
      "text/plain": [
       "44"
      ]
     },
     "execution_count": 9,
     "metadata": {},
     "output_type": "execute_result"
    }
   ],
   "source": [
    "# writing something to a file\n",
    "f.write(\"this is my first write operation in the file\")"
   ]
  },
  {
   "cell_type": "code",
   "execution_count": 10,
   "id": "353f2d6f-943a-4681-beda-e012e78f2beb",
   "metadata": {},
   "outputs": [],
   "source": [
    "# but on checking the file nothing is written, this is because we haven't closed the file yet\n",
    "f.close()"
   ]
  },
  {
   "cell_type": "code",
   "execution_count": 14,
   "id": "93b04865-901a-4ab5-a755-d146060bf0ac",
   "metadata": {},
   "outputs": [],
   "source": [
    "f= open(\"test.txt\",\"w\")"
   ]
  },
  {
   "cell_type": "code",
   "execution_count": 15,
   "id": "b3ea9079-d7f0-45ee-b830-dee99e1ab63e",
   "metadata": {},
   "outputs": [
    {
     "data": {
      "text/plain": [
       "19"
      ]
     },
     "execution_count": 15,
     "metadata": {},
     "output_type": "execute_result"
    }
   ],
   "source": [
    "f.write(\"hello! how are you?\")"
   ]
  },
  {
   "cell_type": "code",
   "execution_count": 16,
   "id": "f31041a6-decc-45d7-877b-79176a473c4a",
   "metadata": {},
   "outputs": [],
   "source": [
    "f.close()  # we have to close the file after writing"
   ]
  },
  {
   "cell_type": "code",
   "execution_count": 17,
   "id": "703c9ad0-77c2-46a0-a8cb-f03676e13ffd",
   "metadata": {},
   "outputs": [],
   "source": [
    "# on checking the file, only the line- hello! how are you? is present. The previous line has been erased. \n",
    "# So, when we open a file in write mode, it erases the old information and inserts the new information."
   ]
  },
  {
   "cell_type": "code",
   "execution_count": 18,
   "id": "61047ca0-1eeb-4a04-b4b7-b240484c7e18",
   "metadata": {},
   "outputs": [],
   "source": [
    "f= open(\"test.txt\", \"a\")       # opens a file test.txt in append mode"
   ]
  },
  {
   "cell_type": "code",
   "execution_count": 19,
   "id": "82c920b4-5235-4b37-bcac-57f2bddc507f",
   "metadata": {},
   "outputs": [
    {
     "data": {
      "text/plain": [
       "17"
      ]
     },
     "execution_count": 19,
     "metadata": {},
     "output_type": "execute_result"
    }
   ],
   "source": [
    "f.write(\"My name is Bhavna\")"
   ]
  },
  {
   "cell_type": "code",
   "execution_count": 20,
   "id": "8e1d079c-b842-47b8-8d60-7279de41660a",
   "metadata": {},
   "outputs": [],
   "source": [
    "f.close()"
   ]
  },
  {
   "cell_type": "code",
   "execution_count": 21,
   "id": "9358840d-dcaf-4fd1-ab0f-15a54e68612a",
   "metadata": {},
   "outputs": [],
   "source": [
    "#Now on checking the file, the previous information- hello! how are you? is there along with the new information- My name is Bhavna. \n",
    "#So, opening a file in append mode and writing something, adds it without erasing/truncating the previous details."
   ]
  },
  {
   "cell_type": "code",
   "execution_count": 32,
   "id": "ae0db697-bb4f-42e8-95d3-24c39040f33d",
   "metadata": {},
   "outputs": [],
   "source": [
    "# reading a file\n",
    "data= open(\"test.txt\", \"r\")    # opens a file test.txt in read mode. data is the file variable"
   ]
  },
  {
   "cell_type": "code",
   "execution_count": 25,
   "id": "1e5b19c2-d80e-46f4-83cf-c10b582684d5",
   "metadata": {},
   "outputs": [
    {
     "data": {
      "text/plain": [
       "'hello! how are you?My name is Bhavna'"
      ]
     },
     "execution_count": 25,
     "metadata": {},
     "output_type": "execute_result"
    }
   ],
   "source": [
    "data.read()        # filename.read() operation reads everything written inside a file"
   ]
  },
  {
   "cell_type": "code",
   "execution_count": 26,
   "id": "01effbc5-a556-435c-9e57-42686b2a6017",
   "metadata": {},
   "outputs": [
    {
     "data": {
      "text/plain": [
       "''"
      ]
     },
     "execution_count": 26,
     "metadata": {},
     "output_type": "execute_result"
    }
   ],
   "source": [
    "data.read()"
   ]
  },
  {
   "cell_type": "code",
   "execution_count": 27,
   "id": "82ff886d-fa84-4a13-9e51-5cf8d927ee93",
   "metadata": {},
   "outputs": [],
   "source": [
    "# empty string is the o/p because once we open the file in read mode, the cursor starts from the first character, \n",
    "# reads one by one and ends at the last character. \n",
    "# So, when we open the file again in read mode, the cursor is already at last, there's nothing next \n",
    "# so empty string gets displayed"
   ]
  },
  {
   "cell_type": "code",
   "execution_count": 28,
   "id": "e70152d9-5a05-42f1-8977-5fb3185efa92",
   "metadata": {},
   "outputs": [
    {
     "data": {
      "text/plain": [
       "0"
      ]
     },
     "execution_count": 28,
     "metadata": {},
     "output_type": "execute_result"
    }
   ],
   "source": [
    "data.seek(0)"
   ]
  },
  {
   "cell_type": "code",
   "execution_count": 29,
   "id": "623f2a64-910d-4165-bafa-ea88a72cfe5c",
   "metadata": {},
   "outputs": [
    {
     "data": {
      "text/plain": [
       "'hello! how are you?My name is Bhavna'"
      ]
     },
     "execution_count": 29,
     "metadata": {},
     "output_type": "execute_result"
    }
   ],
   "source": [
    "data.read()"
   ]
  },
  {
   "cell_type": "code",
   "execution_count": 30,
   "id": "4e6104a8-08e8-4aaf-bd10-e2f745a5ee97",
   "metadata": {},
   "outputs": [
    {
     "data": {
      "text/plain": [
       "5"
      ]
     },
     "execution_count": 30,
     "metadata": {},
     "output_type": "execute_result"
    }
   ],
   "source": [
    "data.seek(5)"
   ]
  },
  {
   "cell_type": "code",
   "execution_count": 31,
   "id": "79e7392d-f612-4f9e-ad85-7a3d9599cb26",
   "metadata": {},
   "outputs": [
    {
     "data": {
      "text/plain": [
       "'! how are you?My name is Bhavna'"
      ]
     },
     "execution_count": 31,
     "metadata": {},
     "output_type": "execute_result"
    }
   ],
   "source": [
    "data.read()"
   ]
  },
  {
   "cell_type": "code",
   "execution_count": 33,
   "id": "5d1ba3c1-40d8-4dd1-89e1-119452a0fdc1",
   "metadata": {},
   "outputs": [
    {
     "name": "stdout",
     "output_type": "stream",
     "text": [
      "hello! how are you?My name is Bhavna\n"
     ]
    }
   ],
   "source": [
    "# other method of reading \n",
    "with open (\"test.txt\", \"r\") as data:\n",
    "    for i in data:\n",
    "        print(i)"
   ]
  },
  {
   "cell_type": "code",
   "execution_count": 34,
   "id": "1cfb630f-006b-4a28-979d-b1d52197628c",
   "metadata": {},
   "outputs": [
    {
     "data": {
      "text/plain": [
       "36"
      ]
     },
     "execution_count": 34,
     "metadata": {},
     "output_type": "execute_result"
    }
   ],
   "source": [
    "# find size of file\n",
    "import os\n",
    "os.path.getsize(\"test.txt\")"
   ]
  },
  {
   "cell_type": "code",
   "execution_count": 36,
   "id": "faceb580-2e08-4b81-a97d-8fe64bc6c258",
   "metadata": {},
   "outputs": [
    {
     "data": {
      "text/plain": [
       "'new_test.txt'"
      ]
     },
     "execution_count": 36,
     "metadata": {},
     "output_type": "execute_result"
    }
   ],
   "source": [
    "# copy of a file\n",
    "import shutil\n",
    "shutil.copy(\"test.txt\", \"new_test.txt\")    # this creates a new file and copies the contents of the old file"
   ]
  },
  {
   "cell_type": "code",
   "execution_count": 38,
   "id": "5bbbdee8-1097-4e7d-bf52-aa1d37a38b3f",
   "metadata": {},
   "outputs": [
    {
     "ename": "FileNotFoundError",
     "evalue": "[Errno 2] No such file or directory: 'test.txt'",
     "output_type": "error",
     "traceback": [
      "\u001b[0;31m---------------------------------------------------------------------------\u001b[0m",
      "\u001b[0;31mFileNotFoundError\u001b[0m                         Traceback (most recent call last)",
      "Cell \u001b[0;32mIn[38], line 2\u001b[0m\n\u001b[1;32m      1\u001b[0m \u001b[38;5;66;03m# delete a file\u001b[39;00m\n\u001b[0;32m----> 2\u001b[0m \u001b[43mos\u001b[49m\u001b[38;5;241;43m.\u001b[39;49m\u001b[43mremove\u001b[49m\u001b[43m(\u001b[49m\u001b[38;5;124;43m\"\u001b[39;49m\u001b[38;5;124;43mtest.txt\u001b[39;49m\u001b[38;5;124;43m\"\u001b[39;49m\u001b[43m)\u001b[49m     \u001b[38;5;66;03m# the test.txt file gets removed\u001b[39;00m\n",
      "\u001b[0;31mFileNotFoundError\u001b[0m: [Errno 2] No such file or directory: 'test.txt'"
     ]
    }
   ],
   "source": [
    "# delete a file\n",
    "os.remove(\"test.txt\")     # the test.txt file gets removed"
   ]
  },
  {
   "cell_type": "code",
   "execution_count": 39,
   "id": "707fb5a7-bfa0-4480-895e-3c9da0486650",
   "metadata": {},
   "outputs": [],
   "source": [
    "# renaming a file\n",
    "os.rename(\"new_test.txt\",\"test1.txt\")"
   ]
  },
  {
   "cell_type": "markdown",
   "id": "487a6350-988e-46a1-aba5-f1dd209bbbe2",
   "metadata": {},
   "source": [
    "#####  Reading and writing a dictionary object into json (java script object notation) file-"
   ]
  },
  {
   "cell_type": "code",
   "execution_count": 1,
   "id": "6566ee88-2bd5-4ff9-9dbe-7455b02955f4",
   "metadata": {},
   "outputs": [],
   "source": [
    "data1= {\n",
    "    \"name\":\"sudh\",\n",
    "    \"email\":\"sudh@gmail.com\",\n",
    "    \"phone_no\":12345,\n",
    "    \"subject\":[\"DSM\",\"big data\",\"data analytics\"]\n",
    "}\n",
    "\n",
    "# this format is called json and it is widely used in industry to transfer data from one application to another"
   ]
  },
  {
   "cell_type": "code",
   "execution_count": 42,
   "id": "53a4c76f-c147-4578-a95a-81dd39a8ab47",
   "metadata": {},
   "outputs": [],
   "source": [
    "import json"
   ]
  },
  {
   "cell_type": "code",
   "execution_count": 44,
   "id": "73a740b9-b3c0-4f61-98d1-9987df14c270",
   "metadata": {},
   "outputs": [],
   "source": [
    "with open(\"test2.json\",\"w\") as f:\n",
    "    json.dump(data1,f)        # dump performs the write operation"
   ]
  },
  {
   "cell_type": "code",
   "execution_count": 45,
   "id": "afd7d77e-da4b-465a-99c4-3921b9d96f75",
   "metadata": {},
   "outputs": [],
   "source": [
    "# so a json file is created which contains data1"
   ]
  },
  {
   "cell_type": "code",
   "execution_count": 49,
   "id": "7978b507-f2e1-41d2-942e-cdf308e6bda2",
   "metadata": {},
   "outputs": [
    {
     "data": {
      "text/plain": [
       "{'name': 'sudh',\n",
       " 'email': 'sudh@gmail.com',\n",
       " 'phone_no': 12345,\n",
       " 'subject': ['DSM', 'big data', 'data analytics']}"
      ]
     },
     "execution_count": 49,
     "metadata": {},
     "output_type": "execute_result"
    }
   ],
   "source": [
    "with open(\"test2.json\",\"r\") as f:\n",
    "    read= json.load(f)     # load performs the read operation\n",
    "    \n",
    "read"
   ]
  },
  {
   "cell_type": "markdown",
   "id": "9e6bd5ff-c63a-4b77-aa69-486c47ce63d1",
   "metadata": {},
   "source": [
    "##### Reading and writing a comma separated dataset into csv (comma separated values) file-"
   ]
  },
  {
   "cell_type": "code",
   "execution_count": 2,
   "id": "cbead345-1b51-454e-bdaa-c1cbde1cdc10",
   "metadata": {},
   "outputs": [],
   "source": [
    "data2= [[\"name\",\"email\",\"phone_no\"],\n",
    "        [\"sudh\",\"sudh@gmail.com\",12345],\n",
    "        [\"krish\",\"krish@gmail.com\",1234321]]"
   ]
  },
  {
   "cell_type": "code",
   "execution_count": 53,
   "id": "84163603-8e28-4ba5-b12b-a091ad605cbc",
   "metadata": {},
   "outputs": [],
   "source": [
    "import csv\n",
    "with open(\"test3.csv\",\"w\") as f:      # data2 is written into a csv file\n",
    "    w= csv.writer(f)\n",
    "    for i in data2:\n",
    "        w.writerow(i)"
   ]
  },
  {
   "cell_type": "code",
   "execution_count": 54,
   "id": "0a5a7e1e-9333-48ea-9e01-69b27084c708",
   "metadata": {},
   "outputs": [],
   "source": [
    "# so a csv file has been created which contains data2"
   ]
  },
  {
   "cell_type": "code",
   "execution_count": 56,
   "id": "fc73448e-4e84-4484-83a1-077836213ed8",
   "metadata": {},
   "outputs": [
    {
     "name": "stdout",
     "output_type": "stream",
     "text": [
      "['name', 'email', 'phone_no']\n",
      "['sudh', 'sudh@gmail.com', '12345']\n",
      "['krish', 'krish@gmail.com', '1234321']\n"
     ]
    }
   ],
   "source": [
    "with open(\"test3.csv\",\"r\") as f:\n",
    "    read= csv.reader(f)\n",
    "    for i in read:\n",
    "        print(i)"
   ]
  },
  {
   "cell_type": "markdown",
   "id": "85e6967e-cb8a-495c-b90b-0346dc37f60f",
   "metadata": {},
   "source": [
    "##### Reading and writing a binary data (images, audios, videos) into a bin (binary) file-"
   ]
  },
  {
   "cell_type": "code",
   "execution_count": 3,
   "id": "fae8767f-dbfc-4f2c-b6cf-a24f5cb63c94",
   "metadata": {},
   "outputs": [],
   "source": [
    "with open(\"test4.bin\", \"wb\") as f:\n",
    "    f.write(b\"\\x01\\x02\\x03\")"
   ]
  },
  {
   "cell_type": "code",
   "execution_count": 58,
   "id": "0a07b962-7ff6-4fd6-a470-b9b4a93ca4db",
   "metadata": {},
   "outputs": [],
   "source": [
    "# so a test4.bin file is created and inside that file we see 3 red dots. This means we wrote a binary data(image) into a file"
   ]
  },
  {
   "cell_type": "code",
   "execution_count": 59,
   "id": "061fd408-32de-43f3-90e1-dc845be4756a",
   "metadata": {},
   "outputs": [
    {
     "name": "stdout",
     "output_type": "stream",
     "text": [
      "b'\\x01\\x02\\x03'\n"
     ]
    }
   ],
   "source": [
    "with open(\"test4.bin\",\"rb\") as f:\n",
    "    print(f.read())"
   ]
  },
  {
   "cell_type": "markdown",
   "id": "c5b2d893-6f38-4fd4-ad71-781c86f8be06",
   "metadata": {},
   "source": [
    "#### Buffered read and write"
   ]
  },
  {
   "cell_type": "markdown",
   "id": "f732aad2-9566-43fe-9cf7-462ee63bb524",
   "metadata": {},
   "source": [
    "##### When we have large files nearly in GB, TB size, then reading them, writing them at once will be time taking. Instead we can read and write them in chunks. This is called buffered read and write"
   ]
  },
  {
   "cell_type": "code",
   "execution_count": 4,
   "id": "cf6f5ebc-43e4-4890-b8d1-d6767ab8b315",
   "metadata": {},
   "outputs": [],
   "source": [
    "import io"
   ]
  },
  {
   "cell_type": "code",
   "execution_count": 7,
   "id": "98e1ef4d-f6df-4004-9388-51bf43b707bd",
   "metadata": {},
   "outputs": [],
   "source": [
    "with open(\"test5.txt\",\"wb\") as f:\n",
    "    file= io.BufferedWriter(f)\n",
    "    file.write(b\"this is my buffered write\\n\")\n",
    "    file.write(b\"this is my second line that i am trying to write\")"
   ]
  },
  {
   "cell_type": "code",
   "execution_count": 8,
   "id": "463de622-e4cf-48cd-ba5f-57d8131d90dc",
   "metadata": {},
   "outputs": [],
   "source": [
    "#on executing this we get a blank test5.txt file. This is because we haven't closed the file yet, so nothing is written."
   ]
  },
  {
   "cell_type": "code",
   "execution_count": 9,
   "id": "0dd2f5c0-e98f-4ec8-87af-16db60f3ff32",
   "metadata": {},
   "outputs": [],
   "source": [
    "with open(\"test5.txt\",\"wb\") as f:\n",
    "    file= io.BufferedWriter(f)\n",
    "    file.write(b\"this is my buffered write\\n\")\n",
    "    file.write(b\"this is my second line that i am trying to write\")\n",
    "    file.flush()"
   ]
  },
  {
   "cell_type": "code",
   "execution_count": 10,
   "id": "2de555ad-614d-4d79-acd9-69a1131fd30b",
   "metadata": {},
   "outputs": [],
   "source": [
    "# now both these lines have been written inside test5.txt"
   ]
  },
  {
   "cell_type": "code",
   "execution_count": 11,
   "id": "c6864584-7c54-4d36-bed1-8076debb0953",
   "metadata": {},
   "outputs": [
    {
     "name": "stdout",
     "output_type": "stream",
     "text": [
      "b'this is my buffered write\\nthis is my second line that i am trying to write'\n"
     ]
    }
   ],
   "source": [
    "with open(\"test5.txt\",\"rb\") as f:\n",
    "    file= io.BufferedReader(f)\n",
    "    data= file.read()\n",
    "    print(data)"
   ]
  },
  {
   "cell_type": "code",
   "execution_count": 13,
   "id": "3fb61120-ad9f-49bb-abb4-fe84c2e58144",
   "metadata": {},
   "outputs": [],
   "source": [
    "with open(\"test5.txt\",\"wb\") as f:\n",
    "    file= io.BufferedWriter(f)\n",
    "    file.write(b\"Data Science Masters course is highly curated and uniquely designed according to the latest industry standards. This program instills students the skills essential to knowledge discovery efforts to identify standard, novel, and truly differentiated solutions and decision-making, including skills in managing, querying, analyzing, visualizing, and extracting meaning from extremely large data sets. This trending program provides students with the statistical, mathematical and computational skills needed to meet the large-scale data science challenges of today's professional world. You will learn all the stack required to work in data science industry including cloud infrastructure and real-time industry projects. This course will be taught in Hindi language.\")\n",
    "    file.write(b\"\\nthis is the secod line i am trying to write\")\n",
    "    file.flush()"
   ]
  },
  {
   "cell_type": "code",
   "execution_count": 14,
   "id": "4f9790b5-f4c7-4378-b128-745f3c8b6049",
   "metadata": {},
   "outputs": [],
   "source": [
    "# by default the BufferedWriter() takes buffer_size= 8192 bytes at one go. \n",
    "# But we can set the buffer_size anything and it will write that much at one go."
   ]
  },
  {
   "cell_type": "code",
   "execution_count": 15,
   "id": "76946371-ff76-4e03-a2d9-9a3f263eb1c6",
   "metadata": {},
   "outputs": [
    {
     "name": "stdout",
     "output_type": "stream",
     "text": [
      "b\"Data Science Masters course is highly curated and uniquely designed according to the latest industry standards. This program instills students the skills essential to knowledge discovery efforts to identify standard, novel, and truly differentiated solutions and decision-making, including skills in managing, querying, analyzing, visualizing, and extracting meaning from extremely large data sets. This trending program provides students with the statistical, mathematical and computational skills needed to meet the large-scale data science challenges of today's professional world. You will learn all the stack required to work in data science industry including cloud infrastructure and real-time industry projects. This course will be taught in Hindi language.\\nthis is the secod line i am trying to write\"\n"
     ]
    }
   ],
   "source": [
    "with open(\"test5.txt\",\"rb\") as f:\n",
    "    file= io.BufferedReader(f)\n",
    "    data= file.read()\n",
    "    print(data)"
   ]
  },
  {
   "cell_type": "code",
   "execution_count": 16,
   "id": "d8ff1ae4-a620-4762-ba4d-abe7135a638c",
   "metadata": {},
   "outputs": [
    {
     "name": "stdout",
     "output_type": "stream",
     "text": [
      "b'Data Scien'\n"
     ]
    }
   ],
   "source": [
    "with open(\"test5.txt\",\"rb\") as f:\n",
    "    file= io.BufferedReader(f)\n",
    "    data= file.read(10)\n",
    "    print(data)"
   ]
  },
  {
   "cell_type": "markdown",
   "id": "9cbd1248-9ec6-4ab8-bf96-b26a65bf5eb9",
   "metadata": {},
   "source": [
    "#### Logging Debugger"
   ]
  },
  {
   "cell_type": "code",
   "execution_count": 17,
   "id": "dc6b3859-b15b-4abc-a573-104616a1cf72",
   "metadata": {},
   "outputs": [
    {
     "name": "stdout",
     "output_type": "stream",
     "text": [
      "this is my print statement\n"
     ]
    }
   ],
   "source": [
    "print(\"this is my print statement\")"
   ]
  },
  {
   "cell_type": "markdown",
   "id": "c022f670-8599-4e28-a6ac-6d4f9909ac4e",
   "metadata": {},
   "source": [
    "##### In production grade projects, we can't use print statement because it prints in the console and once we turn off the system it is erased. We need a permanent storage where we can log each and every information. Here logging comes into picture."
   ]
  },
  {
   "cell_type": "code",
   "execution_count": 18,
   "id": "868130dc-72a9-42e5-a5ab-64696efffd14",
   "metadata": {},
   "outputs": [],
   "source": [
    "import logging"
   ]
  },
  {
   "cell_type": "code",
   "execution_count": 19,
   "id": "52fd7c53-0613-4c90-9286-0dc80fb210a0",
   "metadata": {},
   "outputs": [],
   "source": [
    "# create a log file\n",
    "\n",
    "logging.basicConfig(filename=\"test6.log\",level=logging.INFO)"
   ]
  },
  {
   "cell_type": "code",
   "execution_count": 20,
   "id": "22d011af-ffc4-4e84-ac87-57677548998a",
   "metadata": {},
   "outputs": [],
   "source": [
    "# After executing, a blank test6.log file is created, now let's log something there"
   ]
  },
  {
   "cell_type": "code",
   "execution_count": 21,
   "id": "f0582dd4-3a38-4252-bc85-d8d89dbf4701",
   "metadata": {},
   "outputs": [],
   "source": [
    "logging.info(\"this is my line of execution\")"
   ]
  },
  {
   "cell_type": "code",
   "execution_count": 22,
   "id": "e2b2dd77-ab7a-4e5d-8b79-ea8fd24a6fa7",
   "metadata": {},
   "outputs": [],
   "source": [
    "logging.error(\"this is my error\")"
   ]
  },
  {
   "cell_type": "code",
   "execution_count": 23,
   "id": "c4c8e775-59c4-4d37-9556-e062889e60ba",
   "metadata": {},
   "outputs": [],
   "source": [
    "logging.critical(\"this is my critical\")"
   ]
  },
  {
   "cell_type": "code",
   "execution_count": 24,
   "id": "7ab34cf5-7cc5-4bd8-818d-a709c9c2ec45",
   "metadata": {},
   "outputs": [],
   "source": [
    "logging.warning(\"this is my warning\")"
   ]
  },
  {
   "cell_type": "markdown",
   "id": "af80b5ca-b95a-4fce-bb56-c44903d98b45",
   "metadata": {},
   "source": [
    "##### Hierarchy of logging-\n",
    "##### 1) NOSET\n",
    "##### 2) DEBUG\n",
    "##### 3) INFO\n",
    "##### 4) WARNING\n",
    "##### 5) ERROR\n",
    "##### 6) CRITICAL\n",
    "\n",
    "##### So, when we set the level as INFO while creating the test6.log file, it implies that we can log anything including info and below."
   ]
  },
  {
   "cell_type": "code",
   "execution_count": 26,
   "id": "6154982c-f90a-425e-9c80-1519233fdbeb",
   "metadata": {},
   "outputs": [],
   "source": [
    "logging.debug(\"this is my debug\")    # it won't get logged"
   ]
  },
  {
   "cell_type": "code",
   "execution_count": 27,
   "id": "26ede339-bc83-45a5-91f2-0bcfa662edc9",
   "metadata": {},
   "outputs": [],
   "source": [
    "# If we want to stop logging to the particular file, then- \n",
    "logging.shutdown()"
   ]
  },
  {
   "cell_type": "code",
   "execution_count": 1,
   "id": "a53cec39-a290-405a-bc1f-30d434410fab",
   "metadata": {},
   "outputs": [],
   "source": [
    "import logging"
   ]
  },
  {
   "cell_type": "code",
   "execution_count": 7,
   "id": "3ba3e86e-42a2-4fc0-866b-b67459dbc706",
   "metadata": {},
   "outputs": [],
   "source": [
    "logging.basicConfig(filename=\"test7.log\", level= logging.DEBUG, format= '%(asctime)s %(message)s')\n",
    "\n",
    "# Debug level indicates that we can log anything including debug and below\n",
    "# using the format we are trying to log both timestamp and message\n",
    "# on execution a blank test7.log file has been created"
   ]
  },
  {
   "cell_type": "code",
   "execution_count": 8,
   "id": "a0e66b55-7657-4cf4-8137-cce528162aab",
   "metadata": {},
   "outputs": [],
   "source": [
    "logging.info(\"this is my info log\")"
   ]
  },
  {
   "cell_type": "code",
   "execution_count": 9,
   "id": "6df12b7d-c650-4759-b87b-5e10d44ea46b",
   "metadata": {},
   "outputs": [],
   "source": [
    "logging.debug(\"this is my debug log\")"
   ]
  },
  {
   "cell_type": "code",
   "execution_count": 10,
   "id": "fa2fa00b-341c-408d-b4c3-f2f6f5dfc431",
   "metadata": {},
   "outputs": [],
   "source": [
    "logging.warning(\"this is my warning log\")"
   ]
  },
  {
   "cell_type": "code",
   "execution_count": 11,
   "id": "2f2479f1-4c3c-4204-956b-55291446d62f",
   "metadata": {},
   "outputs": [],
   "source": [
    "# in the test7.log file all these messages along with the time stamp are displayed"
   ]
  },
  {
   "cell_type": "code",
   "execution_count": 12,
   "id": "5b4b015a-4717-4ee2-856d-8aa4753e44f4",
   "metadata": {},
   "outputs": [],
   "source": [
    "logging.shutdown()"
   ]
  },
  {
   "cell_type": "code",
   "execution_count": 1,
   "id": "1d70b78f-4515-4bbc-b571-e3319ada0820",
   "metadata": {},
   "outputs": [],
   "source": [
    "import logging"
   ]
  },
  {
   "cell_type": "code",
   "execution_count": 2,
   "id": "3a0eadd0-5653-4b1e-9296-8aaba905ae2c",
   "metadata": {},
   "outputs": [],
   "source": [
    "logging.basicConfig(filename= \"test8.log\", level= logging.DEBUG, format= '%(asctime)s %(name)s %(levelname)s %(message)s')"
   ]
  },
  {
   "cell_type": "code",
   "execution_count": 3,
   "id": "0e831d39-fec7-407e-b362-540e77095a09",
   "metadata": {},
   "outputs": [],
   "source": [
    "logging.info(\"this is my info log\")"
   ]
  },
  {
   "cell_type": "code",
   "execution_count": 4,
   "id": "28232a66-ec69-4282-ad4c-1b34dada91af",
   "metadata": {},
   "outputs": [],
   "source": [
    "# inside the test8.log file, logging of timestamp, log number, system, levelname as well as the message has been done"
   ]
  },
  {
   "cell_type": "code",
   "execution_count": 8,
   "id": "28a99359-f2e3-4092-9f47-ccf159370231",
   "metadata": {},
   "outputs": [],
   "source": [
    "# implementing logging in a python program-\n",
    "\n",
    "l= [1,2,3,4,[4,5,6],\"sudh\",\"kumar\"]\n",
    "# convert this list into 2 lists- one containing integers and other containing strings\n",
    "\n",
    "l1_int=[]\n",
    "l2_str=[]\n",
    "\n",
    "for i in l:\n",
    "    logging.info(\"this is the start of my first for loop{}\".format(l))\n",
    "    logging.info(\"this is the value of i i'm logging in{}\".format(i))\n",
    "    if type(i)==list:\n",
    "        for j in i:\n",
    "            logging.info(\"logging my i{i} and j{j}\".format(i=i, j=j))\n",
    "            if type(j)==int:\n",
    "                l1_int.append(j)\n",
    "                \n",
    "    elif type(i)== int:\n",
    "        l1_int.append(i)\n",
    "        \n",
    "    else:\n",
    "        if type(i)== str:\n",
    "            l2_str.append(i)\n",
    "            \n",
    "logging.info(\"this is my final list with integers{l1} and my list with strings{l2}\".format(l1=l1_int, l2=l2_str))"
   ]
  },
  {
   "cell_type": "code",
   "execution_count": 6,
   "id": "c60635d8-dfb1-4412-b7b4-5aa16653b338",
   "metadata": {},
   "outputs": [
    {
     "data": {
      "text/plain": [
       "[1, 2, 3, 4, 4, 5, 6]"
      ]
     },
     "execution_count": 6,
     "metadata": {},
     "output_type": "execute_result"
    }
   ],
   "source": [
    "l1_int"
   ]
  },
  {
   "cell_type": "code",
   "execution_count": 7,
   "id": "644a2f4c-e752-4ca2-9203-c4962428921f",
   "metadata": {},
   "outputs": [
    {
     "data": {
      "text/plain": [
       "['sudh', 'kumar']"
      ]
     },
     "execution_count": 7,
     "metadata": {},
     "output_type": "execute_result"
    }
   ],
   "source": [
    "l2_str"
   ]
  },
  {
   "cell_type": "code",
   "execution_count": 9,
   "id": "b120da2a-3874-4d01-acdf-5058abfabb4d",
   "metadata": {},
   "outputs": [],
   "source": [
    "# After executing we can see in test8.log file all these logs have been done. \n",
    "# Using these logs we can know the complete step by step executon of our program."
   ]
  },
  {
   "cell_type": "code",
   "execution_count": null,
   "id": "30f5960b-9d28-458d-9c87-abcd0c565a69",
   "metadata": {},
   "outputs": [],
   "source": []
  }
 ],
 "metadata": {
  "kernelspec": {
   "display_name": "Python 3 (ipykernel)",
   "language": "python",
   "name": "python3"
  },
  "language_info": {
   "codemirror_mode": {
    "name": "ipython",
    "version": 3
   },
   "file_extension": ".py",
   "mimetype": "text/x-python",
   "name": "python",
   "nbconvert_exporter": "python",
   "pygments_lexer": "ipython3",
   "version": "3.10.8"
  }
 },
 "nbformat": 4,
 "nbformat_minor": 5
}
