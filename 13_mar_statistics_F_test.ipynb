{
 "cells": [
  {
   "cell_type": "markdown",
   "id": "ce7a29cd-b2c1-4bbc-90f7-e30b8da9aae0",
   "metadata": {},
   "source": [
    "#### F-Test"
   ]
  },
  {
   "cell_type": "code",
   "execution_count": 2,
   "id": "4f0746ab-8665-4372-a49a-76fe003cb416",
   "metadata": {},
   "outputs": [],
   "source": [
    "# Problem statement- The following data shows the no. of bylbs produced by 2 workers daily for some days. \n",
    "# Can we come to a conclusion if one worker is better than the other?\n",
    "\n",
    "worker1= [18,19,22,25,27,28,41,45,51,55]\n",
    "worker2= [14,15,15,17,18,22,25,25,27,34]"
   ]
  },
  {
   "cell_type": "code",
   "execution_count": 3,
   "id": "40eb7d6e-45e5-4290-a540-ba83cf846511",
   "metadata": {},
   "outputs": [
    {
     "name": "stdout",
     "output_type": "stream",
     "text": [
      "4.387122002085506\n"
     ]
    }
   ],
   "source": [
    "# calculate F-test statistics-\n",
    "\n",
    "import numpy as np\n",
    "f_test= np.var(worker1)/np.var(worker2)      # f-test value is the ratio of variances\n",
    "print(f_test)"
   ]
  },
  {
   "cell_type": "code",
   "execution_count": 4,
   "id": "129c18a7-10f2-42d8-80db-15cf7f95c84f",
   "metadata": {},
   "outputs": [
    {
     "name": "stdout",
     "output_type": "stream",
     "text": [
      "df1 is 9\n",
      "df2 is 9\n"
     ]
    }
   ],
   "source": [
    "# calculate degree of freedom-\n",
    "\n",
    "df1= len(worker1)-1\n",
    "df2= len(worker2)-1\n",
    "print(\"df1 is\", df1)\n",
    "print(\"df2 is\", df2)"
   ]
  },
  {
   "cell_type": "code",
   "execution_count": 5,
   "id": "1d074262-7032-4984-8a0e-8e2dd2cbcf31",
   "metadata": {},
   "outputs": [
    {
     "name": "stdout",
     "output_type": "stream",
     "text": [
      "3.178893104458269\n"
     ]
    }
   ],
   "source": [
    "# calculate critical value-\n",
    "\n",
    "import scipy.stats as stat\n",
    "significance_value= 0.05\n",
    "confidence_level= 1-significance_value\n",
    "critical_value= stat.f.ppf(q= confidence_level, dfn= df1, dfd= df2)\n",
    "print(critical_value)"
   ]
  },
  {
   "cell_type": "code",
   "execution_count": 6,
   "id": "69f7d361-4763-4f66-89c0-e8a31e9c1b00",
   "metadata": {},
   "outputs": [
    {
     "name": "stdout",
     "output_type": "stream",
     "text": [
      "Reject Null hypothesis\n"
     ]
    }
   ],
   "source": [
    "# if f-test value is greater than critical value, it lies in the rejection area\n",
    "# if f-test value is less than critcal value, it lies in the acceptance area\n",
    "\n",
    "if f_test>critical_value:\n",
    "    print(\"Reject Null hypothesis\")\n",
    "else:\n",
    "    print(\"We fail to reject Null hypothesis\")"
   ]
  },
  {
   "cell_type": "code",
   "execution_count": 7,
   "id": "97a56378-fd11-41b5-a9fb-caffa4c9ffc9",
   "metadata": {},
   "outputs": [],
   "source": [
    "# conclusion- The variance of both groups of data is not equal. One worker is better than the other. \n",
    "# Here, worker 1 is clearly better than worker 2."
   ]
  },
  {
   "cell_type": "code",
   "execution_count": null,
   "id": "c59a45fa-aa7d-4bb0-8c05-ad2a4993b345",
   "metadata": {},
   "outputs": [],
   "source": []
  }
 ],
 "metadata": {
  "kernelspec": {
   "display_name": "Python 3 (ipykernel)",
   "language": "python",
   "name": "python3"
  },
  "language_info": {
   "codemirror_mode": {
    "name": "ipython",
    "version": 3
   },
   "file_extension": ".py",
   "mimetype": "text/x-python",
   "name": "python",
   "nbconvert_exporter": "python",
   "pygments_lexer": "ipython3",
   "version": "3.10.8"
  }
 },
 "nbformat": 4,
 "nbformat_minor": 5
}
