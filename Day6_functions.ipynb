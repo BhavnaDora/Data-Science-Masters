{
 "cells": [
  {
   "cell_type": "markdown",
   "id": "8cac864f-4a8d-43f1-9ed7-a67dddd57534",
   "metadata": {},
   "source": [
    "#### Functions"
   ]
  },
  {
   "cell_type": "code",
   "execution_count": 1,
   "id": "7f31e743-71f0-4111-abe8-19d2be021f1b",
   "metadata": {},
   "outputs": [
    {
     "ename": "SyntaxError",
     "evalue": "incomplete input (2690612609.py, line 2)",
     "output_type": "error",
     "traceback": [
      "\u001b[0;36m  Cell \u001b[0;32mIn[1], line 2\u001b[0;36m\u001b[0m\n\u001b[0;31m    \u001b[0m\n\u001b[0m    ^\u001b[0m\n\u001b[0;31mSyntaxError\u001b[0m\u001b[0;31m:\u001b[0m incomplete input\n"
     ]
    }
   ],
   "source": [
    "def test():\n",
    "    "
   ]
  },
  {
   "cell_type": "code",
   "execution_count": 3,
   "id": "b1accdf2-4583-4f72-a989-187e5dcdfb0e",
   "metadata": {},
   "outputs": [],
   "source": [
    "def test():  \n",
    "    pass     # here no error because it will completely pass the function"
   ]
  },
  {
   "cell_type": "code",
   "execution_count": 4,
   "id": "4f207389-c9e3-448e-9b42-3461afcbb4f8",
   "metadata": {},
   "outputs": [],
   "source": [
    "def test1():\n",
    "    print(\"this is my first function\")"
   ]
  },
  {
   "cell_type": "code",
   "execution_count": 5,
   "id": "e1fe3598-07cc-4170-ac3d-30d5b8eacbb5",
   "metadata": {},
   "outputs": [
    {
     "name": "stdout",
     "output_type": "stream",
     "text": [
      "this is my first function\n"
     ]
    }
   ],
   "source": [
    "test1()"
   ]
  },
  {
   "cell_type": "markdown",
   "id": "bf522a3e-7a02-48f7-8a91-7013dc533829",
   "metadata": {},
   "source": [
    "##### Adavantages of function- increases usability and modularity. Instead of writing a code/logic no. of times, we can keep it inside a function and whenever required we can simply call the function."
   ]
  },
  {
   "cell_type": "code",
   "execution_count": 6,
   "id": "09c69f1e-cd16-4210-926e-33bcb2422a54",
   "metadata": {},
   "outputs": [
    {
     "name": "stdout",
     "output_type": "stream",
     "text": [
      "this is my first function\n"
     ]
    },
    {
     "ename": "TypeError",
     "evalue": "unsupported operand type(s) for +: 'NoneType' and 'str'",
     "output_type": "error",
     "traceback": [
      "\u001b[0;31m---------------------------------------------------------------------------\u001b[0m",
      "\u001b[0;31mTypeError\u001b[0m                                 Traceback (most recent call last)",
      "Cell \u001b[0;32mIn[6], line 1\u001b[0m\n\u001b[0;32m----> 1\u001b[0m \u001b[43mtest1\u001b[49m\u001b[43m(\u001b[49m\u001b[43m)\u001b[49m\u001b[38;5;241;43m+\u001b[39;49m\u001b[38;5;124;43m\"\u001b[39;49m\u001b[38;5;124;43mbhavna\u001b[39;49m\u001b[38;5;124;43m\"\u001b[39;49m\n",
      "\u001b[0;31mTypeError\u001b[0m: unsupported operand type(s) for +: 'NoneType' and 'str'"
     ]
    }
   ],
   "source": [
    "test1()+\"bhavna\""
   ]
  },
  {
   "cell_type": "code",
   "execution_count": 8,
   "id": "12982ab5-c627-4f43-a0b3-199df74e65c3",
   "metadata": {},
   "outputs": [],
   "source": [
    "# we can't concatenate because print return type is nonetype. \n",
    "# But by using return keyword we can perform these primitive operations like concatenation"
   ]
  },
  {
   "cell_type": "code",
   "execution_count": 9,
   "id": "1abee730-83ce-4de1-9993-ead835a3fcad",
   "metadata": {},
   "outputs": [],
   "source": [
    "def test2():\n",
    "    return \"this is my first function with return\""
   ]
  },
  {
   "cell_type": "code",
   "execution_count": 11,
   "id": "1edbe224-0bd8-4c17-8eab-f717403adbd0",
   "metadata": {},
   "outputs": [
    {
     "data": {
      "text/plain": [
       "'this is my first function with return bhavna'"
      ]
     },
     "execution_count": 11,
     "metadata": {},
     "output_type": "execute_result"
    }
   ],
   "source": [
    "test2() + \" bhavna\""
   ]
  },
  {
   "cell_type": "code",
   "execution_count": 13,
   "id": "c49332e3-a20f-4de5-806d-5f8226345dbe",
   "metadata": {},
   "outputs": [],
   "source": [
    "def test3():\n",
    "    return 1, 4, \"pwskills\", 34.56     # we can get multiple returns in the form of tuples"
   ]
  },
  {
   "cell_type": "code",
   "execution_count": 14,
   "id": "8ec86317-d9fc-4da4-abbf-f243f44c3f68",
   "metadata": {},
   "outputs": [
    {
     "data": {
      "text/plain": [
       "(1, 4, 'pwskills', 34.56)"
      ]
     },
     "execution_count": 14,
     "metadata": {},
     "output_type": "execute_result"
    }
   ],
   "source": [
    "test3()"
   ]
  },
  {
   "cell_type": "code",
   "execution_count": 15,
   "id": "c8ca21a7-7444-4a19-9829-249ff9dc69a8",
   "metadata": {},
   "outputs": [],
   "source": [
    "# this is similar to-\n",
    "\n",
    "a= 1,2,3,4,5"
   ]
  },
  {
   "cell_type": "code",
   "execution_count": 17,
   "id": "7eb8f91e-099e-49dc-a42a-90f8481a0240",
   "metadata": {},
   "outputs": [
    {
     "data": {
      "text/plain": [
       "(1, 2, 3, 4, 5)"
      ]
     },
     "execution_count": 17,
     "metadata": {},
     "output_type": "execute_result"
    }
   ],
   "source": [
    "a   # a holds multiple data"
   ]
  },
  {
   "cell_type": "code",
   "execution_count": 18,
   "id": "49119f89-da25-41dd-abfd-f54f5107a959",
   "metadata": {},
   "outputs": [],
   "source": [
    "a,b,c,d= 1,2,34.56,True"
   ]
  },
  {
   "cell_type": "code",
   "execution_count": 19,
   "id": "30fe6532-1b09-4038-b638-537e76b691a2",
   "metadata": {},
   "outputs": [
    {
     "data": {
      "text/plain": [
       "1"
      ]
     },
     "execution_count": 19,
     "metadata": {},
     "output_type": "execute_result"
    }
   ],
   "source": [
    "a"
   ]
  },
  {
   "cell_type": "code",
   "execution_count": 20,
   "id": "1f18bb24-7c69-45a9-81ec-145b0c543a82",
   "metadata": {},
   "outputs": [
    {
     "data": {
      "text/plain": [
       "2"
      ]
     },
     "execution_count": 20,
     "metadata": {},
     "output_type": "execute_result"
    }
   ],
   "source": [
    "b"
   ]
  },
  {
   "cell_type": "code",
   "execution_count": 21,
   "id": "6f6e3697-683d-4f1b-ab7e-a97b2adcf568",
   "metadata": {},
   "outputs": [
    {
     "data": {
      "text/plain": [
       "34.56"
      ]
     },
     "execution_count": 21,
     "metadata": {},
     "output_type": "execute_result"
    }
   ],
   "source": [
    "c"
   ]
  },
  {
   "cell_type": "code",
   "execution_count": 22,
   "id": "c5a6d596-d3d1-42f8-acf5-3eb543b6de93",
   "metadata": {},
   "outputs": [
    {
     "data": {
      "text/plain": [
       "True"
      ]
     },
     "execution_count": 22,
     "metadata": {},
     "output_type": "execute_result"
    }
   ],
   "source": [
    "d"
   ]
  },
  {
   "cell_type": "code",
   "execution_count": 23,
   "id": "dfd0f921-e11b-40c3-b428-0c7285d4f549",
   "metadata": {},
   "outputs": [
    {
     "data": {
      "text/plain": [
       "(1, 4, 'pwskills', 34.56)"
      ]
     },
     "execution_count": 23,
     "metadata": {},
     "output_type": "execute_result"
    }
   ],
   "source": [
    "test3()"
   ]
  },
  {
   "cell_type": "code",
   "execution_count": 24,
   "id": "0b2fb742-e386-4eb7-a14d-8628703471e1",
   "metadata": {},
   "outputs": [
    {
     "data": {
      "text/plain": [
       "1"
      ]
     },
     "execution_count": 24,
     "metadata": {},
     "output_type": "execute_result"
    }
   ],
   "source": [
    "test3()[0]"
   ]
  },
  {
   "cell_type": "code",
   "execution_count": 25,
   "id": "5516849d-5cd6-4d25-9fb5-24811a37595e",
   "metadata": {},
   "outputs": [
    {
     "data": {
      "text/plain": [
       "'pwskills'"
      ]
     },
     "execution_count": 25,
     "metadata": {},
     "output_type": "execute_result"
    }
   ],
   "source": [
    "test3()[2]"
   ]
  },
  {
   "cell_type": "code",
   "execution_count": 26,
   "id": "07430f57-846a-4c79-bec7-873e0a3761df",
   "metadata": {},
   "outputs": [],
   "source": [
    "a,b,c,d= test3()   # we can store the return values in different variables respectively"
   ]
  },
  {
   "cell_type": "code",
   "execution_count": 27,
   "id": "38fbbf3e-6f26-44ca-a1f5-1a838f286e5a",
   "metadata": {},
   "outputs": [
    {
     "data": {
      "text/plain": [
       "1"
      ]
     },
     "execution_count": 27,
     "metadata": {},
     "output_type": "execute_result"
    }
   ],
   "source": [
    "a"
   ]
  },
  {
   "cell_type": "code",
   "execution_count": 28,
   "id": "9215fd2e-7ae5-44c0-b69e-6af6d164fdde",
   "metadata": {},
   "outputs": [
    {
     "data": {
      "text/plain": [
       "4"
      ]
     },
     "execution_count": 28,
     "metadata": {},
     "output_type": "execute_result"
    }
   ],
   "source": [
    "b"
   ]
  },
  {
   "cell_type": "code",
   "execution_count": 29,
   "id": "62eca76e-d067-4ae0-9a46-63ba5cc46fa3",
   "metadata": {},
   "outputs": [
    {
     "data": {
      "text/plain": [
       "'pwskills'"
      ]
     },
     "execution_count": 29,
     "metadata": {},
     "output_type": "execute_result"
    }
   ],
   "source": [
    "c"
   ]
  },
  {
   "cell_type": "code",
   "execution_count": 30,
   "id": "5a8083b6-c924-48c6-8bf5-5293505f7752",
   "metadata": {},
   "outputs": [
    {
     "data": {
      "text/plain": [
       "34.56"
      ]
     },
     "execution_count": 30,
     "metadata": {},
     "output_type": "execute_result"
    }
   ],
   "source": [
    "d"
   ]
  },
  {
   "cell_type": "code",
   "execution_count": 31,
   "id": "0740f045-cc2f-4a51-83ed-e1b30b1758fc",
   "metadata": {},
   "outputs": [],
   "source": [
    "# writing logic inside function-\n",
    "\n",
    "def test4():\n",
    "    a= 3*4+5\n",
    "    return a"
   ]
  },
  {
   "cell_type": "code",
   "execution_count": 32,
   "id": "3edf829e-666a-4a79-af60-59c13af39ac1",
   "metadata": {},
   "outputs": [
    {
     "data": {
      "text/plain": [
       "17"
      ]
     },
     "execution_count": 32,
     "metadata": {},
     "output_type": "execute_result"
    }
   ],
   "source": [
    "test4()"
   ]
  },
  {
   "cell_type": "code",
   "execution_count": 33,
   "id": "3d447ead-0ce0-46b9-bfcb-9139aad10d11",
   "metadata": {},
   "outputs": [
    {
     "data": {
      "text/plain": [
       "int"
      ]
     },
     "execution_count": 33,
     "metadata": {},
     "output_type": "execute_result"
    }
   ],
   "source": [
    "type(test4())"
   ]
  },
  {
   "cell_type": "code",
   "execution_count": 34,
   "id": "cc91ceea-bf4d-4c2e-b30a-3289fffc9cff",
   "metadata": {},
   "outputs": [],
   "source": [
    "# passing arguments into function while call-\n",
    "\n",
    "def test5(a,b):\n",
    "    c= a+b\n",
    "    return c"
   ]
  },
  {
   "cell_type": "code",
   "execution_count": 38,
   "id": "2b4b64e0-142c-4d8b-a075-bdb2500cbbe9",
   "metadata": {},
   "outputs": [
    {
     "ename": "TypeError",
     "evalue": "test5() missing 2 required positional arguments: 'a' and 'b'",
     "output_type": "error",
     "traceback": [
      "\u001b[0;31m---------------------------------------------------------------------------\u001b[0m",
      "\u001b[0;31mTypeError\u001b[0m                                 Traceback (most recent call last)",
      "Cell \u001b[0;32mIn[38], line 1\u001b[0m\n\u001b[0;32m----> 1\u001b[0m \u001b[43mtest5\u001b[49m\u001b[43m(\u001b[49m\u001b[43m)\u001b[49m\n",
      "\u001b[0;31mTypeError\u001b[0m: test5() missing 2 required positional arguments: 'a' and 'b'"
     ]
    }
   ],
   "source": [
    "test5()"
   ]
  },
  {
   "cell_type": "code",
   "execution_count": 35,
   "id": "888fa510-e0d3-4de6-bb52-11e0cd5640eb",
   "metadata": {},
   "outputs": [
    {
     "data": {
      "text/plain": [
       "30"
      ]
     },
     "execution_count": 35,
     "metadata": {},
     "output_type": "execute_result"
    }
   ],
   "source": [
    "test5(10,20)"
   ]
  },
  {
   "cell_type": "code",
   "execution_count": 36,
   "id": "dd0fe146-d9d8-4354-af6a-506a76cc9558",
   "metadata": {},
   "outputs": [
    {
     "data": {
      "text/plain": [
       "'hibye'"
      ]
     },
     "execution_count": 36,
     "metadata": {},
     "output_type": "execute_result"
    }
   ],
   "source": [
    "test5(\"hi\",\"bye\")"
   ]
  },
  {
   "cell_type": "code",
   "execution_count": 37,
   "id": "09319f4a-58db-4bc8-af10-1a7889521396",
   "metadata": {},
   "outputs": [
    {
     "data": {
      "text/plain": [
       "[1, 2, 3, 3, 2, 1]"
      ]
     },
     "execution_count": 37,
     "metadata": {},
     "output_type": "execute_result"
    }
   ],
   "source": [
    "test5([1,2,3],[3,2,1])"
   ]
  },
  {
   "cell_type": "code",
   "execution_count": 39,
   "id": "9aa138be-57a8-4923-8bd3-8921d900fc1a",
   "metadata": {},
   "outputs": [
    {
     "data": {
      "text/plain": [
       "'dorabhavna'"
      ]
     },
     "execution_count": 39,
     "metadata": {},
     "output_type": "execute_result"
    }
   ],
   "source": [
    "test5(b=\"bhavna\",a=\"dora\")"
   ]
  },
  {
   "cell_type": "code",
   "execution_count": 40,
   "id": "ab403d26-76cf-415b-b70d-363744ca3b60",
   "metadata": {},
   "outputs": [],
   "source": [
    "l=[1,2,3,4,5,\"Bhavna\",\"pwskills\",[1,2,3,34,45]]"
   ]
  },
  {
   "cell_type": "code",
   "execution_count": 43,
   "id": "a80d9fd8-1d82-4ee8-a7f5-a8b658b344fb",
   "metadata": {},
   "outputs": [],
   "source": [
    "# create a function which will take list as input and give a final list with all numeric values-\n",
    "\n",
    "def test6(l1):\n",
    "    n=[]\n",
    "    for i in l1:\n",
    "        if type(i)==int or type(i)==float:\n",
    "            n.append(i)\n",
    "    return n\n",
    "    "
   ]
  },
  {
   "cell_type": "code",
   "execution_count": 44,
   "id": "2242dff9-f3d9-4431-8011-7f812c70db4d",
   "metadata": {},
   "outputs": [
    {
     "data": {
      "text/plain": [
       "[1, 2, 3, 4, 5]"
      ]
     },
     "execution_count": 44,
     "metadata": {},
     "output_type": "execute_result"
    }
   ],
   "source": [
    "test6(l)"
   ]
  },
  {
   "cell_type": "code",
   "execution_count": 47,
   "id": "b5420294-d618-48ba-8d9d-1a51f94762b8",
   "metadata": {},
   "outputs": [],
   "source": [
    "def test7(l2):\n",
    "    n=[]\n",
    "    for i in l2:\n",
    "        if type(i)==int or type(i)==float:\n",
    "            n.append(i)\n",
    "        elif type(i)==list:\n",
    "            for j in i:\n",
    "                if type(j)==int or typr(j)==float:\n",
    "                    n.append(j)\n",
    "                        \n",
    "    return n"
   ]
  },
  {
   "cell_type": "code",
   "execution_count": 48,
   "id": "8acb2490-038b-4888-9c10-ddb0e15911f3",
   "metadata": {},
   "outputs": [
    {
     "data": {
      "text/plain": [
       "[1, 2, 3, 4, 5, 1, 2, 3, 34, 45]"
      ]
     },
     "execution_count": 48,
     "metadata": {},
     "output_type": "execute_result"
    }
   ],
   "source": [
    "test7(l)"
   ]
  },
  {
   "cell_type": "code",
   "execution_count": 49,
   "id": "a9f2e1f8-2a86-44f2-be08-a4a51309de66",
   "metadata": {},
   "outputs": [],
   "source": [
    "def test8(a,b,c,d,e):\n",
    "    pass"
   ]
  },
  {
   "cell_type": "code",
   "execution_count": 50,
   "id": "4fe13f11-af84-45dc-943a-cfbabff2b403",
   "metadata": {},
   "outputs": [],
   "source": [
    "test8(1,2,3,4,5)"
   ]
  },
  {
   "cell_type": "code",
   "execution_count": 51,
   "id": "d1bd2ce3-70a5-4b0d-968c-174a517303d2",
   "metadata": {},
   "outputs": [
    {
     "ename": "TypeError",
     "evalue": "test8() takes 5 positional arguments but 7 were given",
     "output_type": "error",
     "traceback": [
      "\u001b[0;31m---------------------------------------------------------------------------\u001b[0m",
      "\u001b[0;31mTypeError\u001b[0m                                 Traceback (most recent call last)",
      "Cell \u001b[0;32mIn[51], line 1\u001b[0m\n\u001b[0;32m----> 1\u001b[0m \u001b[43mtest8\u001b[49m\u001b[43m(\u001b[49m\u001b[38;5;241;43m1\u001b[39;49m\u001b[43m,\u001b[49m\u001b[38;5;241;43m2\u001b[39;49m\u001b[43m,\u001b[49m\u001b[38;5;241;43m3\u001b[39;49m\u001b[43m,\u001b[49m\u001b[38;5;241;43m4\u001b[39;49m\u001b[43m,\u001b[49m\u001b[38;5;241;43m5\u001b[39;49m\u001b[43m,\u001b[49m\u001b[38;5;241;43m6\u001b[39;49m\u001b[43m,\u001b[49m\u001b[38;5;241;43m7\u001b[39;49m\u001b[43m)\u001b[49m\n",
      "\u001b[0;31mTypeError\u001b[0m: test8() takes 5 positional arguments but 7 were given"
     ]
    }
   ],
   "source": [
    "test8(1,2,3,4,5,6,7)"
   ]
  },
  {
   "cell_type": "code",
   "execution_count": 52,
   "id": "c9a83903-deca-4498-ad23-47331ded3f05",
   "metadata": {},
   "outputs": [],
   "source": [
    "# using asterisk * we can give any no. of arguments and we don't have to see the no. of arguments to be taken while calling\n",
    "# return will come in the form of tuples i.e. args will take all data as a tuple\n",
    "\n",
    "def test9(*args):\n",
    "    return args"
   ]
  },
  {
   "cell_type": "code",
   "execution_count": 53,
   "id": "8e5b826d-4585-4b4d-922a-665f61339629",
   "metadata": {},
   "outputs": [
    {
     "data": {
      "text/plain": [
       "(2,)"
      ]
     },
     "execution_count": 53,
     "metadata": {},
     "output_type": "execute_result"
    }
   ],
   "source": [
    "test9(2)"
   ]
  },
  {
   "cell_type": "code",
   "execution_count": 54,
   "id": "d1bd82f2-2cce-4656-ad8b-1d086f1b8e2f",
   "metadata": {},
   "outputs": [
    {
     "data": {
      "text/plain": [
       "(1, 2, 3, 4, 5, 5)"
      ]
     },
     "execution_count": 54,
     "metadata": {},
     "output_type": "execute_result"
    }
   ],
   "source": [
    "test9(1,2,3,4,5,5)"
   ]
  },
  {
   "cell_type": "code",
   "execution_count": 55,
   "id": "769f2c28-66fd-4ce4-a4c7-107cdf953db2",
   "metadata": {},
   "outputs": [
    {
     "data": {
      "text/plain": [
       "('dora', [1, 2, 3, 4, 5], (1, 2, 3, 4, 5))"
      ]
     },
     "execution_count": 55,
     "metadata": {},
     "output_type": "execute_result"
    }
   ],
   "source": [
    "test9(\"dora\",[1,2,3,4,5],(1,2,3,4,5))"
   ]
  },
  {
   "cell_type": "code",
   "execution_count": 56,
   "id": "1139640b-aa0e-4b97-bade-a7d39af60ab8",
   "metadata": {},
   "outputs": [],
   "source": [
    "# args is not a keyword, we can write any other variable in place of it. \n",
    "\n",
    "def test10(*ab):\n",
    "    return ab"
   ]
  },
  {
   "cell_type": "code",
   "execution_count": 57,
   "id": "1f776fe5-9629-45a1-ae97-b41795a86dac",
   "metadata": {},
   "outputs": [
    {
     "data": {
      "text/plain": [
       "(2, 3, 4, 5)"
      ]
     },
     "execution_count": 57,
     "metadata": {},
     "output_type": "execute_result"
    }
   ],
   "source": [
    "test10(2,3,4,5)"
   ]
  },
  {
   "cell_type": "code",
   "execution_count": 58,
   "id": "f1e2c320-d12b-4942-8827-40b9b5cc6900",
   "metadata": {},
   "outputs": [],
   "source": [
    "def test11(*args,a):\n",
    "    return args,a"
   ]
  },
  {
   "cell_type": "code",
   "execution_count": 59,
   "id": "3951c76d-2685-413f-b2a2-84efb61f5a20",
   "metadata": {},
   "outputs": [
    {
     "ename": "TypeError",
     "evalue": "test11() missing 1 required keyword-only argument: 'a'",
     "output_type": "error",
     "traceback": [
      "\u001b[0;31m---------------------------------------------------------------------------\u001b[0m",
      "\u001b[0;31mTypeError\u001b[0m                                 Traceback (most recent call last)",
      "Cell \u001b[0;32mIn[59], line 1\u001b[0m\n\u001b[0;32m----> 1\u001b[0m \u001b[43mtest11\u001b[49m\u001b[43m(\u001b[49m\u001b[38;5;241;43m3\u001b[39;49m\u001b[43m)\u001b[49m\n",
      "\u001b[0;31mTypeError\u001b[0m: test11() missing 1 required keyword-only argument: 'a'"
     ]
    }
   ],
   "source": [
    "test11(3)"
   ]
  },
  {
   "cell_type": "code",
   "execution_count": 60,
   "id": "9cd0c80e-b673-48b2-8ab9-dc0a0eba1ed0",
   "metadata": {},
   "outputs": [
    {
     "data": {
      "text/plain": [
       "((1, 2, 3, 4), 'hi')"
      ]
     },
     "execution_count": 60,
     "metadata": {},
     "output_type": "execute_result"
    }
   ],
   "source": [
    "test11(1,2,3,4, a=\"hi\")"
   ]
  },
  {
   "cell_type": "code",
   "execution_count": 61,
   "id": "4d75bcbd-1d93-47b2-9afe-2e580886a535",
   "metadata": {},
   "outputs": [],
   "source": [
    "# write a function that will take many inputs but return those which are list-\n",
    "\n",
    "def test12(*args):\n",
    "    n=[]\n",
    "    for i in args:\n",
    "        if type(i)==list:\n",
    "            n.append(i)\n",
    "    return n"
   ]
  },
  {
   "cell_type": "code",
   "execution_count": 63,
   "id": "20b6d882-0492-4333-ad67-8b0b3de32665",
   "metadata": {},
   "outputs": [
    {
     "data": {
      "text/plain": [
       "[[1, 2, 3, 4, 4], [4, 5], [6, 7]]"
      ]
     },
     "execution_count": 63,
     "metadata": {},
     "output_type": "execute_result"
    }
   ],
   "source": [
    "test12(1,2,3,[1,2,3,4,4],(2,4,5),\"bhavna\",[4,5],[6,7])    #these many data will go inside args as a tuple"
   ]
  },
  {
   "cell_type": "code",
   "execution_count": 66,
   "id": "0616556f-2446-4497-b24b-f493fa6d4cd5",
   "metadata": {},
   "outputs": [],
   "source": [
    "# pass n no. of key:value pairs as argument-\n",
    "\n",
    "def test13(**kwargs):\n",
    "    return kwargs   # it will return a dictionary"
   ]
  },
  {
   "cell_type": "code",
   "execution_count": 67,
   "id": "717e4319-af27-4d81-a75c-09b4cc8dcc64",
   "metadata": {},
   "outputs": [
    {
     "data": {
      "text/plain": [
       "{'a': 34, 'b': 23, 'c': [1, 2, 3, 4], 'd': ('sudh', 'pwskills')}"
      ]
     },
     "execution_count": 67,
     "metadata": {},
     "output_type": "execute_result"
    }
   ],
   "source": [
    "test13(a=34,b=23,c=[1,2,3,4],d=(\"sudh\",\"pwskills\"))  "
   ]
  },
  {
   "cell_type": "code",
   "execution_count": 68,
   "id": "6f1ed9ae-9e6b-4554-a815-f0de31df4e00",
   "metadata": {},
   "outputs": [
    {
     "data": {
      "text/plain": [
       "dict"
      ]
     },
     "execution_count": 68,
     "metadata": {},
     "output_type": "execute_result"
    }
   ],
   "source": [
    "type(test13())"
   ]
  },
  {
   "cell_type": "code",
   "execution_count": 69,
   "id": "57d2af17-5bf8-448a-90dc-d2778ecdfa7d",
   "metadata": {},
   "outputs": [],
   "source": [
    "# write a function to take the above dictionary as input and return the values which are lists-\n",
    "\n",
    "def test14(**kwargs):\n",
    "    n=[]\n",
    "    for i in kwargs.values():\n",
    "        if type(i)==list:\n",
    "            n.append(i)\n",
    "    return n"
   ]
  },
  {
   "cell_type": "code",
   "execution_count": 70,
   "id": "b88e94d1-d029-4adb-892f-8a5231d67d62",
   "metadata": {},
   "outputs": [
    {
     "data": {
      "text/plain": [
       "[[1, 2, 3, 4]]"
      ]
     },
     "execution_count": 70,
     "metadata": {},
     "output_type": "execute_result"
    }
   ],
   "source": [
    "test14(a=34,b=23,c=[1,2,3,4],d=(\"sudh\",\"pwskills\"))  "
   ]
  },
  {
   "cell_type": "code",
   "execution_count": 71,
   "id": "df4d8664-929a-4389-800b-4eb93afa4b42",
   "metadata": {},
   "outputs": [],
   "source": [
    "# write a function to take the above dictionary as input and return the values which are list along with their respective keys\n",
    "\n",
    "def test15(**kwargs):\n",
    "    for i in kwargs.keys():\n",
    "        if type(kwargs[i])==list:\n",
    "            return i, kwargs[i]"
   ]
  },
  {
   "cell_type": "code",
   "execution_count": 72,
   "id": "72067c02-ffc8-4625-8155-9e926522c3f1",
   "metadata": {},
   "outputs": [
    {
     "data": {
      "text/plain": [
       "('c', [1, 2, 3, 4])"
      ]
     },
     "execution_count": 72,
     "metadata": {},
     "output_type": "execute_result"
    }
   ],
   "source": [
    "test15(a=34,b=23,c=[1,2,3,4],d=(\"sudh\",\"pwskills\")) "
   ]
  },
  {
   "cell_type": "code",
   "execution_count": 73,
   "id": "e95f754e-76e0-4123-9573-7b056ee40f72",
   "metadata": {},
   "outputs": [],
   "source": [
    "def test16(*args,**kwargs):\n",
    "    return args, kwargs     # it will return a tuple containing a tuple and a dictionary"
   ]
  },
  {
   "cell_type": "code",
   "execution_count": 74,
   "id": "8f459fd2-02fd-4c53-b07f-31a170a973c8",
   "metadata": {},
   "outputs": [
    {
     "data": {
      "text/plain": [
       "((1, 2, 3, 4), {'a': 78, 'b': 'bhavna', 'c': [1, 2]})"
      ]
     },
     "execution_count": 74,
     "metadata": {},
     "output_type": "execute_result"
    }
   ],
   "source": [
    "test16(1,2,3,4,a=78,b=\"bhavna\",c=[1,2])"
   ]
  },
  {
   "cell_type": "code",
   "execution_count": null,
   "id": "caef82c6-2f39-44cf-8816-dbf288d79297",
   "metadata": {},
   "outputs": [],
   "source": []
  }
 ],
 "metadata": {
  "kernelspec": {
   "display_name": "Python 3 (ipykernel)",
   "language": "python",
   "name": "python3"
  },
  "language_info": {
   "codemirror_mode": {
    "name": "ipython",
    "version": 3
   },
   "file_extension": ".py",
   "mimetype": "text/x-python",
   "name": "python",
   "nbconvert_exporter": "python",
   "pygments_lexer": "ipython3",
   "version": "3.10.8"
  }
 },
 "nbformat": 4,
 "nbformat_minor": 5
}
