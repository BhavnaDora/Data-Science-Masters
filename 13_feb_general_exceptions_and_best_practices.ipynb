{
 "cells": [
  {
   "cell_type": "markdown",
   "id": "66b2ff7b-a909-4549-b837-e28bea1d7e35",
   "metadata": {},
   "source": [
    "#### List of general exceptions"
   ]
  },
  {
   "cell_type": "code",
   "execution_count": 2,
   "id": "46bf5707-9b8a-4de9-88c7-85c593070789",
   "metadata": {},
   "outputs": [
    {
     "name": "stdout",
     "output_type": "stream",
     "text": [
      "division by zero\n"
     ]
    }
   ],
   "source": [
    "try:\n",
    "    a=10\n",
    "    a/0          # dividing by zero will give error\n",
    "except ZeroDivisionError as e:\n",
    "    print(e)"
   ]
  },
  {
   "cell_type": "code",
   "execution_count": 5,
   "id": "5187c6ec-5595-4754-86a5-737db7753fc2",
   "metadata": {},
   "outputs": [
    {
     "name": "stdout",
     "output_type": "stream",
     "text": [
      "invalid literal for int() with base 10: 'sudh'\n"
     ]
    }
   ],
   "source": [
    "try:\n",
    "    int(\"sudh\")       # typecasting string as int will give error\n",
    "except (ValueError, TypeError) as e:\n",
    "    print(e)"
   ]
  },
  {
   "cell_type": "code",
   "execution_count": 6,
   "id": "c354aabc-de71-4270-a036-97a580ee2b97",
   "metadata": {},
   "outputs": [
    {
     "name": "stdout",
     "output_type": "stream",
     "text": [
      "this will catch an error\n"
     ]
    }
   ],
   "source": [
    "try:\n",
    "    int(\"sudh\")       # if we are not aware of error type, we can simply write except only and it will call the superclass Exception\n",
    "except:\n",
    "    print(\"this will catch an error\")"
   ]
  },
  {
   "cell_type": "code",
   "execution_count": 8,
   "id": "69543797-ae54-4a5c-a7ee-f80440b60da9",
   "metadata": {},
   "outputs": [
    {
     "name": "stdout",
     "output_type": "stream",
     "text": [
      "No module named 'bhavna'\n"
     ]
    }
   ],
   "source": [
    "try:\n",
    "    import bhavna         # there's no in-bult module bhavna in python, so error\n",
    "except ImportError as e:\n",
    "    print(e)"
   ]
  },
  {
   "cell_type": "code",
   "execution_count": 9,
   "id": "9d9f56e7-d341-48ff-a4b6-5019b7fe8fa6",
   "metadata": {},
   "outputs": [
    {
     "name": "stdout",
     "output_type": "stream",
     "text": [
      "'key10'\n"
     ]
    }
   ],
   "source": [
    "try:\n",
    "    d={1:[3,4,5,6],\"key\":\"sudh\"}\n",
    "    d[\"key10\"]          # this key doesn't exists\n",
    "except KeyError as e:\n",
    "    print(e)"
   ]
  },
  {
   "cell_type": "code",
   "execution_count": 10,
   "id": "e14bb299-b6b1-4f33-a4ab-77f7e8be703c",
   "metadata": {},
   "outputs": [
    {
     "name": "stdout",
     "output_type": "stream",
     "text": [
      "'str' object has no attribute 'test'\n"
     ]
    }
   ],
   "source": [
    "try:\n",
    "    \"bhavna\".test()         # we haven't created a test function\n",
    "except AttributeError as e:\n",
    "    print(e)"
   ]
  },
  {
   "cell_type": "code",
   "execution_count": 11,
   "id": "4950960f-f0e4-47cd-afb9-28c36bcfd3f8",
   "metadata": {},
   "outputs": [
    {
     "name": "stdout",
     "output_type": "stream",
     "text": [
      "list index out of range\n"
     ]
    }
   ],
   "source": [
    "try:\n",
    "    l=[1,2,3,4]\n",
    "    l[10]             # this index doesn't exists\n",
    "except IndexError as e:\n",
    "    print(e)"
   ]
  },
  {
   "cell_type": "code",
   "execution_count": 12,
   "id": "1ba625f0-71aa-4ec5-9ff5-e2bdfca3f1dd",
   "metadata": {},
   "outputs": [
    {
     "name": "stdout",
     "output_type": "stream",
     "text": [
      "unsupported operand type(s) for +: 'int' and 'str'\n"
     ]
    }
   ],
   "source": [
    "try:\n",
    "    123+\"bhavna\"           # we can't concatenate int and str\n",
    "except TypeError as e:\n",
    "    print(e)"
   ]
  },
  {
   "cell_type": "code",
   "execution_count": 13,
   "id": "1be3f8a9-aa54-4d47-9de0-ad18330a8c79",
   "metadata": {},
   "outputs": [
    {
     "name": "stdout",
     "output_type": "stream",
     "text": [
      "[Errno 2] No such file or directory: 'test11.txt'\n"
     ]
    }
   ],
   "source": [
    "try:\n",
    "    with open(\"test11.txt\",\"r\") as f:\n",
    "        f.read()\n",
    "except FileNotFoundError as e:\n",
    "    print(e)"
   ]
  },
  {
   "cell_type": "code",
   "execution_count": 14,
   "id": "6af090df-27ff-4437-8a5c-363743e08ef5",
   "metadata": {},
   "outputs": [
    {
     "name": "stdout",
     "output_type": "stream",
     "text": [
      "this is exception class error [Errno 2] No such file or directory: 'test11.txt'\n"
     ]
    }
   ],
   "source": [
    "try:\n",
    "    with open(\"test11.txt\",\"r\") as f:\n",
    "        f.read()\n",
    "except Exception as e:\n",
    "    print(\"this is exception class error\",e)\n",
    "except FileNotFoundError as e:\n",
    "    print(\"this is my file not found error\",e)"
   ]
  },
  {
   "cell_type": "code",
   "execution_count": 15,
   "id": "56974168-1f6e-4001-a35b-8f169fc85df4",
   "metadata": {},
   "outputs": [],
   "source": [
    "# It has been handled by the Exception superclass because it is written first, but it is not a good practice.\n",
    "# After writing all possible specific exceptions, we can write the superclass Exception."
   ]
  },
  {
   "cell_type": "code",
   "execution_count": 17,
   "id": "6dba5306-e1e6-4273-a7d9-b9bb55afa1c9",
   "metadata": {},
   "outputs": [
    {
     "name": "stdout",
     "output_type": "stream",
     "text": [
      "this is my file not found error [Errno 2] No such file or directory: 'test11.txt'\n"
     ]
    }
   ],
   "source": [
    "def test(file):\n",
    "    try:\n",
    "        with open(file, \"r\") as f:\n",
    "            f.read()\n",
    "    except FileNotFoundError as e:\n",
    "        print(\"this is my file not found error\",e)\n",
    "    except Exception as e:\n",
    "        print(e)\n",
    "test(\"test11.txt\")"
   ]
  },
  {
   "cell_type": "markdown",
   "id": "1e5d0222-f2d4-4584-8e43-56192b185467",
   "metadata": {},
   "source": [
    "#### Best practices for Exception handling"
   ]
  },
  {
   "cell_type": "code",
   "execution_count": 18,
   "id": "25fbd6b9-95b8-4292-adda-b76e75dec1cd",
   "metadata": {},
   "outputs": [
    {
     "name": "stdout",
     "output_type": "stream",
     "text": [
      "division by zero\n"
     ]
    }
   ],
   "source": [
    "# always use a specific exception\n",
    "try:\n",
    "    10/0\n",
    "except Exception as e:     #this is general exception\n",
    "    print(e)"
   ]
  },
  {
   "cell_type": "code",
   "execution_count": 19,
   "id": "8fe1f24c-7116-4676-a57e-1fb0e48d504d",
   "metadata": {},
   "outputs": [
    {
     "name": "stdout",
     "output_type": "stream",
     "text": [
      "division by zero\n"
     ]
    }
   ],
   "source": [
    "try:\n",
    "    10/0\n",
    "except ZeroDivisionError as e:      # this is specific exception\n",
    "    print(e)"
   ]
  },
  {
   "cell_type": "code",
   "execution_count": 20,
   "id": "e3f9b0b5-2950-4e2b-a83a-2fd621fc032a",
   "metadata": {},
   "outputs": [
    {
     "name": "stdout",
     "output_type": "stream",
     "text": [
      "this is my zero div error i am handling: division by zero\n"
     ]
    }
   ],
   "source": [
    "# always print a valid msg-\n",
    "try:\n",
    "    10/0\n",
    "except ZeroDivisionError as e:\n",
    "    print(\"this is my zero div error i am handling:\",e)"
   ]
  },
  {
   "cell_type": "code",
   "execution_count": 22,
   "id": "92fc801c-af58-4f80-b302-596f762ee166",
   "metadata": {},
   "outputs": [],
   "source": [
    "# always try to log in file-\n",
    "import logging\n",
    "try:\n",
    "    10/0\n",
    "except ZeroDivisionError as e:\n",
    "    logging.basicConfig(filename=\"error.log\", level= logging.ERROR)\n",
    "    logging.error(\"this is my zero div error{}\".format(e))"
   ]
  },
  {
   "cell_type": "code",
   "execution_count": 28,
   "id": "91f6024a-c23c-4b09-9165-cf8e4e9b3767",
   "metadata": {},
   "outputs": [],
   "source": [
    "# always avoid writing multiple exceptions- \n",
    "import logging\n",
    "try:\n",
    "    10/0\n",
    "except FileNotFoundError as e:\n",
    "    logging.error(\"this is file not found error {}\".format(e))\n",
    "except AttributeError as e:\n",
    "    logging.error(\"this is attribute error {}\".format(e))\n",
    "except ZeroDivisionError as e:\n",
    "    logging.error(\"this is my zero div error {}\".format(e))"
   ]
  },
  {
   "cell_type": "code",
   "execution_count": 29,
   "id": "3efbba55-229b-479c-9755-78ac711059d7",
   "metadata": {},
   "outputs": [],
   "source": [
    "# prepare a proper documentation"
   ]
  },
  {
   "cell_type": "code",
   "execution_count": 30,
   "id": "1c67566a-cc3e-4c0b-8a5b-32fcbb82b301",
   "metadata": {},
   "outputs": [],
   "source": [
    "# cleanup all the resources- to avoid unnecessary consumption of memory\n",
    "try:\n",
    "    with open(\"test11.txt\",\"w\") as f:\n",
    "        f.write(\"hi everyone\")\n",
    "except FileNotFoundError as e:\n",
    "    logging.error(\"this is file not found error {}\".format(e))\n",
    "finally:\n",
    "    f.close()"
   ]
  },
  {
   "cell_type": "code",
   "execution_count": null,
   "id": "068a98a6-37ec-4de6-b773-13ac2a6433a8",
   "metadata": {},
   "outputs": [],
   "source": []
  }
 ],
 "metadata": {
  "kernelspec": {
   "display_name": "Python 3 (ipykernel)",
   "language": "python",
   "name": "python3"
  },
  "language_info": {
   "codemirror_mode": {
    "name": "ipython",
    "version": 3
   },
   "file_extension": ".py",
   "mimetype": "text/x-python",
   "name": "python",
   "nbconvert_exporter": "python",
   "pygments_lexer": "ipython3",
   "version": "3.10.8"
  }
 },
 "nbformat": 4,
 "nbformat_minor": 5
}
