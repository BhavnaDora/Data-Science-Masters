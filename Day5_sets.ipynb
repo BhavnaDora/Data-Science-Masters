{
 "cells": [
  {
   "cell_type": "code",
   "execution_count": 5,
   "id": "bbd68267-15f1-4825-808c-efb57e4968d6",
   "metadata": {},
   "outputs": [],
   "source": [
    "s={} #empty curly braces is taken as dictionary"
   ]
  },
  {
   "cell_type": "code",
   "execution_count": 2,
   "id": "7086e104-1f6b-4d2c-a925-89c917208b6d",
   "metadata": {},
   "outputs": [
    {
     "data": {
      "text/plain": [
       "dict"
      ]
     },
     "execution_count": 2,
     "metadata": {},
     "output_type": "execute_result"
    }
   ],
   "source": [
    "type(s)"
   ]
  },
  {
   "cell_type": "code",
   "execution_count": 3,
   "id": "4151c59f-1ff7-44e7-9098-681bb0552567",
   "metadata": {},
   "outputs": [],
   "source": [
    "s1={1,2,3,4,5}"
   ]
  },
  {
   "cell_type": "code",
   "execution_count": 4,
   "id": "b5842048-d909-4da2-8808-cdbaaac06545",
   "metadata": {},
   "outputs": [
    {
     "data": {
      "text/plain": [
       "set"
      ]
     },
     "execution_count": 4,
     "metadata": {},
     "output_type": "execute_result"
    }
   ],
   "source": [
    "type(s1)"
   ]
  },
  {
   "cell_type": "code",
   "execution_count": 6,
   "id": "34dc450c-f1f0-4671-81f6-f9fa3418e6bc",
   "metadata": {},
   "outputs": [],
   "source": [
    "s2={1,1,12,3,3,3,4,5,5,5,55,523,34,3,45,6,67}"
   ]
  },
  {
   "cell_type": "code",
   "execution_count": 7,
   "id": "7be167e8-72ed-4d0b-9d38-82453c50bfe5",
   "metadata": {},
   "outputs": [
    {
     "data": {
      "text/plain": [
       "{1, 3, 4, 5, 6, 12, 34, 45, 55, 67, 523}"
      ]
     },
     "execution_count": 7,
     "metadata": {},
     "output_type": "execute_result"
    }
   ],
   "source": [
    "s2"
   ]
  },
  {
   "cell_type": "markdown",
   "id": "9faf46da-871b-4b6d-981a-95618c36676a",
   "metadata": {},
   "source": [
    "##### set holds unique elements. \n",
    "##### The set removes all the duplicates of an element and gives the output with unique elements."
   ]
  },
  {
   "cell_type": "markdown",
   "id": "2f28dedf-33f8-45ec-b898-6125e9bcdabf",
   "metadata": {},
   "source": [
    "##### conversion of set to list and tuple is possible.\n",
    "##### conversion of list and tuple to set is also possible."
   ]
  },
  {
   "cell_type": "code",
   "execution_count": 11,
   "id": "02688709-0a50-4781-87db-099bf7576192",
   "metadata": {},
   "outputs": [
    {
     "data": {
      "text/plain": [
       "[1, 34, 3, 4, 5, 6, 67, 523, 12, 45, 55]"
      ]
     },
     "execution_count": 11,
     "metadata": {},
     "output_type": "execute_result"
    }
   ],
   "source": [
    "list(s2)"
   ]
  },
  {
   "cell_type": "code",
   "execution_count": 12,
   "id": "c368f5e5-a177-44a0-b828-5c8cfb558efd",
   "metadata": {},
   "outputs": [
    {
     "data": {
      "text/plain": [
       "(1, 34, 3, 4, 5, 6, 67, 523, 12, 45, 55)"
      ]
     },
     "execution_count": 12,
     "metadata": {},
     "output_type": "execute_result"
    }
   ],
   "source": [
    "tuple(s2)"
   ]
  },
  {
   "cell_type": "code",
   "execution_count": 16,
   "id": "fcc846e4-29e8-4f53-b27e-8e726c9c53ee",
   "metadata": {},
   "outputs": [
    {
     "data": {
      "text/plain": [
       "{1, 3, 4, 5, 6, 12, 34, 45, 55, 67, 523}"
      ]
     },
     "execution_count": 16,
     "metadata": {},
     "output_type": "execute_result"
    }
   ],
   "source": [
    "set(list(s2))"
   ]
  },
  {
   "cell_type": "markdown",
   "id": "ae6246cc-53fa-4943-8a21-692b184f2691",
   "metadata": {},
   "source": [
    "##### cannot store list in set- list is unhashable\n"
   ]
  },
  {
   "cell_type": "code",
   "execution_count": 17,
   "id": "8f8d01cd-4840-4be9-83f0-a85d99bf6dc5",
   "metadata": {},
   "outputs": [
    {
     "ename": "TypeError",
     "evalue": "unhashable type: 'list'",
     "output_type": "error",
     "traceback": [
      "\u001b[0;31m---------------------------------------------------------------------------\u001b[0m",
      "\u001b[0;31mTypeError\u001b[0m                                 Traceback (most recent call last)",
      "Cell \u001b[0;32mIn[17], line 1\u001b[0m\n\u001b[0;32m----> 1\u001b[0m s4\u001b[38;5;241m=\u001b[39m{\u001b[38;5;241m1\u001b[39m,\u001b[38;5;241m2\u001b[39m,\u001b[38;5;241m3\u001b[39m,\u001b[38;5;241m4\u001b[39m,[\u001b[38;5;241m1\u001b[39m,\u001b[38;5;241m2\u001b[39m,\u001b[38;5;241m3\u001b[39m]}\n",
      "\u001b[0;31mTypeError\u001b[0m: unhashable type: 'list'"
     ]
    }
   ],
   "source": [
    "s4={1,2,3,4,[1,2,3]}"
   ]
  },
  {
   "cell_type": "markdown",
   "id": "aa6da812-c924-42ec-adab-5dc1819865f1",
   "metadata": {},
   "source": [
    "##### can store tuple in set"
   ]
  },
  {
   "cell_type": "code",
   "execution_count": 18,
   "id": "f3220276-a6c8-4575-9370-de8bcf48e118",
   "metadata": {},
   "outputs": [],
   "source": [
    "s5= {1,2,3,4,(1,2,3)}"
   ]
  },
  {
   "cell_type": "code",
   "execution_count": 19,
   "id": "7540d6d2-68b0-450f-9b64-7d53748dc96a",
   "metadata": {},
   "outputs": [
    {
     "data": {
      "text/plain": [
       "{(1, 2, 3), 1, 2, 3, 4}"
      ]
     },
     "execution_count": 19,
     "metadata": {},
     "output_type": "execute_result"
    }
   ],
   "source": [
    "s5"
   ]
  },
  {
   "cell_type": "code",
   "execution_count": 20,
   "id": "551f60cf-eed8-4c2c-9099-c4776c79231a",
   "metadata": {},
   "outputs": [],
   "source": [
    "s6={\"Bhavna\",\"bhavna\",1,2,3}"
   ]
  },
  {
   "cell_type": "code",
   "execution_count": 21,
   "id": "fc1167fd-bd7a-4fb5-91af-a73cdac0c55f",
   "metadata": {},
   "outputs": [
    {
     "data": {
      "text/plain": [
       "{1, 2, 3, 'Bhavna', 'bhavna'}"
      ]
     },
     "execution_count": 21,
     "metadata": {},
     "output_type": "execute_result"
    }
   ],
   "source": [
    "s6"
   ]
  },
  {
   "cell_type": "code",
   "execution_count": 22,
   "id": "e46ac911-eec1-4aaf-b502-5b02c8e29d30",
   "metadata": {},
   "outputs": [],
   "source": [
    "s7={2,3,4,5,\"Bhavna\"}"
   ]
  },
  {
   "cell_type": "code",
   "execution_count": 23,
   "id": "7dd8bba3-2c09-4399-8469-c6972d6a54c8",
   "metadata": {},
   "outputs": [
    {
     "ename": "TypeError",
     "evalue": "'set' object is not subscriptable",
     "output_type": "error",
     "traceback": [
      "\u001b[0;31m---------------------------------------------------------------------------\u001b[0m",
      "\u001b[0;31mTypeError\u001b[0m                                 Traceback (most recent call last)",
      "Cell \u001b[0;32mIn[23], line 1\u001b[0m\n\u001b[0;32m----> 1\u001b[0m \u001b[43ms7\u001b[49m\u001b[43m[\u001b[49m\u001b[38;5;241;43m0\u001b[39;49m\u001b[43m]\u001b[49m\n",
      "\u001b[0;31mTypeError\u001b[0m: 'set' object is not subscriptable"
     ]
    }
   ],
   "source": [
    "s7[0]"
   ]
  },
  {
   "cell_type": "markdown",
   "id": "bf514093-635a-4c57-8d84-4824e0da0928",
   "metadata": {},
   "source": [
    "##### System hols the set in a different way. It doesn't hold the elements of the set in a sequential way unlike it did in list and tuple. So, we can't access the elements of set through index."
   ]
  },
  {
   "cell_type": "markdown",
   "id": "e0844806-cf7a-4c37-a210-9e639a49b754",
   "metadata": {},
   "source": [
    "##### But using loop we can subscribe (i.e. print all elements of set) even a hashable type of thing-set"
   ]
  },
  {
   "cell_type": "code",
   "execution_count": 24,
   "id": "30a0d5c9-74ae-490b-b6aa-a9fc7ce2d39c",
   "metadata": {},
   "outputs": [
    {
     "name": "stdout",
     "output_type": "stream",
     "text": [
      "2\n",
      "3\n",
      "4\n",
      "5\n",
      "Bhavna\n"
     ]
    }
   ],
   "source": [
    "for i in s7:\n",
    "    print(i)"
   ]
  },
  {
   "cell_type": "markdown",
   "id": "1fd1fa4d-599b-4c40-b1c7-4a377204e2cf",
   "metadata": {},
   "source": [
    "##### Some built-in functions of set-"
   ]
  },
  {
   "cell_type": "code",
   "execution_count": 26,
   "id": "429968f9-a694-45df-b5ac-08b9c0e095eb",
   "metadata": {},
   "outputs": [],
   "source": [
    "s7.add(34)"
   ]
  },
  {
   "cell_type": "code",
   "execution_count": 27,
   "id": "02a9af9f-a271-4b66-8e0c-b17b0ebf965e",
   "metadata": {},
   "outputs": [
    {
     "data": {
      "text/plain": [
       "{2, 3, 34, 4, 5, 'Bhavna'}"
      ]
     },
     "execution_count": 27,
     "metadata": {},
     "output_type": "execute_result"
    }
   ],
   "source": [
    "s7"
   ]
  },
  {
   "cell_type": "code",
   "execution_count": 28,
   "id": "123559c4-1cd6-461f-b65c-facf9213908b",
   "metadata": {},
   "outputs": [],
   "source": [
    "s7.add(2)"
   ]
  },
  {
   "cell_type": "code",
   "execution_count": 29,
   "id": "9f61e7b6-8cc5-4a77-b563-cc2c47124d88",
   "metadata": {},
   "outputs": [
    {
     "data": {
      "text/plain": [
       "{2, 3, 34, 4, 5, 'Bhavna'}"
      ]
     },
     "execution_count": 29,
     "metadata": {},
     "output_type": "execute_result"
    }
   ],
   "source": [
    "s7"
   ]
  },
  {
   "cell_type": "code",
   "execution_count": 30,
   "id": "1da06c6a-5a86-4f21-bb8e-9676c2aeb49f",
   "metadata": {},
   "outputs": [
    {
     "data": {
      "text/plain": [
       "6"
      ]
     },
     "execution_count": 30,
     "metadata": {},
     "output_type": "execute_result"
    }
   ],
   "source": [
    "len(s7)"
   ]
  },
  {
   "cell_type": "code",
   "execution_count": 33,
   "id": "16198757-814a-4ab4-bafa-347543c68e92",
   "metadata": {},
   "outputs": [
    {
     "data": {
      "text/plain": [
       "4"
      ]
     },
     "execution_count": 33,
     "metadata": {},
     "output_type": "execute_result"
    }
   ],
   "source": [
    "s7.pop()   # pop function removes and returns an arbitrary element"
   ]
  },
  {
   "cell_type": "code",
   "execution_count": 34,
   "id": "327436b7-a70d-4c26-ab0b-cb2f912f9089",
   "metadata": {},
   "outputs": [
    {
     "data": {
      "text/plain": [
       "{34, 5, 'Bhavna'}"
      ]
     },
     "execution_count": 34,
     "metadata": {},
     "output_type": "execute_result"
    }
   ],
   "source": [
    "s7"
   ]
  },
  {
   "cell_type": "code",
   "execution_count": 35,
   "id": "3d3d8df0-d77b-4942-99fa-068e8112b177",
   "metadata": {},
   "outputs": [
    {
     "data": {
      "text/plain": [
       "5"
      ]
     },
     "execution_count": 35,
     "metadata": {},
     "output_type": "execute_result"
    }
   ],
   "source": [
    "s7.pop()"
   ]
  },
  {
   "cell_type": "code",
   "execution_count": 37,
   "id": "146d579b-654e-40f6-9610-6b41296e4958",
   "metadata": {},
   "outputs": [
    {
     "data": {
      "text/plain": [
       "{34, 'Bhavna'}"
      ]
     },
     "execution_count": 37,
     "metadata": {},
     "output_type": "execute_result"
    }
   ],
   "source": [
    "s7 # it doesn't pops in a sequential manner"
   ]
  },
  {
   "cell_type": "code",
   "execution_count": 38,
   "id": "1efa5f93-e5ca-4b76-8f63-493f4838dd09",
   "metadata": {},
   "outputs": [],
   "source": [
    "s7.clear()"
   ]
  },
  {
   "cell_type": "code",
   "execution_count": 39,
   "id": "b860939f-7302-4983-8ae0-ebdcbe1a98dd",
   "metadata": {},
   "outputs": [
    {
     "data": {
      "text/plain": [
       "set()"
      ]
     },
     "execution_count": 39,
     "metadata": {},
     "output_type": "execute_result"
    }
   ],
   "source": [
    "s7"
   ]
  },
  {
   "cell_type": "code",
   "execution_count": 40,
   "id": "fb2876c6-b9bb-4a79-9e38-7c35912b20e7",
   "metadata": {},
   "outputs": [],
   "source": [
    "s8={1,2,3,4}\n",
    "s9={1,2,3,5}"
   ]
  },
  {
   "cell_type": "code",
   "execution_count": 41,
   "id": "b4d4767a-dde2-44b6-895e-84a3647ae1b9",
   "metadata": {},
   "outputs": [
    {
     "data": {
      "text/plain": [
       "{4}"
      ]
     },
     "execution_count": 41,
     "metadata": {},
     "output_type": "execute_result"
    }
   ],
   "source": [
    "s8.difference(s9) #difference function compares what elements are different in both sets"
   ]
  },
  {
   "cell_type": "code",
   "execution_count": null,
   "id": "a1dd9deb-93b1-4f97-8e7b-54b7ba114ca6",
   "metadata": {},
   "outputs": [],
   "source": [
    "s9."
   ]
  }
 ],
 "metadata": {
  "kernelspec": {
   "display_name": "Python 3 (ipykernel)",
   "language": "python",
   "name": "python3"
  },
  "language_info": {
   "codemirror_mode": {
    "name": "ipython",
    "version": 3
   },
   "file_extension": ".py",
   "mimetype": "text/x-python",
   "name": "python",
   "nbconvert_exporter": "python",
   "pygments_lexer": "ipython3",
   "version": "3.10.8"
  }
 },
 "nbformat": 4,
 "nbformat_minor": 5
}
