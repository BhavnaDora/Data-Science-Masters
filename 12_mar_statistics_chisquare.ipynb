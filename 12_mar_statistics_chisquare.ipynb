{
 "cells": [
  {
   "cell_type": "markdown",
   "id": "a5b1d42a-9f7f-4791-ba28-f99d80b86807",
   "metadata": {},
   "source": [
    "#### Chi square test-"
   ]
  },
  {
   "cell_type": "code",
   "execution_count": 1,
   "id": "beae84d4-6f6e-4213-af29-0e58691577e8",
   "metadata": {},
   "outputs": [],
   "source": [
    "import numpy as np\n",
    "import scipy.stats as stat"
   ]
  },
  {
   "cell_type": "code",
   "execution_count": 2,
   "id": "880809fe-87b4-4a17-82c6-840bcfdb1f5a",
   "metadata": {},
   "outputs": [],
   "source": [
    "# problem statement- No. of hours student studies every day on a weekly basis. \n",
    "# So, categories are Monday, Tuesday, Wednesday, Thursday, Friday, Saturday, Sunday. \n",
    "# The hostel warden provides the expected hours data-"
   ]
  },
  {
   "cell_type": "code",
   "execution_count": 3,
   "id": "ab959b8b-4f62-42e7-8c54-3d6a6f7dd0a1",
   "metadata": {},
   "outputs": [],
   "source": [
    "expected_data= [8,6,7,9,6,9,7]"
   ]
  },
  {
   "cell_type": "code",
   "execution_count": 4,
   "id": "ab3ae4bc-e3f8-46c6-a3b5-da0aa6e1be2e",
   "metadata": {},
   "outputs": [],
   "source": [
    "# a group of data analysts conducted this experiment by taking a sample of students and recorded the observations-"
   ]
  },
  {
   "cell_type": "code",
   "execution_count": 5,
   "id": "7cfe7f4a-0e00-48cb-8b13-f32375f50ea3",
   "metadata": {},
   "outputs": [],
   "source": [
    "observed_data= [7,8,6,9,9,6,7]"
   ]
  },
  {
   "cell_type": "code",
   "execution_count": 6,
   "id": "dcb0ff17-cf87-4b8d-8f90-7527f8575691",
   "metadata": {},
   "outputs": [],
   "source": [
    "# we will apply chi square test for goodness of fit and check whether the sample/observed data supports or fits the theory/expected data"
   ]
  },
  {
   "cell_type": "code",
   "execution_count": 7,
   "id": "f74f61b5-8c72-49cd-8fdc-dbc7bb1b9e20",
   "metadata": {},
   "outputs": [
    {
     "data": {
      "text/plain": [
       "(52, 52)"
      ]
     },
     "execution_count": 7,
     "metadata": {},
     "output_type": "execute_result"
    }
   ],
   "source": [
    "# the sum of values in expected_data and observed_data must be equal-\n",
    "sum(expected_data), sum(observed_data)"
   ]
  },
  {
   "cell_type": "code",
   "execution_count": 11,
   "id": "7d9f4fb2-fced-48e0-9ddd-24a77ac07c73",
   "metadata": {},
   "outputs": [
    {
     "name": "stdout",
     "output_type": "stream",
     "text": [
      "12.591587243743977\n"
     ]
    }
   ],
   "source": [
    "# finding the critical value-\n",
    "\n",
    "significance_value= 0.05\n",
    "confidence_level= 1-significance_value\n",
    "dof= len(expected_data)-1\n",
    "critical_value= stat.chi2.ppf(confidence_level,dof)\n",
    "print(critical_value)"
   ]
  },
  {
   "cell_type": "code",
   "execution_count": 12,
   "id": "716556ba-a5dc-4892-bd2a-ae5468a9d83b",
   "metadata": {},
   "outputs": [
    {
     "name": "stdout",
     "output_type": "stream",
     "text": [
      "p-value is 0.769114675518927\n",
      "chi square value is 3.3095238095238093\n"
     ]
    }
   ],
   "source": [
    "# finding the chi square-\n",
    "# the fubction chisquare() returns 2 values- X^2 as well as p-value\n",
    "\n",
    "chisquare_test_statistics, p_value= stat.chisquare(expected_data, observed_data)\n",
    "print(\"p-value is\", p_value)\n",
    "print(\"chi square value is\", chisquare_test_statistics)"
   ]
  },
  {
   "cell_type": "code",
   "execution_count": 13,
   "id": "00ece86c-a1f9-45ca-a90b-860950abed02",
   "metadata": {},
   "outputs": [
    {
     "name": "stdout",
     "output_type": "stream",
     "text": [
      "Accept the Null hypothesis\n"
     ]
    }
   ],
   "source": [
    "# if X^2 is greater than critical value it lies in rejection area, if it is less than critical value it lies in acceptance area\n",
    "\n",
    "if chisquare_test_statistics> critical_value:\n",
    "    print(\"Reject the Null hypothesis\")\n",
    "else:\n",
    "    print(\"Accept the Null hypothesis\")"
   ]
  },
  {
   "cell_type": "code",
   "execution_count": null,
   "id": "0f0b9935-595e-431f-a1a8-82e7687bb914",
   "metadata": {},
   "outputs": [],
   "source": []
  }
 ],
 "metadata": {
  "kernelspec": {
   "display_name": "Python 3 (ipykernel)",
   "language": "python",
   "name": "python3"
  },
  "language_info": {
   "codemirror_mode": {
    "name": "ipython",
    "version": 3
   },
   "file_extension": ".py",
   "mimetype": "text/x-python",
   "name": "python",
   "nbconvert_exporter": "python",
   "pygments_lexer": "ipython3",
   "version": "3.10.8"
  }
 },
 "nbformat": 4,
 "nbformat_minor": 5
}
