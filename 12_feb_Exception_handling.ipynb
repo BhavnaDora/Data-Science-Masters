{
 "cells": [
  {
   "cell_type": "markdown",
   "id": "3344ace0-2006-40d3-a5d7-df5120642f1c",
   "metadata": {},
   "source": [
    "#### Exception handling (Try, Except, Else, Finally)"
   ]
  },
  {
   "cell_type": "code",
   "execution_count": 1,
   "id": "d5dbd367-d793-433b-a734-efb40d7b7f6e",
   "metadata": {},
   "outputs": [],
   "source": [
    "a=10"
   ]
  },
  {
   "cell_type": "code",
   "execution_count": 2,
   "id": "cb70b281-13fd-4698-ba40-8af6d9dc4401",
   "metadata": {},
   "outputs": [
    {
     "ename": "ZeroDivisionError",
     "evalue": "division by zero",
     "output_type": "error",
     "traceback": [
      "\u001b[0;31m---------------------------------------------------------------------------\u001b[0m",
      "\u001b[0;31mZeroDivisionError\u001b[0m                         Traceback (most recent call last)",
      "Cell \u001b[0;32mIn[2], line 1\u001b[0m\n\u001b[0;32m----> 1\u001b[0m \u001b[43ma\u001b[49m\u001b[38;5;241;43m/\u001b[39;49m\u001b[38;5;241;43m0\u001b[39;49m\n",
      "\u001b[0;31mZeroDivisionError\u001b[0m: division by zero"
     ]
    }
   ],
   "source": [
    "a/0"
   ]
  },
  {
   "cell_type": "code",
   "execution_count": 3,
   "id": "1adaa692-eaee-4f3d-b8bc-7d8ce5d898c8",
   "metadata": {},
   "outputs": [
    {
     "ename": "FileNotFoundError",
     "evalue": "[Errno 2] No such file or directory: 'test9.txt'",
     "output_type": "error",
     "traceback": [
      "\u001b[0;31m---------------------------------------------------------------------------\u001b[0m",
      "\u001b[0;31mFileNotFoundError\u001b[0m                         Traceback (most recent call last)",
      "Cell \u001b[0;32mIn[3], line 1\u001b[0m\n\u001b[0;32m----> 1\u001b[0m f\u001b[38;5;241m=\u001b[39m \u001b[38;5;28;43mopen\u001b[39;49m\u001b[43m(\u001b[49m\u001b[38;5;124;43m\"\u001b[39;49m\u001b[38;5;124;43mtest9.txt\u001b[39;49m\u001b[38;5;124;43m\"\u001b[39;49m\u001b[43m,\u001b[49m\u001b[38;5;124;43m\"\u001b[39;49m\u001b[38;5;124;43mr\u001b[39;49m\u001b[38;5;124;43m\"\u001b[39;49m\u001b[43m)\u001b[49m        \u001b[38;5;66;03m#there's no syntax error in this but o/p gives error as there's no test9.txt file created and written into\u001b[39;00m\n\u001b[1;32m      2\u001b[0m \u001b[38;5;28mprint\u001b[39m(\u001b[38;5;124m\"\u001b[39m\u001b[38;5;124mhi\u001b[39m\u001b[38;5;124m\"\u001b[39m)\n",
      "File \u001b[0;32m/opt/conda/lib/python3.10/site-packages/IPython/core/interactiveshell.py:282\u001b[0m, in \u001b[0;36m_modified_open\u001b[0;34m(file, *args, **kwargs)\u001b[0m\n\u001b[1;32m    275\u001b[0m \u001b[38;5;28;01mif\u001b[39;00m file \u001b[38;5;129;01min\u001b[39;00m {\u001b[38;5;241m0\u001b[39m, \u001b[38;5;241m1\u001b[39m, \u001b[38;5;241m2\u001b[39m}:\n\u001b[1;32m    276\u001b[0m     \u001b[38;5;28;01mraise\u001b[39;00m \u001b[38;5;167;01mValueError\u001b[39;00m(\n\u001b[1;32m    277\u001b[0m         \u001b[38;5;124mf\u001b[39m\u001b[38;5;124m\"\u001b[39m\u001b[38;5;124mIPython won\u001b[39m\u001b[38;5;124m'\u001b[39m\u001b[38;5;124mt let you open fd=\u001b[39m\u001b[38;5;132;01m{\u001b[39;00mfile\u001b[38;5;132;01m}\u001b[39;00m\u001b[38;5;124m by default \u001b[39m\u001b[38;5;124m\"\u001b[39m\n\u001b[1;32m    278\u001b[0m         \u001b[38;5;124m\"\u001b[39m\u001b[38;5;124mas it is likely to crash IPython. If you know what you are doing, \u001b[39m\u001b[38;5;124m\"\u001b[39m\n\u001b[1;32m    279\u001b[0m         \u001b[38;5;124m\"\u001b[39m\u001b[38;5;124myou can use builtins\u001b[39m\u001b[38;5;124m'\u001b[39m\u001b[38;5;124m open.\u001b[39m\u001b[38;5;124m\"\u001b[39m\n\u001b[1;32m    280\u001b[0m     )\n\u001b[0;32m--> 282\u001b[0m \u001b[38;5;28;01mreturn\u001b[39;00m \u001b[43mio_open\u001b[49m\u001b[43m(\u001b[49m\u001b[43mfile\u001b[49m\u001b[43m,\u001b[49m\u001b[43m \u001b[49m\u001b[38;5;241;43m*\u001b[39;49m\u001b[43margs\u001b[49m\u001b[43m,\u001b[49m\u001b[43m \u001b[49m\u001b[38;5;241;43m*\u001b[39;49m\u001b[38;5;241;43m*\u001b[39;49m\u001b[43mkwargs\u001b[49m\u001b[43m)\u001b[49m\n",
      "\u001b[0;31mFileNotFoundError\u001b[0m: [Errno 2] No such file or directory: 'test9.txt'"
     ]
    }
   ],
   "source": [
    "f= open(\"test9.txt\",\"r\")        #there's no syntax error in this but o/p gives error as there's no test9.txt file created and written into\n",
    "print(\"hi\")"
   ]
  },
  {
   "cell_type": "markdown",
   "id": "8adc076c-ab53-4511-8f4d-0ae178d83671",
   "metadata": {},
   "source": [
    "##### When there's an error the execution of rest of the code stops. Here, try and except blocks come into picture"
   ]
  },
  {
   "cell_type": "code",
   "execution_count": 5,
   "id": "cebab570-0e37-440e-9d20-136fe5ee0075",
   "metadata": {},
   "outputs": [
    {
     "name": "stdout",
     "output_type": "stream",
     "text": [
      "there's some issue with my code [Errno 2] No such file or directory: 'test9.txt'\n"
     ]
    },
    {
     "data": {
      "text/plain": [
       "10"
      ]
     },
     "execution_count": 5,
     "metadata": {},
     "output_type": "execute_result"
    }
   ],
   "source": [
    "try:\n",
    "    f= open(\"test9.txt\",\"r\")\n",
    "    \n",
    "except Exception as e:\n",
    "    print(\"there's some issue with my code\",e)\n",
    "a=10\n",
    "a"
   ]
  },
  {
   "cell_type": "markdown",
   "id": "a25449b8-51fa-4729-beac-5a608efd04f7",
   "metadata": {},
   "source": [
    "##### Previously, the execution was stopped due to error. That thing is taken care of using try and except block. Here even if there's error, it is printed as a message and the rest of the code is executed. Try is a reserved keyword. Any code which feels suspicious of error we keep it in the try block. Every try block must be accompanied by an except block. We can create any no. of try and except blocks and nested ones too."
   ]
  },
  {
   "cell_type": "code",
   "execution_count": 6,
   "id": "e0abe117-5f8f-4097-8fa2-084043c50dd1",
   "metadata": {},
   "outputs": [],
   "source": [
    "try:\n",
    "    f= open(\"test9.txt\",\"w\")\n",
    "    f.write(\"this is my msg\")\n",
    "    f.close()\n",
    "    \n",
    "except Exception as e:\n",
    "    print(\"there's some issue with my code\",e)"
   ]
  },
  {
   "cell_type": "code",
   "execution_count": 7,
   "id": "cd1d0259-4842-472a-8e71-292166d5ff98",
   "metadata": {},
   "outputs": [
    {
     "name": "stdout",
     "output_type": "stream",
     "text": [
      "this else block gets executed if try is executed without any error/exception\n"
     ]
    }
   ],
   "source": [
    "# creating else block- It will only be executed if try block has no error/exception\n",
    "\n",
    "try:\n",
    "    f= open(\"test10.txt\",\"w\")\n",
    "    f.write(\"hello everyone!\")\n",
    "    \n",
    "except Exception as e:\n",
    "    print(\"there's some issue with my code\",e)\n",
    "    \n",
    "else:\n",
    "    f.close()\n",
    "    print(\"this else block gets executed if try is executed without any error/exception\")"
   ]
  },
  {
   "cell_type": "code",
   "execution_count": 8,
   "id": "1fde907a-5317-4b49-b7c8-e10f1e212041",
   "metadata": {},
   "outputs": [
    {
     "name": "stdout",
     "output_type": "stream",
     "text": [
      "this else block is only executed if try has no error/exception\n",
      "this finally block is always executed\n"
     ]
    }
   ],
   "source": [
    "# creating finally block- It will always be executed even if there's error in try block\n",
    "\n",
    "try:\n",
    "    f= open(\"test10.txt\",\"w\")\n",
    "    f.write(\"welcome to data science\")\n",
    "    \n",
    "except Exception as e:\n",
    "    print(\"there's something wrong with my code\",e)\n",
    "    \n",
    "else:\n",
    "    f.close()\n",
    "    print(\"this else block is only executed if try has no error/exception\")\n",
    "    \n",
    "finally:\n",
    "    print(\"this finally block is always executed\")"
   ]
  },
  {
   "cell_type": "markdown",
   "id": "d794479d-1fa5-4bf7-86ea-fa8ff9259870",
   "metadata": {},
   "source": [
    "#### Custom exception handling"
   ]
  },
  {
   "cell_type": "code",
   "execution_count": 9,
   "id": "5b346c5a-16d1-49e3-a727-704cbb0e4318",
   "metadata": {},
   "outputs": [
    {
     "name": "stdin",
     "output_type": "stream",
     "text": [
      "enter your age -4578\n"
     ]
    }
   ],
   "source": [
    "age= int(input(\"enter your age\"))"
   ]
  },
  {
   "cell_type": "code",
   "execution_count": 10,
   "id": "2cd7f449-0a10-4ae5-80c4-528780831495",
   "metadata": {},
   "outputs": [],
   "source": [
    "# the users can input a negative age or a very large age, but we don't want those, \n",
    "#so we will use custom exception handling to deal with it"
   ]
  },
  {
   "cell_type": "code",
   "execution_count": 11,
   "id": "c68188d8-9c06-49be-af19-667eb3f40b00",
   "metadata": {},
   "outputs": [],
   "source": [
    "class validateage(Exception):       # we make custom class validateage and it inherits the Exception class\n",
    "    def __init__(self, msg):\n",
    "        self.msg= msg"
   ]
  },
  {
   "cell_type": "code",
   "execution_count": 13,
   "id": "6354e5ec-a259-4e31-9adc-b22ca66570ff",
   "metadata": {},
   "outputs": [],
   "source": [
    "def validate_age(age):\n",
    "    if age<0:\n",
    "        raise validateage(\"age should not be less than zero\")      # raise is a reserved keyword, msg is passed through validateage class\n",
    "    elif age>200:\n",
    "        raise validateage(\"age is too high\")\n",
    "    else:\n",
    "        print(\"age is valid\")"
   ]
  },
  {
   "cell_type": "code",
   "execution_count": 14,
   "id": "2fa37b53-5811-4b26-947a-a11dbf6389d2",
   "metadata": {},
   "outputs": [
    {
     "name": "stdin",
     "output_type": "stream",
     "text": [
      "enter your age: -24\n"
     ]
    },
    {
     "name": "stdout",
     "output_type": "stream",
     "text": [
      "age should not be less than zero\n"
     ]
    }
   ],
   "source": [
    "try:\n",
    "    age= int(input(\"enter your age:\"))\n",
    "    validate_age(age)\n",
    "    \n",
    "except validateage as e:\n",
    "    print(e)"
   ]
  },
  {
   "cell_type": "code",
   "execution_count": null,
   "id": "626de150-4459-4e16-b81e-bc916ea4928a",
   "metadata": {},
   "outputs": [],
   "source": []
  }
 ],
 "metadata": {
  "kernelspec": {
   "display_name": "Python 3 (ipykernel)",
   "language": "python",
   "name": "python3"
  },
  "language_info": {
   "codemirror_mode": {
    "name": "ipython",
    "version": 3
   },
   "file_extension": ".py",
   "mimetype": "text/x-python",
   "name": "python",
   "nbconvert_exporter": "python",
   "pygments_lexer": "ipython3",
   "version": "3.10.8"
  }
 },
 "nbformat": 4,
 "nbformat_minor": 5
}
