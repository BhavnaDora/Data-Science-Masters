{
 "cells": [
  {
   "cell_type": "markdown",
   "id": "5132976b-10c3-48c9-aa35-e6bb802d3283",
   "metadata": {},
   "source": [
    "#### Function Generator"
   ]
  },
  {
   "cell_type": "code",
   "execution_count": 1,
   "id": "d6fdeb9d-c150-4cc6-b431-2f6727bcb00b",
   "metadata": {},
   "outputs": [
    {
     "data": {
      "text/plain": [
       "range(1, 10)"
      ]
     },
     "execution_count": 1,
     "metadata": {},
     "output_type": "execute_result"
    }
   ],
   "source": [
    "range(1,10)"
   ]
  },
  {
   "cell_type": "code",
   "execution_count": 2,
   "id": "879307e5-7d44-4fb5-bcdb-8b52e2971f7e",
   "metadata": {},
   "outputs": [
    {
     "name": "stdout",
     "output_type": "stream",
     "text": [
      "1\n",
      "2\n",
      "3\n",
      "4\n",
      "5\n",
      "6\n",
      "7\n",
      "8\n",
      "9\n"
     ]
    }
   ],
   "source": [
    "for i in range(1,10):\n",
    "    print(i)"
   ]
  },
  {
   "cell_type": "code",
   "execution_count": 3,
   "id": "3a4e7e3c-dd85-462f-a285-a39c7a37d0fc",
   "metadata": {},
   "outputs": [],
   "source": [
    "l=[1,2,3,4,\"sudh\",\"pwskills\"]"
   ]
  },
  {
   "cell_type": "code",
   "execution_count": 4,
   "id": "aa9ca215-effa-4388-9c0a-9194c9230365",
   "metadata": {},
   "outputs": [],
   "source": [
    "def test1(a):\n",
    "    n=[]\n",
    "    for i in a:\n",
    "        if type(i)==int:\n",
    "            n.append(i)\n",
    "    return n"
   ]
  },
  {
   "cell_type": "code",
   "execution_count": 5,
   "id": "72215c72-0dc5-4f65-8e45-1ed38dd1beb1",
   "metadata": {},
   "outputs": [
    {
     "data": {
      "text/plain": [
       "[1, 2, 3, 4]"
      ]
     },
     "execution_count": 5,
     "metadata": {},
     "output_type": "execute_result"
    }
   ],
   "source": [
    "test1(l)"
   ]
  },
  {
   "cell_type": "markdown",
   "id": "45a21be9-a234-42e3-8d64-da497b09e127",
   "metadata": {},
   "source": [
    "##### If we give infinite no. of arguments while calling the function, then it will take maybe infite time to return it. Because as long as it doesn't prepare the whole output, it doesn't return. But range function on the other hand, when iterated in a loop, generates output one by one. Range is a generator function. Advantage of generator function is that it saves memory"
   ]
  },
  {
   "cell_type": "code",
   "execution_count": 13,
   "id": "3da1251f-870b-4b0a-97fa-9b764a488812",
   "metadata": {},
   "outputs": [],
   "source": [
    "# Generate Fibonacci series-\n",
    "\n",
    "def test_fib(n):\n",
    "    a=0\n",
    "    b=1\n",
    "    for i in range(n):\n",
    "        yield a\n",
    "        a,b=b,a+b"
   ]
  },
  {
   "cell_type": "code",
   "execution_count": 14,
   "id": "ca8f0725-690c-414d-8574-448b509a5c1e",
   "metadata": {},
   "outputs": [
    {
     "data": {
      "text/plain": [
       "<generator object test_fib at 0x7f4f40142030>"
      ]
     },
     "execution_count": 14,
     "metadata": {},
     "output_type": "execute_result"
    }
   ],
   "source": [
    "test_fib(10)     # this will create a generator object         "
   ]
  },
  {
   "cell_type": "code",
   "execution_count": 15,
   "id": "f738c85f-6833-4589-99da-dd8345447e64",
   "metadata": {},
   "outputs": [
    {
     "name": "stdout",
     "output_type": "stream",
     "text": [
      "0\n",
      "1\n",
      "1\n",
      "2\n",
      "3\n",
      "5\n",
      "8\n",
      "13\n",
      "21\n",
      "34\n"
     ]
    }
   ],
   "source": [
    "# iterating the object in a loop will give output\n",
    "\n",
    "for i in test_fib(10):\n",
    "    print(i)"
   ]
  },
  {
   "cell_type": "code",
   "execution_count": 16,
   "id": "7a981800-d186-4ff0-9abb-ddb511dd0499",
   "metadata": {},
   "outputs": [],
   "source": [
    "# Generator function will keep on giving the data instead of storing it whole in the main memory and finally returning it. \n",
    "# The output we get in generator function doesn't occupy whole memory. So, it is memory efficient"
   ]
  },
  {
   "cell_type": "code",
   "execution_count": null,
   "id": "3e2776dc-1e05-4499-b54b-15746b654860",
   "metadata": {},
   "outputs": [],
   "source": []
  }
 ],
 "metadata": {
  "kernelspec": {
   "display_name": "Python 3 (ipykernel)",
   "language": "python",
   "name": "python3"
  },
  "language_info": {
   "codemirror_mode": {
    "name": "ipython",
    "version": 3
   },
   "file_extension": ".py",
   "mimetype": "text/x-python",
   "name": "python",
   "nbconvert_exporter": "python",
   "pygments_lexer": "ipython3",
   "version": "3.10.8"
  }
 },
 "nbformat": 4,
 "nbformat_minor": 5
}
