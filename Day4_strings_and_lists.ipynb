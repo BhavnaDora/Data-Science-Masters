{
 "cells": [
  {
   "cell_type": "code",
   "execution_count": 11,
   "id": "04e00528-a684-4768-bc07-787716915136",
   "metadata": {},
   "outputs": [
    {
     "data": {
      "text/plain": [
       "[[[1, 2, 3]], [[4, 5, 6]], [[7, 8, 9]]]"
      ]
     },
     "execution_count": 11,
     "metadata": {},
     "output_type": "execute_result"
    }
   ],
   "source": [
    "lists=[[1,2,3],[4,5,6],[7,8,9]]\n",
    "[[i]    for i in lists]"
   ]
  },
  {
   "cell_type": "markdown",
   "id": "2c2653f3-31d3-4ae3-9caa-69eb11aaf705",
   "metadata": {},
   "source": [
    "#### Strings"
   ]
  },
  {
   "cell_type": "markdown",
   "id": "f2d2f436-971c-4852-bb5d-92b6fbf0156a",
   "metadata": {},
   "source": [
    "##### Immutability"
   ]
  },
  {
   "cell_type": "code",
   "execution_count": 2,
   "id": "7e139921-01ce-40ed-a832-72a947b6cf99",
   "metadata": {},
   "outputs": [],
   "source": [
    "str1= \"Welcome to Data Science Masters\""
   ]
  },
  {
   "cell_type": "code",
   "execution_count": 3,
   "id": "3cad37fc-a4ca-4966-9550-aa77317ec876",
   "metadata": {},
   "outputs": [
    {
     "data": {
      "text/plain": [
       "'W'"
      ]
     },
     "execution_count": 3,
     "metadata": {},
     "output_type": "execute_result"
    }
   ],
   "source": [
    "str1[0]"
   ]
  },
  {
   "cell_type": "code",
   "execution_count": 4,
   "id": "9847b48d-efee-4fca-b3ba-9836473913a6",
   "metadata": {},
   "outputs": [
    {
     "ename": "TypeError",
     "evalue": "'str' object does not support item assignment",
     "output_type": "error",
     "traceback": [
      "\u001b[0;31m---------------------------------------------------------------------------\u001b[0m",
      "\u001b[0;31mTypeError\u001b[0m                                 Traceback (most recent call last)",
      "Cell \u001b[0;32mIn[4], line 1\u001b[0m\n\u001b[0;32m----> 1\u001b[0m \u001b[43mstr1\u001b[49m\u001b[43m[\u001b[49m\u001b[38;5;241;43m0\u001b[39;49m\u001b[43m]\u001b[49m\u001b[38;5;241m=\u001b[39m\u001b[38;5;124m\"\u001b[39m\u001b[38;5;124mA\u001b[39m\u001b[38;5;124m\"\u001b[39m\n",
      "\u001b[0;31mTypeError\u001b[0m: 'str' object does not support item assignment"
     ]
    }
   ],
   "source": [
    "str1[0]=\"A\""
   ]
  },
  {
   "cell_type": "markdown",
   "id": "b5ce01fc-13b0-46b6-82b5-4f8438f7a891",
   "metadata": {},
   "source": [
    "##### Indexing"
   ]
  },
  {
   "cell_type": "code",
   "execution_count": 5,
   "id": "c5a81df4-6646-42f0-b22b-46849c6bd591",
   "metadata": {},
   "outputs": [
    {
     "data": {
      "text/plain": [
       "'e'"
      ]
     },
     "execution_count": 5,
     "metadata": {},
     "output_type": "execute_result"
    }
   ],
   "source": [
    "str1[1]"
   ]
  },
  {
   "cell_type": "code",
   "execution_count": 6,
   "id": "d3565022-40ad-4a65-9bcd-7c8d16f7705e",
   "metadata": {},
   "outputs": [
    {
     "data": {
      "text/plain": [
       "'s'"
      ]
     },
     "execution_count": 6,
     "metadata": {},
     "output_type": "execute_result"
    }
   ],
   "source": [
    "str1[-1]"
   ]
  },
  {
   "cell_type": "code",
   "execution_count": 7,
   "id": "51d1e1ca-ade7-4368-b27e-59fca62463aa",
   "metadata": {},
   "outputs": [
    {
     "data": {
      "text/plain": [
       "'m'"
      ]
     },
     "execution_count": 7,
     "metadata": {},
     "output_type": "execute_result"
    }
   ],
   "source": [
    "str1[5]"
   ]
  },
  {
   "cell_type": "markdown",
   "id": "43f44c75-4b4c-4fc8-a6f9-6b9f8f4fcaac",
   "metadata": {},
   "source": [
    "##### Slicing"
   ]
  },
  {
   "cell_type": "code",
   "execution_count": 8,
   "id": "c208a68e-d196-4f3c-bd7b-fc605361971d",
   "metadata": {},
   "outputs": [
    {
     "data": {
      "text/plain": [
       "'Welcome to Data Science Masters'"
      ]
     },
     "execution_count": 8,
     "metadata": {},
     "output_type": "execute_result"
    }
   ],
   "source": [
    "str1[0:]"
   ]
  },
  {
   "cell_type": "code",
   "execution_count": 9,
   "id": "bc2029a6-85b4-441f-bad4-e7b8a7f26ce9",
   "metadata": {},
   "outputs": [
    {
     "data": {
      "text/plain": [
       "'Welcome to Data Science Masters'"
      ]
     },
     "execution_count": 9,
     "metadata": {},
     "output_type": "execute_result"
    }
   ],
   "source": [
    "str1[:]"
   ]
  },
  {
   "cell_type": "code",
   "execution_count": 10,
   "id": "0bfc88f4-88cd-46c7-80b4-35e614bf5e2b",
   "metadata": {},
   "outputs": [
    {
     "data": {
      "text/plain": [
       "'come to Data Science Masters'"
      ]
     },
     "execution_count": 10,
     "metadata": {},
     "output_type": "execute_result"
    }
   ],
   "source": [
    "str1[3:]"
   ]
  },
  {
   "cell_type": "code",
   "execution_count": 11,
   "id": "ddee467c-3b33-47b9-81da-05e89df8800f",
   "metadata": {},
   "outputs": [
    {
     "data": {
      "text/plain": [
       "'come to D'"
      ]
     },
     "execution_count": 11,
     "metadata": {},
     "output_type": "execute_result"
    }
   ],
   "source": [
    "str1[3:12]"
   ]
  },
  {
   "cell_type": "code",
   "execution_count": 13,
   "id": "7b71e237-b0a3-46be-9080-1aa439a93e42",
   "metadata": {},
   "outputs": [
    {
     "data": {
      "text/plain": [
       "''"
      ]
     },
     "execution_count": 13,
     "metadata": {},
     "output_type": "execute_result"
    }
   ],
   "source": [
    "str1[-1:-5]"
   ]
  },
  {
   "cell_type": "code",
   "execution_count": 14,
   "id": "6ad7fac7-b467-45c6-aed3-1f76edbce646",
   "metadata": {},
   "outputs": [
    {
     "data": {
      "text/plain": [
       "'ster'"
      ]
     },
     "execution_count": 14,
     "metadata": {},
     "output_type": "execute_result"
    }
   ],
   "source": [
    "str1[-5:-1]"
   ]
  },
  {
   "cell_type": "code",
   "execution_count": 16,
   "id": "d7add8d3-3535-427c-90f0-af7dafb7476a",
   "metadata": {},
   "outputs": [
    {
     "data": {
      "text/plain": [
       "''"
      ]
     },
     "execution_count": 16,
     "metadata": {},
     "output_type": "execute_result"
    }
   ],
   "source": [
    "str1[-5:4]"
   ]
  },
  {
   "cell_type": "code",
   "execution_count": 17,
   "id": "9ba1d04e-b475-4cd3-b76d-c8623573572d",
   "metadata": {},
   "outputs": [
    {
     "data": {
      "text/plain": [
       "'s'"
      ]
     },
     "execution_count": 17,
     "metadata": {},
     "output_type": "execute_result"
    }
   ],
   "source": [
    "str1[-1:]"
   ]
  },
  {
   "cell_type": "markdown",
   "id": "1db38965-3328-4d24-a308-acef86d61716",
   "metadata": {},
   "source": [
    "##### Reversing"
   ]
  },
  {
   "cell_type": "code",
   "execution_count": 19,
   "id": "0354caeb-be7f-40ea-8fa4-0180a70e8477",
   "metadata": {},
   "outputs": [
    {
     "data": {
      "text/plain": [
       "'sretsaM ecneicS ataD ot emocleW'"
      ]
     },
     "execution_count": 19,
     "metadata": {},
     "output_type": "execute_result"
    }
   ],
   "source": [
    "str1[::-1]    #-1 refers to step size and in reverse direction"
   ]
  },
  {
   "cell_type": "code",
   "execution_count": 23,
   "id": "023fb895-dd3e-4539-9385-04cb0355673b",
   "metadata": {},
   "outputs": [
    {
     "data": {
      "text/plain": [
       "''"
      ]
     },
     "execution_count": 23,
     "metadata": {},
     "output_type": "execute_result"
    }
   ],
   "source": [
    "str1[3:9:-1]"
   ]
  },
  {
   "cell_type": "code",
   "execution_count": 24,
   "id": "208854ce-aad1-4d1d-b468-ec63706d8a03",
   "metadata": {},
   "outputs": [
    {
     "data": {
      "text/plain": [
       "'ot emo'"
      ]
     },
     "execution_count": 24,
     "metadata": {},
     "output_type": "execute_result"
    }
   ],
   "source": [
    "str1[9:3:-1]"
   ]
  },
  {
   "cell_type": "code",
   "execution_count": 21,
   "id": "624c00e2-796f-4827-9627-46ce69991507",
   "metadata": {},
   "outputs": [
    {
     "data": {
      "text/plain": [
       "'Masters'"
      ]
     },
     "execution_count": 21,
     "metadata": {},
     "output_type": "execute_result"
    }
   ],
   "source": [
    "str1[-7::1]"
   ]
  },
  {
   "cell_type": "code",
   "execution_count": 22,
   "id": "6896a7ee-ad72-46df-90ce-97fd63da1a43",
   "metadata": {},
   "outputs": [
    {
     "data": {
      "text/plain": [
       "'sretsaM'"
      ]
     },
     "execution_count": 22,
     "metadata": {},
     "output_type": "execute_result"
    }
   ],
   "source": [
    "str1[-1:-8:-1]"
   ]
  },
  {
   "cell_type": "markdown",
   "id": "06ca3bef-a007-453f-9eb2-c7358ce47639",
   "metadata": {},
   "source": [
    "##### concatenation"
   ]
  },
  {
   "cell_type": "code",
   "execution_count": 25,
   "id": "79480077-5bbc-420d-8432-ce3907617643",
   "metadata": {},
   "outputs": [],
   "source": [
    "str2=\"Pwskills\""
   ]
  },
  {
   "cell_type": "code",
   "execution_count": 26,
   "id": "2862e992-7258-4759-b936-0adcf95ffc33",
   "metadata": {},
   "outputs": [
    {
     "data": {
      "text/plain": [
       "'Pwskills1'"
      ]
     },
     "execution_count": 26,
     "metadata": {},
     "output_type": "execute_result"
    }
   ],
   "source": [
    "str2+\"1\""
   ]
  },
  {
   "cell_type": "code",
   "execution_count": 27,
   "id": "a73c6d14-efb0-49a2-b500-0a6892f28681",
   "metadata": {},
   "outputs": [
    {
     "ename": "TypeError",
     "evalue": "can only concatenate str (not \"int\") to str",
     "output_type": "error",
     "traceback": [
      "\u001b[0;31m---------------------------------------------------------------------------\u001b[0m",
      "\u001b[0;31mTypeError\u001b[0m                                 Traceback (most recent call last)",
      "Cell \u001b[0;32mIn[27], line 1\u001b[0m\n\u001b[0;32m----> 1\u001b[0m \u001b[43mstr2\u001b[49m\u001b[38;5;241;43m+\u001b[39;49m\u001b[38;5;241;43m1\u001b[39;49m\n",
      "\u001b[0;31mTypeError\u001b[0m: can only concatenate str (not \"int\") to str"
     ]
    }
   ],
   "source": [
    "str2+1"
   ]
  },
  {
   "cell_type": "code",
   "execution_count": 28,
   "id": "f7581724-0a66-4906-9e00-7a3a646d023a",
   "metadata": {},
   "outputs": [
    {
     "data": {
      "text/plain": [
       "'PwskillsPwskillsPwskills'"
      ]
     },
     "execution_count": 28,
     "metadata": {},
     "output_type": "execute_result"
    }
   ],
   "source": [
    "str2*3"
   ]
  },
  {
   "cell_type": "code",
   "execution_count": 29,
   "id": "cc6822c3-30fe-4eb6-abc6-be6f46bb5283",
   "metadata": {},
   "outputs": [
    {
     "data": {
      "text/plain": [
       "8"
      ]
     },
     "execution_count": 29,
     "metadata": {},
     "output_type": "execute_result"
    }
   ],
   "source": [
    "# length of string i.e no. of characters in a string-\n",
    "\n",
    "len(str2)"
   ]
  },
  {
   "cell_type": "code",
   "execution_count": 30,
   "id": "6b5bbbce-2c13-46b7-be7b-31a428ade3d9",
   "metadata": {},
   "outputs": [
    {
     "data": {
      "text/plain": [
       "31"
      ]
     },
     "execution_count": 30,
     "metadata": {},
     "output_type": "execute_result"
    }
   ],
   "source": [
    "len(str1)"
   ]
  },
  {
   "cell_type": "markdown",
   "id": "0cb6e635-461f-421a-9e3b-f33d8b441cd6",
   "metadata": {},
   "source": [
    "##### Methods- \n",
    "##### capitalize, casefold, center, count, encode, endswith, find, format, index, isalnum, isalpha, isascii, isdecimal, isnumeric, islower, isupper, istitle, join, ljust, rjust, replace, rsplit, rstrip, split, startswith, strip, swapcase, title, upper, lower etc."
   ]
  },
  {
   "cell_type": "code",
   "execution_count": 32,
   "id": "049ece1b-e39b-48d3-8450-699a8cbae3c8",
   "metadata": {},
   "outputs": [
    {
     "data": {
      "text/plain": [
       "12"
      ]
     },
     "execution_count": 32,
     "metadata": {},
     "output_type": "execute_result"
    }
   ],
   "source": [
    "str1.find(\"a\")   #returns the index of first occurence"
   ]
  },
  {
   "cell_type": "code",
   "execution_count": 33,
   "id": "9411b257-3cb8-44c6-9ce9-d15ecf7e3247",
   "metadata": {},
   "outputs": [
    {
     "data": {
      "text/plain": [
       "14"
      ]
     },
     "execution_count": 33,
     "metadata": {},
     "output_type": "execute_result"
    }
   ],
   "source": [
    "str1.find(\"a\",13,len(str1))"
   ]
  },
  {
   "cell_type": "code",
   "execution_count": 34,
   "id": "67064177-b77e-4853-ad06-6933cd6fb68e",
   "metadata": {},
   "outputs": [
    {
     "data": {
      "text/plain": [
       "-1"
      ]
     },
     "execution_count": 34,
     "metadata": {},
     "output_type": "execute_result"
    }
   ],
   "source": [
    "str1.find(\"z\")"
   ]
  },
  {
   "cell_type": "code",
   "execution_count": 38,
   "id": "5976a1a4-5448-4229-8636-8a62a45104a8",
   "metadata": {},
   "outputs": [
    {
     "data": {
      "text/plain": [
       "16"
      ]
     },
     "execution_count": 38,
     "metadata": {},
     "output_type": "execute_result"
    }
   ],
   "source": [
    "str1.find(\"Science\")"
   ]
  },
  {
   "cell_type": "code",
   "execution_count": 35,
   "id": "2b2dc6b6-51ad-4ba9-92ef-fc39831901cc",
   "metadata": {},
   "outputs": [
    {
     "data": {
      "text/plain": [
       "3"
      ]
     },
     "execution_count": 35,
     "metadata": {},
     "output_type": "execute_result"
    }
   ],
   "source": [
    "str1.count(\"a\")"
   ]
  },
  {
   "cell_type": "code",
   "execution_count": 36,
   "id": "6eb0a350-598a-4392-9d00-f71000a93e70",
   "metadata": {},
   "outputs": [
    {
     "data": {
      "text/plain": [
       "3"
      ]
     },
     "execution_count": 36,
     "metadata": {},
     "output_type": "execute_result"
    }
   ],
   "source": [
    "str1.count(\"c\")"
   ]
  },
  {
   "cell_type": "code",
   "execution_count": 41,
   "id": "b4581aea-8fba-4e84-b3d3-508cf061f87e",
   "metadata": {},
   "outputs": [
    {
     "data": {
      "text/plain": [
       "['Welcome', 'to', 'Data', 'Science', 'Masters']"
      ]
     },
     "execution_count": 41,
     "metadata": {},
     "output_type": "execute_result"
    }
   ],
   "source": [
    "str1.split(\" \") #the string is split into substrings on the basis of separator and o/p is a list with all these substrings"
   ]
  },
  {
   "cell_type": "code",
   "execution_count": 43,
   "id": "1b1f326d-2716-4051-9e04-339f031ae4f9",
   "metadata": {},
   "outputs": [
    {
     "data": {
      "text/plain": [
       "['Welc', 'me t', ' Data Science Masters']"
      ]
     },
     "execution_count": 43,
     "metadata": {},
     "output_type": "execute_result"
    }
   ],
   "source": [
    "str1.split(\"o\")  #the separator is no longer present"
   ]
  },
  {
   "cell_type": "code",
   "execution_count": 45,
   "id": "391f5012-ecf7-4d90-99b5-a20fb405be4f",
   "metadata": {},
   "outputs": [
    {
     "data": {
      "text/plain": [
       "('Welc', 'o', 'me to Data Science Masters')"
      ]
     },
     "execution_count": 45,
     "metadata": {},
     "output_type": "execute_result"
    }
   ],
   "source": [
    "str1.partition(\"o\")  #it is parted into 3 parts- part before separator, the separator and the part after separator"
   ]
  },
  {
   "cell_type": "code",
   "execution_count": 46,
   "id": "6e32dc07-b229-44c7-b8ee-155ccef550a5",
   "metadata": {},
   "outputs": [
    {
     "data": {
      "text/plain": [
       "'WELCOME TO DATA SCIENCE MASTERS'"
      ]
     },
     "execution_count": 46,
     "metadata": {},
     "output_type": "execute_result"
    }
   ],
   "source": [
    "str1.upper()"
   ]
  },
  {
   "cell_type": "code",
   "execution_count": 47,
   "id": "507fe497-ca22-4ec6-af99-230eb0b8a637",
   "metadata": {},
   "outputs": [
    {
     "data": {
      "text/plain": [
       "'welcome to data science masters'"
      ]
     },
     "execution_count": 47,
     "metadata": {},
     "output_type": "execute_result"
    }
   ],
   "source": [
    "str1.lower()"
   ]
  },
  {
   "cell_type": "code",
   "execution_count": 49,
   "id": "fec06d92-1244-4e06-8c26-ddb2b2601b1d",
   "metadata": {},
   "outputs": [
    {
     "data": {
      "text/plain": [
       "'Welcome to data science masters'"
      ]
     },
     "execution_count": 49,
     "metadata": {},
     "output_type": "execute_result"
    }
   ],
   "source": [
    "str1.capitalize()   # makes only the first letter capital "
   ]
  },
  {
   "cell_type": "code",
   "execution_count": 51,
   "id": "d0d5a809-d2a5-40b0-974d-440facb23736",
   "metadata": {},
   "outputs": [
    {
     "data": {
      "text/plain": [
       "'Welcome To Data Science Masters'"
      ]
     },
     "execution_count": 51,
     "metadata": {},
     "output_type": "execute_result"
    }
   ],
   "source": [
    "str1.title()  # makes the starting letters capital like in titles"
   ]
  },
  {
   "cell_type": "code",
   "execution_count": 52,
   "id": "aed14250-4ffa-4fc1-9e96-f8ac4d65b56b",
   "metadata": {},
   "outputs": [
    {
     "data": {
      "text/plain": [
       "'wELCOME TO dATA sCIENCE mASTERS'"
      ]
     },
     "execution_count": 52,
     "metadata": {},
     "output_type": "execute_result"
    }
   ],
   "source": [
    "str1.swapcase()"
   ]
  },
  {
   "cell_type": "code",
   "execution_count": 56,
   "id": "970215ea-927e-457e-a4db-8ff63e3b0bec",
   "metadata": {},
   "outputs": [
    {
     "data": {
      "text/plain": [
       "'W e l c o m e   t o   D a t a   S c i e n c e   M a s t e r s'"
      ]
     },
     "execution_count": 56,
     "metadata": {},
     "output_type": "execute_result"
    }
   ],
   "source": [
    "\" \".join(str1)"
   ]
  },
  {
   "cell_type": "code",
   "execution_count": 58,
   "id": "29cdd1d3-d52b-4e3a-80f0-63319f52051d",
   "metadata": {},
   "outputs": [
    {
     "data": {
      "text/plain": [
       "'P*w*s*k*i*l*l*s'"
      ]
     },
     "execution_count": 58,
     "metadata": {},
     "output_type": "execute_result"
    }
   ],
   "source": [
    "\"*\".join(str2)"
   ]
  },
  {
   "cell_type": "code",
   "execution_count": 60,
   "id": "f3c2cc36-09da-4286-ab29-f7de3a25ec37",
   "metadata": {},
   "outputs": [
    {
     "data": {
      "text/plain": [
       "'D Bhavna O Bhavna R Bhavna A'"
      ]
     },
     "execution_count": 60,
     "metadata": {},
     "output_type": "execute_result"
    }
   ],
   "source": [
    "\" Bhavna \".join(\"DORA\")"
   ]
  },
  {
   "cell_type": "code",
   "execution_count": 61,
   "id": "a84c89b6-1309-49c6-acb4-f6e5ae8f448f",
   "metadata": {},
   "outputs": [],
   "source": [
    "str3= \" Pwskills \""
   ]
  },
  {
   "cell_type": "code",
   "execution_count": 62,
   "id": "07e09145-68aa-4040-93a0-d049a4a6d2f4",
   "metadata": {},
   "outputs": [
    {
     "data": {
      "text/plain": [
       "'Pwskills'"
      ]
     },
     "execution_count": 62,
     "metadata": {},
     "output_type": "execute_result"
    }
   ],
   "source": [
    "str3.strip(\" \")   #removes all spaces"
   ]
  },
  {
   "cell_type": "code",
   "execution_count": 63,
   "id": "af668966-3933-4058-af7f-f713d5eafcda",
   "metadata": {},
   "outputs": [
    {
     "data": {
      "text/plain": [
       "'Pwskills '"
      ]
     },
     "execution_count": 63,
     "metadata": {},
     "output_type": "execute_result"
    }
   ],
   "source": [
    "str3.lstrip(\" \")   #removes left space"
   ]
  },
  {
   "cell_type": "code",
   "execution_count": 64,
   "id": "3d104248-7e7a-44c1-ad88-08b306dc9040",
   "metadata": {},
   "outputs": [
    {
     "data": {
      "text/plain": [
       "' Pwskills'"
      ]
     },
     "execution_count": 64,
     "metadata": {},
     "output_type": "execute_result"
    }
   ],
   "source": [
    "str3.rstrip(\" \")"
   ]
  },
  {
   "cell_type": "code",
   "execution_count": 65,
   "id": "e1fca881-b4ef-441f-acd7-a17d91b401d3",
   "metadata": {},
   "outputs": [],
   "source": [
    "str4= \"Greetings to Pwskills\""
   ]
  },
  {
   "cell_type": "code",
   "execution_count": 68,
   "id": "e80b83d3-da55-416f-9b5a-ee6b7e86faf3",
   "metadata": {},
   "outputs": [
    {
     "data": {
      "text/plain": [
       "'Treetings to Pwskills'"
      ]
     },
     "execution_count": 68,
     "metadata": {},
     "output_type": "execute_result"
    }
   ],
   "source": [
    "str4.replace(\"G\",\"T\")  #returns a new string with the replaced character"
   ]
  },
  {
   "cell_type": "code",
   "execution_count": 67,
   "id": "f868aeee-391d-4f9f-9492-7c1ced5b934b",
   "metadata": {},
   "outputs": [
    {
     "data": {
      "text/plain": [
       "'Greetings from Pwskills'"
      ]
     },
     "execution_count": 67,
     "metadata": {},
     "output_type": "execute_result"
    }
   ],
   "source": [
    "str4.replace(\"to\",\"from\")"
   ]
  },
  {
   "cell_type": "code",
   "execution_count": 70,
   "id": "f9d9c57c-c158-40b2-b595-0811c5a3b102",
   "metadata": {},
   "outputs": [],
   "source": [
    "str5=\"Welcome to pwskills.Welcome to Dat cience Masters\""
   ]
  },
  {
   "cell_type": "code",
   "execution_count": 71,
   "id": "54ca51ab-e73d-40c8-88c8-8bd9ca9b06da",
   "metadata": {},
   "outputs": [
    {
     "data": {
      "text/plain": [
       "'Welcome to pwskills.Welcome to Data Science Masters'"
      ]
     },
     "execution_count": 71,
     "metadata": {},
     "output_type": "execute_result"
    }
   ],
   "source": [
    "str5.replace(\"Dat\",\"Data\").replace(\"cience\",\"Science\")"
   ]
  },
  {
   "cell_type": "code",
   "execution_count": 72,
   "id": "80e1b71e-6fc2-4d17-9132-273d4b8904cf",
   "metadata": {},
   "outputs": [],
   "source": [
    "str6= \"Bhavna\""
   ]
  },
  {
   "cell_type": "code",
   "execution_count": 73,
   "id": "f592451e-4b3a-41cf-9968-3addd9056af2",
   "metadata": {},
   "outputs": [
    {
     "data": {
      "text/plain": [
       "False"
      ]
     },
     "execution_count": 73,
     "metadata": {},
     "output_type": "execute_result"
    }
   ],
   "source": [
    "str6.isupper()"
   ]
  },
  {
   "cell_type": "code",
   "execution_count": 74,
   "id": "6dd69de0-d6f9-4d7a-a49c-9b4f9510ac94",
   "metadata": {},
   "outputs": [
    {
     "data": {
      "text/plain": [
       "False"
      ]
     },
     "execution_count": 74,
     "metadata": {},
     "output_type": "execute_result"
    }
   ],
   "source": [
    "str6.islower()"
   ]
  },
  {
   "cell_type": "code",
   "execution_count": 75,
   "id": "23e187e6-346a-46ea-b82e-4b393a24f69a",
   "metadata": {},
   "outputs": [
    {
     "data": {
      "text/plain": [
       "True"
      ]
     },
     "execution_count": 75,
     "metadata": {},
     "output_type": "execute_result"
    }
   ],
   "source": [
    "str6.lower().islower()"
   ]
  },
  {
   "cell_type": "code",
   "execution_count": 76,
   "id": "6b0f5353-934f-4ab7-abd7-6bea25b451f1",
   "metadata": {},
   "outputs": [
    {
     "data": {
      "text/plain": [
       "False"
      ]
     },
     "execution_count": 76,
     "metadata": {},
     "output_type": "execute_result"
    }
   ],
   "source": [
    "str6.isspace()"
   ]
  },
  {
   "cell_type": "code",
   "execution_count": 77,
   "id": "a4728dbf-7875-47d8-8f7b-7562970a093b",
   "metadata": {},
   "outputs": [
    {
     "data": {
      "text/plain": [
       "True"
      ]
     },
     "execution_count": 77,
     "metadata": {},
     "output_type": "execute_result"
    }
   ],
   "source": [
    "str6.startswith(\"B\")"
   ]
  },
  {
   "cell_type": "code",
   "execution_count": 79,
   "id": "ae0f76b6-1513-44f1-bee9-0fbc83d4ea7b",
   "metadata": {},
   "outputs": [
    {
     "data": {
      "text/plain": [
       "True"
      ]
     },
     "execution_count": 79,
     "metadata": {},
     "output_type": "execute_result"
    }
   ],
   "source": [
    "str6.endswith(\"a\")"
   ]
  },
  {
   "cell_type": "code",
   "execution_count": 80,
   "id": "3c79382d-7c90-4dcd-b9bc-8a6d4d72e592",
   "metadata": {},
   "outputs": [
    {
     "data": {
      "text/plain": [
       "True"
      ]
     },
     "execution_count": 80,
     "metadata": {},
     "output_type": "execute_result"
    }
   ],
   "source": [
    "str6.isalnum()"
   ]
  },
  {
   "cell_type": "code",
   "execution_count": 81,
   "id": "b4c788c3-09a2-42c9-bfd9-5385f79d7ead",
   "metadata": {},
   "outputs": [
    {
     "data": {
      "text/plain": [
       "True"
      ]
     },
     "execution_count": 81,
     "metadata": {},
     "output_type": "execute_result"
    }
   ],
   "source": [
    "str6.isalpha()"
   ]
  },
  {
   "cell_type": "code",
   "execution_count": 82,
   "id": "8d121fe3-b45d-4a29-bb72-6f8cafb2b9ab",
   "metadata": {},
   "outputs": [
    {
     "data": {
      "text/plain": [
       "False"
      ]
     },
     "execution_count": 82,
     "metadata": {},
     "output_type": "execute_result"
    }
   ],
   "source": [
    "str6.isnumeric()"
   ]
  },
  {
   "cell_type": "markdown",
   "id": "da21ad0f-d61d-4099-95ce-71ea90227d75",
   "metadata": {},
   "source": [
    "##### Reversing a string using reversed() function"
   ]
  },
  {
   "cell_type": "code",
   "execution_count": 83,
   "id": "8e6af086-95d2-47f6-8765-866550bfa20d",
   "metadata": {},
   "outputs": [
    {
     "data": {
      "text/plain": [
       "'Welcome to Data Science Masters'"
      ]
     },
     "execution_count": 83,
     "metadata": {},
     "output_type": "execute_result"
    }
   ],
   "source": [
    "str1"
   ]
  },
  {
   "cell_type": "code",
   "execution_count": 84,
   "id": "a6e4be2f-1f28-4e27-8a15-89cef861eef7",
   "metadata": {},
   "outputs": [
    {
     "data": {
      "text/plain": [
       "'sretsaM ecneicS ataD ot emocleW'"
      ]
     },
     "execution_count": 84,
     "metadata": {},
     "output_type": "execute_result"
    }
   ],
   "source": [
    "str1[::-1]"
   ]
  },
  {
   "cell_type": "code",
   "execution_count": 85,
   "id": "c28b222e-8a99-4d88-b296-59ad63611458",
   "metadata": {},
   "outputs": [
    {
     "data": {
      "text/plain": [
       "<reversed at 0x7fdeba4569b0>"
      ]
     },
     "execution_count": 85,
     "metadata": {},
     "output_type": "execute_result"
    }
   ],
   "source": [
    "reversed(str1)    #it returns a reverse iterator"
   ]
  },
  {
   "cell_type": "code",
   "execution_count": 86,
   "id": "dbaca88b-205e-4a3b-9f16-d9c67de75c0b",
   "metadata": {},
   "outputs": [
    {
     "data": {
      "text/plain": [
       "'sretsaM ecneicS ataD ot emocleW'"
      ]
     },
     "execution_count": 86,
     "metadata": {},
     "output_type": "execute_result"
    }
   ],
   "source": [
    "\"\".join(reversed(str1))"
   ]
  },
  {
   "cell_type": "code",
   "execution_count": 87,
   "id": "8e821c59-30ba-4af7-9e1f-14730b2400b6",
   "metadata": {},
   "outputs": [
    {
     "data": {
      "text/plain": [
       "'s r e t s a M   e c n e i c S   a t a D   o t   e m o c l e W'"
      ]
     },
     "execution_count": 87,
     "metadata": {},
     "output_type": "execute_result"
    }
   ],
   "source": [
    "\" \".join(reversed(str1))"
   ]
  },
  {
   "cell_type": "code",
   "execution_count": 88,
   "id": "63076c7f-d3c5-41dc-9fd4-2f519c2caf7a",
   "metadata": {},
   "outputs": [
    {
     "data": {
      "text/plain": [
       "'t Pwskills n Pwskills a'"
      ]
     },
     "execution_count": 88,
     "metadata": {},
     "output_type": "execute_result"
    }
   ],
   "source": [
    "\" Pwskills \".join(reversed(\"ant\"))"
   ]
  },
  {
   "cell_type": "code",
   "execution_count": 89,
   "id": "f04f15e1-2903-474e-bbbb-6edffaf94c08",
   "metadata": {},
   "outputs": [
    {
     "data": {
      "text/plain": [
       "['s',\n",
       " 'r',\n",
       " 'e',\n",
       " 't',\n",
       " 's',\n",
       " 'a',\n",
       " 'M',\n",
       " ' ',\n",
       " 'e',\n",
       " 'c',\n",
       " 'n',\n",
       " 'e',\n",
       " 'i',\n",
       " 'c',\n",
       " 'S',\n",
       " ' ',\n",
       " 'a',\n",
       " 't',\n",
       " 'a',\n",
       " 'D',\n",
       " ' ',\n",
       " 'o',\n",
       " 't',\n",
       " ' ',\n",
       " 'e',\n",
       " 'm',\n",
       " 'o',\n",
       " 'c',\n",
       " 'l',\n",
       " 'e',\n",
       " 'W']"
      ]
     },
     "execution_count": 89,
     "metadata": {},
     "output_type": "execute_result"
    }
   ],
   "source": [
    "list(\"\".join(reversed(str1)))"
   ]
  },
  {
   "cell_type": "code",
   "execution_count": 95,
   "id": "db733338-b151-4bf3-aaa6-a22b9e873a97",
   "metadata": {},
   "outputs": [
    {
     "name": "stdout",
     "output_type": "stream",
     "text": [
      "s r e t s a M   e c n e i c S   a t a D   o t   e m o c l e W "
     ]
    }
   ],
   "source": [
    "for i in reversed(str1):\n",
    "    print(i, end=\" \")"
   ]
  },
  {
   "cell_type": "code",
   "execution_count": 96,
   "id": "5b3043e2-81c7-4985-80d0-e2f12a099c93",
   "metadata": {},
   "outputs": [
    {
     "name": "stdout",
     "output_type": "stream",
     "text": [
      "s r e t s a M   e c n e i c S   a t a D   o t   e m o c l e W "
     ]
    }
   ],
   "source": [
    "for i in str1[::-1]:\n",
    "    print(i, end=\" \")"
   ]
  },
  {
   "cell_type": "code",
   "execution_count": 143,
   "id": "1657e88e-84e1-4a27-97cb-dba06deee14c",
   "metadata": {},
   "outputs": [
    {
     "name": "stdout",
     "output_type": "stream",
     "text": [
      "W e l c o m e   t o   D a t a   S c i e n c e   M a s t e r s "
     ]
    }
   ],
   "source": [
    "for i in range(0,len(str1)):   #iterating over string\n",
    "    print(str1[i], end=\" \")"
   ]
  },
  {
   "cell_type": "code",
   "execution_count": 106,
   "id": "7eb02f7f-7e5f-4ac1-849f-c9c6eed9b4df",
   "metadata": {},
   "outputs": [
    {
     "name": "stdout",
     "output_type": "stream",
     "text": [
      "s r e t s a M   e c n e i c S   a t a D   o t   e m o c l e W "
     ]
    }
   ],
   "source": [
    "for i in range(len(str1)-1,-1,-1):\n",
    "    print(str1[i],end=\" \")"
   ]
  },
  {
   "cell_type": "code",
   "execution_count": 107,
   "id": "cf8f7f1c-ca6e-4d5d-a0a2-cb12c3212fc5",
   "metadata": {},
   "outputs": [
    {
     "name": "stdout",
     "output_type": "stream",
     "text": [
      "s r e t s a M   e c n e i c S   a t a D   o t   e m o c l e W "
     ]
    }
   ],
   "source": [
    "ch=len(str1)-1\n",
    "while ch>=0:\n",
    "    print(str1[ch],end=\" \")\n",
    "    ch-=1"
   ]
  },
  {
   "cell_type": "markdown",
   "id": "f8e5a0ce-9651-4471-818a-977bcae05dee",
   "metadata": {},
   "source": [
    "#### Lists"
   ]
  },
  {
   "cell_type": "code",
   "execution_count": 108,
   "id": "18ee7c1f-2349-4b84-b97d-8b38ac87910d",
   "metadata": {},
   "outputs": [],
   "source": [
    "l=[]"
   ]
  },
  {
   "cell_type": "code",
   "execution_count": 109,
   "id": "a4195dad-1493-4205-bba2-bd8a8ed95f55",
   "metadata": {},
   "outputs": [
    {
     "data": {
      "text/plain": [
       "list"
      ]
     },
     "execution_count": 109,
     "metadata": {},
     "output_type": "execute_result"
    }
   ],
   "source": [
    "type(l)"
   ]
  },
  {
   "cell_type": "markdown",
   "id": "c52358b2-2868-44fe-ba14-c47248cc523e",
   "metadata": {},
   "source": [
    "##### Indexing"
   ]
  },
  {
   "cell_type": "code",
   "execution_count": 110,
   "id": "8e3bd19f-0606-4dc5-9053-255adaa4b2ee",
   "metadata": {},
   "outputs": [],
   "source": [
    "lst1=[\"bhavna\",\"dora\",\"DSM\",24]"
   ]
  },
  {
   "cell_type": "code",
   "execution_count": 111,
   "id": "4f77bdf6-d09e-4580-b052-8e4f0fd242ec",
   "metadata": {},
   "outputs": [
    {
     "data": {
      "text/plain": [
       "'bhavna'"
      ]
     },
     "execution_count": 111,
     "metadata": {},
     "output_type": "execute_result"
    }
   ],
   "source": [
    "lst1[0]"
   ]
  },
  {
   "cell_type": "code",
   "execution_count": 112,
   "id": "65d386ac-9927-4ae9-a468-7bf326be3a61",
   "metadata": {},
   "outputs": [
    {
     "data": {
      "text/plain": [
       "24"
      ]
     },
     "execution_count": 112,
     "metadata": {},
     "output_type": "execute_result"
    }
   ],
   "source": [
    "lst1[-1]"
   ]
  },
  {
   "cell_type": "code",
   "execution_count": 114,
   "id": "9a70d93b-e584-44b2-a9b1-a813025b4a64",
   "metadata": {},
   "outputs": [
    {
     "data": {
      "text/plain": [
       "'DSM'"
      ]
     },
     "execution_count": 114,
     "metadata": {},
     "output_type": "execute_result"
    }
   ],
   "source": [
    "lst1[2]"
   ]
  },
  {
   "cell_type": "markdown",
   "id": "09c5cba3-02b2-4375-9feb-eaa113f32776",
   "metadata": {},
   "source": [
    "##### Mutability"
   ]
  },
  {
   "cell_type": "code",
   "execution_count": 115,
   "id": "0e5ae024-12cc-465b-9cec-a42b394ab483",
   "metadata": {},
   "outputs": [],
   "source": [
    "lst1[0]=\"abc\""
   ]
  },
  {
   "cell_type": "code",
   "execution_count": 116,
   "id": "fe085667-d001-4bfd-abc8-46146bdbde22",
   "metadata": {},
   "outputs": [
    {
     "data": {
      "text/plain": [
       "['abc', 'dora', 'DSM', 24]"
      ]
     },
     "execution_count": 116,
     "metadata": {},
     "output_type": "execute_result"
    }
   ],
   "source": [
    "lst1"
   ]
  },
  {
   "cell_type": "code",
   "execution_count": 117,
   "id": "6ab03d64-bfff-4ae0-b1fa-7984a7845a4a",
   "metadata": {},
   "outputs": [],
   "source": [
    "lst2= str1.split(\" \")"
   ]
  },
  {
   "cell_type": "code",
   "execution_count": 118,
   "id": "ac4e7a88-9a79-4439-9a7f-c71aaf9e1736",
   "metadata": {},
   "outputs": [
    {
     "data": {
      "text/plain": [
       "['Welcome', 'to', 'Data', 'Science', 'Masters']"
      ]
     },
     "execution_count": 118,
     "metadata": {},
     "output_type": "execute_result"
    }
   ],
   "source": [
    "lst2"
   ]
  },
  {
   "cell_type": "code",
   "execution_count": 119,
   "id": "bb4380a9-5e9f-4f44-8c06-359b2920a413",
   "metadata": {},
   "outputs": [],
   "source": [
    "lst2[2]=\"Datas\""
   ]
  },
  {
   "cell_type": "code",
   "execution_count": 120,
   "id": "5944c817-c831-453b-b41f-229a7d12806e",
   "metadata": {},
   "outputs": [
    {
     "data": {
      "text/plain": [
       "['Welcome', 'to', 'Datas', 'Science', 'Masters']"
      ]
     },
     "execution_count": 120,
     "metadata": {},
     "output_type": "execute_result"
    }
   ],
   "source": [
    "lst2"
   ]
  },
  {
   "cell_type": "markdown",
   "id": "9434c20a-2857-4f8c-8d19-ee93fc0a8535",
   "metadata": {},
   "source": [
    "##### Slicing"
   ]
  },
  {
   "cell_type": "code",
   "execution_count": 122,
   "id": "401c29fe-305c-44d4-b194-7ea7d4bc53e6",
   "metadata": {},
   "outputs": [
    {
     "data": {
      "text/plain": [
       "['Welcome', 'to', 'Datas', 'Science', 'Masters']"
      ]
     },
     "execution_count": 122,
     "metadata": {},
     "output_type": "execute_result"
    }
   ],
   "source": [
    "lst2[0:]"
   ]
  },
  {
   "cell_type": "code",
   "execution_count": 123,
   "id": "ee31f575-bf02-4184-b0af-4c507658bb66",
   "metadata": {},
   "outputs": [
    {
     "data": {
      "text/plain": [
       "['Welcome', 'to']"
      ]
     },
     "execution_count": 123,
     "metadata": {},
     "output_type": "execute_result"
    }
   ],
   "source": [
    "lst2[0:2]"
   ]
  },
  {
   "cell_type": "code",
   "execution_count": 124,
   "id": "2d6345f0-5898-40d6-b9e6-bdd711138d0d",
   "metadata": {},
   "outputs": [
    {
     "data": {
      "text/plain": [
       "['Masters']"
      ]
     },
     "execution_count": 124,
     "metadata": {},
     "output_type": "execute_result"
    }
   ],
   "source": [
    "lst2[-1:]"
   ]
  },
  {
   "cell_type": "code",
   "execution_count": 127,
   "id": "c6c8ed4e-36f0-421d-bf37-eae04795b716",
   "metadata": {},
   "outputs": [
    {
     "data": {
      "text/plain": [
       "['Welcome', 'to', 'Datas']"
      ]
     },
     "execution_count": 127,
     "metadata": {},
     "output_type": "execute_result"
    }
   ],
   "source": [
    "lst2[-5:-2]"
   ]
  },
  {
   "cell_type": "code",
   "execution_count": 128,
   "id": "90d68b44-695a-4e70-8cfc-a7906644fb82",
   "metadata": {},
   "outputs": [
    {
     "data": {
      "text/plain": [
       "[]"
      ]
     },
     "execution_count": 128,
     "metadata": {},
     "output_type": "execute_result"
    }
   ],
   "source": [
    "lst2[-1:-3]"
   ]
  },
  {
   "cell_type": "code",
   "execution_count": 129,
   "id": "6867332b-91a8-49e4-822d-15ec0fb59d4d",
   "metadata": {},
   "outputs": [
    {
     "data": {
      "text/plain": [
       "['Science']"
      ]
     },
     "execution_count": 129,
     "metadata": {},
     "output_type": "execute_result"
    }
   ],
   "source": [
    "lst2[3:-1]"
   ]
  },
  {
   "cell_type": "code",
   "execution_count": 131,
   "id": "bf80bbe8-5ffc-4e84-89f2-bf2a5d6182f2",
   "metadata": {},
   "outputs": [
    {
     "data": {
      "text/plain": [
       "[]"
      ]
     },
     "execution_count": 131,
     "metadata": {},
     "output_type": "execute_result"
    }
   ],
   "source": [
    "lst2[2:-5]"
   ]
  },
  {
   "cell_type": "markdown",
   "id": "cfd366eb-a37c-46c6-b13f-65aa5b3949e4",
   "metadata": {},
   "source": [
    "##### Reversing"
   ]
  },
  {
   "cell_type": "code",
   "execution_count": 132,
   "id": "53acee5e-e487-489c-8d92-a30a10c0b726",
   "metadata": {},
   "outputs": [
    {
     "data": {
      "text/plain": [
       "['Welcome', 'to', 'Datas', 'Science', 'Masters']"
      ]
     },
     "execution_count": 132,
     "metadata": {},
     "output_type": "execute_result"
    }
   ],
   "source": [
    "lst2"
   ]
  },
  {
   "cell_type": "code",
   "execution_count": 133,
   "id": "7d67a80b-81e1-4852-9ed6-60bb07b6ee2f",
   "metadata": {},
   "outputs": [
    {
     "data": {
      "text/plain": [
       "['Masters', 'Science', 'Datas', 'to', 'Welcome']"
      ]
     },
     "execution_count": 133,
     "metadata": {},
     "output_type": "execute_result"
    }
   ],
   "source": [
    "lst2[::-1]"
   ]
  },
  {
   "cell_type": "code",
   "execution_count": 134,
   "id": "fc3e83f1-0374-4ae9-8dd1-2dec2323a80a",
   "metadata": {},
   "outputs": [
    {
     "data": {
      "text/plain": [
       "['Science', 'Datas', 'to']"
      ]
     },
     "execution_count": 134,
     "metadata": {},
     "output_type": "execute_result"
    }
   ],
   "source": [
    "lst2[3:0:-1]"
   ]
  },
  {
   "cell_type": "code",
   "execution_count": 136,
   "id": "4721b665-42b4-4368-93e6-023140a6c81c",
   "metadata": {},
   "outputs": [
    {
     "data": {
      "text/plain": [
       "['Masters', 'Datas', 'Welcome']"
      ]
     },
     "execution_count": 136,
     "metadata": {},
     "output_type": "execute_result"
    }
   ],
   "source": [
    "lst2[::-2]   # step size 2 in reverse direction"
   ]
  },
  {
   "cell_type": "code",
   "execution_count": 140,
   "id": "cfc37618-600e-4a13-acac-85dc0f1232f6",
   "metadata": {},
   "outputs": [
    {
     "data": {
      "text/plain": [
       "['Datas']"
      ]
     },
     "execution_count": 140,
     "metadata": {},
     "output_type": "execute_result"
    }
   ],
   "source": [
    "lst2[-3:1:-1]"
   ]
  },
  {
   "cell_type": "code",
   "execution_count": 141,
   "id": "245fed3d-98a8-45d6-8499-59e4d2ab0e8e",
   "metadata": {},
   "outputs": [
    {
     "data": {
      "text/plain": [
       "['Masters']"
      ]
     },
     "execution_count": 141,
     "metadata": {},
     "output_type": "execute_result"
    }
   ],
   "source": [
    "lst2[-1:3:-1]"
   ]
  },
  {
   "cell_type": "code",
   "execution_count": 142,
   "id": "bc45cb69-cdd1-4fa8-9390-bbb8ed13fb21",
   "metadata": {},
   "outputs": [
    {
     "data": {
      "text/plain": [
       "['Welcome']"
      ]
     },
     "execution_count": 142,
     "metadata": {},
     "output_type": "execute_result"
    }
   ],
   "source": [
    "lst2[-5::-1]"
   ]
  },
  {
   "cell_type": "markdown",
   "id": "2038f8e4-e90f-4df3-b419-023a56a8cd9d",
   "metadata": {},
   "source": [
    "##### concatenation"
   ]
  },
  {
   "cell_type": "code",
   "execution_count": 144,
   "id": "519ee631-2850-4a04-afb5-3c62962ad906",
   "metadata": {},
   "outputs": [
    {
     "data": {
      "text/plain": [
       "['Welcome', 'to', 'Datas', 'Science', 'Masters', 'hi', 24]"
      ]
     },
     "execution_count": 144,
     "metadata": {},
     "output_type": "execute_result"
    }
   ],
   "source": [
    "lst2+[\"hi\",24]"
   ]
  },
  {
   "cell_type": "code",
   "execution_count": 146,
   "id": "b54a33e6-fe0e-41ac-b4f6-29c1229d02d2",
   "metadata": {},
   "outputs": [
    {
     "ename": "TypeError",
     "evalue": "can only concatenate list (not \"str\") to list",
     "output_type": "error",
     "traceback": [
      "\u001b[0;31m---------------------------------------------------------------------------\u001b[0m",
      "\u001b[0;31mTypeError\u001b[0m                                 Traceback (most recent call last)",
      "Cell \u001b[0;32mIn[146], line 1\u001b[0m\n\u001b[0;32m----> 1\u001b[0m \u001b[43mlst2\u001b[49m\u001b[38;5;241;43m+\u001b[39;49m\u001b[38;5;124;43m\"\u001b[39;49m\u001b[38;5;124;43mabc\u001b[39;49m\u001b[38;5;124;43m\"\u001b[39;49m\n",
      "\u001b[0;31mTypeError\u001b[0m: can only concatenate list (not \"str\") to list"
     ]
    }
   ],
   "source": [
    "lst2+\"abc\""
   ]
  },
  {
   "cell_type": "code",
   "execution_count": 147,
   "id": "8ae9579c-6d3f-416a-ad82-ec3b7636d1b4",
   "metadata": {},
   "outputs": [
    {
     "data": {
      "text/plain": [
       "['Welcome',\n",
       " 'to',\n",
       " 'Datas',\n",
       " 'Science',\n",
       " 'Masters',\n",
       " 'Welcome',\n",
       " 'to',\n",
       " 'Datas',\n",
       " 'Science',\n",
       " 'Masters']"
      ]
     },
     "execution_count": 147,
     "metadata": {},
     "output_type": "execute_result"
    }
   ],
   "source": [
    "lst2*2"
   ]
  },
  {
   "cell_type": "markdown",
   "id": "9c9b0e83-f020-46c1-b9a7-d57d0d71cfbd",
   "metadata": {},
   "source": [
    "##### Multilist"
   ]
  },
  {
   "cell_type": "code",
   "execution_count": 148,
   "id": "090f38c9-2ab7-48f7-aeb2-f7c1b63ae911",
   "metadata": {},
   "outputs": [],
   "source": [
    "lst3= lst2+[[\"bye\",\"abc\",34.5],True]"
   ]
  },
  {
   "cell_type": "code",
   "execution_count": 149,
   "id": "09536e62-025a-4deb-9215-329d1d3e118f",
   "metadata": {},
   "outputs": [
    {
     "data": {
      "text/plain": [
       "['Welcome', 'to', 'Datas', 'Science', 'Masters', ['bye', 'abc', 34.5], True]"
      ]
     },
     "execution_count": 149,
     "metadata": {},
     "output_type": "execute_result"
    }
   ],
   "source": [
    "lst3"
   ]
  },
  {
   "cell_type": "code",
   "execution_count": 151,
   "id": "34b8391f-56e8-4e62-b0ff-6e5fca0e7d2f",
   "metadata": {},
   "outputs": [
    {
     "data": {
      "text/plain": [
       "'bye'"
      ]
     },
     "execution_count": 151,
     "metadata": {},
     "output_type": "execute_result"
    }
   ],
   "source": [
    "# access \"bye\" in the above-\n",
    "lst3[5][0]"
   ]
  },
  {
   "cell_type": "code",
   "execution_count": 152,
   "id": "3c26b65d-a262-4051-a5a5-ba91ca43d36c",
   "metadata": {},
   "outputs": [
    {
     "data": {
      "text/plain": [
       "34.5"
      ]
     },
     "execution_count": 152,
     "metadata": {},
     "output_type": "execute_result"
    }
   ],
   "source": [
    "lst3[5][-1]"
   ]
  },
  {
   "cell_type": "code",
   "execution_count": 153,
   "id": "d1699073-c3e8-4533-99e1-c1e9d8ea339e",
   "metadata": {},
   "outputs": [
    {
     "name": "stdout",
     "output_type": "stream",
     "text": [
      "Science is present\n"
     ]
    }
   ],
   "source": [
    "#iterating over list or checking if an element is present or not-\n",
    "for i in lst2:\n",
    "    if i==\"Science\":\n",
    "        print(i, \"is present\")"
   ]
  },
  {
   "cell_type": "code",
   "execution_count": 154,
   "id": "1f740f2c-309f-40b8-9799-13cfe3e4b067",
   "metadata": {},
   "outputs": [
    {
     "data": {
      "text/plain": [
       "True"
      ]
     },
     "execution_count": 154,
     "metadata": {},
     "output_type": "execute_result"
    }
   ],
   "source": [
    "\"Science\" in lst2"
   ]
  },
  {
   "cell_type": "code",
   "execution_count": 155,
   "id": "d5b7b6d0-49f5-44ad-a9cb-d124e60e721d",
   "metadata": {},
   "outputs": [
    {
     "data": {
      "text/plain": [
       "7"
      ]
     },
     "execution_count": 155,
     "metadata": {},
     "output_type": "execute_result"
    }
   ],
   "source": [
    "# length of list i.e no. of elements in list-\n",
    "\n",
    "len(lst3)"
   ]
  },
  {
   "cell_type": "markdown",
   "id": "d04b315d-d396-4c3f-9853-941498a98743",
   "metadata": {},
   "source": [
    "##### Methods-\n",
    "\n",
    "##### append, clear, copy, count, extend, index, insert, pop, remove, reverse, sort"
   ]
  },
  {
   "cell_type": "code",
   "execution_count": 161,
   "id": "5d25c5e1-5b04-42cc-b261-7175b9abe4b9",
   "metadata": {},
   "outputs": [],
   "source": [
    "lst4=[\"PW\",\"Skills\",\"DSM\",24,[\"start\",28],\"name\",\"Bhavna\"]"
   ]
  },
  {
   "cell_type": "code",
   "execution_count": 162,
   "id": "86bb0df9-5a0f-4b2a-9dcc-787dbbe8bfe5",
   "metadata": {},
   "outputs": [
    {
     "data": {
      "text/plain": [
       "['PW', 'Skills', 'DSM', 24, ['start', 28], 'name', 'Bhavna']"
      ]
     },
     "execution_count": 162,
     "metadata": {},
     "output_type": "execute_result"
    }
   ],
   "source": [
    "lst4"
   ]
  },
  {
   "cell_type": "code",
   "execution_count": 164,
   "id": "0a33399d-190a-4cc7-89e4-a3f21aad9893",
   "metadata": {},
   "outputs": [],
   "source": [
    "lst4.append(12)  #takes only 1 argument"
   ]
  },
  {
   "cell_type": "code",
   "execution_count": 165,
   "id": "f001694c-0e1f-405b-bffc-d0d28266e574",
   "metadata": {},
   "outputs": [
    {
     "data": {
      "text/plain": [
       "['PW', 'Skills', 'DSM', 24, ['start', 28], 'name', 'Bhavna', 12]"
      ]
     },
     "execution_count": 165,
     "metadata": {},
     "output_type": "execute_result"
    }
   ],
   "source": [
    "lst4"
   ]
  },
  {
   "cell_type": "code",
   "execution_count": 166,
   "id": "b06b5889-2aa7-40fa-bb83-b8526e5e4f3d",
   "metadata": {},
   "outputs": [],
   "source": [
    "lst4.append([\"hi\"])"
   ]
  },
  {
   "cell_type": "code",
   "execution_count": 167,
   "id": "b3d80d78-5884-4fcc-9a35-768725641baf",
   "metadata": {},
   "outputs": [
    {
     "data": {
      "text/plain": [
       "['PW', 'Skills', 'DSM', 24, ['start', 28], 'name', 'Bhavna', 12, ['hi']]"
      ]
     },
     "execution_count": 167,
     "metadata": {},
     "output_type": "execute_result"
    }
   ],
   "source": [
    "lst4"
   ]
  },
  {
   "cell_type": "code",
   "execution_count": 169,
   "id": "8d827803-fa43-4180-8a8d-68f32c0092ad",
   "metadata": {},
   "outputs": [],
   "source": [
    "lst4.extend([\"bye\",1,2,3,2+6j])"
   ]
  },
  {
   "cell_type": "code",
   "execution_count": 170,
   "id": "9f0963af-e06d-4f4c-a4f9-631d47c939a8",
   "metadata": {},
   "outputs": [
    {
     "data": {
      "text/plain": [
       "['PW',\n",
       " 'Skills',\n",
       " 'DSM',\n",
       " 24,\n",
       " ['start', 28],\n",
       " 'name',\n",
       " 'Bhavna',\n",
       " 12,\n",
       " ['hi'],\n",
       " 'bye',\n",
       " 1,\n",
       " 2,\n",
       " 3,\n",
       " (2+6j)]"
      ]
     },
     "execution_count": 170,
     "metadata": {},
     "output_type": "execute_result"
    }
   ],
   "source": [
    "lst4"
   ]
  },
  {
   "cell_type": "code",
   "execution_count": 171,
   "id": "5c62c04b-920a-44b6-965d-54a569e50fb8",
   "metadata": {},
   "outputs": [],
   "source": [
    "# extend (accepts input as a list) is used to add more than one element into list "
   ]
  },
  {
   "cell_type": "code",
   "execution_count": 172,
   "id": "4d24e8c6-e7dd-41f1-b5c7-041589a474f8",
   "metadata": {},
   "outputs": [
    {
     "data": {
      "text/plain": [
       "(2+6j)"
      ]
     },
     "execution_count": 172,
     "metadata": {},
     "output_type": "execute_result"
    }
   ],
   "source": [
    "lst4.pop()  # pop() is inplace operation it pops out the last element and returns it"
   ]
  },
  {
   "cell_type": "code",
   "execution_count": 173,
   "id": "35471c82-d11f-404d-8ed2-867bdb1880d5",
   "metadata": {},
   "outputs": [
    {
     "data": {
      "text/plain": [
       "['PW',\n",
       " 'Skills',\n",
       " 'DSM',\n",
       " 24,\n",
       " ['start', 28],\n",
       " 'name',\n",
       " 'Bhavna',\n",
       " 12,\n",
       " ['hi'],\n",
       " 'bye',\n",
       " 1,\n",
       " 2,\n",
       " 3]"
      ]
     },
     "execution_count": 173,
     "metadata": {},
     "output_type": "execute_result"
    }
   ],
   "source": [
    "lst4"
   ]
  },
  {
   "cell_type": "code",
   "execution_count": 174,
   "id": "09aa7d58-202c-4bf7-b028-76bc2d8929fe",
   "metadata": {},
   "outputs": [
    {
     "data": {
      "text/plain": [
       "3"
      ]
     },
     "execution_count": 174,
     "metadata": {},
     "output_type": "execute_result"
    }
   ],
   "source": [
    "lst4.pop()"
   ]
  },
  {
   "cell_type": "code",
   "execution_count": 175,
   "id": "795f5627-c592-4f6b-a183-0166d1549dfc",
   "metadata": {},
   "outputs": [
    {
     "data": {
      "text/plain": [
       "2"
      ]
     },
     "execution_count": 175,
     "metadata": {},
     "output_type": "execute_result"
    }
   ],
   "source": [
    "lst4.pop()"
   ]
  },
  {
   "cell_type": "code",
   "execution_count": 176,
   "id": "04c54ea2-065a-4486-bc34-9c404810f90b",
   "metadata": {},
   "outputs": [
    {
     "data": {
      "text/plain": [
       "1"
      ]
     },
     "execution_count": 176,
     "metadata": {},
     "output_type": "execute_result"
    }
   ],
   "source": [
    "lst4.pop()"
   ]
  },
  {
   "cell_type": "code",
   "execution_count": 177,
   "id": "2ec95276-3658-41ac-8081-2c3752629fb5",
   "metadata": {},
   "outputs": [
    {
     "data": {
      "text/plain": [
       "['PW', 'Skills', 'DSM', 24, ['start', 28], 'name', 'Bhavna', 12, ['hi'], 'bye']"
      ]
     },
     "execution_count": 177,
     "metadata": {},
     "output_type": "execute_result"
    }
   ],
   "source": [
    "lst4"
   ]
  },
  {
   "cell_type": "code",
   "execution_count": 178,
   "id": "e26db475-dd56-48e4-b38d-1fb86d700b31",
   "metadata": {},
   "outputs": [
    {
     "ename": "ValueError",
     "evalue": "'hi' is not in list",
     "output_type": "error",
     "traceback": [
      "\u001b[0;31m---------------------------------------------------------------------------\u001b[0m",
      "\u001b[0;31mValueError\u001b[0m                                Traceback (most recent call last)",
      "Cell \u001b[0;32mIn[178], line 1\u001b[0m\n\u001b[0;32m----> 1\u001b[0m \u001b[43mlst4\u001b[49m\u001b[38;5;241;43m.\u001b[39;49m\u001b[43mindex\u001b[49m\u001b[43m(\u001b[49m\u001b[38;5;124;43m\"\u001b[39;49m\u001b[38;5;124;43mhi\u001b[39;49m\u001b[38;5;124;43m\"\u001b[39;49m\u001b[43m)\u001b[49m\n",
      "\u001b[0;31mValueError\u001b[0m: 'hi' is not in list"
     ]
    }
   ],
   "source": [
    "lst4.index(\"hi\")"
   ]
  },
  {
   "cell_type": "code",
   "execution_count": 179,
   "id": "0f9aa64c-deb6-42b9-b181-638a6dc61317",
   "metadata": {},
   "outputs": [
    {
     "data": {
      "text/plain": [
       "8"
      ]
     },
     "execution_count": 179,
     "metadata": {},
     "output_type": "execute_result"
    }
   ],
   "source": [
    "lst4.index([\"hi\"])"
   ]
  },
  {
   "cell_type": "code",
   "execution_count": 180,
   "id": "1cbf47c0-67fe-447e-90bf-787d26822cab",
   "metadata": {},
   "outputs": [
    {
     "data": {
      "text/plain": [
       "3"
      ]
     },
     "execution_count": 180,
     "metadata": {},
     "output_type": "execute_result"
    }
   ],
   "source": [
    "lst4.index(24)"
   ]
  },
  {
   "cell_type": "code",
   "execution_count": 181,
   "id": "3f113ed3-817a-46f1-b511-d2e7451c9e4e",
   "metadata": {},
   "outputs": [],
   "source": [
    "lst4.insert(4,\"Data\")"
   ]
  },
  {
   "cell_type": "code",
   "execution_count": 182,
   "id": "02efa059-6d15-4662-b2ba-6058f39a3c9a",
   "metadata": {},
   "outputs": [
    {
     "data": {
      "text/plain": [
       "['PW',\n",
       " 'Skills',\n",
       " 'DSM',\n",
       " 24,\n",
       " 'Data',\n",
       " ['start', 28],\n",
       " 'name',\n",
       " 'Bhavna',\n",
       " 12,\n",
       " ['hi'],\n",
       " 'bye']"
      ]
     },
     "execution_count": 182,
     "metadata": {},
     "output_type": "execute_result"
    }
   ],
   "source": [
    "lst4"
   ]
  },
  {
   "cell_type": "code",
   "execution_count": 183,
   "id": "514aa463-14b1-4d6d-a7d7-203c46ee73db",
   "metadata": {},
   "outputs": [],
   "source": [
    "#insert method takes 2 args. puts the value before the specified index"
   ]
  },
  {
   "cell_type": "code",
   "execution_count": 184,
   "id": "25fc2c31-015c-4437-b870-6fc81f1319c9",
   "metadata": {},
   "outputs": [],
   "source": [
    "lst4.remove(24)"
   ]
  },
  {
   "cell_type": "code",
   "execution_count": 185,
   "id": "12b5d627-d58f-43e2-848a-84f5ca4dd3fb",
   "metadata": {},
   "outputs": [
    {
     "data": {
      "text/plain": [
       "['PW',\n",
       " 'Skills',\n",
       " 'DSM',\n",
       " 'Data',\n",
       " ['start', 28],\n",
       " 'name',\n",
       " 'Bhavna',\n",
       " 12,\n",
       " ['hi'],\n",
       " 'bye']"
      ]
     },
     "execution_count": 185,
     "metadata": {},
     "output_type": "execute_result"
    }
   ],
   "source": [
    "lst4"
   ]
  },
  {
   "cell_type": "code",
   "execution_count": 186,
   "id": "2bc83747-32c3-4a7f-b435-4531dac453ac",
   "metadata": {},
   "outputs": [],
   "source": [
    "lst4.remove(\"name\")"
   ]
  },
  {
   "cell_type": "code",
   "execution_count": 187,
   "id": "ad1a6900-dbb5-4484-ae76-efa743ad2b81",
   "metadata": {},
   "outputs": [
    {
     "data": {
      "text/plain": [
       "['PW', 'Skills', 'DSM', 'Data', ['start', 28], 'Bhavna', 12, ['hi'], 'bye']"
      ]
     },
     "execution_count": 187,
     "metadata": {},
     "output_type": "execute_result"
    }
   ],
   "source": [
    "lst4"
   ]
  },
  {
   "cell_type": "code",
   "execution_count": 188,
   "id": "0e962e9e-e562-4283-8fb5-7c65b5be0311",
   "metadata": {},
   "outputs": [],
   "source": [
    "lst4.clear()"
   ]
  },
  {
   "cell_type": "code",
   "execution_count": 189,
   "id": "1f97a842-aaf9-4be4-ab9b-771d9f639e5a",
   "metadata": {},
   "outputs": [
    {
     "data": {
      "text/plain": [
       "[]"
      ]
     },
     "execution_count": 189,
     "metadata": {},
     "output_type": "execute_result"
    }
   ],
   "source": [
    "lst4"
   ]
  },
  {
   "cell_type": "code",
   "execution_count": 190,
   "id": "cb12a0f3-44c5-4dd1-9a88-00a4d9a4f4e3",
   "metadata": {},
   "outputs": [],
   "source": [
    "lst5=[\"q\",\"e\",\"f\",\"s\",\"t\",\"u\"]"
   ]
  },
  {
   "cell_type": "code",
   "execution_count": 191,
   "id": "85dd2cce-1cc2-44bd-a622-a2f3f91fd673",
   "metadata": {},
   "outputs": [
    {
     "data": {
      "text/plain": [
       "['q', 'e', 'f', 's', 't', 'u']"
      ]
     },
     "execution_count": 191,
     "metadata": {},
     "output_type": "execute_result"
    }
   ],
   "source": [
    "lst5"
   ]
  },
  {
   "cell_type": "code",
   "execution_count": 192,
   "id": "e5efe92b-c539-498f-8f53-2c7fadc7029b",
   "metadata": {},
   "outputs": [
    {
     "data": {
      "text/plain": [
       "['u', 't', 's', 'f', 'e', 'q']"
      ]
     },
     "execution_count": 192,
     "metadata": {},
     "output_type": "execute_result"
    }
   ],
   "source": [
    "lst5[::-1]"
   ]
  },
  {
   "cell_type": "code",
   "execution_count": 193,
   "id": "e5bf13c5-c2dd-4284-af0f-1deea99d3578",
   "metadata": {},
   "outputs": [],
   "source": [
    "lst5.reverse()"
   ]
  },
  {
   "cell_type": "code",
   "execution_count": 194,
   "id": "618d56b3-70de-4c66-828f-92c1525fd139",
   "metadata": {},
   "outputs": [
    {
     "data": {
      "text/plain": [
       "['u', 't', 's', 'f', 'e', 'q']"
      ]
     },
     "execution_count": 194,
     "metadata": {},
     "output_type": "execute_result"
    }
   ],
   "source": [
    "lst5"
   ]
  },
  {
   "cell_type": "code",
   "execution_count": 195,
   "id": "3a10d102-a396-4402-a558-4179dae46274",
   "metadata": {},
   "outputs": [],
   "source": [
    "lst5.sort()  # sorts in ascending order"
   ]
  },
  {
   "cell_type": "code",
   "execution_count": 196,
   "id": "86e2da7b-e05e-470f-8fcb-510075463644",
   "metadata": {},
   "outputs": [
    {
     "data": {
      "text/plain": [
       "['e', 'f', 'q', 's', 't', 'u']"
      ]
     },
     "execution_count": 196,
     "metadata": {},
     "output_type": "execute_result"
    }
   ],
   "source": [
    "lst5"
   ]
  },
  {
   "cell_type": "code",
   "execution_count": 197,
   "id": "6083d8ac-3c32-4ef6-87a0-85a7afe57a4b",
   "metadata": {},
   "outputs": [],
   "source": [
    "lst6=lst5      # shallow copy- both point to same list object so changes in lst5 will affect lst6 and vice-versa"
   ]
  },
  {
   "cell_type": "code",
   "execution_count": 198,
   "id": "23d6b8ad-d911-4104-a15b-6896c341e3e6",
   "metadata": {},
   "outputs": [
    {
     "data": {
      "text/plain": [
       "['e', 'f', 'q', 's', 't', 'u']"
      ]
     },
     "execution_count": 198,
     "metadata": {},
     "output_type": "execute_result"
    }
   ],
   "source": [
    "lst6"
   ]
  },
  {
   "cell_type": "code",
   "execution_count": 199,
   "id": "0b09d1b7-f003-4595-bd09-24459ea9f207",
   "metadata": {},
   "outputs": [],
   "source": [
    "lst5[1]=\"abc\"\n"
   ]
  },
  {
   "cell_type": "code",
   "execution_count": 200,
   "id": "cd7681d0-ad83-4b44-91ef-f9f93bd9bf9d",
   "metadata": {},
   "outputs": [
    {
     "data": {
      "text/plain": [
       "['e', 'abc', 'q', 's', 't', 'u']"
      ]
     },
     "execution_count": 200,
     "metadata": {},
     "output_type": "execute_result"
    }
   ],
   "source": [
    "lst5"
   ]
  },
  {
   "cell_type": "code",
   "execution_count": 201,
   "id": "661e8e0f-d5b4-4bc7-a8de-3529c2ad586b",
   "metadata": {},
   "outputs": [
    {
     "data": {
      "text/plain": [
       "['e', 'abc', 'q', 's', 't', 'u']"
      ]
     },
     "execution_count": 201,
     "metadata": {},
     "output_type": "execute_result"
    }
   ],
   "source": [
    "lst6"
   ]
  },
  {
   "cell_type": "code",
   "execution_count": 204,
   "id": "0634c04c-14d7-4115-91ab-ecb04aa1f65e",
   "metadata": {},
   "outputs": [],
   "source": [
    "lst7= lst5.copy()  #deep copy-lst5 is copied to a new memory loaction so that changes in lst5 won't affect lst6 and vice-versa"
   ]
  },
  {
   "cell_type": "code",
   "execution_count": 205,
   "id": "6124ed30-2183-4301-8000-6698007f0e42",
   "metadata": {},
   "outputs": [
    {
     "data": {
      "text/plain": [
       "['e', 'abc', 'q', 's', 't', 'u']"
      ]
     },
     "execution_count": 205,
     "metadata": {},
     "output_type": "execute_result"
    }
   ],
   "source": [
    "lst7"
   ]
  },
  {
   "cell_type": "code",
   "execution_count": 206,
   "id": "6bb5cefd-3241-4781-9e3a-2fb0cee5a047",
   "metadata": {},
   "outputs": [],
   "source": [
    "lst5[2]=24"
   ]
  },
  {
   "cell_type": "code",
   "execution_count": 207,
   "id": "fa0a593f-9695-4f4b-9621-1aa1d9a28cd4",
   "metadata": {},
   "outputs": [
    {
     "data": {
      "text/plain": [
       "['e', 'abc', 24, 's', 't', 'u']"
      ]
     },
     "execution_count": 207,
     "metadata": {},
     "output_type": "execute_result"
    }
   ],
   "source": [
    "lst5"
   ]
  },
  {
   "cell_type": "code",
   "execution_count": 208,
   "id": "320ee32c-112f-49f9-8d74-97aa78509285",
   "metadata": {},
   "outputs": [
    {
     "data": {
      "text/plain": [
       "['e', 'abc', 'q', 's', 't', 'u']"
      ]
     },
     "execution_count": 208,
     "metadata": {},
     "output_type": "execute_result"
    }
   ],
   "source": [
    "lst7"
   ]
  },
  {
   "cell_type": "markdown",
   "id": "3dbb53c2-fc64-4cb1-bc05-baa42036e731",
   "metadata": {},
   "source": [
    "##### Nested list"
   ]
  },
  {
   "cell_type": "code",
   "execution_count": 209,
   "id": "b3ab2971-8da9-4c16-b450-bd9d9d8d5ba6",
   "metadata": {},
   "outputs": [],
   "source": [
    "lst_1= [1,2,3]\n",
    "lst_2= [4,5,6]\n",
    "lst_3= [7,8,9]\n",
    "\n",
    "matrix= [lst_1,lst_2,lst_3]"
   ]
  },
  {
   "cell_type": "code",
   "execution_count": 210,
   "id": "3d2122c9-1009-43db-874c-d22318d5a0f4",
   "metadata": {},
   "outputs": [
    {
     "data": {
      "text/plain": [
       "[[1, 2, 3], [4, 5, 6], [7, 8, 9]]"
      ]
     },
     "execution_count": 210,
     "metadata": {},
     "output_type": "execute_result"
    }
   ],
   "source": [
    "matrix"
   ]
  },
  {
   "cell_type": "code",
   "execution_count": 211,
   "id": "332417e8-96e6-451a-98e9-9bb65d73b077",
   "metadata": {},
   "outputs": [
    {
     "data": {
      "text/plain": [
       "6"
      ]
     },
     "execution_count": 211,
     "metadata": {},
     "output_type": "execute_result"
    }
   ],
   "source": [
    "matrix[1][2]"
   ]
  },
  {
   "cell_type": "markdown",
   "id": "88ec8123-3124-4b86-8e24-2624c418a895",
   "metadata": {},
   "source": [
    "##### List Comprehension"
   ]
  },
  {
   "cell_type": "code",
   "execution_count": 212,
   "id": "519b1c38-abf7-4fe1-b34d-24317ebd60ec",
   "metadata": {},
   "outputs": [
    {
     "data": {
      "text/plain": [
       "[0, 1, 2, 3, 4, 5, 6, 7, 8, 9, 10, 11, 12, 13, 14, 15, 16, 17, 18, 19]"
      ]
     },
     "execution_count": 212,
     "metadata": {},
     "output_type": "execute_result"
    }
   ],
   "source": [
    "[ i for i in range(20)]"
   ]
  },
  {
   "cell_type": "code",
   "execution_count": 213,
   "id": "bf8f2b7c-09ee-4ce9-8b79-0553ed46ad13",
   "metadata": {},
   "outputs": [
    {
     "data": {
      "text/plain": [
       "[0, 2, 4, 6, 8, 10, 12, 14, 16, 18, 20]"
      ]
     },
     "execution_count": 213,
     "metadata": {},
     "output_type": "execute_result"
    }
   ],
   "source": [
    "# print even numbers upto 20\n",
    "[ i for i in range(21) if i%2==0]"
   ]
  },
  {
   "cell_type": "code",
   "execution_count": 216,
   "id": "2c318d74-309b-4e81-8ab4-28570efd7db5",
   "metadata": {},
   "outputs": [
    {
     "data": {
      "text/plain": [
       "[0,\n",
       " ' ',\n",
       " 2,\n",
       " ' ',\n",
       " 4,\n",
       " ' ',\n",
       " 6,\n",
       " ' ',\n",
       " 8,\n",
       " ' ',\n",
       " 10,\n",
       " ' ',\n",
       " 12,\n",
       " ' ',\n",
       " 14,\n",
       " ' ',\n",
       " 16,\n",
       " ' ',\n",
       " 18,\n",
       " ' ',\n",
       " 20]"
      ]
     },
     "execution_count": 216,
     "metadata": {},
     "output_type": "execute_result"
    }
   ],
   "source": [
    "[ i if i%2==0  else \" \"  for i in range(21)]"
   ]
  },
  {
   "cell_type": "code",
   "execution_count": 228,
   "id": "aab2ab48-4ef9-4843-9ff1-84a4908cb269",
   "metadata": {},
   "outputs": [
    {
     "name": "stdout",
     "output_type": "stream",
     "text": [
      "sum of even numbers: 20\n"
     ]
    }
   ],
   "source": [
    "# sum of even/odd numbers\n",
    "lst=[1,2,3,4,5,6,7,8]\n",
    "sum_even=0\n",
    "for i in lst:\n",
    "    if i%2==0:\n",
    "        sum_even+=i\n",
    "print(\"sum of even numbers:\",sum_even)"
   ]
  },
  {
   "cell_type": "code",
   "execution_count": 224,
   "id": "60fc8904-e877-486b-9dd8-fb0befb27b3b",
   "metadata": {},
   "outputs": [],
   "source": [
    "even_sum= sum([i for i in lst if i%2==0 ])"
   ]
  },
  {
   "cell_type": "code",
   "execution_count": 225,
   "id": "e06706ca-2156-44d9-be89-caa2583af224",
   "metadata": {},
   "outputs": [
    {
     "data": {
      "text/plain": [
       "20"
      ]
     },
     "execution_count": 225,
     "metadata": {},
     "output_type": "execute_result"
    }
   ],
   "source": [
    "even_sum"
   ]
  },
  {
   "cell_type": "code",
   "execution_count": 226,
   "id": "754c9866-4af1-4bce-bf6e-e1066af78c1a",
   "metadata": {},
   "outputs": [],
   "source": [
    "odd_sum= sum([i for i in lst if i%2!=0])"
   ]
  },
  {
   "cell_type": "code",
   "execution_count": 227,
   "id": "9f942b5d-4c1e-4ef1-b4f9-b1b879f5ad2b",
   "metadata": {},
   "outputs": [
    {
     "data": {
      "text/plain": [
       "16"
      ]
     },
     "execution_count": 227,
     "metadata": {},
     "output_type": "execute_result"
    }
   ],
   "source": [
    "odd_sum"
   ]
  },
  {
   "cell_type": "code",
   "execution_count": 231,
   "id": "94fcd483-18f1-4162-8db7-0a0d51b7645c",
   "metadata": {},
   "outputs": [],
   "source": [
    "# squares of fisrt 10 natural numbers\n",
    "squares= [ i**2 for i in range(1,11)]"
   ]
  },
  {
   "cell_type": "code",
   "execution_count": 232,
   "id": "cd25655a-1257-429d-bed8-0262980bc540",
   "metadata": {},
   "outputs": [
    {
     "data": {
      "text/plain": [
       "[1, 4, 9, 16, 25, 36, 49, 64, 81, 100]"
      ]
     },
     "execution_count": 232,
     "metadata": {},
     "output_type": "execute_result"
    }
   ],
   "source": [
    "squares"
   ]
  },
  {
   "cell_type": "code",
   "execution_count": 233,
   "id": "82b52e21-d937-4eec-b2e2-cac877469528",
   "metadata": {},
   "outputs": [
    {
     "data": {
      "text/plain": [
       "['a', 'b', 'c', 'd']"
      ]
     },
     "execution_count": 233,
     "metadata": {},
     "output_type": "execute_result"
    }
   ],
   "source": [
    "words= [\"apple\",\"banana\",\"cherry\",\"date\"]\n",
    "[ i[0] for i in words]"
   ]
  },
  {
   "cell_type": "code",
   "execution_count": 234,
   "id": "3ca38efb-daac-4310-9265-b272e4932229",
   "metadata": {},
   "outputs": [
    {
     "data": {
      "text/plain": [
       "[32.0, 50.0, 68.0, 86.0, 104.0, 122.0]"
      ]
     },
     "execution_count": 234,
     "metadata": {},
     "output_type": "execute_result"
    }
   ],
   "source": [
    "celcius_temp= [0,10,20,30,40,50]\n",
    "[ (9/5)*i+32 for i in celcius_temp]"
   ]
  },
  {
   "cell_type": "code",
   "execution_count": 237,
   "id": "c772a5d1-5e81-48bb-8f89-a846842a492c",
   "metadata": {},
   "outputs": [
    {
     "data": {
      "text/plain": [
       "[1, 2, 3, 4, 5, 6, 7, 8, 9]"
      ]
     },
     "execution_count": 237,
     "metadata": {},
     "output_type": "execute_result"
    }
   ],
   "source": [
    "lists=[[1,2,3],[4,5,6],[7,8,9]]\n",
    "[j for i in lists for j in i]"
   ]
  },
  {
   "cell_type": "code",
   "execution_count": null,
   "id": "e8a04cd5-d49e-4450-a02a-9e9e32b3d04a",
   "metadata": {},
   "outputs": [],
   "source": []
  }
 ],
 "metadata": {
  "kernelspec": {
   "display_name": "Python 3 (ipykernel)",
   "language": "python",
   "name": "python3"
  },
  "language_info": {
   "codemirror_mode": {
    "name": "ipython",
    "version": 3
   },
   "file_extension": ".py",
   "mimetype": "text/x-python",
   "name": "python",
   "nbconvert_exporter": "python",
   "pygments_lexer": "ipython3",
   "version": "3.10.8"
  }
 },
 "nbformat": 4,
 "nbformat_minor": 5
}
