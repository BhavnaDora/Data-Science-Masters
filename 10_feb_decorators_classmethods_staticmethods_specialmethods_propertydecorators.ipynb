{
 "cells": [
  {
   "cell_type": "markdown",
   "id": "2f8c99d9-5914-4873-9e58-b2a3bad70963",
   "metadata": {},
   "source": [
    "#### Decorators"
   ]
  },
  {
   "cell_type": "code",
   "execution_count": 1,
   "id": "5499043b-cc47-4086-adcc-54b70ab33521",
   "metadata": {},
   "outputs": [
    {
     "name": "stdout",
     "output_type": "stream",
     "text": [
      "9\n"
     ]
    }
   ],
   "source": [
    "def test():\n",
    "    print(4+5)\n",
    "    \n",
    "test()"
   ]
  },
  {
   "cell_type": "code",
   "execution_count": 2,
   "id": "06471391-0b82-4968-8daa-6532b4e214d1",
   "metadata": {},
   "outputs": [
    {
     "name": "stdout",
     "output_type": "stream",
     "text": [
      "this is the start of my func\n",
      "9\n",
      "this is the end of my func\n"
     ]
    }
   ],
   "source": [
    "def test():\n",
    "    print(\"this is the start of my func\")\n",
    "    print(4+5)\n",
    "    print(\"this is the end of my func\")\n",
    "    \n",
    "test()"
   ]
  },
  {
   "cell_type": "code",
   "execution_count": 3,
   "id": "a116f129-91dc-475d-a9c8-2d5d7ace84b3",
   "metadata": {},
   "outputs": [],
   "source": [
    "# We want those 2 print messages in a lot of other functions. So, writing them inside every function is not wise.\n",
    "# Instead we can write them inside a decorator."
   ]
  },
  {
   "cell_type": "code",
   "execution_count": 6,
   "id": "607ad32a-6e0d-46fc-b970-907024416c8c",
   "metadata": {},
   "outputs": [],
   "source": [
    "def deco(func):        # deco is our decorator name and it takes function as argument\n",
    "    def inner_deco():\n",
    "        print(\"this is the start of my func\")\n",
    "        func()                                      # calling the function\n",
    "        print(\"this is the end of my func\")\n",
    "    return inner_deco\n",
    "        "
   ]
  },
  {
   "cell_type": "code",
   "execution_count": 5,
   "id": "96cd3d01-e557-4920-810d-cb49abbdda7a",
   "metadata": {},
   "outputs": [],
   "source": [
    "@deco    # this calls the decorator function\n",
    "def test1():      # function test1 gets passed as argument of decorator\n",
    "    print(4+5)"
   ]
  },
  {
   "cell_type": "code",
   "execution_count": 7,
   "id": "2df809bb-c410-4f82-84aa-2053426bf260",
   "metadata": {},
   "outputs": [
    {
     "name": "stdout",
     "output_type": "stream",
     "text": [
      "this is the start of my func\n",
      "9\n",
      "this is the end of my func\n"
     ]
    }
   ],
   "source": [
    "test1()"
   ]
  },
  {
   "cell_type": "markdown",
   "id": "a0f0e889-edb0-417f-ba91-ad97f184c58d",
   "metadata": {},
   "source": [
    "##### Decorator function is used to remove the repeatedness of any statement that we would like to implement in many functions"
   ]
  },
  {
   "cell_type": "markdown",
   "id": "87678cd7-6b07-4539-82a5-b8cd81da29bc",
   "metadata": {},
   "source": [
    "##### Using decorator function we can also know about time complexity of a program"
   ]
  },
  {
   "cell_type": "code",
   "execution_count": 12,
   "id": "b3f54a83-8d22-48fb-a274-d658a181119a",
   "metadata": {},
   "outputs": [],
   "source": [
    "import time\n",
    "\n",
    "def timer_test(func):             # timer_test is our decorator it accepts function as argument\n",
    "    def timer_test_inner():\n",
    "        start= time.time()\n",
    "        func()\n",
    "        end= time.time()\n",
    "        print(end-start)\n",
    "    \n",
    "    return timer_test_inner\n",
    "    "
   ]
  },
  {
   "cell_type": "code",
   "execution_count": 13,
   "id": "d2c24d1f-b259-49a6-985d-80b3a4ce7c79",
   "metadata": {},
   "outputs": [],
   "source": [
    "@timer_test        # calling the decorator\n",
    "def test2():\n",
    "    for i in range(1000000):\n",
    "        pass"
   ]
  },
  {
   "cell_type": "code",
   "execution_count": 14,
   "id": "c6387566-d697-4978-9018-18ec4e3f60e8",
   "metadata": {},
   "outputs": [
    {
     "name": "stdout",
     "output_type": "stream",
     "text": [
      "0.024976253509521484\n"
     ]
    }
   ],
   "source": [
    "test2()"
   ]
  },
  {
   "cell_type": "markdown",
   "id": "95c510cf-f268-4fec-8c27-da8f13c406ea",
   "metadata": {},
   "source": [
    "#### Class Methods"
   ]
  },
  {
   "cell_type": "code",
   "execution_count": 5,
   "id": "b083795e-5c1f-424d-a998-d190ea8edf07",
   "metadata": {},
   "outputs": [],
   "source": [
    "class pwskills:\n",
    "    def __init__(self, name, email):\n",
    "        self.name= name\n",
    "        self.email= email\n",
    "        \n",
    "    def student_details(self):\n",
    "        print( self.name, self.email)\n",
    "        \n",
    "pw= pwskills(\"bhavna\",\"dorabhavna@gmail.com\")\n"
   ]
  },
  {
   "cell_type": "code",
   "execution_count": 6,
   "id": "30fde768-1112-4e3e-8dcb-e7fb69b82adc",
   "metadata": {},
   "outputs": [
    {
     "data": {
      "text/plain": [
       "'bhavna'"
      ]
     },
     "execution_count": 6,
     "metadata": {},
     "output_type": "execute_result"
    }
   ],
   "source": [
    "pw.name"
   ]
  },
  {
   "cell_type": "code",
   "execution_count": 3,
   "id": "01941daa-fcd8-4c06-8205-842bd1245305",
   "metadata": {},
   "outputs": [
    {
     "data": {
      "text/plain": [
       "'dorabhavna@gmail.com'"
      ]
     },
     "execution_count": 3,
     "metadata": {},
     "output_type": "execute_result"
    }
   ],
   "source": [
    "pw.email"
   ]
  },
  {
   "cell_type": "code",
   "execution_count": 4,
   "id": "cebe18c4-ef22-404f-adff-04824459edaf",
   "metadata": {},
   "outputs": [
    {
     "name": "stdout",
     "output_type": "stream",
     "text": [
      "bhavna dorabhavna@gmail.com\n"
     ]
    }
   ],
   "source": [
    "pw.student_details()"
   ]
  },
  {
   "cell_type": "code",
   "execution_count": 7,
   "id": "74cea3c3-d92a-41b1-9185-aa1b6a87b0e6",
   "metadata": {},
   "outputs": [],
   "source": [
    "# Here the variables inside the constructor are called instance variables.\n",
    "# They are accessed by the objects outside class. The object also access the function inside class.\n",
    "# Instead of using init constructor we can use class methods."
   ]
  },
  {
   "cell_type": "markdown",
   "id": "ae9ef2ca-fb67-46f1-94a5-5eb2d60dbd06",
   "metadata": {},
   "source": [
    "##### Using the class method we can access the functions inside class and pass data to the class instead of using init"
   ]
  },
  {
   "cell_type": "code",
   "execution_count": 13,
   "id": "d606575c-78d0-4b44-91a5-e9a9f973d310",
   "metadata": {},
   "outputs": [],
   "source": [
    "class pwskills1:\n",
    "    def __init__(self, name, email):\n",
    "        self.name= name                # name, email are instance variables\n",
    "        self.email= email\n",
    "    \n",
    "    @classmethod                       #classmethod is a decorator, it binds details function to the class\n",
    "    def details(cls, name, email):\n",
    "        return cls(name, email)\n",
    "    \n",
    "    def student_details(self):         # student_details is instance method\n",
    "        print( self.name, self.email)"
   ]
  },
  {
   "cell_type": "code",
   "execution_count": 10,
   "id": "3c789704-4a6d-461d-b9fa-af4ab5ce6152",
   "metadata": {},
   "outputs": [
    {
     "data": {
      "text/plain": [
       "<__main__.pwskills1 at 0x7f366505bc40>"
      ]
     },
     "execution_count": 10,
     "metadata": {},
     "output_type": "execute_result"
    }
   ],
   "source": [
    "pwskills1.details(\"bhavna\",\"dorabhavna@gmail.com\")"
   ]
  },
  {
   "cell_type": "code",
   "execution_count": 12,
   "id": "ae76ff14-4895-4084-a49a-0ac0665c3e70",
   "metadata": {},
   "outputs": [],
   "source": [
    "pw1= pwskills1.details(\"bhavna\",\"dorabhavna@gmail.com\")   # pw1 is a variable of classmethod"
   ]
  },
  {
   "cell_type": "code",
   "execution_count": 15,
   "id": "b36d1c63-2cb9-4747-968b-b486c096fbaf",
   "metadata": {},
   "outputs": [],
   "source": [
    "# pw1.    # on pressing tab after . shows all the functions and variables, pw1 which is a variable of classmethod can access"
   ]
  },
  {
   "cell_type": "code",
   "execution_count": 16,
   "id": "594b812f-bf7c-41ac-b85d-e81c400a3425",
   "metadata": {},
   "outputs": [
    {
     "data": {
      "text/plain": [
       "'bhavna'"
      ]
     },
     "execution_count": 16,
     "metadata": {},
     "output_type": "execute_result"
    }
   ],
   "source": [
    "pw1.name"
   ]
  },
  {
   "cell_type": "code",
   "execution_count": 17,
   "id": "5ef13632-7797-4d99-82ab-edde00e8f073",
   "metadata": {},
   "outputs": [
    {
     "data": {
      "text/plain": [
       "'dorabhavna@gmail.com'"
      ]
     },
     "execution_count": 17,
     "metadata": {},
     "output_type": "execute_result"
    }
   ],
   "source": [
    "pw1.email"
   ]
  },
  {
   "cell_type": "code",
   "execution_count": 18,
   "id": "a59a7015-bbad-4f13-b774-5b9b92df0548",
   "metadata": {},
   "outputs": [],
   "source": [
    "# This is called function overloading because we are able to overload the init method using the classmethod."
   ]
  },
  {
   "cell_type": "code",
   "execution_count": 19,
   "id": "6363f369-e354-4143-992f-37e26c7e7339",
   "metadata": {},
   "outputs": [
    {
     "name": "stdout",
     "output_type": "stream",
     "text": [
      "bhavna dorabhavna@gmail.com\n"
     ]
    }
   ],
   "source": [
    "pw1.student_details()"
   ]
  },
  {
   "cell_type": "code",
   "execution_count": 20,
   "id": "b4b63bd4-e162-4564-a129-688cda093e8c",
   "metadata": {},
   "outputs": [],
   "source": [
    "# How to access a class variable inside the instance methods "
   ]
  },
  {
   "cell_type": "code",
   "execution_count": 34,
   "id": "f7fb79b8-ab9e-43ab-a11f-fec0fb4e7547",
   "metadata": {},
   "outputs": [],
   "source": [
    "class pwskills2:\n",
    "    mobile_number= 9937178241             #class variable\n",
    "    def __init__(self, name, email):\n",
    "        self.name= name                   # name, email are instance variables\n",
    "        self.email= email\n",
    "        \n",
    "    @classmethod                          # classmethod is a decorator\n",
    "    def details(cls, name1, email1):\n",
    "        return cls(name1, email1)\n",
    "    \n",
    "    def student_details(self):            # student_details is instance method\n",
    "        print( self.name, self.email, pwskills2.mobile_number)"
   ]
  },
  {
   "cell_type": "code",
   "execution_count": 22,
   "id": "5471c46f-90c9-43ba-94e2-9b241ddd1e55",
   "metadata": {},
   "outputs": [
    {
     "data": {
      "text/plain": [
       "9937178241"
      ]
     },
     "execution_count": 22,
     "metadata": {},
     "output_type": "execute_result"
    }
   ],
   "source": [
    "pwskills2.mobile_number"
   ]
  },
  {
   "cell_type": "code",
   "execution_count": 25,
   "id": "16d18bdd-f95a-4226-b07d-fc22d4f6747b",
   "metadata": {},
   "outputs": [],
   "source": [
    "pw2_obj= pwskills2(\"bhavna\", \"dorabhavna@gmail.com\")       # pw2_obj is object of class"
   ]
  },
  {
   "cell_type": "code",
   "execution_count": 28,
   "id": "43ac7358-39a5-4063-9d41-41cc4f2f03ff",
   "metadata": {},
   "outputs": [
    {
     "data": {
      "text/plain": [
       "9937178241"
      ]
     },
     "execution_count": 28,
     "metadata": {},
     "output_type": "execute_result"
    }
   ],
   "source": [
    "pw2_obj.mobile_number            # accessing class variable mobile_number using object of class"
   ]
  },
  {
   "cell_type": "code",
   "execution_count": 31,
   "id": "8596b5f3-60d2-406c-a021-824c435f5738",
   "metadata": {},
   "outputs": [
    {
     "name": "stdout",
     "output_type": "stream",
     "text": [
      "bhavna dorabhavna@gmail.com 9937178241\n"
     ]
    }
   ],
   "source": [
    "pw2_obj.student_details()"
   ]
  },
  {
   "cell_type": "code",
   "execution_count": 29,
   "id": "64359dbf-2128-4a27-95d3-46f4e324cb2b",
   "metadata": {},
   "outputs": [],
   "source": [
    "pw2= pwskills2.details(\"bhavna\",\"dorabhavna@gmail.com\")     # pw2 is variable of classmethod"
   ]
  },
  {
   "cell_type": "code",
   "execution_count": 30,
   "id": "831661ef-d0ca-4b09-ad5e-bc85ad86dd15",
   "metadata": {},
   "outputs": [
    {
     "data": {
      "text/plain": [
       "9937178241"
      ]
     },
     "execution_count": 30,
     "metadata": {},
     "output_type": "execute_result"
    }
   ],
   "source": [
    "pw2.mobile_number"
   ]
  },
  {
   "cell_type": "code",
   "execution_count": 32,
   "id": "50bcb53b-156b-453e-8c67-82f14c001fcc",
   "metadata": {},
   "outputs": [
    {
     "name": "stdout",
     "output_type": "stream",
     "text": [
      "bhavna dorabhavna@gmail.com 9937178241\n"
     ]
    }
   ],
   "source": [
    "pw2.student_details()"
   ]
  },
  {
   "cell_type": "code",
   "execution_count": 33,
   "id": "88b21d9d-c520-47dd-9882-0a3cbadec88b",
   "metadata": {},
   "outputs": [],
   "source": [
    "# How to change the mobile number class variable"
   ]
  },
  {
   "cell_type": "code",
   "execution_count": 62,
   "id": "b0980416-aa9a-4aac-8cf8-8145afa69f8e",
   "metadata": {},
   "outputs": [],
   "source": [
    "class pwskills2:\n",
    "    mobile_number= 9937178241\n",
    "    def __init__(self, name, email):\n",
    "        self.name= name\n",
    "        self.email= email\n",
    "        \n",
    "    @classmethod\n",
    "    def details(cls, name1, email1):\n",
    "        return cls(name1, email1)\n",
    "    \n",
    "    @classmethod\n",
    "    def change_number(cls,mobile):\n",
    "        pwskills2.mobile_number= mobile\n",
    "        \n",
    "    def student_details(self):\n",
    "        print(self.name, self.email, pwskills2.mobile_number)\n",
    "        "
   ]
  },
  {
   "cell_type": "code",
   "execution_count": 63,
   "id": "3b64cc48-35a7-4045-b977-c53210aef500",
   "metadata": {},
   "outputs": [
    {
     "data": {
      "text/plain": [
       "9937178241"
      ]
     },
     "execution_count": 63,
     "metadata": {},
     "output_type": "execute_result"
    }
   ],
   "source": [
    "pwskills2.mobile_number"
   ]
  },
  {
   "cell_type": "code",
   "execution_count": 64,
   "id": "c1e4f9e5-f3d6-4f76-b8e8-06cd56f840fa",
   "metadata": {},
   "outputs": [],
   "source": [
    "pwskills2.change_number(123456789)"
   ]
  },
  {
   "cell_type": "code",
   "execution_count": 65,
   "id": "812c0985-ed88-4235-a72e-1dd7afebd664",
   "metadata": {},
   "outputs": [
    {
     "data": {
      "text/plain": [
       "123456789"
      ]
     },
     "execution_count": 65,
     "metadata": {},
     "output_type": "execute_result"
    }
   ],
   "source": [
    "pwskills2.mobile_number"
   ]
  },
  {
   "cell_type": "code",
   "execution_count": 66,
   "id": "a9320be2-87b6-4b79-838e-a26a9600965b",
   "metadata": {},
   "outputs": [],
   "source": [
    "pw2= pwskills2.details(\"sohan\",\"sohan@gmail.com\")             # pw2 is variable of class method"
   ]
  },
  {
   "cell_type": "code",
   "execution_count": 68,
   "id": "3f744da7-a539-4108-9516-a59ffe87163f",
   "metadata": {},
   "outputs": [],
   "source": [
    "pw2.change_number(123400)            # using classmethod variable we can access change_number function"
   ]
  },
  {
   "cell_type": "code",
   "execution_count": 69,
   "id": "0299ce5d-d357-4e94-9681-65daa048d963",
   "metadata": {},
   "outputs": [
    {
     "name": "stdout",
     "output_type": "stream",
     "text": [
      "sohan sohan@gmail.com 123400\n"
     ]
    }
   ],
   "source": [
    "pw2.student_details() "
   ]
  },
  {
   "cell_type": "code",
   "execution_count": 70,
   "id": "0055d7eb-f69b-4415-aaa8-f2e44e645282",
   "metadata": {},
   "outputs": [
    {
     "data": {
      "text/plain": [
       "'sohan'"
      ]
     },
     "execution_count": 70,
     "metadata": {},
     "output_type": "execute_result"
    }
   ],
   "source": [
    "pw2.name                                   "
   ]
  },
  {
   "cell_type": "code",
   "execution_count": 71,
   "id": "9f47c088-2762-49a1-8f61-e22035823787",
   "metadata": {},
   "outputs": [
    {
     "data": {
      "text/plain": [
       "'sohan@gmail.com'"
      ]
     },
     "execution_count": 71,
     "metadata": {},
     "output_type": "execute_result"
    }
   ],
   "source": [
    "pw2.email"
   ]
  },
  {
   "cell_type": "code",
   "execution_count": 72,
   "id": "16f0bb4b-9613-46d8-87a2-a7243b1f82b5",
   "metadata": {},
   "outputs": [],
   "source": [
    "pw2_obj= pwskills2(\"sudh\",\"sudh@gmail.com\")"
   ]
  },
  {
   "cell_type": "code",
   "execution_count": 73,
   "id": "9c3d2393-4d23-45fd-aaae-64b634a6c785",
   "metadata": {},
   "outputs": [],
   "source": [
    "pw2_obj.change_number(987654321)            # using class object we can access change_number function"
   ]
  },
  {
   "cell_type": "code",
   "execution_count": 74,
   "id": "a4a22cc0-4a16-49d9-8553-0cae79fc4e5e",
   "metadata": {},
   "outputs": [
    {
     "name": "stdout",
     "output_type": "stream",
     "text": [
      "sudh sudh@gmail.com 987654321\n"
     ]
    }
   ],
   "source": [
    "pw2_obj.student_details()"
   ]
  },
  {
   "cell_type": "code",
   "execution_count": 75,
   "id": "24b40252-605c-4f17-8d80-1ec0e58ca002",
   "metadata": {},
   "outputs": [
    {
     "data": {
      "text/plain": [
       "'sudh'"
      ]
     },
     "execution_count": 75,
     "metadata": {},
     "output_type": "execute_result"
    }
   ],
   "source": [
    "pw2_obj.name"
   ]
  },
  {
   "cell_type": "code",
   "execution_count": 76,
   "id": "15c6ce87-e89d-4785-9a6a-0820752397cb",
   "metadata": {},
   "outputs": [
    {
     "data": {
      "text/plain": [
       "'sudh@gmail.com'"
      ]
     },
     "execution_count": 76,
     "metadata": {},
     "output_type": "execute_result"
    }
   ],
   "source": [
    "pw2_obj.email"
   ]
  },
  {
   "cell_type": "code",
   "execution_count": 77,
   "id": "4c432e1d-a81d-408a-93ef-88f3b3ad69e6",
   "metadata": {},
   "outputs": [],
   "source": [
    "pw2_obj= pwskills2(\"sudh\",\"sudh@gmail.com\")"
   ]
  },
  {
   "cell_type": "code",
   "execution_count": 78,
   "id": "5228fe10-4b13-4dc5-a38d-76f580bdf726",
   "metadata": {},
   "outputs": [
    {
     "data": {
      "text/plain": [
       "<__main__.pwskills2 at 0x7f36655bf520>"
      ]
     },
     "execution_count": 78,
     "metadata": {},
     "output_type": "execute_result"
    }
   ],
   "source": [
    "pw2_obj.details(\"mohan\",\"mohan@gmail.com\")"
   ]
  },
  {
   "cell_type": "code",
   "execution_count": 79,
   "id": "3635c507-2a22-4569-b2f3-c2c55ab2af79",
   "metadata": {},
   "outputs": [
    {
     "data": {
      "text/plain": [
       "'sudh'"
      ]
     },
     "execution_count": 79,
     "metadata": {},
     "output_type": "execute_result"
    }
   ],
   "source": [
    "pw2_obj.name"
   ]
  },
  {
   "cell_type": "code",
   "execution_count": 80,
   "id": "f550334d-d381-4e28-9b26-e6949caf5f0d",
   "metadata": {},
   "outputs": [
    {
     "data": {
      "text/plain": [
       "'sudh@gmail.com'"
      ]
     },
     "execution_count": 80,
     "metadata": {},
     "output_type": "execute_result"
    }
   ],
   "source": [
    "pw2_obj.email"
   ]
  },
  {
   "cell_type": "code",
   "execution_count": 1,
   "id": "b00eceb0-e26a-4851-9c95-006af58e9c39",
   "metadata": {},
   "outputs": [],
   "source": [
    "#even though we are able to access the classmethod using class object but it gives the O/P as the data passed through constructor\n",
    "# class method is global so it is accessed by all class objects"
   ]
  },
  {
   "cell_type": "code",
   "execution_count": 97,
   "id": "4b9baa70-8d03-41d7-94f5-237c8082171a",
   "metadata": {},
   "outputs": [],
   "source": [
    "# Adding external function to class # we can add any no. of external functions to class using classmethod() function\n",
    "\n",
    "class pwskills3:\n",
    "    mobile_number= 9937178241\n",
    "    def __init__(self, name, email):\n",
    "        self.name= name\n",
    "        self.email= email\n",
    "        \n",
    "    @classmethod\n",
    "    def details(cls,name1,email1):\n",
    "        return cls(name1,email1)\n",
    "    \n",
    "    @classmethod\n",
    "    def change_number(cls, mobile):\n",
    "        pwskills3.mobile_number= mobile\n",
    "        \n",
    "    def student_details(self):\n",
    "        print( self.name, self.email, pwskills3.mobile_number)\n",
    "        \n",
    "        \n",
    "def course_details(cls, course_name):\n",
    "    print(\"course details are\", course_name)"
   ]
  },
  {
   "cell_type": "code",
   "execution_count": 86,
   "id": "5d7a2c76-0ed3-49fa-a793-767af8177bc4",
   "metadata": {},
   "outputs": [],
   "source": [
    "pwskills3.course_details= classmethod(course_details)"
   ]
  },
  {
   "cell_type": "code",
   "execution_count": 87,
   "id": "18232203-de0d-43c9-a116-3dfac8a2c375",
   "metadata": {},
   "outputs": [],
   "source": [
    "# pwskills3.   # After pressing tab after . we can see course_details external function is added inside class pwskillls3"
   ]
  },
  {
   "cell_type": "code",
   "execution_count": 88,
   "id": "fa421967-da03-4aef-97e8-577cebf80350",
   "metadata": {},
   "outputs": [
    {
     "name": "stdout",
     "output_type": "stream",
     "text": [
      "course details are Data science masters\n"
     ]
    }
   ],
   "source": [
    "pwskills3.course_details(\"Data science masters\")"
   ]
  },
  {
   "cell_type": "code",
   "execution_count": 89,
   "id": "c9cfa2de-a084-4038-91b4-f04c22b00caf",
   "metadata": {},
   "outputs": [],
   "source": [
    "pw3= pwskills3.details(\"bhavna\",\"dorabhavna@gmail.com\")"
   ]
  },
  {
   "cell_type": "code",
   "execution_count": 90,
   "id": "c16c258b-3306-4d39-9a16-dc41394bc231",
   "metadata": {},
   "outputs": [
    {
     "name": "stdout",
     "output_type": "stream",
     "text": [
      "bhavna dorabhavna@gmail.com 9937178241\n"
     ]
    }
   ],
   "source": [
    "pw3.student_details()"
   ]
  },
  {
   "cell_type": "code",
   "execution_count": 93,
   "id": "b8ed0274-3167-4115-ac62-57ad142b27cb",
   "metadata": {},
   "outputs": [
    {
     "name": "stdout",
     "output_type": "stream",
     "text": [
      "course details are DSM\n"
     ]
    }
   ],
   "source": [
    "pw3.course_details(\"DSM\")    # using classmethod variable we can access the external function after it gets added into class"
   ]
  },
  {
   "cell_type": "code",
   "execution_count": 94,
   "id": "51bdece6-4efa-4c6b-8e57-e21c24a43b5b",
   "metadata": {},
   "outputs": [],
   "source": [
    "pw3_obj= pwskills3(\"bhavna\",\"dorabhavna@gmail.com\")"
   ]
  },
  {
   "cell_type": "code",
   "execution_count": 95,
   "id": "5788c102-fb78-44a2-84ed-1c36fed27ea4",
   "metadata": {},
   "outputs": [
    {
     "name": "stdout",
     "output_type": "stream",
     "text": [
      "bhavna dorabhavna@gmail.com 9937178241\n"
     ]
    }
   ],
   "source": [
    "pw3_obj.student_details()"
   ]
  },
  {
   "cell_type": "code",
   "execution_count": 96,
   "id": "6d0f57b5-6c35-4e1f-933c-89cdb26c104c",
   "metadata": {},
   "outputs": [
    {
     "name": "stdout",
     "output_type": "stream",
     "text": [
      "course details are Data science masters\n"
     ]
    }
   ],
   "source": [
    "pw3_obj.course_details(\"Data science masters\")"
   ]
  },
  {
   "cell_type": "code",
   "execution_count": 98,
   "id": "6a595008-916a-457e-90ae-de09527a3795",
   "metadata": {},
   "outputs": [],
   "source": [
    "# Deletion-\n",
    "\n",
    "class pwskills4:\n",
    "    mobile_number= 9937178241\n",
    "    def __init__(self, name, email):\n",
    "        self.name= name\n",
    "        self.email= email\n",
    "        \n",
    "    @classmethod\n",
    "    def details(cls,name1,email1):\n",
    "        return cls(name1,email1)\n",
    "    \n",
    "    @classmethod\n",
    "    def change_number(cls, mobile):\n",
    "        pwskills4.mobile_number= mobile\n",
    "        \n",
    "    def student_details(self):\n",
    "        print( self.name, self.email, pwskills4.mobile_number)\n",
    "        "
   ]
  },
  {
   "cell_type": "code",
   "execution_count": 99,
   "id": "23be21b9-1b5a-4ccf-a444-b3e2e19d7439",
   "metadata": {},
   "outputs": [],
   "source": [
    "del pwskills4.change_number"
   ]
  },
  {
   "cell_type": "code",
   "execution_count": 100,
   "id": "f4ed31c0-4202-4072-b3f1-80f3d5e09825",
   "metadata": {},
   "outputs": [
    {
     "ename": "AttributeError",
     "evalue": "type object 'pwskills4' has no attribute 'change_number'",
     "output_type": "error",
     "traceback": [
      "\u001b[0;31m---------------------------------------------------------------------------\u001b[0m",
      "\u001b[0;31mAttributeError\u001b[0m                            Traceback (most recent call last)",
      "Cell \u001b[0;32mIn[100], line 1\u001b[0m\n\u001b[0;32m----> 1\u001b[0m \u001b[43mpwskills4\u001b[49m\u001b[38;5;241;43m.\u001b[39;49m\u001b[43mchange_number\u001b[49m(\u001b[38;5;241m123456\u001b[39m)\n",
      "\u001b[0;31mAttributeError\u001b[0m: type object 'pwskills4' has no attribute 'change_number'"
     ]
    }
   ],
   "source": [
    "pwskills4.change_number(123456)"
   ]
  },
  {
   "cell_type": "code",
   "execution_count": 101,
   "id": "3d1d4de7-b27b-42c8-b31f-32054be3ac4a",
   "metadata": {},
   "outputs": [],
   "source": [
    "delattr(pwskills4, \"mobile_number\")"
   ]
  },
  {
   "cell_type": "code",
   "execution_count": 102,
   "id": "16424826-8514-4aa0-98b4-738710a199b5",
   "metadata": {},
   "outputs": [
    {
     "ename": "AttributeError",
     "evalue": "type object 'pwskills4' has no attribute 'mobile_number'",
     "output_type": "error",
     "traceback": [
      "\u001b[0;31m---------------------------------------------------------------------------\u001b[0m",
      "\u001b[0;31mAttributeError\u001b[0m                            Traceback (most recent call last)",
      "Cell \u001b[0;32mIn[102], line 1\u001b[0m\n\u001b[0;32m----> 1\u001b[0m \u001b[43mpwskills4\u001b[49m\u001b[38;5;241;43m.\u001b[39;49m\u001b[43mmobile_number\u001b[49m\n",
      "\u001b[0;31mAttributeError\u001b[0m: type object 'pwskills4' has no attribute 'mobile_number'"
     ]
    }
   ],
   "source": [
    "pwskills4.mobile_number"
   ]
  },
  {
   "cell_type": "code",
   "execution_count": 103,
   "id": "a6530ef8-ed3d-4d90-be59-0f33ee417812",
   "metadata": {},
   "outputs": [],
   "source": [
    "delattr(pwskills4, \"details\")"
   ]
  },
  {
   "cell_type": "code",
   "execution_count": 104,
   "id": "10678292-bf11-42f7-af8a-1f7272de995f",
   "metadata": {},
   "outputs": [
    {
     "ename": "AttributeError",
     "evalue": "type object 'pwskills4' has no attribute 'details'",
     "output_type": "error",
     "traceback": [
      "\u001b[0;31m---------------------------------------------------------------------------\u001b[0m",
      "\u001b[0;31mAttributeError\u001b[0m                            Traceback (most recent call last)",
      "Cell \u001b[0;32mIn[104], line 1\u001b[0m\n\u001b[0;32m----> 1\u001b[0m \u001b[43mpwskills4\u001b[49m\u001b[38;5;241;43m.\u001b[39;49m\u001b[43mdetails\u001b[49m(\u001b[38;5;124m\"\u001b[39m\u001b[38;5;124mbhavna\u001b[39m\u001b[38;5;124m\"\u001b[39m,\u001b[38;5;124m\"\u001b[39m\u001b[38;5;124mdorabhavna@gmail.com\u001b[39m\u001b[38;5;124m\"\u001b[39m)\n",
      "\u001b[0;31mAttributeError\u001b[0m: type object 'pwskills4' has no attribute 'details'"
     ]
    }
   ],
   "source": [
    "pwskills4.details(\"bhavna\",\"dorabhavna@gmail.com\")"
   ]
  },
  {
   "cell_type": "markdown",
   "id": "11811817-6522-4302-b79d-8a11c5fc2ca4",
   "metadata": {},
   "source": [
    "#### Static Methods"
   ]
  },
  {
   "cell_type": "code",
   "execution_count": 2,
   "id": "7c40b2f8-547f-473c-be4f-b89e1d3196b0",
   "metadata": {},
   "outputs": [],
   "source": [
    "class pwskills:\n",
    "    def student_details(self, name, mail_id, number):           # instance method\n",
    "        print(name, mail_id, number)\n",
    "        "
   ]
  },
  {
   "cell_type": "code",
   "execution_count": 5,
   "id": "7dc440af-92ef-4785-b555-ca7a9fea5579",
   "metadata": {},
   "outputs": [],
   "source": [
    "pw= pwskills()       # object of class pwskills"
   ]
  },
  {
   "cell_type": "code",
   "execution_count": 4,
   "id": "dbab1b7a-e967-4aba-956a-2a5b213de445",
   "metadata": {},
   "outputs": [
    {
     "name": "stdout",
     "output_type": "stream",
     "text": [
      "bhavna bhavna@gmail.com 9937178241\n"
     ]
    }
   ],
   "source": [
    "pw.student_details(\"bhavna\",\"bhavna@gmail.com\",9937178241)"
   ]
  },
  {
   "cell_type": "markdown",
   "id": "461196b0-0bf8-4f8f-8ff7-5aaeb0ee72c5",
   "metadata": {},
   "source": [
    "##### So, if we create 10 or million such objects for the class, the instance method gets created every time because instance method is specific to object. Memory consumption is high. But if we have a function that is not specific to object but specific to class then it won't get created every time a new object is created. This is called static method. Static method is created once and can be used by any no. of objects of the class."
   ]
  },
  {
   "cell_type": "code",
   "execution_count": 12,
   "id": "094c332b-7b53-48a0-b88e-a516d5e61c22",
   "metadata": {},
   "outputs": [],
   "source": [
    "class pwskills1:\n",
    "    def student_details(self, name, mail_id, number):      # instance method\n",
    "        print(name, mail_id, number)\n",
    "        \n",
    "    @staticmethod\n",
    "    def mentor_details(mentor_list):                      # staticmethod\n",
    "        print(mentor_list)\n",
    "        \n",
    "    def mentor(self,mentor_list):                               # instance method\n",
    "        print(mentor_list)"
   ]
  },
  {
   "cell_type": "code",
   "execution_count": 13,
   "id": "1ddbb858-6716-436c-8a13-58c1fee6fea9",
   "metadata": {},
   "outputs": [
    {
     "name": "stdout",
     "output_type": "stream",
     "text": [
      "['krish', 'sudhansu']\n"
     ]
    }
   ],
   "source": [
    "#accessing the static method directly by using class name-\n",
    "pwskills1.mentor_details([\"krish\",\"sudhansu\"])"
   ]
  },
  {
   "cell_type": "code",
   "execution_count": 14,
   "id": "5db9cc74-25fa-41d4-bbe6-40cb1d7f8888",
   "metadata": {},
   "outputs": [
    {
     "name": "stdout",
     "output_type": "stream",
     "text": [
      "['krish', 'sudhansu']\n"
     ]
    }
   ],
   "source": [
    "#accessing static method by object of class-\n",
    "pw1= pwskills1()\n",
    "pw1.mentor_details([\"krish\",\"sudhansu\"])"
   ]
  },
  {
   "cell_type": "code",
   "execution_count": 15,
   "id": "21820fdf-4a9e-4125-89b8-3607c61fc18a",
   "metadata": {},
   "outputs": [
    {
     "name": "stdout",
     "output_type": "stream",
     "text": [
      "['krish', 'sudhansu']\n"
     ]
    }
   ],
   "source": [
    "pw1.mentor([\"krish\",\"sudhansu\"])     # mentor() is an instance method so for any no. of objects of class created the instance method will also be instantiated that many times"
   ]
  },
  {
   "cell_type": "code",
   "execution_count": 16,
   "id": "ab23edff-86f7-41c2-bd66-c4cc220a5d6c",
   "metadata": {},
   "outputs": [],
   "source": [
    "# Accessing static method inside instance method, class method and another static method"
   ]
  },
  {
   "cell_type": "code",
   "execution_count": 17,
   "id": "60d70e16-64fa-4449-a0e6-7c711f42c8e7",
   "metadata": {},
   "outputs": [],
   "source": [
    "class pwskills2:\n",
    "    def student_details(self, name, mail_id, number):           #instance method\n",
    "        print(name, mail_id, number)\n",
    "        \n",
    "    @staticmethod\n",
    "    def mentor_details(mentor_list):                         #static method\n",
    "        print(mentor_list)\n",
    "        \n",
    "    def mentor(self,mentor_list):                            #instance method\n",
    "        print(mentor_list)\n",
    "        self.mentor_details([\"krish\",\"sudhansu\"])\n",
    "        \n",
    "    @staticmethod\n",
    "    def mentor_mail_id(mail_id):                            # static method\n",
    "        print(mail_id)\n",
    "        pwskills2.mentor_details([\"krish\",\"sudhansu\"])\n",
    "        \n",
    "    @classmethod\n",
    "    def class_name(cls, name):                             # class method\n",
    "        print(name)\n",
    "        cls.mentor_details([\"krish\",\"sudhansu\"])\n",
    "        cls.mentor_mail_id([\"krish@gmail.com\",\"sudh@gmail.com\"])"
   ]
  },
  {
   "cell_type": "code",
   "execution_count": 19,
   "id": "df21700b-5bb0-4646-a653-3d29d54b6b72",
   "metadata": {},
   "outputs": [
    {
     "name": "stdout",
     "output_type": "stream",
     "text": [
      "['krish', 'sudhansu']\n"
     ]
    }
   ],
   "source": [
    "#Accessing static method directly using class name\n",
    "pwskills2.mentor_details([\"krish\",\"sudhansu\"])"
   ]
  },
  {
   "cell_type": "code",
   "execution_count": 20,
   "id": "86cfbcc2-1f23-4cc2-bd9d-f55044733497",
   "metadata": {},
   "outputs": [
    {
     "name": "stdout",
     "output_type": "stream",
     "text": [
      "['krish@gmail.com', 'sudh@gmail.com']\n",
      "['krish', 'sudhansu']\n"
     ]
    }
   ],
   "source": [
    "pwskills2.mentor_mail_id([\"krish@gmail.com\",\"sudh@gmail.com\"])"
   ]
  },
  {
   "cell_type": "code",
   "execution_count": 21,
   "id": "e74ca04e-4fd2-4815-9221-45c5a81f95fa",
   "metadata": {},
   "outputs": [],
   "source": [
    "pw2= pwskills2()     # pw2 is object of class pwskills2"
   ]
  },
  {
   "cell_type": "code",
   "execution_count": 22,
   "id": "98fd3710-493d-40ef-ba56-a75d9e281162",
   "metadata": {},
   "outputs": [
    {
     "name": "stdout",
     "output_type": "stream",
     "text": [
      "bhavna bhavna@gmail.com 12345\n"
     ]
    }
   ],
   "source": [
    "pw2.student_details(\"bhavna\",\"bhavna@gmail.com\",12345)"
   ]
  },
  {
   "cell_type": "code",
   "execution_count": 23,
   "id": "7489ac7d-d8ff-4d34-b35c-799cabb786e7",
   "metadata": {},
   "outputs": [
    {
     "name": "stdout",
     "output_type": "stream",
     "text": [
      "['krish', 'sudhansu']\n"
     ]
    }
   ],
   "source": [
    "pw2.mentor_details([\"krish\",\"sudhansu\"])"
   ]
  },
  {
   "cell_type": "code",
   "execution_count": 24,
   "id": "80aabd52-f222-4a96-bde0-755ca3d75d32",
   "metadata": {},
   "outputs": [
    {
     "name": "stdout",
     "output_type": "stream",
     "text": [
      "['krish', 'sudhansu']\n",
      "['krish', 'sudhansu']\n"
     ]
    }
   ],
   "source": [
    "pw2.mentor([\"krish\",\"sudhansu\"])"
   ]
  },
  {
   "cell_type": "code",
   "execution_count": 25,
   "id": "9a1d9b4e-983f-4db4-90e8-e3cff5662c1d",
   "metadata": {},
   "outputs": [
    {
     "name": "stdout",
     "output_type": "stream",
     "text": [
      "['krish@gmail.com', 'sudh@gmail.com']\n",
      "['krish', 'sudhansu']\n"
     ]
    }
   ],
   "source": [
    "pw2.mentor_mail_id([\"krish@gmail.com\",\"sudh@gmail.com\"])"
   ]
  },
  {
   "cell_type": "code",
   "execution_count": 26,
   "id": "727929a8-ea9e-41fd-9612-aea56f73d439",
   "metadata": {},
   "outputs": [
    {
     "name": "stdout",
     "output_type": "stream",
     "text": [
      "DSM\n",
      "['krish', 'sudhansu']\n",
      "['krish@gmail.com', 'sudh@gmail.com']\n",
      "['krish', 'sudhansu']\n"
     ]
    }
   ],
   "source": [
    "pw2.class_name(\"DSM\")"
   ]
  },
  {
   "cell_type": "markdown",
   "id": "864ed8f8-009c-4da4-a8f8-eaf8206f7db4",
   "metadata": {},
   "source": [
    "#### Special (Magic or Dunder) methods"
   ]
  },
  {
   "cell_type": "code",
   "execution_count": 6,
   "id": "cb95fe5c-dbec-45fe-b323-e36487fc856c",
   "metadata": {},
   "outputs": [
    {
     "data": {
      "text/plain": [
       "['__abs__',\n",
       " '__add__',\n",
       " '__and__',\n",
       " '__bool__',\n",
       " '__ceil__',\n",
       " '__class__',\n",
       " '__delattr__',\n",
       " '__dir__',\n",
       " '__divmod__',\n",
       " '__doc__',\n",
       " '__eq__',\n",
       " '__float__',\n",
       " '__floor__',\n",
       " '__floordiv__',\n",
       " '__format__',\n",
       " '__ge__',\n",
       " '__getattribute__',\n",
       " '__getnewargs__',\n",
       " '__gt__',\n",
       " '__hash__',\n",
       " '__index__',\n",
       " '__init__',\n",
       " '__init_subclass__',\n",
       " '__int__',\n",
       " '__invert__',\n",
       " '__le__',\n",
       " '__lshift__',\n",
       " '__lt__',\n",
       " '__mod__',\n",
       " '__mul__',\n",
       " '__ne__',\n",
       " '__neg__',\n",
       " '__new__',\n",
       " '__or__',\n",
       " '__pos__',\n",
       " '__pow__',\n",
       " '__radd__',\n",
       " '__rand__',\n",
       " '__rdivmod__',\n",
       " '__reduce__',\n",
       " '__reduce_ex__',\n",
       " '__repr__',\n",
       " '__rfloordiv__',\n",
       " '__rlshift__',\n",
       " '__rmod__',\n",
       " '__rmul__',\n",
       " '__ror__',\n",
       " '__round__',\n",
       " '__rpow__',\n",
       " '__rrshift__',\n",
       " '__rshift__',\n",
       " '__rsub__',\n",
       " '__rtruediv__',\n",
       " '__rxor__',\n",
       " '__setattr__',\n",
       " '__sizeof__',\n",
       " '__str__',\n",
       " '__sub__',\n",
       " '__subclasshook__',\n",
       " '__truediv__',\n",
       " '__trunc__',\n",
       " '__xor__',\n",
       " 'as_integer_ratio',\n",
       " 'bit_count',\n",
       " 'bit_length',\n",
       " 'conjugate',\n",
       " 'denominator',\n",
       " 'from_bytes',\n",
       " 'imag',\n",
       " 'numerator',\n",
       " 'real',\n",
       " 'to_bytes']"
      ]
     },
     "execution_count": 6,
     "metadata": {},
     "output_type": "execute_result"
    }
   ],
   "source": [
    "dir(int)         #gives a list of all functions associated with integer. These functions are called as magic or dunder methods."
   ]
  },
  {
   "cell_type": "code",
   "execution_count": 2,
   "id": "24cf76c7-1b9d-4962-9000-4fd69ecd36b1",
   "metadata": {},
   "outputs": [],
   "source": [
    "a=10"
   ]
  },
  {
   "cell_type": "code",
   "execution_count": 3,
   "id": "85426f49-5555-4675-880b-98b1a9909d7f",
   "metadata": {},
   "outputs": [
    {
     "data": {
      "text/plain": [
       "16"
      ]
     },
     "execution_count": 3,
     "metadata": {},
     "output_type": "execute_result"
    }
   ],
   "source": [
    "a+6"
   ]
  },
  {
   "cell_type": "code",
   "execution_count": 4,
   "id": "e9f39cdb-9166-44cf-a620-d4f534c3e6a0",
   "metadata": {},
   "outputs": [
    {
     "data": {
      "text/plain": [
       "16"
      ]
     },
     "execution_count": 4,
     "metadata": {},
     "output_type": "execute_result"
    }
   ],
   "source": [
    "#we can do this using the magic method too\n",
    "# when we give + operator system always calls the magic/dunder method __add__ internally\n",
    "\n",
    "a.__add__(6)"
   ]
  },
  {
   "cell_type": "code",
   "execution_count": 7,
   "id": "a2202dfd-07c5-4249-8f65-4802c5bfb5b6",
   "metadata": {},
   "outputs": [
    {
     "data": {
      "text/plain": [
       "['__add__',\n",
       " '__class__',\n",
       " '__contains__',\n",
       " '__delattr__',\n",
       " '__dir__',\n",
       " '__doc__',\n",
       " '__eq__',\n",
       " '__format__',\n",
       " '__ge__',\n",
       " '__getattribute__',\n",
       " '__getitem__',\n",
       " '__getnewargs__',\n",
       " '__gt__',\n",
       " '__hash__',\n",
       " '__init__',\n",
       " '__init_subclass__',\n",
       " '__iter__',\n",
       " '__le__',\n",
       " '__len__',\n",
       " '__lt__',\n",
       " '__mod__',\n",
       " '__mul__',\n",
       " '__ne__',\n",
       " '__new__',\n",
       " '__reduce__',\n",
       " '__reduce_ex__',\n",
       " '__repr__',\n",
       " '__rmod__',\n",
       " '__rmul__',\n",
       " '__setattr__',\n",
       " '__sizeof__',\n",
       " '__str__',\n",
       " '__subclasshook__',\n",
       " 'capitalize',\n",
       " 'casefold',\n",
       " 'center',\n",
       " 'count',\n",
       " 'encode',\n",
       " 'endswith',\n",
       " 'expandtabs',\n",
       " 'find',\n",
       " 'format',\n",
       " 'format_map',\n",
       " 'index',\n",
       " 'isalnum',\n",
       " 'isalpha',\n",
       " 'isascii',\n",
       " 'isdecimal',\n",
       " 'isdigit',\n",
       " 'isidentifier',\n",
       " 'islower',\n",
       " 'isnumeric',\n",
       " 'isprintable',\n",
       " 'isspace',\n",
       " 'istitle',\n",
       " 'isupper',\n",
       " 'join',\n",
       " 'ljust',\n",
       " 'lower',\n",
       " 'lstrip',\n",
       " 'maketrans',\n",
       " 'partition',\n",
       " 'removeprefix',\n",
       " 'removesuffix',\n",
       " 'replace',\n",
       " 'rfind',\n",
       " 'rindex',\n",
       " 'rjust',\n",
       " 'rpartition',\n",
       " 'rsplit',\n",
       " 'rstrip',\n",
       " 'split',\n",
       " 'splitlines',\n",
       " 'startswith',\n",
       " 'strip',\n",
       " 'swapcase',\n",
       " 'title',\n",
       " 'translate',\n",
       " 'upper',\n",
       " 'zfill']"
      ]
     },
     "execution_count": 7,
     "metadata": {},
     "output_type": "execute_result"
    }
   ],
   "source": [
    "dir(str)      # gives a list of all functions associated with string. These functions are called magic/dunder methods"
   ]
  },
  {
   "cell_type": "code",
   "execution_count": 9,
   "id": "c9590115-5565-4240-98e6-49eea3526e01",
   "metadata": {},
   "outputs": [
    {
     "name": "stdout",
     "output_type": "stream",
     "text": [
      "this is my init\n"
     ]
    }
   ],
   "source": [
    "class pwskills:\n",
    "    def __init__(self):      # init is a dunder method too\n",
    "        print(\"this is my init\")\n",
    "        \n",
    "pw= pwskills()        # when an object is created the system by default calls init and thus print statement comes as output"
   ]
  },
  {
   "cell_type": "code",
   "execution_count": 10,
   "id": "dfee5d5a-7116-4107-8b96-d7a606fcf49f",
   "metadata": {},
   "outputs": [],
   "source": [
    "# but before init, the system calls another magic method new while object is created"
   ]
  },
  {
   "cell_type": "code",
   "execution_count": 12,
   "id": "69601bc7-baf1-410a-baeb-f329084a926d",
   "metadata": {},
   "outputs": [
    {
     "name": "stdout",
     "output_type": "stream",
     "text": [
      "this is my new\n"
     ]
    }
   ],
   "source": [
    "class pwskills:\n",
    "    def __new__(cls): \n",
    "        print(\"this is my new\")\n",
    "        \n",
    "    def __init__(self):\n",
    "        print(\"this is my init\")\n",
    "        \n",
    "\n",
    "pw= pwskills()       # the system calls new before init"
   ]
  },
  {
   "cell_type": "code",
   "execution_count": 14,
   "id": "fb51e896-8506-48a8-ad01-f25340b53f79",
   "metadata": {},
   "outputs": [],
   "source": [
    "class pwskills1:\n",
    "    def __init__(self):\n",
    "        self.mobile_number= 123456\n",
    "        \n",
    "pw1= pwskills1()"
   ]
  },
  {
   "cell_type": "code",
   "execution_count": 16,
   "id": "74f33f8f-32d8-4a70-85a1-018fdc1e1c39",
   "metadata": {},
   "outputs": [
    {
     "data": {
      "text/plain": [
       "<__main__.pwskills1 at 0x7f37c43dc2e0>"
      ]
     },
     "execution_count": 16,
     "metadata": {},
     "output_type": "execute_result"
    }
   ],
   "source": [
    "pw1        # output shows the object of class pwskills1 is created at some memory location"
   ]
  },
  {
   "cell_type": "code",
   "execution_count": 17,
   "id": "8275f58a-9f2d-4e57-b193-a03a00673c4e",
   "metadata": {},
   "outputs": [
    {
     "name": "stdout",
     "output_type": "stream",
     "text": [
      "<__main__.pwskills1 object at 0x7f37c43dc2e0>\n"
     ]
    }
   ],
   "source": [
    "print(pw1)"
   ]
  },
  {
   "cell_type": "code",
   "execution_count": 18,
   "id": "cc187691-80c1-46f8-a0c2-112beb3af022",
   "metadata": {},
   "outputs": [],
   "source": [
    "class pwskills1:\n",
    "    def __init__(self):\n",
    "        self.mobile_number= 123456\n",
    "        \n",
    "    def __str__(self):          # str is a magic method\n",
    "        return \"this is a magic method which will print something for object\"\n",
    "        "
   ]
  },
  {
   "cell_type": "code",
   "execution_count": 19,
   "id": "d52573c1-9875-41ba-8caa-947fc1b2be66",
   "metadata": {},
   "outputs": [],
   "source": [
    "pw1= pwskills1()    "
   ]
  },
  {
   "cell_type": "code",
   "execution_count": 20,
   "id": "a040e09c-9b74-4767-ab73-baebf2e38bdc",
   "metadata": {},
   "outputs": [
    {
     "data": {
      "text/plain": [
       "<__main__.pwskills1 at 0x7f37c4229f30>"
      ]
     },
     "execution_count": 20,
     "metadata": {},
     "output_type": "execute_result"
    }
   ],
   "source": [
    "pw1"
   ]
  },
  {
   "cell_type": "code",
   "execution_count": 21,
   "id": "75a4ac02-bce1-42e6-9ce5-9aa1df6caefb",
   "metadata": {},
   "outputs": [
    {
     "name": "stdout",
     "output_type": "stream",
     "text": [
      "this is a magic method which will print something for object\n"
     ]
    }
   ],
   "source": [
    "print(pw1)"
   ]
  },
  {
   "cell_type": "code",
   "execution_count": 22,
   "id": "4d84fff1-7c64-4ef5-9807-926f6062aa89",
   "metadata": {},
   "outputs": [],
   "source": [
    "#with the help of magic method we are able to override the earlier output where when we printed pw1, it showed memeory location"
   ]
  },
  {
   "cell_type": "markdown",
   "id": "7b8cdfcb-24bf-4fe3-aad5-b3989d2340ad",
   "metadata": {},
   "source": [
    "#### Property decorators- getters, setters, deleters"
   ]
  },
  {
   "cell_type": "code",
   "execution_count": 1,
   "id": "b65acf60-4a48-4ce5-80bb-9bb2f49c890c",
   "metadata": {},
   "outputs": [],
   "source": [
    "class pwskills:\n",
    "    def __init__(self, course_price, course_name):\n",
    "        self.__course_price= course_price       # making course_price variable pvt\n",
    "        self.course_name= course_name\n",
    "        "
   ]
  },
  {
   "cell_type": "code",
   "execution_count": 2,
   "id": "e7c5852e-ec7f-4d2b-b6f1-5c66b3198e4b",
   "metadata": {},
   "outputs": [],
   "source": [
    "pw= pwskills(3500, \"DSM\")"
   ]
  },
  {
   "cell_type": "code",
   "execution_count": 3,
   "id": "916d68e0-efdf-4b18-a20f-ceb4666ed8eb",
   "metadata": {},
   "outputs": [
    {
     "data": {
      "text/plain": [
       "'DSM'"
      ]
     },
     "execution_count": 3,
     "metadata": {},
     "output_type": "execute_result"
    }
   ],
   "source": [
    "pw.course_name"
   ]
  },
  {
   "cell_type": "code",
   "execution_count": 4,
   "id": "a66d26f9-38d3-499f-998d-2575b83e15cb",
   "metadata": {},
   "outputs": [
    {
     "ename": "AttributeError",
     "evalue": "'pwskills' object has no attribute 'course_price'",
     "output_type": "error",
     "traceback": [
      "\u001b[0;31m---------------------------------------------------------------------------\u001b[0m",
      "\u001b[0;31mAttributeError\u001b[0m                            Traceback (most recent call last)",
      "Cell \u001b[0;32mIn[4], line 1\u001b[0m\n\u001b[0;32m----> 1\u001b[0m \u001b[43mpw\u001b[49m\u001b[38;5;241;43m.\u001b[39;49m\u001b[43mcourse_price\u001b[49m\n",
      "\u001b[0;31mAttributeError\u001b[0m: 'pwskills' object has no attribute 'course_price'"
     ]
    }
   ],
   "source": [
    "pw.course_price"
   ]
  },
  {
   "cell_type": "code",
   "execution_count": 5,
   "id": "49c8fe85-2e10-44b2-9936-012257b73313",
   "metadata": {},
   "outputs": [
    {
     "data": {
      "text/plain": [
       "3500"
      ]
     },
     "execution_count": 5,
     "metadata": {},
     "output_type": "execute_result"
    }
   ],
   "source": [
    "# the creator of program can access pvt. variable like this-\n",
    "pw._pwskills__course_price"
   ]
  },
  {
   "cell_type": "markdown",
   "id": "9a38f367-c28c-4bc0-b0f9-87a231bde034",
   "metadata": {},
   "source": [
    "##### To make the pvt variable accessible to users we will use property decorator which makes available the properties of class which are pvt to the users"
   ]
  },
  {
   "cell_type": "code",
   "execution_count": 6,
   "id": "78a1f36e-4eb6-4ca2-92ef-ab1de4b1648b",
   "metadata": {},
   "outputs": [],
   "source": [
    "class pwskills1:\n",
    "    def __init__(self, course_price, course_name):\n",
    "        self.__course_price= course_price\n",
    "        self.course_name= course_name\n",
    "        \n",
    "    @property            # property is a decorator which makes the pvt variable accessible\n",
    "    def course_price_access(self):\n",
    "        return self.__course_price"
   ]
  },
  {
   "cell_type": "code",
   "execution_count": 7,
   "id": "198d881f-413c-45df-9126-6855045921d1",
   "metadata": {},
   "outputs": [],
   "source": [
    "pw1= pwskills1(3500, \"DSM\")"
   ]
  },
  {
   "cell_type": "code",
   "execution_count": 8,
   "id": "f168438c-e2eb-4786-bbb7-ccc8a0279efc",
   "metadata": {},
   "outputs": [
    {
     "data": {
      "text/plain": [
       "3500"
      ]
     },
     "execution_count": 8,
     "metadata": {},
     "output_type": "execute_result"
    }
   ],
   "source": [
    "pw1.course_price_access"
   ]
  },
  {
   "cell_type": "markdown",
   "id": "8bd49f89-417c-44a3-9680-f3648473f41b",
   "metadata": {},
   "source": [
    "##### We can't modify the pvt variable but if the users want to modify then they can use the setter property decorator"
   ]
  },
  {
   "cell_type": "code",
   "execution_count": 25,
   "id": "d0f545f1-ce01-4c1f-831e-66b41389aa4c",
   "metadata": {},
   "outputs": [],
   "source": [
    "class pwskills2:\n",
    "    def __init__(self, course_price, course_name):\n",
    "        self.__course_price= course_price\n",
    "        self.course_name= course_name\n",
    "        \n",
    "    @property                           # proeprty decorator helps users to access the pvt variable\n",
    "    def course_price_access(self):\n",
    "        return self.__course_price\n",
    "    \n",
    "    @course_price_access.setter           # this setter helps users to modify pvt variable\n",
    "    def course_price_set(self, price):\n",
    "        if price<= 3500:\n",
    "            pass\n",
    "        else:\n",
    "            self.__course_price= price"
   ]
  },
  {
   "cell_type": "code",
   "execution_count": 14,
   "id": "3922f016-0423-4758-9ffa-7244456e8d83",
   "metadata": {},
   "outputs": [
    {
     "data": {
      "text/plain": [
       "'DSM'"
      ]
     },
     "execution_count": 14,
     "metadata": {},
     "output_type": "execute_result"
    }
   ],
   "source": [
    "pw2= pwskills2(3500,\"DSM\")\n",
    "pw2.course_name"
   ]
  },
  {
   "cell_type": "code",
   "execution_count": 15,
   "id": "d56de395-930c-430d-8959-15fc8c9b283f",
   "metadata": {},
   "outputs": [
    {
     "data": {
      "text/plain": [
       "3500"
      ]
     },
     "execution_count": 15,
     "metadata": {},
     "output_type": "execute_result"
    }
   ],
   "source": [
    "pw2.course_price_access"
   ]
  },
  {
   "cell_type": "code",
   "execution_count": 21,
   "id": "884ca58b-4f8b-461a-9ad4-cb45b9f2070f",
   "metadata": {},
   "outputs": [],
   "source": [
    "pw2.course_price_set= 2300"
   ]
  },
  {
   "cell_type": "code",
   "execution_count": 22,
   "id": "2c3da7e4-5a00-4173-8258-db3fc55212ae",
   "metadata": {},
   "outputs": [
    {
     "data": {
      "text/plain": [
       "3500"
      ]
     },
     "execution_count": 22,
     "metadata": {},
     "output_type": "execute_result"
    }
   ],
   "source": [
    "pw2.course_price_access"
   ]
  },
  {
   "cell_type": "code",
   "execution_count": 23,
   "id": "10213e34-4f35-4f9a-9670-1496ac4d1839",
   "metadata": {},
   "outputs": [],
   "source": [
    "pw2.course_price_set= 4500"
   ]
  },
  {
   "cell_type": "code",
   "execution_count": 24,
   "id": "042c0464-06d6-40e6-a242-cc4689adb033",
   "metadata": {},
   "outputs": [
    {
     "data": {
      "text/plain": [
       "4500"
      ]
     },
     "execution_count": 24,
     "metadata": {},
     "output_type": "execute_result"
    }
   ],
   "source": [
    "pw2.course_price_access"
   ]
  },
  {
   "cell_type": "markdown",
   "id": "1d52704d-fb18-4a09-b936-cd589ae4926b",
   "metadata": {},
   "source": [
    "##### We can't delete a pvt variable but if the users want to delete then they can sue the deleter property decorator"
   ]
  },
  {
   "cell_type": "code",
   "execution_count": 27,
   "id": "9ee668b2-49a5-446b-994d-825ee691b7f0",
   "metadata": {},
   "outputs": [],
   "source": [
    "class pwskills3:\n",
    "    def __init__(self, course_price, course_name):\n",
    "        self.__course_price= course_price\n",
    "        self.course_name= course_name\n",
    "        \n",
    "    @property                           # proeprty decorator helps users to access the pvt variable\n",
    "    def course_price_access(self):\n",
    "        return self.__course_price\n",
    "    \n",
    "    @course_price_access.setter           # this setter helps users to modify pvt variable\n",
    "    def course_price_set(self, price):\n",
    "        if price<= 3500:\n",
    "            pass\n",
    "        else:\n",
    "            self.__course_price= price\n",
    "            \n",
    "    @course_price_access.deleter          # this deleter helps users to delete pvt variable\n",
    "    def course_price_del(self):\n",
    "        del self.__course_price"
   ]
  },
  {
   "cell_type": "code",
   "execution_count": 28,
   "id": "bf0b0d8b-3bfb-47da-9173-1b96245fcde4",
   "metadata": {},
   "outputs": [],
   "source": [
    "pw3= pwskills3(3500, \"DSM\")"
   ]
  },
  {
   "cell_type": "code",
   "execution_count": 29,
   "id": "85a6b2b9-a878-4355-84b3-2b2f30cca657",
   "metadata": {},
   "outputs": [
    {
     "data": {
      "text/plain": [
       "'DSM'"
      ]
     },
     "execution_count": 29,
     "metadata": {},
     "output_type": "execute_result"
    }
   ],
   "source": [
    "pw3.course_name"
   ]
  },
  {
   "cell_type": "code",
   "execution_count": 30,
   "id": "c8abe362-6702-4197-b8c2-1185a53fcb06",
   "metadata": {},
   "outputs": [
    {
     "data": {
      "text/plain": [
       "3500"
      ]
     },
     "execution_count": 30,
     "metadata": {},
     "output_type": "execute_result"
    }
   ],
   "source": [
    "pw3.course_price_access"
   ]
  },
  {
   "cell_type": "code",
   "execution_count": 31,
   "id": "a8a29adb-e306-48f4-94b3-eb69db8eda85",
   "metadata": {},
   "outputs": [],
   "source": [
    "pw3.course_price_set= 4500"
   ]
  },
  {
   "cell_type": "code",
   "execution_count": 32,
   "id": "240ddb06-6573-493e-9e4a-3326f4dc781c",
   "metadata": {},
   "outputs": [
    {
     "data": {
      "text/plain": [
       "4500"
      ]
     },
     "execution_count": 32,
     "metadata": {},
     "output_type": "execute_result"
    }
   ],
   "source": [
    "pw3.course_price_access"
   ]
  },
  {
   "cell_type": "code",
   "execution_count": 34,
   "id": "3636e263-e7ab-4767-b445-be9dfbcfce3f",
   "metadata": {},
   "outputs": [],
   "source": [
    "del pw3.course_price_del"
   ]
  },
  {
   "cell_type": "code",
   "execution_count": 35,
   "id": "2af76fcd-7662-4b63-bba5-f968fa5b05f9",
   "metadata": {},
   "outputs": [
    {
     "ename": "AttributeError",
     "evalue": "'pwskills3' object has no attribute '_pwskills3__course_price'",
     "output_type": "error",
     "traceback": [
      "\u001b[0;31m---------------------------------------------------------------------------\u001b[0m",
      "\u001b[0;31mAttributeError\u001b[0m                            Traceback (most recent call last)",
      "Cell \u001b[0;32mIn[35], line 1\u001b[0m\n\u001b[0;32m----> 1\u001b[0m \u001b[43mpw3\u001b[49m\u001b[38;5;241;43m.\u001b[39;49m\u001b[43mcourse_price_access\u001b[49m\n",
      "Cell \u001b[0;32mIn[27], line 8\u001b[0m, in \u001b[0;36mpwskills3.course_price_access\u001b[0;34m(self)\u001b[0m\n\u001b[1;32m      6\u001b[0m \u001b[38;5;129m@property\u001b[39m                           \u001b[38;5;66;03m# proeprty decorator helps users to access the pvt variable\u001b[39;00m\n\u001b[1;32m      7\u001b[0m \u001b[38;5;28;01mdef\u001b[39;00m \u001b[38;5;21mcourse_price_access\u001b[39m(\u001b[38;5;28mself\u001b[39m):\n\u001b[0;32m----> 8\u001b[0m     \u001b[38;5;28;01mreturn\u001b[39;00m \u001b[38;5;28;43mself\u001b[39;49m\u001b[38;5;241;43m.\u001b[39;49m\u001b[43m__course_price\u001b[49m\n",
      "\u001b[0;31mAttributeError\u001b[0m: 'pwskills3' object has no attribute '_pwskills3__course_price'"
     ]
    }
   ],
   "source": [
    "pw3.course_price_access"
   ]
  },
  {
   "cell_type": "code",
   "execution_count": null,
   "id": "e842425b-6a82-4844-b23d-2e2941a3926f",
   "metadata": {},
   "outputs": [],
   "source": []
  }
 ],
 "metadata": {
  "kernelspec": {
   "display_name": "Python 3 (ipykernel)",
   "language": "python",
   "name": "python3"
  },
  "language_info": {
   "codemirror_mode": {
    "name": "ipython",
    "version": 3
   },
   "file_extension": ".py",
   "mimetype": "text/x-python",
   "name": "python",
   "nbconvert_exporter": "python",
   "pygments_lexer": "ipython3",
   "version": "3.10.8"
  }
 },
 "nbformat": 4,
 "nbformat_minor": 5
}
