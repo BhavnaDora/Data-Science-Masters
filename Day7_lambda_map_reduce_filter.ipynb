{
 "cells": [
  {
   "cell_type": "markdown",
   "id": "0ad7e902-38a5-481f-addc-4c87b7481a25",
   "metadata": {},
   "source": [
    "#### Lambda function"
   ]
  },
  {
   "cell_type": "code",
   "execution_count": 2,
   "id": "24b2a9d3-42bb-4cbc-a287-55b60d25ac6e",
   "metadata": {},
   "outputs": [
    {
     "data": {
      "text/plain": [
       "9"
      ]
     },
     "execution_count": 2,
     "metadata": {},
     "output_type": "execute_result"
    }
   ],
   "source": [
    "# write a function which calculates power\n",
    "\n",
    "def test(n,p):\n",
    "    return n**p\n",
    "\n",
    "test(3,2)"
   ]
  },
  {
   "cell_type": "code",
   "execution_count": 3,
   "id": "d9c74ad3-2008-4076-bbe6-42c758480356",
   "metadata": {},
   "outputs": [
    {
     "data": {
      "text/plain": [
       "32"
      ]
     },
     "execution_count": 3,
     "metadata": {},
     "output_type": "execute_result"
    }
   ],
   "source": [
    "test(2,5)"
   ]
  },
  {
   "cell_type": "code",
   "execution_count": 6,
   "id": "c2f90813-a77a-45ad-9c8c-e74d4ce725de",
   "metadata": {},
   "outputs": [
    {
     "data": {
      "text/plain": [
       "<function __main__.<lambda>(n, p)>"
      ]
     },
     "execution_count": 6,
     "metadata": {},
     "output_type": "execute_result"
    }
   ],
   "source": [
    "# write power function using lambda-\n",
    "\n",
    "lambda n,p: n**p   "
   ]
  },
  {
   "cell_type": "code",
   "execution_count": 7,
   "id": "a944ebf5-9ad1-4465-9ee3-7ecb3969e33d",
   "metadata": {},
   "outputs": [
    {
     "data": {
      "text/plain": [
       "9"
      ]
     },
     "execution_count": 7,
     "metadata": {},
     "output_type": "execute_result"
    }
   ],
   "source": [
    "a= lambda n,p: n**p   # takes 2 arguments n,p and returns n**p\n",
    "a(3,2)"
   ]
  },
  {
   "cell_type": "markdown",
   "id": "17add1ee-1b1e-4389-a541-29a56b60acfd",
   "metadata": {},
   "source": [
    "##### lambda is anonymous function/short hand function. It is used to write functions in 1 line"
   ]
  },
  {
   "cell_type": "code",
   "execution_count": 8,
   "id": "84e7783e-93eb-4118-9825-6efc77297eed",
   "metadata": {},
   "outputs": [
    {
     "data": {
      "text/plain": [
       "30"
      ]
     },
     "execution_count": 8,
     "metadata": {},
     "output_type": "execute_result"
    }
   ],
   "source": [
    "add= lambda x,y: x+y  # takes 2 arguments x, y and returns x+y\n",
    "add(10,20)"
   ]
  },
  {
   "cell_type": "code",
   "execution_count": 9,
   "id": "e52780a4-0c64-4526-a061-8c6e3c63e631",
   "metadata": {},
   "outputs": [
    {
     "data": {
      "text/plain": [
       "89.6"
      ]
     },
     "execution_count": 9,
     "metadata": {},
     "output_type": "execute_result"
    }
   ],
   "source": [
    "# write lambda function which converts celcius to fahrenheit\n",
    "c_to_f= lambda temp: (9/5)*temp+32\n",
    "c_to_f(32)"
   ]
  },
  {
   "cell_type": "code",
   "execution_count": 11,
   "id": "8da38bce-d075-419f-81b5-f0fea710bffa",
   "metadata": {},
   "outputs": [
    {
     "data": {
      "text/plain": [
       "100"
      ]
     },
     "execution_count": 11,
     "metadata": {},
     "output_type": "execute_result"
    }
   ],
   "source": [
    "# find the maximum out of 2 numbers-\n",
    "max_no= lambda no1,no2: max(no1,no2)\n",
    "max_no(10,100)"
   ]
  },
  {
   "cell_type": "code",
   "execution_count": 13,
   "id": "4d5ec1c1-90d9-42e0-8ed5-a930f7e06525",
   "metadata": {},
   "outputs": [
    {
     "data": {
      "text/plain": [
       "200"
      ]
     },
     "execution_count": 13,
     "metadata": {},
     "output_type": "execute_result"
    }
   ],
   "source": [
    "max_no= lambda no1,no2: no1 if no1>no2 else no2\n",
    "max_no(100,200)"
   ]
  },
  {
   "cell_type": "code",
   "execution_count": 14,
   "id": "878d1859-8546-436c-bd9f-b3c74dd4ecf1",
   "metadata": {},
   "outputs": [
    {
     "data": {
      "text/plain": [
       "8"
      ]
     },
     "execution_count": 14,
     "metadata": {},
     "output_type": "execute_result"
    }
   ],
   "source": [
    "# write lambda function to find length of string-\n",
    "length= lambda s: len(s)\n",
    "length(\"pwskills\")"
   ]
  },
  {
   "cell_type": "markdown",
   "id": "e8e2b0cb-22f5-4dd6-bbf9-70ddc28bec71",
   "metadata": {},
   "source": [
    "#### Map function"
   ]
  },
  {
   "cell_type": "code",
   "execution_count": 15,
   "id": "23eb2923-67d0-4c3f-8868-ade20a2dc0d5",
   "metadata": {},
   "outputs": [],
   "source": [
    "l=[1,2,3,4,45,5]"
   ]
  },
  {
   "cell_type": "code",
   "execution_count": 16,
   "id": "2868fc35-8b01-4081-bf9d-1a7f8154bd79",
   "metadata": {},
   "outputs": [
    {
     "data": {
      "text/plain": [
       "[1, 4, 9, 16, 2025, 25]"
      ]
     },
     "execution_count": 16,
     "metadata": {},
     "output_type": "execute_result"
    }
   ],
   "source": [
    "# create a list containing squares of each element , using list comprehension-\n",
    "\n",
    "sq= [ i**2 for i in l]\n",
    "sq"
   ]
  },
  {
   "cell_type": "code",
   "execution_count": 17,
   "id": "889bfc03-7c7b-4c6c-95c0-0f11186560f5",
   "metadata": {},
   "outputs": [
    {
     "data": {
      "text/plain": [
       "[1, 4, 9, 16, 2025, 25]"
      ]
     },
     "execution_count": 17,
     "metadata": {},
     "output_type": "execute_result"
    }
   ],
   "source": [
    "# using normal function-\n",
    "\n",
    "def squares_func(l1):\n",
    "    n=[]\n",
    "    for i in l1:\n",
    "        n.append(i**2)\n",
    "    return n\n",
    "\n",
    "squares_func(l)"
   ]
  },
  {
   "cell_type": "code",
   "execution_count": 19,
   "id": "497404c5-8966-4bd3-9c88-8f21475b1ba2",
   "metadata": {},
   "outputs": [
    {
     "data": {
      "text/plain": [
       "<map at 0x7fb74e6f8e50>"
      ]
     },
     "execution_count": 19,
     "metadata": {},
     "output_type": "execute_result"
    }
   ],
   "source": [
    "# using map function-\n",
    "\n",
    "def sq(x):\n",
    "    return x**2\n",
    "\n",
    "map(sq, l)   # it will return a mapper object"
   ]
  },
  {
   "cell_type": "code",
   "execution_count": 21,
   "id": "62f079b3-5cb8-4b12-8070-b110c9e74c32",
   "metadata": {},
   "outputs": [
    {
     "data": {
      "text/plain": [
       "[1, 4, 9, 16, 2025, 25]"
      ]
     },
     "execution_count": 21,
     "metadata": {},
     "output_type": "execute_result"
    }
   ],
   "source": [
    "list(map(sq, l))  # the elements of the list are mapped to the function one by one by being passed as argument x and square is returned"
   ]
  },
  {
   "cell_type": "markdown",
   "id": "3eb0699b-7160-4fcc-a823-09395512e9fc",
   "metadata": {},
   "source": [
    "##### Map function takes arguments in this order- first is the function and second is/are the iterable(s) like list,string,tuples. It maps each and every element of the iterable one by one to the function."
   ]
  },
  {
   "cell_type": "code",
   "execution_count": 22,
   "id": "61c7dfd8-95ca-4d5e-96d1-f23205c0d85b",
   "metadata": {},
   "outputs": [
    {
     "data": {
      "text/plain": [
       "[1, 4, 9, 16, 2025, 25]"
      ]
     },
     "execution_count": 22,
     "metadata": {},
     "output_type": "execute_result"
    }
   ],
   "source": [
    "# using lambda function inside map function-\n",
    "\n",
    "list(map(lambda x: x**2, l))"
   ]
  },
  {
   "cell_type": "code",
   "execution_count": 23,
   "id": "cc48eded-0e1d-4f84-8e22-25e7d4ee588b",
   "metadata": {},
   "outputs": [
    {
     "data": {
      "text/plain": [
       "[11, 12, 13, 14, 55, 15]"
      ]
     },
     "execution_count": 23,
     "metadata": {},
     "output_type": "execute_result"
    }
   ],
   "source": [
    "list(map(lambda x: x+10, l))"
   ]
  },
  {
   "cell_type": "code",
   "execution_count": 24,
   "id": "aaf2befc-bd3a-4405-92ff-ff82a0b72959",
   "metadata": {},
   "outputs": [
    {
     "data": {
      "text/plain": [
       "['1', '2', '3', '4', '45', '5']"
      ]
     },
     "execution_count": 24,
     "metadata": {},
     "output_type": "execute_result"
    }
   ],
   "source": [
    "list(map(lambda x: str(x), l))"
   ]
  },
  {
   "cell_type": "code",
   "execution_count": 25,
   "id": "fc1553b6-ba86-4cf4-9ada-d96aa0932349",
   "metadata": {},
   "outputs": [
    {
     "data": {
      "text/plain": [
       "[7, 9, 11, 13, 15]"
      ]
     },
     "execution_count": 25,
     "metadata": {},
     "output_type": "execute_result"
    }
   ],
   "source": [
    "# write a function to add elements of two list index wise-\n",
    "l1=[1,2,3,4,5]\n",
    "l2=[6,7,8,9,10]\n",
    "\n",
    "def add_list(l1,l2):\n",
    "    n=[]\n",
    "    for i in range(len(l1)):\n",
    "        n.append(l1[i]+l2[i])\n",
    "    return n\n",
    "\n",
    "add_list(l1,l2)"
   ]
  },
  {
   "cell_type": "code",
   "execution_count": 26,
   "id": "be047f9d-fb05-4cec-a5a6-8422a9d2c1ee",
   "metadata": {},
   "outputs": [
    {
     "data": {
      "text/plain": [
       "[7, 9, 11, 13, 15]"
      ]
     },
     "execution_count": 26,
     "metadata": {},
     "output_type": "execute_result"
    }
   ],
   "source": [
    "# using map function\n",
    "\n",
    "list(map(lambda x,y: x+y, l1,l2))   # here 1st element of l1 and 1st element of l2 are taken as arguments x,y and x+y is returned "
   ]
  },
  {
   "cell_type": "code",
   "execution_count": 27,
   "id": "52762d86-b1b0-4969-836b-6cb61e279e40",
   "metadata": {},
   "outputs": [
    {
     "data": {
      "text/plain": [
       "['P', 'W', 'S', 'K', 'I', 'L', 'L', 'S']"
      ]
     },
     "execution_count": 27,
     "metadata": {},
     "output_type": "execute_result"
    }
   ],
   "source": [
    "# display a list of all characters of a string after converting them to uppercase \n",
    "\n",
    "s=\"pwskills\"\n",
    "list(map(lambda x: x.upper(), s))"
   ]
  },
  {
   "cell_type": "markdown",
   "id": "3613c959-d70a-4e82-916b-47536e8d5b89",
   "metadata": {},
   "source": [
    "#### Reduce function"
   ]
  },
  {
   "cell_type": "code",
   "execution_count": 28,
   "id": "bc4bc482-e819-4a22-b0f0-a1813556ef79",
   "metadata": {},
   "outputs": [],
   "source": [
    "# we have to import the reduce function\n",
    "from functools import reduce"
   ]
  },
  {
   "cell_type": "code",
   "execution_count": 29,
   "id": "8ba25318-273e-4ed0-9b3f-708b42a81204",
   "metadata": {},
   "outputs": [],
   "source": [
    "l=[1,2,3,4,5,4]"
   ]
  },
  {
   "cell_type": "code",
   "execution_count": 30,
   "id": "a0bc4201-58e8-4a71-a01a-4631c00e4204",
   "metadata": {},
   "outputs": [
    {
     "data": {
      "text/plain": [
       "19"
      ]
     },
     "execution_count": 30,
     "metadata": {},
     "output_type": "execute_result"
    }
   ],
   "source": [
    "# find the sum of all elements in list-\n",
    "def add(l1):\n",
    "    summation=0\n",
    "    for i in l1:\n",
    "        summation+=i\n",
    "    return summation\n",
    "\n",
    "add(l)"
   ]
  },
  {
   "cell_type": "code",
   "execution_count": 31,
   "id": "b781000d-4295-43e5-aa7c-66168ada86bb",
   "metadata": {},
   "outputs": [
    {
     "data": {
      "text/plain": [
       "19"
      ]
     },
     "execution_count": 31,
     "metadata": {},
     "output_type": "execute_result"
    }
   ],
   "source": [
    "#using reduce function-\n",
    "\n",
    "reduce(lambda x,y: x+y, l)"
   ]
  },
  {
   "cell_type": "markdown",
   "id": "5d67c5df-a342-4f20-9559-73aed1b92d01",
   "metadata": {},
   "source": [
    "##### Reduce function collapses the iterable. It takes first argument as function and second argument as iterable like list, string, tuple. Then it keeps on reducing the no. of elements inside the iterable and gives the final result. It is also a shorthand/ one liner function"
   ]
  },
  {
   "cell_type": "code",
   "execution_count": 32,
   "id": "9ed1f6a6-0396-442b-955f-19664efbb0d3",
   "metadata": {},
   "outputs": [
    {
     "ename": "TypeError",
     "evalue": "<lambda>() missing 1 required positional argument: 'z'",
     "output_type": "error",
     "traceback": [
      "\u001b[0;31m---------------------------------------------------------------------------\u001b[0m",
      "\u001b[0;31mTypeError\u001b[0m                                 Traceback (most recent call last)",
      "Cell \u001b[0;32mIn[32], line 1\u001b[0m\n\u001b[0;32m----> 1\u001b[0m \u001b[43mreduce\u001b[49m\u001b[43m(\u001b[49m\u001b[38;5;28;43;01mlambda\u001b[39;49;00m\u001b[43m \u001b[49m\u001b[43mx\u001b[49m\u001b[43m,\u001b[49m\u001b[43my\u001b[49m\u001b[43m,\u001b[49m\u001b[43mz\u001b[49m\u001b[43m:\u001b[49m\u001b[43m \u001b[49m\u001b[43mx\u001b[49m\u001b[38;5;241;43m+\u001b[39;49m\u001b[43my\u001b[49m\u001b[38;5;241;43m+\u001b[39;49m\u001b[43mz\u001b[49m\u001b[43m,\u001b[49m\u001b[43m \u001b[49m\u001b[43ml\u001b[49m\u001b[43m)\u001b[49m\n",
      "\u001b[0;31mTypeError\u001b[0m: <lambda>() missing 1 required positional argument: 'z'"
     ]
    }
   ],
   "source": [
    "reduce(lambda x,y,z: x+y+z, l)"
   ]
  },
  {
   "cell_type": "code",
   "execution_count": 33,
   "id": "da95f8e8-771d-4c8f-bdd2-3d996ce9189f",
   "metadata": {},
   "outputs": [],
   "source": [
    "# will it work if we add one more element to the list? \n",
    "# The answer is still no because reduce function is built in such a way that it takes 2 arguments only(i.e a pair x,y)"
   ]
  },
  {
   "cell_type": "code",
   "execution_count": 34,
   "id": "3db56be9-d531-499e-8a7a-7d20be16383d",
   "metadata": {},
   "outputs": [
    {
     "ename": "TypeError",
     "evalue": "reduce() of empty iterable with no initial value",
     "output_type": "error",
     "traceback": [
      "\u001b[0;31m---------------------------------------------------------------------------\u001b[0m",
      "\u001b[0;31mTypeError\u001b[0m                                 Traceback (most recent call last)",
      "Cell \u001b[0;32mIn[34], line 1\u001b[0m\n\u001b[0;32m----> 1\u001b[0m \u001b[43mreduce\u001b[49m\u001b[43m(\u001b[49m\u001b[38;5;28;43;01mlambda\u001b[39;49;00m\u001b[43m \u001b[49m\u001b[43mx\u001b[49m\u001b[43m,\u001b[49m\u001b[43my\u001b[49m\u001b[43m:\u001b[49m\u001b[43m \u001b[49m\u001b[43mx\u001b[49m\u001b[38;5;241;43m+\u001b[39;49m\u001b[43my\u001b[49m\u001b[43m,\u001b[49m\u001b[43m \u001b[49m\u001b[43m[\u001b[49m\u001b[43m]\u001b[49m\u001b[43m)\u001b[49m\n",
      "\u001b[0;31mTypeError\u001b[0m: reduce() of empty iterable with no initial value"
     ]
    }
   ],
   "source": [
    "reduce(lambda x,y: x+y, [])"
   ]
  },
  {
   "cell_type": "code",
   "execution_count": 36,
   "id": "98be05f5-1c13-4c95-ad11-5335b7b9f896",
   "metadata": {},
   "outputs": [
    {
     "data": {
      "text/plain": [
       "4"
      ]
     },
     "execution_count": 36,
     "metadata": {},
     "output_type": "execute_result"
    }
   ],
   "source": [
    "reduce(lambda x,y: x+y, [4])   # this is an exceptional case even with no value for y it gives output"
   ]
  },
  {
   "cell_type": "code",
   "execution_count": 38,
   "id": "d486a706-036c-4bad-af19-da37eb1bc597",
   "metadata": {},
   "outputs": [
    {
     "data": {
      "text/plain": [
       "1"
      ]
     },
     "execution_count": 38,
     "metadata": {},
     "output_type": "execute_result"
    }
   ],
   "source": [
    "# find the minimum element inside list-\n",
    "\n",
    "reduce(lambda x,y: x if x<y else y,  [1,2,4,1,5])"
   ]
  },
  {
   "cell_type": "markdown",
   "id": "f8c04c6c-586a-4e3b-bd97-bb78e9309733",
   "metadata": {},
   "source": [
    "#### Filter function"
   ]
  },
  {
   "cell_type": "code",
   "execution_count": 39,
   "id": "560645d9-6207-4514-a3ab-600c007787e6",
   "metadata": {},
   "outputs": [
    {
     "data": {
      "text/plain": [
       "[1, 2, 3, 4, 5, 4]"
      ]
     },
     "execution_count": 39,
     "metadata": {},
     "output_type": "execute_result"
    }
   ],
   "source": [
    "l"
   ]
  },
  {
   "cell_type": "code",
   "execution_count": 46,
   "id": "89a2ad5d-2af3-4614-b727-715b99753acd",
   "metadata": {},
   "outputs": [
    {
     "data": {
      "text/plain": [
       "<filter at 0x7fb74e6da1a0>"
      ]
     },
     "execution_count": 46,
     "metadata": {},
     "output_type": "execute_result"
    }
   ],
   "source": [
    "# filter out even numbers from the above list-\n",
    "\n",
    "filter(lambda x: x%2==0, l)    # returns a filter object"
   ]
  },
  {
   "cell_type": "code",
   "execution_count": 47,
   "id": "3bc05247-5fa8-4840-8f1d-f6ae7754ef86",
   "metadata": {},
   "outputs": [
    {
     "data": {
      "text/plain": [
       "[2, 4, 4]"
      ]
     },
     "execution_count": 47,
     "metadata": {},
     "output_type": "execute_result"
    }
   ],
   "source": [
    "list(filter(lambda x: x%2==0, l))"
   ]
  },
  {
   "cell_type": "code",
   "execution_count": 48,
   "id": "0d5571d8-e3a8-4a0b-8f35-2c3c2a016b0f",
   "metadata": {},
   "outputs": [
    {
     "data": {
      "text/plain": [
       "[1, 3, 5]"
      ]
     },
     "execution_count": 48,
     "metadata": {},
     "output_type": "execute_result"
    }
   ],
   "source": [
    "# filter out odd numbers from the list-\n",
    "\n",
    "list(filter(lambda x: x%2!=0, l))"
   ]
  },
  {
   "cell_type": "code",
   "execution_count": 49,
   "id": "6b8fcde7-4825-43e8-955c-d34ba8b6e288",
   "metadata": {},
   "outputs": [],
   "source": [
    "l1= [-2,4,5,6,-3,-6,-7]"
   ]
  },
  {
   "cell_type": "code",
   "execution_count": 50,
   "id": "f897ecbc-b968-4572-b96d-60a6451a6697",
   "metadata": {},
   "outputs": [
    {
     "data": {
      "text/plain": [
       "[4, 5, 6]"
      ]
     },
     "execution_count": 50,
     "metadata": {},
     "output_type": "execute_result"
    }
   ],
   "source": [
    "# filter out the list of positive numbers-\n",
    "\n",
    "list(filter(lambda x: x>=0, l1))"
   ]
  },
  {
   "cell_type": "code",
   "execution_count": 51,
   "id": "bd2a4318-f865-4d1c-bd56-2e4e631756d5",
   "metadata": {},
   "outputs": [
    {
     "data": {
      "text/plain": [
       "[-2, -3, -6, -7]"
      ]
     },
     "execution_count": 51,
     "metadata": {},
     "output_type": "execute_result"
    }
   ],
   "source": [
    "# filter out the list of negative numbers-\n",
    "\n",
    "list(filter(lambda x: x<0, l1))"
   ]
  },
  {
   "cell_type": "code",
   "execution_count": 52,
   "id": "d9e3b894-2f70-4c19-9fd9-d36315a03474",
   "metadata": {},
   "outputs": [],
   "source": [
    "l2= [\"banglore\",\"sudh\",\"kumar\",\"krish\",\"pwskiils\"]"
   ]
  },
  {
   "cell_type": "code",
   "execution_count": 53,
   "id": "968737a0-a9d0-4371-8ced-5d6207d07766",
   "metadata": {},
   "outputs": [
    {
     "data": {
      "text/plain": [
       "['sudh', 'kumar', 'krish']"
      ]
     },
     "execution_count": 53,
     "metadata": {},
     "output_type": "execute_result"
    }
   ],
   "source": [
    "# filter out those strings whose length is less than 6\n",
    "\n",
    "list(filter(lambda s: len(s)<6, l2))"
   ]
  },
  {
   "cell_type": "code",
   "execution_count": null,
   "id": "107acfd3-3d02-44ff-b248-a77c423bd6fc",
   "metadata": {},
   "outputs": [],
   "source": []
  }
 ],
 "metadata": {
  "kernelspec": {
   "display_name": "Python 3 (ipykernel)",
   "language": "python",
   "name": "python3"
  },
  "language_info": {
   "codemirror_mode": {
    "name": "ipython",
    "version": 3
   },
   "file_extension": ".py",
   "mimetype": "text/x-python",
   "name": "python",
   "nbconvert_exporter": "python",
   "pygments_lexer": "ipython3",
   "version": "3.10.8"
  }
 },
 "nbformat": 4,
 "nbformat_minor": 5
}
