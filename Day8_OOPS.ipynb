{
 "cells": [
  {
   "cell_type": "markdown",
   "id": "648b4712-0141-4774-93b0-219e58c51912",
   "metadata": {},
   "source": [
    "#### OOPS-\n",
    "##### Object Oriented Programming System"
   ]
  },
  {
   "cell_type": "code",
   "execution_count": 1,
   "id": "c29527ca-b9bc-4c73-aeec-8d564db0b185",
   "metadata": {},
   "outputs": [
    {
     "name": "stdout",
     "output_type": "stream",
     "text": [
      "<class 'int'>\n"
     ]
    }
   ],
   "source": [
    "a=1\n",
    "print(type(a))"
   ]
  },
  {
   "cell_type": "code",
   "execution_count": 2,
   "id": "0001dd4c-22bc-4bb8-913f-a750bdb7477d",
   "metadata": {},
   "outputs": [
    {
     "name": "stdout",
     "output_type": "stream",
     "text": [
      "<class 'str'>\n"
     ]
    }
   ],
   "source": [
    "print(type(\"pwskills\"))"
   ]
  },
  {
   "cell_type": "markdown",
   "id": "8f89bfc1-91bf-4b50-9d72-7ea5a5b9451a",
   "metadata": {},
   "source": [
    "##### What is class?\n",
    "\n",
    "##### Class is the classification of real world entities or a blueprint. ex) Human, Animal, Car, Laptop etc."
   ]
  },
  {
   "cell_type": "markdown",
   "id": "12119a09-29e6-4bbd-a91a-2f29383db5fc",
   "metadata": {},
   "source": [
    "##### Why do we use class?\n",
    "\n",
    "##### Suppose we are building a project for product deployment, we have to write codes for backend, frontend, database connectivity etc. It is better to segregate these codes into different modules- like a module for all backend codes, module for all frontend codes etc. All these modules can interact with each other. For each module we can create a class. ex) For the module database connectivity we can create a class database and write all the codes there.\n",
    "##### So we use the class-object concept for clean, structured, reusable, modular codes."
   ]
  },
  {
   "cell_type": "code",
   "execution_count": 3,
   "id": "7cd18cc7-09eb-4608-b630-50e53cab8d85",
   "metadata": {},
   "outputs": [
    {
     "ename": "SyntaxError",
     "evalue": "incomplete input (3527747674.py, line 1)",
     "output_type": "error",
     "traceback": [
      "\u001b[0;36m  Cell \u001b[0;32mIn[3], line 1\u001b[0;36m\u001b[0m\n\u001b[0;31m    class test:\u001b[0m\n\u001b[0m               ^\u001b[0m\n\u001b[0;31mSyntaxError\u001b[0m\u001b[0;31m:\u001b[0m incomplete input\n"
     ]
    }
   ],
   "source": [
    "class test:"
   ]
  },
  {
   "cell_type": "code",
   "execution_count": 4,
   "id": "e71bbf85-22b2-4123-ac58-eaa98f02a7e3",
   "metadata": {},
   "outputs": [],
   "source": [
    "class test:\n",
    "    pass"
   ]
  },
  {
   "cell_type": "code",
   "execution_count": 6,
   "id": "362e6cc1-9107-4e7e-b47c-c75f3264d65b",
   "metadata": {},
   "outputs": [],
   "source": [
    "a=test()    # a is the object/variable/instance of the class test"
   ]
  },
  {
   "cell_type": "code",
   "execution_count": 7,
   "id": "78d0c443-aa20-4e8c-ba94-fb0ef43f1992",
   "metadata": {},
   "outputs": [
    {
     "name": "stdout",
     "output_type": "stream",
     "text": [
      "<class '__main__.test'>\n"
     ]
    }
   ],
   "source": [
    "print(type(a))   "
   ]
  },
  {
   "cell_type": "code",
   "execution_count": 9,
   "id": "7751f4f0-3b3a-45de-b721-c966faf35d83",
   "metadata": {},
   "outputs": [],
   "source": [
    "class pwskills:       # class is reserved keyword\n",
    "    def welcome_msg():\n",
    "        print(\"welcome to pwskills\")\n",
    "               "
   ]
  },
  {
   "cell_type": "code",
   "execution_count": 11,
   "id": "70dc7618-7cdf-440b-8e03-bf3159a3f36d",
   "metadata": {},
   "outputs": [],
   "source": [
    "rohan= pwskills()    #rohan is object of class pwskills"
   ]
  },
  {
   "cell_type": "code",
   "execution_count": 12,
   "id": "6880a05a-60f1-4571-bd06-bb7767a061cc",
   "metadata": {},
   "outputs": [
    {
     "ename": "TypeError",
     "evalue": "pwskills.welcome_msg() takes 0 positional arguments but 1 was given",
     "output_type": "error",
     "traceback": [
      "\u001b[0;31m---------------------------------------------------------------------------\u001b[0m",
      "\u001b[0;31mTypeError\u001b[0m                                 Traceback (most recent call last)",
      "Cell \u001b[0;32mIn[12], line 1\u001b[0m\n\u001b[0;32m----> 1\u001b[0m \u001b[43mrohan\u001b[49m\u001b[38;5;241;43m.\u001b[39;49m\u001b[43mwelcome_msg\u001b[49m\u001b[43m(\u001b[49m\u001b[43m)\u001b[49m\n",
      "\u001b[0;31mTypeError\u001b[0m: pwskills.welcome_msg() takes 0 positional arguments but 1 was given"
     ]
    }
   ],
   "source": [
    "rohan.welcome_msg()"
   ]
  },
  {
   "cell_type": "code",
   "execution_count": 13,
   "id": "ca193e32-d62c-491d-9390-2482c9b41f82",
   "metadata": {},
   "outputs": [],
   "source": [
    "# giving a pointer as argument of the method clears the error-\n",
    "\n",
    "class pwskills:\n",
    "    def welcome_msg(self):\n",
    "        print(\"welcome to pwskills\")"
   ]
  },
  {
   "cell_type": "code",
   "execution_count": 14,
   "id": "070e70af-99ab-4133-9ef3-9049bf0b8f67",
   "metadata": {},
   "outputs": [],
   "source": [
    "rohan= pwskills()"
   ]
  },
  {
   "cell_type": "code",
   "execution_count": 15,
   "id": "0c67ae95-4d46-4a50-803a-dbac8d7cf918",
   "metadata": {},
   "outputs": [
    {
     "name": "stdout",
     "output_type": "stream",
     "text": [
      "welcome to pwskills\n"
     ]
    }
   ],
   "source": [
    "rohan.welcome_msg()"
   ]
  },
  {
   "cell_type": "code",
   "execution_count": 16,
   "id": "4ddb964e-5a8e-46b4-8711-7d3fda0ec58a",
   "metadata": {},
   "outputs": [],
   "source": [
    "sohan= pwskills()   # sohan is a object of class pwskills"
   ]
  },
  {
   "cell_type": "code",
   "execution_count": 17,
   "id": "47c6040e-889d-4cab-94de-71e0f6336958",
   "metadata": {},
   "outputs": [
    {
     "name": "stdout",
     "output_type": "stream",
     "text": [
      "welcome to pwskills\n"
     ]
    }
   ],
   "source": [
    "sohan.welcome_msg()"
   ]
  },
  {
   "cell_type": "code",
   "execution_count": 18,
   "id": "333defe1-06a8-4db9-a647-34246a1683c8",
   "metadata": {},
   "outputs": [],
   "source": [
    "# rohan, sohan are objects of class pwskills, \n",
    "# so they are able to access the property of that class i.e all the functions, methods written inside that class. \n",
    "# We can create any number of objects for a class"
   ]
  },
  {
   "cell_type": "markdown",
   "id": "79081cec-9dd0-4fa8-965e-4add290c632e",
   "metadata": {},
   "source": [
    "##### Constructor- constructor takes data while creating an object and passes that data to the class"
   ]
  },
  {
   "cell_type": "code",
   "execution_count": 38,
   "id": "0ac338c6-6120-4dd6-856e-70aeb21bb791",
   "metadata": {},
   "outputs": [],
   "source": [
    "class pwskills1:\n",
    "    def __init__(self, phone_no,email_id,student_id):      # this is the constructor \n",
    "        self.phone_no= phone_no\n",
    "        self.email_id= email_id\n",
    "        self.student_id= student_id\n",
    "    \n",
    "    def student_details(self):          #pointer self is used to point that init, student_details belongs to my class pwskills1\n",
    "        return self.phone_no, self.email_id, self.student_id"
   ]
  },
  {
   "cell_type": "code",
   "execution_count": 39,
   "id": "6424ee15-19cb-4f94-8e8a-8df1dd72edae",
   "metadata": {},
   "outputs": [
    {
     "ename": "TypeError",
     "evalue": "pwskills1.__init__() missing 3 required positional arguments: 'phone_no', 'email_id', and 'student_id'",
     "output_type": "error",
     "traceback": [
      "\u001b[0;31m---------------------------------------------------------------------------\u001b[0m",
      "\u001b[0;31mTypeError\u001b[0m                                 Traceback (most recent call last)",
      "Cell \u001b[0;32mIn[39], line 1\u001b[0m\n\u001b[0;32m----> 1\u001b[0m rohan\u001b[38;5;241m=\u001b[39m \u001b[43mpwskills1\u001b[49m\u001b[43m(\u001b[49m\u001b[43m)\u001b[49m\n",
      "\u001b[0;31mTypeError\u001b[0m: pwskills1.__init__() missing 3 required positional arguments: 'phone_no', 'email_id', and 'student_id'"
     ]
    }
   ],
   "source": [
    "rohan= pwskills1()"
   ]
  },
  {
   "cell_type": "code",
   "execution_count": 40,
   "id": "e7375c32-c023-4a3c-a742-949cbd2cc935",
   "metadata": {},
   "outputs": [],
   "source": [
    "rohan= pwskills1(9678243, \"rohan@gmail.com\", 101)"
   ]
  },
  {
   "cell_type": "code",
   "execution_count": 41,
   "id": "9edadd29-8a5a-4b36-8b20-0c9018c62511",
   "metadata": {},
   "outputs": [
    {
     "data": {
      "text/plain": [
       "9678243"
      ]
     },
     "execution_count": 41,
     "metadata": {},
     "output_type": "execute_result"
    }
   ],
   "source": [
    "rohan.phone_no   #inside class we access the data using self.___ and outside the class we access the data using object.___"
   ]
  },
  {
   "cell_type": "code",
   "execution_count": 42,
   "id": "9a3663cd-eb9a-4c7b-a95b-1a758d4bf623",
   "metadata": {},
   "outputs": [
    {
     "data": {
      "text/plain": [
       "'rohan@gmail.com'"
      ]
     },
     "execution_count": 42,
     "metadata": {},
     "output_type": "execute_result"
    }
   ],
   "source": [
    "rohan.email_id"
   ]
  },
  {
   "cell_type": "code",
   "execution_count": 43,
   "id": "becb3ed1-9251-44c9-8a5d-d22b9dd8d61e",
   "metadata": {},
   "outputs": [
    {
     "data": {
      "text/plain": [
       "101"
      ]
     },
     "execution_count": 43,
     "metadata": {},
     "output_type": "execute_result"
    }
   ],
   "source": [
    "rohan.student_id"
   ]
  },
  {
   "cell_type": "code",
   "execution_count": 44,
   "id": "cf896e1c-033c-489f-a7ce-ed20d8c09085",
   "metadata": {},
   "outputs": [
    {
     "data": {
      "text/plain": [
       "(9678243, 'rohan@gmail.com', 101)"
      ]
     },
     "execution_count": 44,
     "metadata": {},
     "output_type": "execute_result"
    }
   ],
   "source": [
    "rohan.student_details()"
   ]
  },
  {
   "cell_type": "code",
   "execution_count": 45,
   "id": "9135bccc-b15c-4630-af77-70875b21e27a",
   "metadata": {},
   "outputs": [],
   "source": [
    "sohan= pwskills1(123423, \"sohan@gmail.com\", 102)    # we create another object sohan of class pwskills1"
   ]
  },
  {
   "cell_type": "code",
   "execution_count": 46,
   "id": "80b492bc-8852-4186-9345-1d7848e2bb68",
   "metadata": {},
   "outputs": [
    {
     "data": {
      "text/plain": [
       "123423"
      ]
     },
     "execution_count": 46,
     "metadata": {},
     "output_type": "execute_result"
    }
   ],
   "source": [
    "sohan.phone_no"
   ]
  },
  {
   "cell_type": "code",
   "execution_count": 47,
   "id": "c79c2646-a375-4f11-8692-8ec83cfbe03c",
   "metadata": {},
   "outputs": [
    {
     "data": {
      "text/plain": [
       "'sohan@gmail.com'"
      ]
     },
     "execution_count": 47,
     "metadata": {},
     "output_type": "execute_result"
    }
   ],
   "source": [
    "sohan.email_id"
   ]
  },
  {
   "cell_type": "code",
   "execution_count": 48,
   "id": "31ad3ccb-1b84-4136-a7c2-439f94f7280c",
   "metadata": {},
   "outputs": [
    {
     "data": {
      "text/plain": [
       "102"
      ]
     },
     "execution_count": 48,
     "metadata": {},
     "output_type": "execute_result"
    }
   ],
   "source": [
    "sohan.student_id"
   ]
  },
  {
   "cell_type": "code",
   "execution_count": 50,
   "id": "6fb1fe62-0063-48a4-b5c0-39ecab6e4dd6",
   "metadata": {},
   "outputs": [
    {
     "data": {
      "text/plain": [
       "(123423, 'sohan@gmail.com', 102)"
      ]
     },
     "execution_count": 50,
     "metadata": {},
     "output_type": "execute_result"
    }
   ],
   "source": [
    "sohan.student_details()"
   ]
  },
  {
   "cell_type": "code",
   "execution_count": 1,
   "id": "ab7cbb16-ae47-4eca-8f0c-94203da69c18",
   "metadata": {},
   "outputs": [],
   "source": [
    "# self is not a keyword, we can use any other variable in place of it to act as a pointer\n",
    "\n",
    "class pwskills2:\n",
    "    def __init__(bhav, phone_no,email_id,student_id):\n",
    "        bhav.phone_no= phone_no\n",
    "        bhav.email_id= email_id\n",
    "        bhav.student_id= student_id\n",
    "    \n",
    "    def student_details(bhav):\n",
    "        return bhav.phone_no, bhav.email_id, bhav.student_id"
   ]
  },
  {
   "cell_type": "code",
   "execution_count": 2,
   "id": "51efee8f-7d2d-4f38-b0db-9e5a14c94a62",
   "metadata": {},
   "outputs": [],
   "source": [
    "rohan= pwskills2(89342, \"rohan@gmail.com\", 123)"
   ]
  },
  {
   "cell_type": "code",
   "execution_count": 3,
   "id": "a5ea271c-1e4e-4c4e-97fc-f308369f2de3",
   "metadata": {},
   "outputs": [
    {
     "data": {
      "text/plain": [
       "89342"
      ]
     },
     "execution_count": 3,
     "metadata": {},
     "output_type": "execute_result"
    }
   ],
   "source": [
    "rohan.phone_no"
   ]
  },
  {
   "cell_type": "code",
   "execution_count": 4,
   "id": "e86602de-31d9-4870-8783-7cf38099e8dc",
   "metadata": {},
   "outputs": [
    {
     "data": {
      "text/plain": [
       "(89342, 'rohan@gmail.com', 123)"
      ]
     },
     "execution_count": 4,
     "metadata": {},
     "output_type": "execute_result"
    }
   ],
   "source": [
    "rohan.student_details()"
   ]
  },
  {
   "cell_type": "code",
   "execution_count": 8,
   "id": "7848a59a-4416-466e-a1be-b8cbcf2e7ded",
   "metadata": {},
   "outputs": [],
   "source": [
    "class pwskills3:\n",
    "    def __init__(self, phone_no, email_id, student_id):\n",
    "        self.phone_no1= phone_no\n",
    "        self.email_id= email_id\n",
    "        self.student_id= student_id\n",
    "    \n",
    "    def student_details(self):\n",
    "        return self.phone_no1, self.email_id, self.student_id"
   ]
  },
  {
   "cell_type": "code",
   "execution_count": 9,
   "id": "270bd67f-f1bf-4e6b-ac50-636c6cdcc460",
   "metadata": {},
   "outputs": [],
   "source": [
    "mohan= pwskills3(234167, \"mohan@gmail.com\", 145)"
   ]
  },
  {
   "cell_type": "code",
   "execution_count": 10,
   "id": "2ec61973-c993-4d0d-bb94-2ea86dca9824",
   "metadata": {},
   "outputs": [
    {
     "ename": "AttributeError",
     "evalue": "'pwskills3' object has no attribute 'phone_no'",
     "output_type": "error",
     "traceback": [
      "\u001b[0;31m---------------------------------------------------------------------------\u001b[0m",
      "\u001b[0;31mAttributeError\u001b[0m                            Traceback (most recent call last)",
      "Cell \u001b[0;32mIn[10], line 1\u001b[0m\n\u001b[0;32m----> 1\u001b[0m \u001b[43mmohan\u001b[49m\u001b[38;5;241;43m.\u001b[39;49m\u001b[43mphone_no\u001b[49m\n",
      "\u001b[0;31mAttributeError\u001b[0m: 'pwskills3' object has no attribute 'phone_no'"
     ]
    }
   ],
   "source": [
    "mohan.phone_no"
   ]
  },
  {
   "cell_type": "code",
   "execution_count": 11,
   "id": "c94466dc-823f-41a5-9ac8-de4b94092a25",
   "metadata": {},
   "outputs": [
    {
     "data": {
      "text/plain": [
       "234167"
      ]
     },
     "execution_count": 11,
     "metadata": {},
     "output_type": "execute_result"
    }
   ],
   "source": [
    "mohan.phone_no1"
   ]
  },
  {
   "cell_type": "code",
   "execution_count": null,
   "id": "81442f53-f44b-48c6-820c-f70b8ddf7a73",
   "metadata": {},
   "outputs": [],
   "source": [
    "# so in order to access the data, we have to give the variable name associated with the self pointer. \n",
    "#It's because while creating the class object the constuctor takes the data and assigns it to the variable name asssociated with the self pointer which is passed to class."
   ]
  }
 ],
 "metadata": {
  "kernelspec": {
   "display_name": "Python 3 (ipykernel)",
   "language": "python",
   "name": "python3"
  },
  "language_info": {
   "codemirror_mode": {
    "name": "ipython",
    "version": 3
   },
   "file_extension": ".py",
   "mimetype": "text/x-python",
   "name": "python",
   "nbconvert_exporter": "python",
   "pygments_lexer": "ipython3",
   "version": "3.10.8"
  }
 },
 "nbformat": 4,
 "nbformat_minor": 5
}
